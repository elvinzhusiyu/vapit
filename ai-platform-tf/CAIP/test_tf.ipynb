{
 "cells": [
  {
   "cell_type": "code",
   "execution_count": 1,
   "metadata": {},
   "outputs": [],
   "source": [
    "# ==============================================================================\n",
    "# Copyright 2021 Google LLC. This software is provided as-is, without warranty\n",
    "# or representation for any use or purpose. Your use of it is subject to your\n",
    "# agreement with Google.\n",
    "# ==============================================================================\n",
    "#\n",
    "# Author: Chanchal Chatterjee\n",
    "# Email: cchatterjee@google.com\n",
    "# Filename: test_tf.ipynb\n",
    "# Classify CIFAR10 images\n",
    "#"
   ]
  },
  {
   "cell_type": "code",
   "execution_count": 2,
   "metadata": {},
   "outputs": [],
   "source": [
    "# To these first:\n",
    "# 1. Create a VM with TF 2.1\n",
    "# 2. Create the following buckets in your project:\n",
    "#    Root Bucket:               BUCKET_NAME    = 'tuti_asset'  'gs://$BUCKET_NAME'\n",
    "#    Model Results Directory:   FOLDER_RESULTS = 'tf_models'   'gs://$BUCKET_NAME/$FOLDER_RESULTS'\n",
    "# 3. In your VM create directory called ./model_dir\n"
   ]
  },
  {
   "cell_type": "code",
   "execution_count": 3,
   "metadata": {},
   "outputs": [],
   "source": [
    "# Uninstall old packages\n",
    "#!pip3 uninstall -r requirements-uninstall.txt -y\n"
   ]
  },
  {
   "cell_type": "code",
   "execution_count": 4,
   "metadata": {},
   "outputs": [
    {
     "name": "stdout",
     "output_type": "stream",
     "text": [
      "Collecting cloudml-hypertune\n",
      "  Using cached cloudml_hypertune-0.1.0.dev6-py2.py3-none-any.whl\n",
      "Installing collected packages: cloudml-hypertune\n",
      "Successfully installed cloudml-hypertune-0.1.0.dev6\n"
     ]
    }
   ],
   "source": [
    "# Install packages\n",
    "# https://cloud.google.com/ai-platform/training/docs/runtime-version-list\n",
    "#!pip3 install -r requirements-rt2.1.txt --user --ignore-installed\n",
    "\n",
    "# If VM created with TF2.1 Enterprise (no GPUs), all you need to install is cloudml-hypertune\n",
    "!pip3 install cloudml-hypertune --user --ignore-installed\n"
   ]
  },
  {
   "cell_type": "code",
   "execution_count": 5,
   "metadata": {},
   "outputs": [
    {
     "name": "stdout",
     "output_type": "stream",
     "text": [
      "TF Version=  2.1.3\n",
      "Keras Version=  2.3.0-tf\n"
     ]
    }
   ],
   "source": [
    "# Import packages\n",
    "import warnings\n",
    "warnings.filterwarnings(\"ignore\")\n",
    "\n",
    "import os\n",
    "os.environ['TF_CPP_MIN_LOG_LEVEL'] = '2' \n",
    "#0 = all messages are logged (default behavior)\n",
    "#1 = INFO messages are not printed\n",
    "#2 = INFO and WARNING messages are not printed\n",
    "#3 = INFO, WARNING, and ERROR messages are not printed\n",
    "\n",
    "import numpy as np\n",
    "from google.cloud import storage\n",
    "import tensorflow as tf\n",
    "#import matplotlib.pyplot as plt\n",
    "#from tensorflow.keras import models\n",
    "\n",
    "print(\"TF Version= \", tf.__version__)\n",
    "print(\"Keras Version= \", tf.keras.__version__)\n"
   ]
  },
  {
   "cell_type": "code",
   "execution_count": 6,
   "metadata": {},
   "outputs": [],
   "source": [
    "# Utility functions\n",
    "\n",
    "#------\n",
    "def find_best_model_dir(model_dir, offset=1, maxFlag=1):\n",
    "    # Get a list of model directories\n",
    "    all_models = ! gsutil ls $model_dir\n",
    "    print(\"\")\n",
    "    print(\"All Models = \")\n",
    "    print(*all_models, sep='\\n')\n",
    "\n",
    "    # Check if model dirs exist\n",
    "    if ((\"CommandException\" in all_models[0]) or (len(all_models) <= 1)):\n",
    "        print(\"Create the models first.\")\n",
    "        return \"\"\n",
    "\n",
    "    # Find the best model from checkpoints\n",
    "    import re\n",
    "    best_acc = -np.Inf\n",
    "    if (maxFlag != 1):\n",
    "        best_acc = np.Inf\n",
    "    best_model_dir = \"\"\n",
    "    tup_list = []\n",
    "    for i in range(1,len(all_models)):\n",
    "        all_floats = re.findall(r\"[-+]?\\d*\\.\\d+|\\d+\", all_models[i]) #Find the floats in the string\n",
    "        cur_acc = -float(all_floats[-offset]) #which item is the model optimization metric\n",
    "        tup_list.append([all_models[i],cur_acc])\n",
    "        if (maxFlag*(cur_acc > best_acc) or (1-maxFlag)*(cur_acc < best_acc)):\n",
    "            best_acc = cur_acc\n",
    "            best_model_dir = all_models[i]\n",
    "    if maxFlag:\n",
    "        tup_list.sort(key=lambda tup: tup[1], reverse=False)\n",
    "    else:\n",
    "        tup_list.sort(key=lambda tup: tup[1], reverse=True)\n",
    "    for i in range(len(tup_list)):\n",
    "        print(tup_list[i][0])\n",
    "    print(\"Best Accuracy  from Checkpoints = \", best_acc)\n",
    "    print(\"Best Model Dir from Checkpoints = \", best_model_dir)\n",
    "    \n",
    "    return best_model_dir\n"
   ]
  },
  {
   "cell_type": "code",
   "execution_count": 7,
   "metadata": {},
   "outputs": [],
   "source": [
    "from oauth2client.client import GoogleCredentials\n",
    "from googleapiclient import discovery\n",
    "from googleapiclient import errors\n",
    "import json\n",
    "\n",
    "#------\n",
    "# Python module to get the best hypertuned model parameters\n",
    "def pyth_get_hypertuned_parameters(project_name, job_name, maxFlag):\n",
    "    # Define the credentials for the service account\n",
    "    #credentials = service_account.Credentials.from_service_account_file(<PATH TO CREDENTIALS JSON>)\n",
    "    credentials = GoogleCredentials.get_application_default()\n",
    "\n",
    "    # Define the project id and the job id and format it for the api request\n",
    "    project_id = 'projects/{}'.format(project_name)\n",
    "    job_id = '{}/jobs/{}'.format(project_id, job_name)\n",
    "\n",
    "    # Build the service\n",
    "    cloudml = discovery.build('ml', 'v1', cache_discovery=False, credentials=credentials)\n",
    "\n",
    "    # Execute the request and pass in the job id\n",
    "    request = cloudml.projects().jobs().get(name=job_id)\n",
    "\n",
    "    try:\n",
    "        response = request.execute()\n",
    "        # Handle a successful request\n",
    "    except errors.HttpError as err:\n",
    "        tf.compat.v1.logging.error('There was an error getting the hyperparameters. Check the details:')\n",
    "        tf.compat.v1.logging.error(err._get_reason())\n",
    "\n",
    "    # Get just the best hp values\n",
    "    if maxFlag:\n",
    "        best_model = response['trainingOutput']['trials'][0]\n",
    "    else:\n",
    "        best_model = response['trainingOutput']['trials'][-1]\n",
    "    #print('Best Hyperparameters:')\n",
    "    #print(json.dumps(best_model, indent=4))\n",
    "\n",
    "    nTrials = len(response['trainingOutput']['trials'])\n",
    "    for i in range(0,nTrials):\n",
    "        state = response['trainingOutput']['trials'][i]['state']\n",
    "        trialId = response['trainingOutput']['trials'][i]['trialId']\n",
    "        objV = -1\n",
    "        if (state == 'SUCCEEDED'):\n",
    "            objV = response['trainingOutput']['trials'][i]['finalMetric']['objectiveValue']\n",
    "        print('objective=', objV, ' trialId=', trialId, state)\n",
    "        d = response['trainingOutput']['trials'][i]['hyperparameters']\n",
    "        for key, value in d.items():\n",
    "            print('    ', key, value)\n",
    "    return best_model\n"
   ]
  },
  {
   "cell_type": "code",
   "execution_count": 8,
   "metadata": {},
   "outputs": [],
   "source": [
    "# Plot original images\n",
    "# image_array is np.array(num_images, x_size, y_size)\n",
    "\n",
    "import matplotlib.pyplot as plt\n",
    "\n",
    "def plot_images(image_array):\n",
    "    fig, axarr = plt.subplots(4,4, figsize=(8, 8))\n",
    "    for i in range(4):\n",
    "        for j in range(4):\n",
    "            #axarr[i,j].set_title('Image-'+str(4*i+j))\n",
    "            axarr[i,j].imshow(image_array[4*i+j,:,:], cmap='gray')\n"
   ]
  },
  {
   "cell_type": "markdown",
   "metadata": {},
   "source": [
    "# Setup"
   ]
  },
  {
   "cell_type": "code",
   "execution_count": 9,
   "metadata": {},
   "outputs": [
    {
     "data": {
      "text/plain": [
       "'cchatterjee-sandbox'"
      ]
     },
     "execution_count": 9,
     "metadata": {},
     "output_type": "execute_result"
    }
   ],
   "source": [
    "# Get the project id\n",
    "proj_id = !gcloud config list project --format \"value(core.project)\"\n",
    "proj_id[0]\n"
   ]
  },
  {
   "cell_type": "code",
   "execution_count": 10,
   "metadata": {},
   "outputs": [],
   "source": [
    "USER = 'cchatterj'\n",
    "PROJECT_ID = proj_id[0]\n",
    "BUCKET_NAME = 'vapit_data' #Use a unique name\n",
    "FOLDER_RESULTS = 'tf_models'\n",
    "REGION = 'us-central1'\n",
    "ZONE1 = 'us-central1-a'\n",
    "RUNTIME_VERSION = 2.1\n",
    "JOB_DIR   = 'gs://' + BUCKET_NAME + '/' + FOLDER_RESULTS + '/jobdir'\n",
    "MODEL_DIR = 'gs://' + BUCKET_NAME + '/' + FOLDER_RESULTS + '/models'\n"
   ]
  },
  {
   "cell_type": "code",
   "execution_count": 11,
   "metadata": {},
   "outputs": [
    {
     "name": "stdout",
     "output_type": "stream",
     "text": [
      "Updated property [core/project].\n",
      "Updated property [compute/zone].\n",
      "Updated property [compute/region].\n",
      "[compute]\n",
      "region = us-central1\n",
      "zone = us-central1-a\n",
      "[core]\n",
      "account = 901951554789-compute@developer.gserviceaccount.com\n",
      "disable_usage_reporting = True\n",
      "project = cchatterjee-sandbox\n",
      "\n",
      "Your active configuration is: [default]\n"
     ]
    }
   ],
   "source": [
    "!gcloud config set project $PROJECT_ID\n",
    "!gcloud config set compute/zone $ZONE1\n",
    "!gcloud config set compute/region $REGION\n",
    "!gcloud config list\n",
    "#!gcloud config config-helper --format \"value(configuration.properties.core.project)\"\n"
   ]
  },
  {
   "cell_type": "code",
   "execution_count": 12,
   "metadata": {},
   "outputs": [
    {
     "name": "stdout",
     "output_type": "stream",
     "text": [
      "^C\n"
     ]
    }
   ],
   "source": [
    "# Clean old job logs, job packages and models\n",
    "!gsutil -m -q rm $JOB_DIR/packages/**\n",
    "!gsutil -m -q rm $MODEL_DIR/model**\n"
   ]
  },
  {
   "cell_type": "markdown",
   "metadata": {},
   "source": [
    "# ML Model"
   ]
  },
  {
   "cell_type": "code",
   "execution_count": 12,
   "metadata": {},
   "outputs": [],
   "source": [
    "# Create the tf_trainer directory and load the trainer files in it\n",
    "!mkdir -p trainer_t\n"
   ]
  },
  {
   "cell_type": "code",
   "execution_count": 13,
   "metadata": {},
   "outputs": [
    {
     "name": "stdout",
     "output_type": "stream",
     "text": [
      "Overwriting ./trainer_t/inputs.py\n"
     ]
    }
   ],
   "source": [
    "%%writefile ./trainer_t/inputs.py\n",
    "\n",
    "# Create the train and label lists\n",
    "import math\n",
    "import numpy as np\n",
    "import pandas as pd\n",
    "import tensorflow as tf\n",
    "\n",
    "#------\n",
    "def load_data():\n",
    "\n",
    "    \"\"\"Creates train and test data set\"\"\"\n",
    "    cifar10 = tf.keras.datasets.cifar10\n",
    "    (X_train, y_train),(X_test, y_test) = cifar10.load_data()\n",
    "    X_train, X_test = X_train / 255.0, X_test / 255.0\n",
    "    \n",
    "    y_train = y_train.flatten()\n",
    "    y_test = y_test.flatten()\n",
    "    \n",
    "    # Check the shape\n",
    "    print(\"X_train shape = \", X_train.shape)\n",
    "    print(\"X_test  shape = \", X_test.shape)\n",
    "    \n",
    "    print(\"y_train shape = \", y_train.shape)\n",
    "    print(\"y_test  shape = \", y_test.shape)\n",
    "\n",
    "    return [X_train, X_test, y_train, y_test]\n"
   ]
  },
  {
   "cell_type": "code",
   "execution_count": 14,
   "metadata": {},
   "outputs": [
    {
     "name": "stdout",
     "output_type": "stream",
     "text": [
      "X_train shape =  (50000, 32, 32, 3)\n",
      "X_test  shape =  (10000, 32, 32, 3)\n",
      "y_train shape =  (50000,)\n",
      "y_test  shape =  (10000,)\n"
     ]
    },
    {
     "data": {
      "image/png": "[encoded data removed]",
      "text/plain": [
       "<Figure size 576x576 with 16 Axes>"
      ]
     },
     "metadata": {
      "needs_background": "light"
     },
     "output_type": "display_data"
    }
   ],
   "source": [
    "from trainer_t import inputs\n",
    "train_test_data = inputs.load_data()\n",
    "X_test  = train_test_data[1]\n",
    "plot_images(X_test)\n"
   ]
  },
  {
   "cell_type": "code",
   "execution_count": 15,
   "metadata": {},
   "outputs": [
    {
     "name": "stdout",
     "output_type": "stream",
     "text": [
      "Overwriting ./trainer_t/model.py\n"
     ]
    }
   ],
   "source": [
    "%%writefile ./trainer_t/model.py\n",
    "\n",
    "import tensorflow as tf\n",
    "import numpy as np\n",
    "\n",
    "def tf_model(input_shape, model_depth: int = 1, dropout_rate: float = 0.02):\n",
    "    \"\"\"Creates the keras model used by task to train the model.\"\"\"\n",
    "    from tensorflow.keras.models import Sequential\n",
    "    from tensorflow.keras.layers import Dense, Flatten, Dropout\n",
    "    x_dim = input_shape[0]\n",
    "    y_dim = input_shape[1]\n",
    "\n",
    "    model = Sequential()\n",
    "    model.add(Flatten(input_shape=input_shape))\n",
    "    for i in range(0,model_depth):\n",
    "        nUnits = x_dim*y_dim-(i+1)*((x_dim*y_dim-128)//model_depth)\n",
    "        model.add(Dense(nUnits, activation='relu'))\n",
    "        model.add(Dropout(dropout_rate))\n",
    "    model.add(Dense(10, activation='softmax'))\n",
    "\n",
    "    print(model.summary())\n",
    "\n",
    "    return model\n",
    "\n",
    "def custom_loss(y_true, y_pred):\n",
    "    custom_loss = np.mean(np.square(y_true - y_pred), axis=-1)\n",
    "    return custom_loss\n",
    "\n",
    "def custom_metric(y_true, y_pred):\n",
    "    custom_metric = np.mean(np.square(y_true - y_pred), axis=-1)\n",
    "    return custom_metric\n"
   ]
  },
  {
   "cell_type": "markdown",
   "metadata": {},
   "source": [
    "## Package for distributed training"
   ]
  },
  {
   "cell_type": "code",
   "execution_count": 16,
   "metadata": {},
   "outputs": [
    {
     "name": "stdout",
     "output_type": "stream",
     "text": [
      "Overwriting ./setup.py\n"
     ]
    }
   ],
   "source": [
    "%%writefile ./setup.py\n",
    "\n",
    "# python3\n",
    "\n",
    "# ==============================================================================\n",
    "# Copyright 2020 Google LLC. This software is provided as-is, without warranty\n",
    "# or representation for any use or purpose. Your use of it is subject to your\n",
    "# agreement with Google.\n",
    "# ==============================================================================\n",
    "\n",
    "# https://cloud.google.com/ai-platform/training/docs/runtime-version-list\n",
    "\n",
    "from setuptools import find_packages\n",
    "from setuptools import setup\n",
    "\n",
    "#Runtime 2.1\n",
    "REQUIRED_PACKAGES = ['tensorflow==2.1.0',\n",
    "                     'numpy==1.18.0',\n",
    "                     'pandas==0.25.3',\n",
    "                     'scikit-learn==0.22',\n",
    "                     'google-cloud-storage==1.23.0',\n",
    "                     'gcsfs==0.6.1',\n",
    "                     'cloudml-hypertune',\n",
    "                    ]\n",
    "setup(\n",
    "    name='trainer_t',\n",
    "    version='0.1',\n",
    "    install_requires=REQUIRED_PACKAGES,\n",
    "    packages=find_packages(),\n",
    "    include_package_data=True,\n",
    "    description='Trainer package for Tensorflow Task'\n",
    ")\n"
   ]
  },
  {
   "cell_type": "markdown",
   "metadata": {},
   "source": [
    "## Training functions"
   ]
  },
  {
   "cell_type": "code",
   "execution_count": 17,
   "metadata": {},
   "outputs": [
    {
     "name": "stdout",
     "output_type": "stream",
     "text": [
      "Overwriting ./trainer_t/__init__.py\n"
     ]
    }
   ],
   "source": [
    "%%writefile ./trainer_t/__init__.py\n",
    "# python3\n",
    "\n",
    "# ==============================================================================\n",
    "# Copyright 2020 Google LLC. This software is provided as-is, without warranty\n",
    "# or representation for any use or purpose. Your use of it is subject to your\n",
    "# agreement with Google.\n",
    "# ==============================================================================\n"
   ]
  },
  {
   "cell_type": "code",
   "execution_count": 26,
   "metadata": {},
   "outputs": [
    {
     "name": "stdout",
     "output_type": "stream",
     "text": [
      "Overwriting ./trainer_t/train.py\n"
     ]
    }
   ],
   "source": [
    "%%writefile ./trainer_t/train.py\n",
    "\n",
    "# python3\n",
    "# ==============================================================================\n",
    "# Copyright 2020 Google LLC. This software is provided as-is, without warranty\n",
    "# or representation for any use or purpose. Your use of it is subject to your\n",
    "# agreement with Google.\n",
    "# ==============================================================================\n",
    "\n",
    "import os\n",
    "import json\n",
    "import tensorflow as tf\n",
    "import numpy as np\n",
    "import datetime as datetime\n",
    "from pytz import timezone\n",
    "import hypertune\n",
    "import argparse\n",
    "from trainer_t import model\n",
    "from trainer_t import inputs\n",
    "\n",
    "\n",
    "import warnings\n",
    "warnings.filterwarnings(\"ignore\")\n",
    "\n",
    "import os\n",
    "os.environ['TF_CPP_MIN_LOG_LEVEL'] = '3' \n",
    "#0 = all messages are logged (default behavior)\n",
    "#1 = INFO messages are not printed\n",
    "#2 = INFO and WARNING messages are not printed\n",
    "#3 = INFO, WARNING, and ERROR messages are not printed\n",
    "\n",
    "def parse_arguments():\n",
    "    \"\"\"Argument parser.\n",
    "    Returns:\n",
    "      Dictionary of arguments.\n",
    "    \"\"\"\n",
    "    parser = argparse.ArgumentParser()\n",
    "    parser.add_argument('--model_depth', default=1, type=int,\n",
    "                        help='Hyperparameter: depth of the model')\n",
    "    parser.add_argument('--dropout_rate', default=0.02, type=float, \n",
    "                        help='Hyperparameter: Drop out rate')\n",
    "    parser.add_argument('--learning_rate', default=0.0001, type=float, \n",
    "                        help='Hyperparameter: initial learning rate')\n",
    "    parser.add_argument('--epochs', default=2, type=int,\n",
    "                        help='Hyperparameter: epoch.')\n",
    "    parser.add_argument('--batch_size', default=4, type=int, \n",
    "                        help='batch size of the deep network')\n",
    "    parser.add_argument('--model_dir', default=\"\",\n",
    "                        help='Directory to store model checkpoints and logs.')\n",
    "    parser.add_argument('--verbosity',choices=['DEBUG', 'ERROR', 'FATAL', 'INFO', 'WARN'],\n",
    "                        default='FATAL')\n",
    "    args, _ = parser.parse_known_args()\n",
    "    return args\n",
    "\n",
    "def get_callbacks(args, early_stop_patience: int = 3):\n",
    "    \"\"\"Creates Keras callbacks for model training.\"\"\"\n",
    "\n",
    "    # Get trialId\n",
    "    trialId = json.loads(os.environ.get(\"TF_CONFIG\", \"{}\")).get(\"task\", {}).get(\"trial\", \"\")\n",
    "    if trialId == '':\n",
    "        trialId = '0'\n",
    "    print(\"trialId=\", trialId)\n",
    "\n",
    "    curTime = datetime.datetime.now(timezone('US/Pacific')).strftime('%H%M%S')\n",
    "    \n",
    "    # Modify model_dir paths to include trialId\n",
    "    model_dir = args.model_dir + \"/checkpoints/cp-\"+curTime+\"-\"+trialId+\"-{val_accuracy:.4f}\"\n",
    "    log_dir   = args.model_dir + \"/log_dir\"\n",
    "\n",
    "    tensorboard_cb = tf.keras.callbacks.TensorBoard(log_dir, histogram_freq=1)\n",
    "    checkpoint_cb  = tf.keras.callbacks.ModelCheckpoint(model_dir, monitor='val_accuracy', mode='max', \n",
    "                                                        verbose=0, save_best_only=True,\n",
    "                                                        save_weights_only=False)\n",
    "    earlystop_cb   = tf.keras.callbacks.EarlyStopping(monitor='val_accuracy', patience=3)\n",
    "\n",
    "    return [checkpoint_cb, tensorboard_cb, earlystop_cb]\n",
    "\n",
    "\n",
    "if __name__ == \"__main__\":\n",
    "\n",
    "    # ---------------------------------------\n",
    "    # Parse Arguments\n",
    "    # ---------------------------------------\n",
    "    args = parse_arguments()\n",
    "    #args.model_dir = MODEL_DIR + datetime.datetime.now(timezone('US/Pacific')).strftime('/model_%m%d%Y_%H%M')\n",
    "    print(args)\n",
    "\n",
    "    # ---------------------------------------\n",
    "    # Input Data & Preprocessing\n",
    "    # ---------------------------------------\n",
    "    print(\"Input and pre-process data ...\")\n",
    "    # Extract train_seismic, train_label\n",
    "    train_test_data = inputs.load_data()\n",
    "    X_train = train_test_data[0]\n",
    "    X_test  = train_test_data[1]\n",
    "    y_train = train_test_data[2]\n",
    "    y_test  = train_test_data[3]\n",
    "\n",
    "    # ---------------------------------------\n",
    "    # Train model\n",
    "    # ---------------------------------------\n",
    "    print(\"Creating model ...\")\n",
    "    input_shape = (X_train.shape)[1:]\n",
    "    tf_model = model.tf_model(input_shape, model_depth=args.model_depth,\n",
    "                              dropout_rate=args.dropout_rate)\n",
    "    \n",
    "    optimizer = tf.keras.optimizers.Adam(learning_rate=args.learning_rate)\n",
    "    tf_model.compile(optimizer=optimizer,\n",
    "                     loss='sparse_categorical_crossentropy',\n",
    "                     metrics=['accuracy'])\n",
    "    \n",
    "    print(\"Fitting model ...\")\n",
    "    callbacks = get_callbacks(args, 3)\n",
    "    histy = tf_model.fit(x=X_train, y=y_train,\n",
    "                         epochs=args.epochs,\n",
    "                         batch_size=args.batch_size,\n",
    "                         validation_data=(X_test, y_test),\n",
    "                         callbacks=callbacks)\n",
    "    # TBD save history for visualization\n",
    "\n",
    "    final_epoch_accuracy = histy.history['accuracy'][-1]\n",
    "    final_epoch_count = len(histy.history['accuracy'])\n",
    "\n",
    "    print('final_epoch_accuracy = %.6f' % final_epoch_accuracy)\n",
    "    print('final_epoch_count = %2d' % final_epoch_count)\n"
   ]
  },
  {
   "cell_type": "code",
   "execution_count": 27,
   "metadata": {},
   "outputs": [
    {
     "name": "stdout",
     "output_type": "stream",
     "text": [
      "MODEL_DEPTH =  2\n",
      "DROPOUT_RATE = 0.0100\n",
      "LEARNING_RATE = 0.000050\n",
      "EPOCHS =  1\n",
      "BATCH_SIZE = 32\n",
      "MODEL_DIR = gs://vapit_data/tf_models/models/model_06092021_2301\n",
      "Namespace(batch_size=32, dropout_rate=0.01, epochs=1, learning_rate=5e-05, model_depth=2, model_dir='gs://vapit_data/tf_models/models/model_06092021_2301', verbosity='FATAL')\n",
      "Input and pre-process data ...\n",
      "X_train shape =  (50000, 32, 32, 3)\n",
      "X_test  shape =  (10000, 32, 32, 3)\n",
      "y_train shape =  (50000,)\n",
      "y_test  shape =  (10000,)\n",
      "Creating model ...\n",
      "Model: \"sequential\"\n",
      "_________________________________________________________________\n",
      "Layer (type)                 Output Shape              Param #   \n",
      "=================================================================\n",
      "flatten (Flatten)            (None, 3072)              0         \n",
      "_________________________________________________________________\n",
      "dense (Dense)                (None, 576)               1770048   \n",
      "_________________________________________________________________\n",
      "dropout (Dropout)            (None, 576)               0         \n",
      "_________________________________________________________________\n",
      "dense_1 (Dense)              (None, 128)               73856     \n",
      "_________________________________________________________________\n",
      "dropout_1 (Dropout)          (None, 128)               0         \n",
      "_________________________________________________________________\n",
      "dense_2 (Dense)              (None, 10)                1290      \n",
      "=================================================================\n",
      "Total params: 1,845,194\n",
      "Trainable params: 1,845,194\n",
      "Non-trainable params: 0\n",
      "_________________________________________________________________\n",
      "None\n",
      "Fitting model ...\n",
      "trialId= 0\n",
      "Train on 50000 samples, validate on 10000 samples\n",
      "   32/50000 [..............................] - ETA: 14:10 - loss: 2.5352 - accuracy: 0.0938WARNING:tensorflow:Method (on_train_batch_end) is slow compared to the batch update (1.361815). Check your callbacks.\n",
      "49920/50000 [============================>.] - ETA: 0s - loss: 1.8511 - accuracy: 0.3378WARNING:tensorflow:From /opt/conda/lib/python3.7/site-packages/tensorflow_core/python/ops/resource_variable_ops.py:1786: calling BaseResourceVariable.__init__ (from tensorflow.python.ops.resource_variable_ops) with constraint is deprecated and will be removed in a future version.\n",
      "Instructions for updating:\n",
      "If using Keras pass *_constraint arguments to layers.\n",
      "50000/50000 [==============================] - 42s 838us/sample - loss: 1.8506 - accuracy: 0.3381 - val_loss: 1.7160 - val_accuracy: 0.3920\n",
      "final_epoch_accuracy = 0.338060\n",
      "final_epoch_count =  1\n",
      "CPU times: user 1.26 s, sys: 251 ms, total: 1.51 s\n",
      "Wall time: 49.8 s\n"
     ]
    }
   ],
   "source": [
    "%%time\n",
    "# Run the training manually\n",
    "# Training parameters\n",
    "from datetime import datetime\n",
    "from pytz import timezone\n",
    "\n",
    "MODEL_DEPTH = 2\n",
    "DROPOUT_RATE = 0.01\n",
    "LEARNING_RATE = 0.00005\n",
    "EPOCHS = 1\n",
    "BATCH_SIZE = 32\n",
    "\n",
    "MODEL_DIR_PYTH = MODEL_DIR + datetime.now(timezone('US/Pacific')).strftime('/model_%m%d%Y_%H%M')\n",
    "\n",
    "print('MODEL_DEPTH = %2d' % MODEL_DEPTH)\n",
    "print('DROPOUT_RATE = %.4f' % DROPOUT_RATE)\n",
    "print('LEARNING_RATE = %.6f' % LEARNING_RATE)\n",
    "print('EPOCHS = %2d' % EPOCHS)\n",
    "print('BATCH_SIZE = %2d' % BATCH_SIZE)\n",
    "print(\"MODEL_DIR =\", MODEL_DIR_PYTH)\n",
    "\n",
    "# Run training\n",
    "! python3 -m trainer_t.train \\\n",
    "    --model_depth=$MODEL_DEPTH \\\n",
    "    --dropout_rate=$DROPOUT_RATE \\\n",
    "    --learning_rate=$LEARNING_RATE \\\n",
    "    --epochs=$EPOCHS \\\n",
    "    --batch_size=$BATCH_SIZE \\\n",
    "    --model_dir=$MODEL_DIR_PYTH \n"
   ]
  },
  {
   "cell_type": "code",
   "execution_count": 28,
   "metadata": {},
   "outputs": [
    {
     "name": "stdout",
     "output_type": "stream",
     "text": [
      "\n",
      "All Models = \n",
      "gs://vapit_data/tf_models/models/model_06092021_2301/checkpoints/\n",
      "gs://vapit_data/tf_models/models/model_06092021_2301/checkpoints/cp-230142-0-0.3920/\n",
      "gs://vapit_data/tf_models/models/model_06092021_2301/checkpoints/cp-230142-0-0.3920/\n",
      "Best Accuracy  from Checkpoints =  0.392\n",
      "Best Model Dir from Checkpoints =  gs://vapit_data/tf_models/models/model_06092021_2301/checkpoints/cp-230142-0-0.3920/\n"
     ]
    }
   ],
   "source": [
    "# Test with latest saved model\n",
    "best_model_dir_pyth = find_best_model_dir(MODEL_DIR_PYTH+'/checkpoints', offset=1, maxFlag=1)\n",
    "#acc = test_saved_model(best_model_dir_pyth, 0)\n"
   ]
  },
  {
   "cell_type": "code",
   "execution_count": 29,
   "metadata": {},
   "outputs": [
    {
     "name": "stdout",
     "output_type": "stream",
     "text": [
      "Copying gs://vapit_data/tf_models/models/model_06092021_2301/checkpoints/cp-230142-0-0.3920/saved_model.pb...\n",
      "Copying gs://vapit_data/tf_models/models/model_06092021_2301/checkpoints/cp-230142-0-0.3920/variables/variables.data-00000-of-00001...\n",
      "Copying gs://vapit_data/tf_models/models/model_06092021_2301/checkpoints/cp-230142-0-0.3920/variables/variables.index...\n",
      "Signature  _SignatureMap({'serving_default': <tensorflow.python.saved_model.load._WrapperFunction object at 0x7fd3d0186a90>})\n",
      "\n",
      "CPU times: user 382 ms, sys: 80.4 ms, total: 463 ms\n",
      "Wall time: 2.57 s\n"
     ]
    },
    {
     "data": {
      "image/png": "[encoded data removed]",
      "text/plain": [
       "<IPython.core.display.Image object>"
      ]
     },
     "execution_count": 29,
     "metadata": {},
     "output_type": "execute_result"
    }
   ],
   "source": [
    "%%time\n",
    "\n",
    "#***CREATE model_dir in local VM***\n",
    "!mkdir -p model_dir\n",
    "\n",
    "from trainer_t import model\n",
    "\n",
    "# Copy the model from storage to local memory\n",
    "!gsutil -m cp -r $best_model_dir_pyth* ./model_dir\n",
    "\n",
    "# Load the model\n",
    "loaded_model = tf.keras.models.load_model('./model_dir', compile=False)#, \n",
    "               #custom_objects={\"custom_loss\": model.custom_loss, \"custom_mse\": model.custom_mse})\n",
    "print(\"Signature \", loaded_model.signatures)\n",
    "print(\"\")\n",
    "\n",
    "# Display model\n",
    "tf.keras.utils.plot_model(loaded_model, show_shapes=True)\n"
   ]
  },
  {
   "cell_type": "markdown",
   "metadata": {},
   "source": [
    "------\n",
    "# Training"
   ]
  },
  {
   "cell_type": "code",
   "execution_count": 30,
   "metadata": {},
   "outputs": [],
   "source": [
    "# Create the config directory and load the trainer files in it\n",
    "!mkdir -p config\n"
   ]
  },
  {
   "cell_type": "code",
   "execution_count": 40,
   "metadata": {},
   "outputs": [
    {
     "name": "stdout",
     "output_type": "stream",
     "text": [
      "Overwriting ./config/config.yaml\n"
     ]
    }
   ],
   "source": [
    "%%writefile ./config/config.yaml\n",
    "\n",
    "# python3\n",
    "# ==============================================================================\n",
    "# Copyright 2020 Google LLC. This software is provided as-is, without warranty\n",
    "# or representation for any use or purpose. Your use of it is subject to your\n",
    "# agreement with Google.\n",
    "# ==============================================================================\n",
    "\n",
    "# https://cloud.google.com/sdk/gcloud/reference/ai-platform/jobs/submit/training#--scale-tier\n",
    "# https://www.kaggle.com/c/passenger-screening-algorithm-challenge/discussion/37087\n",
    "# https://cloud.google.com/ai-platform/training/docs/using-gpus\n",
    "\n",
    "#trainingInput:\n",
    "#    scaleTier: CUSTOM\n",
    "#    masterType: n1-highmem-16\n",
    "#    masterConfig:\n",
    "#        acceleratorConfig:\n",
    "#            count: 2\n",
    "#            type: NVIDIA_TESLA_V100\n",
    "\n",
    "#trainingInput:\n",
    "#  scaleTier: CUSTOM\n",
    "#  masterType: n1-highmem-8\n",
    "#  masterConfig:\n",
    "#    acceleratorConfig:\n",
    "#      count: 1\n",
    "#      type: NVIDIA_TESLA_T4\n",
    "\n",
    "#  masterType: n1-highcpu-16\n",
    "#  workerType: cloud_tpu\n",
    "#  workerCount: 1\n",
    "#  workerConfig:\n",
    "#    acceleratorConfig:\n",
    "#      type: TPU_V3\n",
    "#      count: 8\n",
    "\n",
    "#trainingInput:\n",
    "#  scaleTier: CUSTOM\n",
    "#  masterType: complex_model_m\n",
    "#  workerType: complex_model_m\n",
    "#  parameterServerType: large_model\n",
    "#  workerCount: 6\n",
    "#  parameterServerCount: 1\n",
    "#  scheduling:\n",
    "#    maxWaitTime: 3600s\n",
    "#    maxRunningTime: 7200s\n",
    "\n",
    "#trainingInput:\n",
    "#  runtimeVersion: \"2.1\"\n",
    "#  scaleTier: CUSTOM\n",
    "#  masterType: standard_gpu\n",
    "#  workerCount: 9\n",
    "#  workerType: standard_gpu\n",
    "#  parameterServerCount: 3\n",
    "#  parameterServerType: standard\n",
    "\n",
    "#trainingInput:\n",
    "#  scaleTier: BASIC-GPU\n",
    "    \n",
    "#trainingInput:\n",
    "#  region: us-central1\n",
    "#  scaleTier: CUSTOM\n",
    "#  masterType: complex_model_m\n",
    "#  workerType: complex_model_m_gpu\n",
    "#  parameterServerType: large_model\n",
    "#  workerCount: 4\n",
    "#  parameterServerCount: 2\n",
    "\n",
    "trainingInput:\n",
    "  scaleTier: CUSTOM\n",
    "  masterType: n1-highcpu-16\n",
    "  workerType: n1-highcpu-16\n",
    "  parameterServerType: n1-highmem-8\n",
    "  evaluatorType: n1-highcpu-16\n",
    "  workerCount: 9\n",
    "  parameterServerCount: 3\n",
    "  evaluatorCount: 1\n",
    "    \n",
    "#trainingInput:\n",
    "#  scaleTier: standard-1\n"
   ]
  },
  {
   "cell_type": "code",
   "execution_count": 41,
   "metadata": {},
   "outputs": [
    {
     "name": "stdout",
     "output_type": "stream",
     "text": [
      "Job Name =  tf_train_cchatterj_060921_2317\n",
      "Job Dir  =  gs://vapit_data/tf_models/jobdir\n",
      "MODEL_DIR = gs://vapit_data/tf_models/models/model_06092021_2317\n",
      "MODEL_DEPTH =  3\n",
      "DROPOUT_RATE = 0.0200\n",
      "LEARNING_RATE = 0.000100\n",
      "EPOCHS =  2\n",
      "BATCH_SIZE = 32\n"
     ]
    }
   ],
   "source": [
    "from datetime import datetime\n",
    "from pytz import timezone\n",
    "JOBNAME_TRN = 'tf_train_'+ USER + '_' + \\\n",
    "           datetime.now(timezone('US/Pacific')).strftime(\"%m%d%y_%H%M\")\n",
    "JOB_CONFIG = \"config/config.yaml\"\n",
    "MODEL_DIR_TRN = MODEL_DIR + datetime.now(timezone('US/Pacific')).strftime('/model_%m%d%Y_%H%M')\n",
    "\n",
    "print(\"Job Name = \", JOBNAME_TRN)\n",
    "print(\"Job Dir  = \", JOB_DIR)\n",
    "print(\"MODEL_DIR =\", MODEL_DIR_TRN)\n",
    "\n",
    "# Training parameters\n",
    "MODEL_DEPTH = 3\n",
    "DROPOUT_RATE = 0.02\n",
    "LEARNING_RATE = 0.0001\n",
    "EPOCHS = 2\n",
    "BATCH_SIZE = 32\n",
    "\n",
    "print('MODEL_DEPTH = %2d' % MODEL_DEPTH)\n",
    "print('DROPOUT_RATE = %.4f' % DROPOUT_RATE)\n",
    "print('LEARNING_RATE = %.6f' % LEARNING_RATE)\n",
    "print('EPOCHS = %2d' % EPOCHS)\n",
    "print('BATCH_SIZE = %2d' % BATCH_SIZE)\n"
   ]
  },
  {
   "cell_type": "code",
   "execution_count": 42,
   "metadata": {},
   "outputs": [
    {
     "name": "stdout",
     "output_type": "stream",
     "text": [
      "Job [tf_train_cchatterj_060921_2317] submitted successfully.\n",
      "Your job is still active. You may view the status of your job with the command\n",
      "\n",
      "  $ gcloud ai-platform jobs describe tf_train_cchatterj_060921_2317\n",
      "\n",
      "or continue streaming the logs with the command\n",
      "\n",
      "  $ gcloud ai-platform jobs stream-logs tf_train_cchatterj_060921_2317\n",
      "jobId: tf_train_cchatterj_060921_2317\n",
      "state: QUEUED\n"
     ]
    }
   ],
   "source": [
    "# https://cloud.google.com/sdk/gcloud/reference/ai-platform/jobs/submit/training\n",
    "\n",
    "TRAIN_LABELS = \"mode=train,owner=\"+USER\n",
    "\n",
    "# submit the training job\n",
    "! gcloud ai-platform jobs submit training $JOBNAME_TRN \\\n",
    "  --package-path $(pwd)/trainer_t \\\n",
    "  --module-name trainer_t.train \\\n",
    "  --region $REGION \\\n",
    "  --python-version 3.7 \\\n",
    "  --runtime-version $RUNTIME_VERSION \\\n",
    "  --job-dir $JOB_DIR \\\n",
    "  --config $JOB_CONFIG \\\n",
    "  --labels $TRAIN_LABELS \\\n",
    "  -- \\\n",
    "  --model_depth=$MODEL_DEPTH \\\n",
    "  --dropout_rate=$DROPOUT_RATE \\\n",
    "  --learning_rate=$LEARNING_RATE \\\n",
    "  --epochs=$EPOCHS \\\n",
    "  --batch_size=$BATCH_SIZE \\\n",
    "  --model_dir=$MODEL_DIR_TRN\n"
   ]
  },
  {
   "cell_type": "code",
   "execution_count": 38,
   "metadata": {},
   "outputs": [
    {
     "name": "stdout",
     "output_type": "stream",
     "text": [
      "createTime: '2021-06-10T06:03:17Z'\n",
      "endTime: '2021-06-10T06:13:26Z'\n",
      "errorMessage: 'The replica master 0 ran out-of-memory and exited with a non-zero status\n",
      "  of 9(SIGKILL). The replica worker 0 ran out-of-memory and exited with a non-zero\n",
      "  status of 9(SIGKILL). The replica worker 1 ran out-of-memory and exited with a non-zero\n",
      "  status of 9(SIGKILL). The replica worker 2 ran out-of-memory and exited with a non-zero\n",
      "  status of 9(SIGKILL). The replica worker 3 ran out-of-memory and exited with a non-zero\n",
      "  status of 9(SIGKILL). To find out more about why your job exited please check the\n",
      "  logs: https://console.cloud.google.com/logs/viewer?project=901951554789&resource=ml_job%2Fjob_id%2Ftf_train_cchatterj_060921_2303&advancedFilter=resource.type%3D%22ml_job%22%0Aresource.labels.job_id%3D%22tf_train_cchatterj_060921_2303%22'\n",
      "etag: 2Rg7EnFrDFU=\n",
      "jobId: tf_train_cchatterj_060921_2303\n",
      "labels:\n",
      "  mode: train\n",
      "  owner: cchatterj\n",
      "startTime: '2021-06-10T06:11:53Z'\n",
      "state: FAILED\n",
      "trainingInput:\n",
      "  args:\n",
      "  - --model_depth=3\n",
      "  - --dropout_rate=0.02\n",
      "  - --learning_rate=0.0001\n",
      "  - --epochs=2\n",
      "  - --batch_size=32\n",
      "  - --model_dir=gs://vapit_data/tf_models/models/model_06092021_2303\n",
      "  jobDir: gs://vapit_data/tf_models/jobdir\n",
      "  packageUris:\n",
      "  - gs://vapit_data/tf_models/jobdir/packages/6f182d17dbfd020ee6b31001f4c229e0f30cadd02b0192bade64ee90a3a04c7f/trainer_t-0.1.tar.gz\n",
      "  pythonModule: trainer_t.train\n",
      "  pythonVersion: '3.7'\n",
      "  region: us-central1\n",
      "  runtimeVersion: '2.1'\n",
      "  scaleTier: STANDARD_1\n",
      "trainingOutput:\n",
      "  consumedMLUnits: 0.1\n",
      "\n",
      "View job in the Cloud Console at:\n",
      "https://console.cloud.google.com/mlengine/jobs/tf_train_cchatterj_060921_2303?project=cchatterjee-sandbox\n",
      "\n",
      "View logs at:\n",
      "https://console.cloud.google.com/logs?resource=ml_job%2Fjob_id%2Ftf_train_cchatterj_060921_2303&project=cchatterjee-sandbox\n"
     ]
    }
   ],
   "source": [
    "# check the training job status\n",
    "! gcloud ai-platform jobs describe $JOBNAME_TRN\n"
   ]
  },
  {
   "cell_type": "code",
   "execution_count": 43,
   "metadata": {},
   "outputs": [],
   "source": [
    "# Print Errors\n",
    "if 0:\n",
    "    response = ! gcloud logging read \"resource.labels.job_id=$JOBNAME_TRN severity>=ERROR\"\n",
    "    for i in range(0,len(response)):\n",
    "        if 'message' in response[i]:\n",
    "            print(response[i])"
   ]
  },
  {
   "cell_type": "code",
   "execution_count": 44,
   "metadata": {},
   "outputs": [
    {
     "name": "stdout",
     "output_type": "stream",
     "text": [
      "\n",
      "All Models = \n",
      "gs://vapit_data/tf_models/models/model_06082021_2018/checkpoints/\n",
      "gs://vapit_data/tf_models/models/model_06082021_2018/checkpoints/cp-202957-0-0.9563/\n",
      "gs://vapit_data/tf_models/models/model_06082021_2018/checkpoints/cp-202957-0-0.9673/\n",
      "gs://vapit_data/tf_models/models/model_06082021_2018/checkpoints/cp-203003-0-0.9532/\n",
      "gs://vapit_data/tf_models/models/model_06082021_2018/checkpoints/cp-203003-0-0.9683/\n",
      "gs://vapit_data/tf_models/models/model_06082021_2018/checkpoints/cp-203014-0-0.9494/\n",
      "gs://vapit_data/tf_models/models/model_06082021_2018/checkpoints/cp-203014-0-0.9667/\n",
      "gs://vapit_data/tf_models/models/model_06082021_2018/checkpoints/cp-203016-0-0.9520/\n",
      "gs://vapit_data/tf_models/models/model_06082021_2018/checkpoints/cp-203016-0-0.9668/\n",
      "gs://vapit_data/tf_models/models/model_06082021_2018/checkpoints/cp-203030-0-0.9531/\n",
      "gs://vapit_data/tf_models/models/model_06082021_2018/checkpoints/cp-203030-0-0.9551/\n",
      "gs://vapit_data/tf_models/models/model_06082021_2018/checkpoints/cp-203030-0-0.9662/\n",
      "gs://vapit_data/tf_models/models/model_06082021_2018/checkpoints/cp-203030-0-0.9683/\n",
      "gs://vapit_data/tf_models/models/model_06082021_2018/checkpoints/cp-203047-0-0.9562/\n",
      "gs://vapit_data/tf_models/models/model_06082021_2018/checkpoints/cp-203047-0-0.9672/\n",
      "gs://vapit_data/tf_models/models/model_06082021_2018/checkpoints/cp-203055-0-0.9548/\n",
      "gs://vapit_data/tf_models/models/model_06082021_2018/checkpoints/cp-203055-0-0.9656/\n",
      "gs://vapit_data/tf_models/models/model_06082021_2018/checkpoints/cp-203014-0-0.9494/\n",
      "gs://vapit_data/tf_models/models/model_06082021_2018/checkpoints/cp-203016-0-0.9520/\n",
      "gs://vapit_data/tf_models/models/model_06082021_2018/checkpoints/cp-203030-0-0.9531/\n",
      "gs://vapit_data/tf_models/models/model_06082021_2018/checkpoints/cp-203003-0-0.9532/\n",
      "gs://vapit_data/tf_models/models/model_06082021_2018/checkpoints/cp-203055-0-0.9548/\n",
      "gs://vapit_data/tf_models/models/model_06082021_2018/checkpoints/cp-203030-0-0.9551/\n",
      "gs://vapit_data/tf_models/models/model_06082021_2018/checkpoints/cp-203047-0-0.9562/\n",
      "gs://vapit_data/tf_models/models/model_06082021_2018/checkpoints/cp-202957-0-0.9563/\n",
      "gs://vapit_data/tf_models/models/model_06082021_2018/checkpoints/cp-203055-0-0.9656/\n",
      "gs://vapit_data/tf_models/models/model_06082021_2018/checkpoints/cp-203030-0-0.9662/\n",
      "gs://vapit_data/tf_models/models/model_06082021_2018/checkpoints/cp-203014-0-0.9667/\n",
      "gs://vapit_data/tf_models/models/model_06082021_2018/checkpoints/cp-203016-0-0.9668/\n",
      "gs://vapit_data/tf_models/models/model_06082021_2018/checkpoints/cp-203047-0-0.9672/\n",
      "gs://vapit_data/tf_models/models/model_06082021_2018/checkpoints/cp-202957-0-0.9673/\n",
      "gs://vapit_data/tf_models/models/model_06082021_2018/checkpoints/cp-203003-0-0.9683/\n",
      "gs://vapit_data/tf_models/models/model_06082021_2018/checkpoints/cp-203030-0-0.9683/\n",
      "Best Accuracy  from Checkpoints =  0.9683\n",
      "Best Model Dir from Checkpoints =  gs://vapit_data/tf_models/models/model_06082021_2018/checkpoints/cp-203003-0-0.9683/\n"
     ]
    }
   ],
   "source": [
    "# Test with latest saved model\n",
    "best_model_dir_trn = find_best_model_dir(MODEL_DIR_TRN+'/checkpoints', offset=1, maxFlag=1)\n",
    "#acc = test_saved_model(best_model_dir_trn, 0)\n"
   ]
  },
  {
   "cell_type": "markdown",
   "metadata": {},
   "source": [
    "------\n",
    "# Hyper Parameter Tuning"
   ]
  },
  {
   "cell_type": "code",
   "execution_count": 44,
   "metadata": {},
   "outputs": [],
   "source": [
    "# Create the tf directory and load the trainer_t files in it\n",
    "!cp ./trainer_t/train.py ./trainer_t/train_hpt.py\n"
   ]
  },
  {
   "cell_type": "code",
   "execution_count": 45,
   "metadata": {},
   "outputs": [
    {
     "name": "stdout",
     "output_type": "stream",
     "text": [
      "Appending to ./trainer_t/train_hpt.py\n"
     ]
    }
   ],
   "source": [
    "%%writefile -a ./trainer_t/train_hpt.py\n",
    "\n",
    "    \"\"\"This method updates a CAIP HPTuning Job with a final metric for the job.\n",
    "    In TF2.X the user must either use hypertune or a custom callback with\n",
    "    tf.summary.scalar to update CAIP HP Tuning jobs. This function uses\n",
    "    hypertune, which appears to be the preferred solution. Hypertune also works\n",
    "    with containers, without code change.\n",
    "    Args:\n",
    "        metric_tag: The metric being optimized.  This MUST MATCH the\n",
    "          hyperparameterMetricTag specificed in the hyperparameter tuning yaml.\n",
    "        metric_value: The value to report at the end of model training.\n",
    "        global_step: An int value to specify the number of trainin steps completed\n",
    "          at the time the metric was reported.\n",
    "    \"\"\"\n",
    "\n",
    "    hpt = hypertune.HyperTune()\n",
    "    hpt.report_hyperparameter_tuning_metric(\n",
    "        hyperparameter_metric_tag='accuracy',\n",
    "        metric_value=final_epoch_accuracy,\n",
    "        global_step=final_epoch_count\n",
    "    )\n"
   ]
  },
  {
   "cell_type": "code",
   "execution_count": 46,
   "metadata": {},
   "outputs": [
    {
     "name": "stdout",
     "output_type": "stream",
     "text": [
      "Overwriting ./config/hptuning_config.yaml\n"
     ]
    }
   ],
   "source": [
    "%%writefile ./config/hptuning_config.yaml\n",
    "\n",
    "# python3\n",
    "# ==============================================================================\n",
    "# Copyright 2020 Google LLC. This software is provided as-is, without warranty\n",
    "# or representation for any use or purpose. Your use of it is subject to your\n",
    "# agreement with Google.\n",
    "# ==============================================================================\n",
    "\n",
    "# https://cloud.google.com/ai-platform/training/docs/reference/rest/v1/projects.jobs\n",
    "# https://cloud.google.com/sdk/gcloud/reference/ai-platform/jobs/submit/training\n",
    "\n",
    "#trainingInput:\n",
    "#  scaleTier: CUSTOM\n",
    "#  masterType: n1-highmem-8\n",
    "#  masterConfig:\n",
    "#    acceleratorConfig:\n",
    "#      count: 1\n",
    "#      type: NVIDIA_TESLA_T4\n",
    "#\n",
    "#  masterType: standard_p100\n",
    "#  workerType: standard_p100\n",
    "#  parameterServerType: standard_p100\n",
    "#  workerCount: 8\n",
    "#  parameterServerCount: 1\n",
    "#  runtimeVersion: $RUNTIME_VERSION\n",
    "#  pythonVersion: '3.7'\n",
    "\n",
    "#trainingInput:\n",
    "#  scaleTier: CUSTOM\n",
    "#  masterType: complex_model_m\n",
    "#  workerType: complex_model_m\n",
    "#  parameterServerType: large_model\n",
    "#  workerCount: 9\n",
    "#  parameterServerCount: 3\n",
    "#  scheduling:\n",
    "#    maxWaitTime: 3600s\n",
    "#    maxRunningTime: 7200s\n",
    "\n",
    "#trainingInput:\n",
    "#  scaleTier: BASIC-GPU\n",
    "\n",
    "#trainingInput:\n",
    "#  scaleTier: CUSTOM\n",
    "#  masterType: n1-highmem-16\n",
    "#  masterConfig:\n",
    "#    acceleratorConfig:\n",
    "#      count: 2\n",
    "#      type: NVIDIA_TESLA_V100\n",
    "\n",
    "#trainingInput:\n",
    "#  scaleTier: STANDARD-1\n",
    "\n",
    "trainingInput:\n",
    "  scaleTier: CUSTOM\n",
    "  masterType: n1-highcpu-16\n",
    "  workerType: n1-highcpu-16\n",
    "  parameterServerType: n1-highmem-8\n",
    "  evaluatorType: n1-highcpu-16\n",
    "  workerCount: 9\n",
    "  parameterServerCount: 3\n",
    "  evaluatorCount: 1\n",
    "  hyperparameters:\n",
    "    goal: MAXIMIZE\n",
    "    hyperparameterMetricTag: accuracy\n",
    "    maxTrials: 4\n",
    "    maxParallelTrials: 4\n",
    "    enableTrialEarlyStopping: True\n",
    "    params:\n",
    "    - parameterName: model_depth\n",
    "      type: INTEGER\n",
    "      minValue: 2\n",
    "      maxValue: 4\n",
    "      scaleType: UNIT_LINEAR_SCALE\n",
    "    - parameterName: epochs\n",
    "      type: INTEGER\n",
    "      minValue: 1\n",
    "      maxValue: 3\n",
    "      scaleType: UNIT_LINEAR_SCALE\n"
   ]
  },
  {
   "cell_type": "code",
   "execution_count": 47,
   "metadata": {},
   "outputs": [
    {
     "name": "stdout",
     "output_type": "stream",
     "text": [
      "Job Name =  tf_hptrn_cchatterj_060921_2339\n",
      "Job Dir  =  gs://vapit_data/tf_models/jobdir\n",
      "MODEL_DIR = gs://vapit_data/tf_models/models/model_06092021_2339\n"
     ]
    }
   ],
   "source": [
    "from datetime import datetime\n",
    "from pytz import timezone\n",
    "\n",
    "JOBNAME_HPT = 'tf_hptrn_' + USER + '_' + \\\n",
    "              datetime.now(timezone('US/Pacific')).strftime(\"%m%d%y_%H%M\")\n",
    "JOB_CONFIG = \"./config/hptuning_config.yaml\"\n",
    "MODEL_DIR_HPT = MODEL_DIR + datetime.now(timezone('US/Pacific')).strftime('/model_%m%d%Y_%H%M')\n",
    "\n",
    "print(\"Job Name = \", JOBNAME_HPT)\n",
    "print(\"Job Dir  = \", JOB_DIR)\n",
    "print(\"MODEL_DIR =\", MODEL_DIR_HPT)\n",
    "\n",
    "# Training parameters\n",
    "DROPOUT_RATE = 0.02\n",
    "LEARNING_RATE = 0.0001\n",
    "BATCH_SIZE = 32\n"
   ]
  },
  {
   "cell_type": "code",
   "execution_count": 48,
   "metadata": {},
   "outputs": [
    {
     "name": "stdout",
     "output_type": "stream",
     "text": [
      "Job [tf_hptrn_cchatterj_060921_2339] submitted successfully.\n",
      "Your job is still active. You may view the status of your job with the command\n",
      "\n",
      "  $ gcloud ai-platform jobs describe tf_hptrn_cchatterj_060921_2339\n",
      "\n",
      "or continue streaming the logs with the command\n",
      "\n",
      "  $ gcloud ai-platform jobs stream-logs tf_hptrn_cchatterj_060921_2339\n",
      "jobId: tf_hptrn_cchatterj_060921_2339\n",
      "state: QUEUED\n"
     ]
    }
   ],
   "source": [
    "# submit the training job\n",
    "HT_LABELS = \"mode=hypertrain,owner=\"+USER\n",
    "\n",
    "! gcloud ai-platform jobs submit training $JOBNAME_HPT \\\n",
    "  --package-path $(pwd)/trainer_t \\\n",
    "  --module-name trainer_t.train_hpt \\\n",
    "  --python-version 3.7 \\\n",
    "  --runtime-version $RUNTIME_VERSION \\\n",
    "  --region $REGION \\\n",
    "  --job-dir $JOB_DIR \\\n",
    "  --config $JOB_CONFIG \\\n",
    "  --labels $HT_LABELS \\\n",
    "  -- \\\n",
    "  --dropout_rate=$DROPOUT_RATE \\\n",
    "  --learning_rate=$LEARNING_RATE \\\n",
    "  --batch_size=$BATCH_SIZE \\\n",
    "  --model_dir=$MODEL_DIR_HPT\n"
   ]
  },
  {
   "cell_type": "code",
   "execution_count": 50,
   "metadata": {},
   "outputs": [
    {
     "name": "stdout",
     "output_type": "stream",
     "text": [
      "createTime: '2021-06-10T06:46:25Z'\n",
      "etag: zu-xgQBcnd0=\n",
      "jobId: tf_hptrn_cchatterj_060921_2339\n",
      "labels:\n",
      "  mode: hypertrain\n",
      "  owner: cchatterj\n",
      "startTime: '2021-06-10T06:46:27Z'\n",
      "state: RUNNING\n",
      "trainingInput:\n",
      "  args:\n",
      "  - --dropout_rate=0.02\n",
      "  - --learning_rate=0.0001\n",
      "  - --batch_size=32\n",
      "  - --model_dir=gs://vapit_data/tf_models/models/model_06092021_2339\n",
      "  evaluatorCount: '1'\n",
      "  evaluatorType: n1-highcpu-16\n",
      "  hyperparameters:\n",
      "    enableTrialEarlyStopping: true\n",
      "    goal: MAXIMIZE\n",
      "    hyperparameterMetricTag: accuracy\n",
      "    maxParallelTrials: 4\n",
      "    maxTrials: 4\n",
      "    params:\n",
      "    - maxValue: 4.0\n",
      "      minValue: 2.0\n",
      "      parameterName: model_depth\n",
      "      scaleType: UNIT_LINEAR_SCALE\n",
      "      type: INTEGER\n",
      "    - maxValue: 3.0\n",
      "      minValue: 1.0\n",
      "      parameterName: epochs\n",
      "      scaleType: UNIT_LINEAR_SCALE\n",
      "      type: INTEGER\n",
      "  jobDir: gs://vapit_data/tf_models/jobdir\n",
      "  masterType: n1-highcpu-16\n",
      "  packageUris:\n",
      "  - gs://vapit_data/tf_models/jobdir/packages/6aab172ac0ce932bd0bb0de4733f1d3ab3b4a741cbbbf35dac85a5937ec50588/trainer_t-0.1.tar.gz\n",
      "  parameterServerCount: '3'\n",
      "  parameterServerType: n1-highmem-8\n",
      "  pythonModule: trainer_t.train_hpt\n",
      "  pythonVersion: '3.7'\n",
      "  region: us-central1\n",
      "  runtimeVersion: '2.1'\n",
      "  scaleTier: CUSTOM\n",
      "  workerCount: '9'\n",
      "  workerType: n1-highcpu-16\n",
      "trainingOutput:\n",
      "  consumedMLUnits: 5.21\n",
      "  hyperparameterMetricTag: accuracy\n",
      "  isHyperparameterTuningJob: true\n",
      "  trials:\n",
      "  - endTime: '2021-06-10T06:49:06Z'\n",
      "    hyperparameters:\n",
      "      epochs: '2'\n",
      "      model_depth: '3'\n",
      "    startTime: '2021-06-10T06:46:32.805515956Z'\n",
      "    state: RUNNING\n",
      "    trialId: '2'\n",
      "  - endTime: '2021-06-10T06:49:18Z'\n",
      "    hyperparameters:\n",
      "      epochs: '3'\n",
      "      model_depth: '4'\n",
      "    startTime: '2021-06-10T06:46:32.805642393Z'\n",
      "    state: RUNNING\n",
      "    trialId: '3'\n",
      "\n",
      "View job in the Cloud Console at:\n",
      "https://console.cloud.google.com/mlengine/jobs/tf_hptrn_cchatterj_060921_2339?project=cchatterjee-sandbox\n",
      "\n",
      "View logs at:\n",
      "https://console.cloud.google.com/logs?resource=ml_job%2Fjob_id%2Ftf_hptrn_cchatterj_060921_2339&project=cchatterjee-sandbox\n"
     ]
    }
   ],
   "source": [
    "# check the hyperparameter training job status\n",
    "! gcloud ai-platform jobs describe $JOBNAME_HPT\n"
   ]
  },
  {
   "cell_type": "code",
   "execution_count": 55,
   "metadata": {},
   "outputs": [],
   "source": [
    "# Print Errors\n",
    "if 0:\n",
    "    response = ! gcloud logging read \"resource.labels.job_id=$JOBNAME_HPT severity>=ERROR\"\n",
    "    for i in range(0,len(response)):\n",
    "        if 'message' in response[i]:\n",
    "            print(response[i])\n"
   ]
  },
  {
   "cell_type": "code",
   "execution_count": 51,
   "metadata": {},
   "outputs": [
    {
     "name": "stdout",
     "output_type": "stream",
     "text": [
      "objective= 0.4445199966430664  trialId= 1 SUCCEEDED\n",
      "     epochs 3\n",
      "     model_depth 3\n",
      "objective= 0.4443199932575226  trialId= 3 SUCCEEDED\n",
      "     epochs 3\n",
      "     model_depth 4\n",
      "objective= 0.433459997177124  trialId= 4 SUCCEEDED\n",
      "     epochs 3\n",
      "     model_depth 2\n",
      "objective= 0.4129999876022339  trialId= 2 SUCCEEDED\n",
      "     epochs 2\n",
      "     model_depth 3\n",
      "\n",
      "Objective= 0.4445199966430664\n",
      "MODEL_DEPTH = 3\n",
      "EPOCHS = 3\n"
     ]
    }
   ],
   "source": [
    "# Get the best model parameters from Cloud API\n",
    "best_model = pyth_get_hypertuned_parameters(PROJECT_ID, JOBNAME_HPT, 1)\n",
    "MODEL_DEPTH = best_model['hyperparameters']['model_depth']\n",
    "EPOCHS = best_model['hyperparameters']['epochs']\n",
    "print('')\n",
    "print('Objective=', best_model['finalMetric']['objectiveValue'])\n",
    "print('MODEL_DEPTH =', MODEL_DEPTH)\n",
    "print('EPOCHS =', EPOCHS)\n"
   ]
  },
  {
   "cell_type": "code",
   "execution_count": 52,
   "metadata": {},
   "outputs": [
    {
     "name": "stdout",
     "output_type": "stream",
     "text": [
      "Total Hypertrained Models= 138\n",
      "\n",
      "All Models = \n",
      "gs://vapit_data/tf_models/models/model_06092021_2339/checkpoints/\n",
      "gs://vapit_data/tf_models/models/model_06092021_2339/checkpoints/cp-234732-2-0.4059/\n",
      "gs://vapit_data/tf_models/models/model_06092021_2339/checkpoints/cp-234732-2-0.4395/\n",
      "gs://vapit_data/tf_models/models/model_06092021_2339/checkpoints/cp-234734-2-0.4188/\n",
      "gs://vapit_data/tf_models/models/model_06092021_2339/checkpoints/cp-234734-2-0.4439/\n",
      "gs://vapit_data/tf_models/models/model_06092021_2339/checkpoints/cp-234735-2-0.3992/\n",
      "gs://vapit_data/tf_models/models/model_06092021_2339/checkpoints/cp-234735-2-0.4461/\n",
      "gs://vapit_data/tf_models/models/model_06092021_2339/checkpoints/cp-234738-3-0.4030/\n",
      "gs://vapit_data/tf_models/models/model_06092021_2339/checkpoints/cp-234738-3-0.4426/\n",
      "gs://vapit_data/tf_models/models/model_06092021_2339/checkpoints/cp-234738-3-0.4605/\n",
      "gs://vapit_data/tf_models/models/model_06092021_2339/checkpoints/cp-234740-3-0.4134/\n",
      "gs://vapit_data/tf_models/models/model_06092021_2339/checkpoints/cp-234740-3-0.4420/\n",
      "gs://vapit_data/tf_models/models/model_06092021_2339/checkpoints/cp-234750-3-0.3883/\n",
      "gs://vapit_data/tf_models/models/model_06092021_2339/checkpoints/cp-234750-3-0.4416/\n",
      "gs://vapit_data/tf_models/models/model_06092021_2339/checkpoints/cp-234750-3-0.4664/\n",
      "gs://vapit_data/tf_models/models/model_06092021_2339/checkpoints/cp-234800-3-0.4107/\n",
      "gs://vapit_data/tf_models/models/model_06092021_2339/checkpoints/cp-234800-3-0.4429/\n",
      "gs://vapit_data/tf_models/models/model_06092021_2339/checkpoints/cp-234800-3-0.4548/\n",
      "gs://vapit_data/tf_models/models/model_06092021_2339/checkpoints/cp-234801-2-0.3975/\n",
      "gs://vapit_data/tf_models/models/model_06092021_2339/checkpoints/cp-234801-2-0.4054/\n",
      "gs://vapit_data/tf_models/models/model_06092021_2339/checkpoints/cp-234801-2-0.4275/\n",
      "gs://vapit_data/tf_models/models/model_06092021_2339/checkpoints/cp-234801-2-0.4404/\n",
      "gs://vapit_data/tf_models/models/model_06092021_2339/checkpoints/cp-234802-2-0.3895/\n",
      "gs://vapit_data/tf_models/models/model_06092021_2339/checkpoints/cp-234802-2-0.4055/\n",
      "gs://vapit_data/tf_models/models/model_06092021_2339/checkpoints/cp-234802-2-0.4238/\n",
      "gs://vapit_data/tf_models/models/model_06092021_2339/checkpoints/cp-234802-2-0.4418/\n",
      "gs://vapit_data/tf_models/models/model_06092021_2339/checkpoints/cp-234802-3-0.4044/\n",
      "gs://vapit_data/tf_models/models/model_06092021_2339/checkpoints/cp-234802-3-0.4077/\n",
      "gs://vapit_data/tf_models/models/model_06092021_2339/checkpoints/cp-234802-3-0.4444/\n",
      "gs://vapit_data/tf_models/models/model_06092021_2339/checkpoints/cp-234802-3-0.4479/\n",
      "gs://vapit_data/tf_models/models/model_06092021_2339/checkpoints/cp-234802-3-0.4524/\n",
      "gs://vapit_data/tf_models/models/model_06092021_2339/checkpoints/cp-234802-3-0.4561/\n",
      "gs://vapit_data/tf_models/models/model_06092021_2339/checkpoints/cp-234803-3-0.3889/\n",
      "gs://vapit_data/tf_models/models/model_06092021_2339/checkpoints/cp-234803-3-0.3937/\n",
      "gs://vapit_data/tf_models/models/model_06092021_2339/checkpoints/cp-234803-3-0.3948/\n",
      "gs://vapit_data/tf_models/models/model_06092021_2339/checkpoints/cp-234803-3-0.4341/\n",
      "gs://vapit_data/tf_models/models/model_06092021_2339/checkpoints/cp-234803-3-0.4513/\n",
      "gs://vapit_data/tf_models/models/model_06092021_2339/checkpoints/cp-234803-3-0.4530/\n",
      "gs://vapit_data/tf_models/models/model_06092021_2339/checkpoints/cp-234803-3-0.4566/\n",
      "gs://vapit_data/tf_models/models/model_06092021_2339/checkpoints/cp-234803-3-0.4611/\n",
      "gs://vapit_data/tf_models/models/model_06092021_2339/checkpoints/cp-234803-3-0.4683/\n",
      "gs://vapit_data/tf_models/models/model_06092021_2339/checkpoints/cp-234807-2-0.3780/\n",
      "gs://vapit_data/tf_models/models/model_06092021_2339/checkpoints/cp-234807-2-0.4134/\n",
      "gs://vapit_data/tf_models/models/model_06092021_2339/checkpoints/cp-234807-2-0.4377/\n",
      "gs://vapit_data/tf_models/models/model_06092021_2339/checkpoints/cp-234807-2-0.4452/\n",
      "gs://vapit_data/tf_models/models/model_06092021_2339/checkpoints/cp-234808-2-0.3915/\n",
      "gs://vapit_data/tf_models/models/model_06092021_2339/checkpoints/cp-234808-2-0.4377/\n",
      "gs://vapit_data/tf_models/models/model_06092021_2339/checkpoints/cp-234808-3-0.3919/\n",
      "gs://vapit_data/tf_models/models/model_06092021_2339/checkpoints/cp-234808-3-0.3982/\n",
      "gs://vapit_data/tf_models/models/model_06092021_2339/checkpoints/cp-234808-3-0.4366/\n",
      "gs://vapit_data/tf_models/models/model_06092021_2339/checkpoints/cp-234808-3-0.4376/\n",
      "gs://vapit_data/tf_models/models/model_06092021_2339/checkpoints/cp-234808-3-0.4473/\n",
      "gs://vapit_data/tf_models/models/model_06092021_2339/checkpoints/cp-234808-3-0.4627/\n",
      "gs://vapit_data/tf_models/models/model_06092021_2339/checkpoints/cp-234809-3-0.3968/\n",
      "gs://vapit_data/tf_models/models/model_06092021_2339/checkpoints/cp-234809-3-0.4181/\n",
      "gs://vapit_data/tf_models/models/model_06092021_2339/checkpoints/cp-234809-3-0.4558/\n",
      "gs://vapit_data/tf_models/models/model_06092021_2339/checkpoints/cp-234810-3-0.4092/\n",
      "gs://vapit_data/tf_models/models/model_06092021_2339/checkpoints/cp-234810-3-0.4368/\n",
      "gs://vapit_data/tf_models/models/model_06092021_2339/checkpoints/cp-234810-3-0.4483/\n",
      "gs://vapit_data/tf_models/models/model_06092021_2339/checkpoints/cp-234811-2-0.3925/\n",
      "gs://vapit_data/tf_models/models/model_06092021_2339/checkpoints/cp-234811-2-0.4362/\n",
      "gs://vapit_data/tf_models/models/model_06092021_2339/checkpoints/cp-234813-2-0.3955/\n",
      "gs://vapit_data/tf_models/models/model_06092021_2339/checkpoints/cp-234813-2-0.4183/\n",
      "gs://vapit_data/tf_models/models/model_06092021_2339/checkpoints/cp-234815-2-0.3681/\n",
      "gs://vapit_data/tf_models/models/model_06092021_2339/checkpoints/cp-234815-2-0.4433/\n",
      "gs://vapit_data/tf_models/models/model_06092021_2339/checkpoints/cp-234817-2-0.3966/\n",
      "gs://vapit_data/tf_models/models/model_06092021_2339/checkpoints/cp-234817-2-0.4424/\n",
      "gs://vapit_data/tf_models/models/model_06092021_2339/checkpoints/cp-234827-3-0.3831/\n",
      "gs://vapit_data/tf_models/models/model_06092021_2339/checkpoints/cp-234827-3-0.4482/\n",
      "gs://vapit_data/tf_models/models/model_06092021_2339/checkpoints/cp-235503-1-0.4034/\n",
      "gs://vapit_data/tf_models/models/model_06092021_2339/checkpoints/cp-235503-1-0.4392/\n",
      "gs://vapit_data/tf_models/models/model_06092021_2339/checkpoints/cp-235503-1-0.4428/\n",
      "gs://vapit_data/tf_models/models/model_06092021_2339/checkpoints/cp-235536-1-0.4027/\n",
      "gs://vapit_data/tf_models/models/model_06092021_2339/checkpoints/cp-235536-1-0.4388/\n",
      "gs://vapit_data/tf_models/models/model_06092021_2339/checkpoints/cp-235536-1-0.4612/\n",
      "gs://vapit_data/tf_models/models/model_06092021_2339/checkpoints/cp-235537-1-0.3926/\n",
      "gs://vapit_data/tf_models/models/model_06092021_2339/checkpoints/cp-235537-1-0.4439/\n",
      "gs://vapit_data/tf_models/models/model_06092021_2339/checkpoints/cp-235537-1-0.4595/\n",
      "gs://vapit_data/tf_models/models/model_06092021_2339/checkpoints/cp-235540-1-0.3979/\n",
      "gs://vapit_data/tf_models/models/model_06092021_2339/checkpoints/cp-235540-1-0.4327/\n",
      "gs://vapit_data/tf_models/models/model_06092021_2339/checkpoints/cp-235540-1-0.4586/\n",
      "gs://vapit_data/tf_models/models/model_06092021_2339/checkpoints/cp-235543-1-0.4043/\n",
      "gs://vapit_data/tf_models/models/model_06092021_2339/checkpoints/cp-235543-1-0.4383/\n",
      "gs://vapit_data/tf_models/models/model_06092021_2339/checkpoints/cp-235543-1-0.4582/\n",
      "gs://vapit_data/tf_models/models/model_06092021_2339/checkpoints/cp-235551-4-0.3982/\n",
      "gs://vapit_data/tf_models/models/model_06092021_2339/checkpoints/cp-235551-4-0.4230/\n",
      "gs://vapit_data/tf_models/models/model_06092021_2339/checkpoints/cp-235551-4-0.4419/\n",
      "gs://vapit_data/tf_models/models/model_06092021_2339/checkpoints/cp-235556-1-0.4009/\n",
      "gs://vapit_data/tf_models/models/model_06092021_2339/checkpoints/cp-235556-1-0.4378/\n",
      "gs://vapit_data/tf_models/models/model_06092021_2339/checkpoints/cp-235556-1-0.4446/\n",
      "gs://vapit_data/tf_models/models/model_06092021_2339/checkpoints/cp-235603-1-0.3942/\n",
      "gs://vapit_data/tf_models/models/model_06092021_2339/checkpoints/cp-235603-1-0.4326/\n",
      "gs://vapit_data/tf_models/models/model_06092021_2339/checkpoints/cp-235603-1-0.4553/\n",
      "gs://vapit_data/tf_models/models/model_06092021_2339/checkpoints/cp-235604-4-0.3708/\n",
      "gs://vapit_data/tf_models/models/model_06092021_2339/checkpoints/cp-235604-4-0.4289/\n",
      "gs://vapit_data/tf_models/models/model_06092021_2339/checkpoints/cp-235604-4-0.4394/\n",
      "gs://vapit_data/tf_models/models/model_06092021_2339/checkpoints/cp-235609-1-0.4187/\n",
      "gs://vapit_data/tf_models/models/model_06092021_2339/checkpoints/cp-235609-1-0.4296/\n",
      "gs://vapit_data/tf_models/models/model_06092021_2339/checkpoints/cp-235609-1-0.4536/\n",
      "gs://vapit_data/tf_models/models/model_06092021_2339/checkpoints/cp-235610-1-0.3992/\n",
      "gs://vapit_data/tf_models/models/model_06092021_2339/checkpoints/cp-235610-1-0.4319/\n",
      "gs://vapit_data/tf_models/models/model_06092021_2339/checkpoints/cp-235610-1-0.4588/\n",
      "gs://vapit_data/tf_models/models/model_06092021_2339/checkpoints/cp-235611-1-0.3908/\n",
      "gs://vapit_data/tf_models/models/model_06092021_2339/checkpoints/cp-235611-1-0.4227/\n",
      "gs://vapit_data/tf_models/models/model_06092021_2339/checkpoints/cp-235611-1-0.4617/\n",
      "gs://vapit_data/tf_models/models/model_06092021_2339/checkpoints/cp-235614-1-0.4109/\n",
      "gs://vapit_data/tf_models/models/model_06092021_2339/checkpoints/cp-235614-1-0.4321/\n",
      "gs://vapit_data/tf_models/models/model_06092021_2339/checkpoints/cp-235616-4-0.3872/\n",
      "gs://vapit_data/tf_models/models/model_06092021_2339/checkpoints/cp-235616-4-0.4053/\n",
      "gs://vapit_data/tf_models/models/model_06092021_2339/checkpoints/cp-235616-4-0.4232/\n",
      "gs://vapit_data/tf_models/models/model_06092021_2339/checkpoints/cp-235616-4-0.4352/\n",
      "gs://vapit_data/tf_models/models/model_06092021_2339/checkpoints/cp-235616-4-0.4426/\n",
      "gs://vapit_data/tf_models/models/model_06092021_2339/checkpoints/cp-235616-4-0.4446/\n",
      "gs://vapit_data/tf_models/models/model_06092021_2339/checkpoints/cp-235636-1-0.4111/\n",
      "gs://vapit_data/tf_models/models/model_06092021_2339/checkpoints/cp-235636-1-0.4270/\n",
      "gs://vapit_data/tf_models/models/model_06092021_2339/checkpoints/cp-235638-4-0.3906/\n",
      "gs://vapit_data/tf_models/models/model_06092021_2339/checkpoints/cp-235638-4-0.4264/\n",
      "gs://vapit_data/tf_models/models/model_06092021_2339/checkpoints/cp-235638-4-0.4423/\n",
      "gs://vapit_data/tf_models/models/model_06092021_2339/checkpoints/cp-235649-4-0.3982/\n",
      "gs://vapit_data/tf_models/models/model_06092021_2339/checkpoints/cp-235649-4-0.4219/\n",
      "gs://vapit_data/tf_models/models/model_06092021_2339/checkpoints/cp-235649-4-0.4481/\n",
      "gs://vapit_data/tf_models/models/model_06092021_2339/checkpoints/cp-235701-4-0.3869/\n",
      "gs://vapit_data/tf_models/models/model_06092021_2339/checkpoints/cp-235701-4-0.4180/\n",
      "gs://vapit_data/tf_models/models/model_06092021_2339/checkpoints/cp-235701-4-0.4482/\n",
      "gs://vapit_data/tf_models/models/model_06092021_2339/checkpoints/cp-235706-4-0.4036/\n",
      "gs://vapit_data/tf_models/models/model_06092021_2339/checkpoints/cp-235706-4-0.4319/\n",
      "gs://vapit_data/tf_models/models/model_06092021_2339/checkpoints/cp-235708-4-0.3898/\n",
      "gs://vapit_data/tf_models/models/model_06092021_2339/checkpoints/cp-235708-4-0.4344/\n",
      "gs://vapit_data/tf_models/models/model_06092021_2339/checkpoints/cp-235710-4-0.4031/\n",
      "gs://vapit_data/tf_models/models/model_06092021_2339/checkpoints/cp-235710-4-0.4191/\n",
      "gs://vapit_data/tf_models/models/model_06092021_2339/checkpoints/cp-235714-1-0.3997/\n",
      "gs://vapit_data/tf_models/models/model_06092021_2339/checkpoints/cp-235715-1-0.3928/\n",
      "gs://vapit_data/tf_models/models/model_06092021_2339/checkpoints/cp-235715-4-0.3918/\n",
      "gs://vapit_data/tf_models/models/model_06092021_2339/checkpoints/cp-235715-4-0.3936/\n",
      "gs://vapit_data/tf_models/models/model_06092021_2339/checkpoints/cp-235715-4-0.4279/\n",
      "gs://vapit_data/tf_models/models/model_06092021_2339/checkpoints/cp-235715-4-0.4288/\n",
      "gs://vapit_data/tf_models/models/model_06092021_2339/checkpoints/cp-235717-4-0.3886/\n",
      "gs://vapit_data/tf_models/models/model_06092021_2339/checkpoints/cp-235719-4-0.3992/\n",
      "gs://vapit_data/tf_models/models/model_06092021_2339/checkpoints/cp-234815-2-0.3681/\n",
      "gs://vapit_data/tf_models/models/model_06092021_2339/checkpoints/cp-235604-4-0.3708/\n",
      "gs://vapit_data/tf_models/models/model_06092021_2339/checkpoints/cp-234807-2-0.3780/\n",
      "gs://vapit_data/tf_models/models/model_06092021_2339/checkpoints/cp-234827-3-0.3831/\n",
      "gs://vapit_data/tf_models/models/model_06092021_2339/checkpoints/cp-235701-4-0.3869/\n",
      "gs://vapit_data/tf_models/models/model_06092021_2339/checkpoints/cp-235616-4-0.3872/\n",
      "gs://vapit_data/tf_models/models/model_06092021_2339/checkpoints/cp-234750-3-0.3883/\n",
      "gs://vapit_data/tf_models/models/model_06092021_2339/checkpoints/cp-235717-4-0.3886/\n",
      "gs://vapit_data/tf_models/models/model_06092021_2339/checkpoints/cp-234803-3-0.3889/\n",
      "gs://vapit_data/tf_models/models/model_06092021_2339/checkpoints/cp-234802-2-0.3895/\n",
      "gs://vapit_data/tf_models/models/model_06092021_2339/checkpoints/cp-235708-4-0.3898/\n",
      "gs://vapit_data/tf_models/models/model_06092021_2339/checkpoints/cp-235638-4-0.3906/\n",
      "gs://vapit_data/tf_models/models/model_06092021_2339/checkpoints/cp-235611-1-0.3908/\n",
      "gs://vapit_data/tf_models/models/model_06092021_2339/checkpoints/cp-234808-2-0.3915/\n",
      "gs://vapit_data/tf_models/models/model_06092021_2339/checkpoints/cp-235715-4-0.3918/\n",
      "gs://vapit_data/tf_models/models/model_06092021_2339/checkpoints/cp-234808-3-0.3919/\n",
      "gs://vapit_data/tf_models/models/model_06092021_2339/checkpoints/cp-234811-2-0.3925/\n",
      "gs://vapit_data/tf_models/models/model_06092021_2339/checkpoints/cp-235537-1-0.3926/\n",
      "gs://vapit_data/tf_models/models/model_06092021_2339/checkpoints/cp-235715-1-0.3928/\n",
      "gs://vapit_data/tf_models/models/model_06092021_2339/checkpoints/cp-235715-4-0.3936/\n",
      "gs://vapit_data/tf_models/models/model_06092021_2339/checkpoints/cp-234803-3-0.3937/\n",
      "gs://vapit_data/tf_models/models/model_06092021_2339/checkpoints/cp-235603-1-0.3942/\n",
      "gs://vapit_data/tf_models/models/model_06092021_2339/checkpoints/cp-234803-3-0.3948/\n",
      "gs://vapit_data/tf_models/models/model_06092021_2339/checkpoints/cp-234813-2-0.3955/\n",
      "gs://vapit_data/tf_models/models/model_06092021_2339/checkpoints/cp-234817-2-0.3966/\n",
      "gs://vapit_data/tf_models/models/model_06092021_2339/checkpoints/cp-234809-3-0.3968/\n",
      "gs://vapit_data/tf_models/models/model_06092021_2339/checkpoints/cp-234801-2-0.3975/\n",
      "gs://vapit_data/tf_models/models/model_06092021_2339/checkpoints/cp-235540-1-0.3979/\n",
      "gs://vapit_data/tf_models/models/model_06092021_2339/checkpoints/cp-234808-3-0.3982/\n",
      "gs://vapit_data/tf_models/models/model_06092021_2339/checkpoints/cp-235551-4-0.3982/\n",
      "gs://vapit_data/tf_models/models/model_06092021_2339/checkpoints/cp-235649-4-0.3982/\n",
      "gs://vapit_data/tf_models/models/model_06092021_2339/checkpoints/cp-234735-2-0.3992/\n",
      "gs://vapit_data/tf_models/models/model_06092021_2339/checkpoints/cp-235610-1-0.3992/\n",
      "gs://vapit_data/tf_models/models/model_06092021_2339/checkpoints/cp-235719-4-0.3992/\n",
      "gs://vapit_data/tf_models/models/model_06092021_2339/checkpoints/cp-235714-1-0.3997/\n",
      "gs://vapit_data/tf_models/models/model_06092021_2339/checkpoints/cp-235556-1-0.4009/\n",
      "gs://vapit_data/tf_models/models/model_06092021_2339/checkpoints/cp-235536-1-0.4027/\n",
      "gs://vapit_data/tf_models/models/model_06092021_2339/checkpoints/cp-234738-3-0.4030/\n",
      "gs://vapit_data/tf_models/models/model_06092021_2339/checkpoints/cp-235710-4-0.4031/\n",
      "gs://vapit_data/tf_models/models/model_06092021_2339/checkpoints/cp-235503-1-0.4034/\n",
      "gs://vapit_data/tf_models/models/model_06092021_2339/checkpoints/cp-235706-4-0.4036/\n",
      "gs://vapit_data/tf_models/models/model_06092021_2339/checkpoints/cp-235543-1-0.4043/\n",
      "gs://vapit_data/tf_models/models/model_06092021_2339/checkpoints/cp-234802-3-0.4044/\n",
      "gs://vapit_data/tf_models/models/model_06092021_2339/checkpoints/cp-235616-4-0.4053/\n",
      "gs://vapit_data/tf_models/models/model_06092021_2339/checkpoints/cp-234801-2-0.4054/\n",
      "gs://vapit_data/tf_models/models/model_06092021_2339/checkpoints/cp-234802-2-0.4055/\n",
      "gs://vapit_data/tf_models/models/model_06092021_2339/checkpoints/cp-234732-2-0.4059/\n",
      "gs://vapit_data/tf_models/models/model_06092021_2339/checkpoints/cp-234802-3-0.4077/\n",
      "gs://vapit_data/tf_models/models/model_06092021_2339/checkpoints/cp-234810-3-0.4092/\n",
      "gs://vapit_data/tf_models/models/model_06092021_2339/checkpoints/cp-234800-3-0.4107/\n",
      "gs://vapit_data/tf_models/models/model_06092021_2339/checkpoints/cp-235614-1-0.4109/\n",
      "gs://vapit_data/tf_models/models/model_06092021_2339/checkpoints/cp-235636-1-0.4111/\n",
      "gs://vapit_data/tf_models/models/model_06092021_2339/checkpoints/cp-234740-3-0.4134/\n",
      "gs://vapit_data/tf_models/models/model_06092021_2339/checkpoints/cp-234807-2-0.4134/\n",
      "gs://vapit_data/tf_models/models/model_06092021_2339/checkpoints/cp-235701-4-0.4180/\n",
      "gs://vapit_data/tf_models/models/model_06092021_2339/checkpoints/cp-234809-3-0.4181/\n",
      "gs://vapit_data/tf_models/models/model_06092021_2339/checkpoints/cp-234813-2-0.4183/\n",
      "gs://vapit_data/tf_models/models/model_06092021_2339/checkpoints/cp-235609-1-0.4187/\n",
      "gs://vapit_data/tf_models/models/model_06092021_2339/checkpoints/cp-234734-2-0.4188/\n",
      "gs://vapit_data/tf_models/models/model_06092021_2339/checkpoints/cp-235710-4-0.4191/\n",
      "gs://vapit_data/tf_models/models/model_06092021_2339/checkpoints/cp-235649-4-0.4219/\n",
      "gs://vapit_data/tf_models/models/model_06092021_2339/checkpoints/cp-235611-1-0.4227/\n",
      "gs://vapit_data/tf_models/models/model_06092021_2339/checkpoints/cp-235551-4-0.4230/\n",
      "gs://vapit_data/tf_models/models/model_06092021_2339/checkpoints/cp-235616-4-0.4232/\n",
      "gs://vapit_data/tf_models/models/model_06092021_2339/checkpoints/cp-234802-2-0.4238/\n",
      "gs://vapit_data/tf_models/models/model_06092021_2339/checkpoints/cp-235638-4-0.4264/\n",
      "gs://vapit_data/tf_models/models/model_06092021_2339/checkpoints/cp-235636-1-0.4270/\n",
      "gs://vapit_data/tf_models/models/model_06092021_2339/checkpoints/cp-234801-2-0.4275/\n",
      "gs://vapit_data/tf_models/models/model_06092021_2339/checkpoints/cp-235715-4-0.4279/\n",
      "gs://vapit_data/tf_models/models/model_06092021_2339/checkpoints/cp-235715-4-0.4288/\n",
      "gs://vapit_data/tf_models/models/model_06092021_2339/checkpoints/cp-235604-4-0.4289/\n",
      "gs://vapit_data/tf_models/models/model_06092021_2339/checkpoints/cp-235609-1-0.4296/\n",
      "gs://vapit_data/tf_models/models/model_06092021_2339/checkpoints/cp-235610-1-0.4319/\n",
      "gs://vapit_data/tf_models/models/model_06092021_2339/checkpoints/cp-235706-4-0.4319/\n",
      "gs://vapit_data/tf_models/models/model_06092021_2339/checkpoints/cp-235614-1-0.4321/\n",
      "gs://vapit_data/tf_models/models/model_06092021_2339/checkpoints/cp-235603-1-0.4326/\n",
      "gs://vapit_data/tf_models/models/model_06092021_2339/checkpoints/cp-235540-1-0.4327/\n",
      "gs://vapit_data/tf_models/models/model_06092021_2339/checkpoints/cp-234803-3-0.4341/\n",
      "gs://vapit_data/tf_models/models/model_06092021_2339/checkpoints/cp-235708-4-0.4344/\n",
      "gs://vapit_data/tf_models/models/model_06092021_2339/checkpoints/cp-235616-4-0.4352/\n",
      "gs://vapit_data/tf_models/models/model_06092021_2339/checkpoints/cp-234811-2-0.4362/\n",
      "gs://vapit_data/tf_models/models/model_06092021_2339/checkpoints/cp-234808-3-0.4366/\n",
      "gs://vapit_data/tf_models/models/model_06092021_2339/checkpoints/cp-234810-3-0.4368/\n",
      "gs://vapit_data/tf_models/models/model_06092021_2339/checkpoints/cp-234808-3-0.4376/\n",
      "gs://vapit_data/tf_models/models/model_06092021_2339/checkpoints/cp-234807-2-0.4377/\n",
      "gs://vapit_data/tf_models/models/model_06092021_2339/checkpoints/cp-234808-2-0.4377/\n",
      "gs://vapit_data/tf_models/models/model_06092021_2339/checkpoints/cp-235556-1-0.4378/\n",
      "gs://vapit_data/tf_models/models/model_06092021_2339/checkpoints/cp-235543-1-0.4383/\n",
      "gs://vapit_data/tf_models/models/model_06092021_2339/checkpoints/cp-235536-1-0.4388/\n",
      "gs://vapit_data/tf_models/models/model_06092021_2339/checkpoints/cp-235503-1-0.4392/\n",
      "gs://vapit_data/tf_models/models/model_06092021_2339/checkpoints/cp-235604-4-0.4394/\n",
      "gs://vapit_data/tf_models/models/model_06092021_2339/checkpoints/cp-234732-2-0.4395/\n",
      "gs://vapit_data/tf_models/models/model_06092021_2339/checkpoints/cp-234801-2-0.4404/\n",
      "gs://vapit_data/tf_models/models/model_06092021_2339/checkpoints/cp-234750-3-0.4416/\n",
      "gs://vapit_data/tf_models/models/model_06092021_2339/checkpoints/cp-234802-2-0.4418/\n",
      "gs://vapit_data/tf_models/models/model_06092021_2339/checkpoints/cp-235551-4-0.4419/\n",
      "gs://vapit_data/tf_models/models/model_06092021_2339/checkpoints/cp-234740-3-0.4420/\n",
      "gs://vapit_data/tf_models/models/model_06092021_2339/checkpoints/cp-235638-4-0.4423/\n",
      "gs://vapit_data/tf_models/models/model_06092021_2339/checkpoints/cp-234817-2-0.4424/\n",
      "gs://vapit_data/tf_models/models/model_06092021_2339/checkpoints/cp-234738-3-0.4426/\n",
      "gs://vapit_data/tf_models/models/model_06092021_2339/checkpoints/cp-235616-4-0.4426/\n",
      "gs://vapit_data/tf_models/models/model_06092021_2339/checkpoints/cp-235503-1-0.4428/\n",
      "gs://vapit_data/tf_models/models/model_06092021_2339/checkpoints/cp-234800-3-0.4429/\n",
      "gs://vapit_data/tf_models/models/model_06092021_2339/checkpoints/cp-234815-2-0.4433/\n",
      "gs://vapit_data/tf_models/models/model_06092021_2339/checkpoints/cp-234734-2-0.4439/\n",
      "gs://vapit_data/tf_models/models/model_06092021_2339/checkpoints/cp-235537-1-0.4439/\n",
      "gs://vapit_data/tf_models/models/model_06092021_2339/checkpoints/cp-234802-3-0.4444/\n",
      "gs://vapit_data/tf_models/models/model_06092021_2339/checkpoints/cp-235556-1-0.4446/\n",
      "gs://vapit_data/tf_models/models/model_06092021_2339/checkpoints/cp-235616-4-0.4446/\n",
      "gs://vapit_data/tf_models/models/model_06092021_2339/checkpoints/cp-234807-2-0.4452/\n",
      "gs://vapit_data/tf_models/models/model_06092021_2339/checkpoints/cp-234735-2-0.4461/\n",
      "gs://vapit_data/tf_models/models/model_06092021_2339/checkpoints/cp-234808-3-0.4473/\n",
      "gs://vapit_data/tf_models/models/model_06092021_2339/checkpoints/cp-234802-3-0.4479/\n",
      "gs://vapit_data/tf_models/models/model_06092021_2339/checkpoints/cp-235649-4-0.4481/\n",
      "gs://vapit_data/tf_models/models/model_06092021_2339/checkpoints/cp-234827-3-0.4482/\n",
      "gs://vapit_data/tf_models/models/model_06092021_2339/checkpoints/cp-235701-4-0.4482/\n",
      "gs://vapit_data/tf_models/models/model_06092021_2339/checkpoints/cp-234810-3-0.4483/\n",
      "gs://vapit_data/tf_models/models/model_06092021_2339/checkpoints/cp-234803-3-0.4513/\n",
      "gs://vapit_data/tf_models/models/model_06092021_2339/checkpoints/cp-234802-3-0.4524/\n",
      "gs://vapit_data/tf_models/models/model_06092021_2339/checkpoints/cp-234803-3-0.4530/\n",
      "gs://vapit_data/tf_models/models/model_06092021_2339/checkpoints/cp-235609-1-0.4536/\n",
      "gs://vapit_data/tf_models/models/model_06092021_2339/checkpoints/cp-234800-3-0.4548/\n",
      "gs://vapit_data/tf_models/models/model_06092021_2339/checkpoints/cp-235603-1-0.4553/\n",
      "gs://vapit_data/tf_models/models/model_06092021_2339/checkpoints/cp-234809-3-0.4558/\n",
      "gs://vapit_data/tf_models/models/model_06092021_2339/checkpoints/cp-234802-3-0.4561/\n",
      "gs://vapit_data/tf_models/models/model_06092021_2339/checkpoints/cp-234803-3-0.4566/\n",
      "gs://vapit_data/tf_models/models/model_06092021_2339/checkpoints/cp-235543-1-0.4582/\n",
      "gs://vapit_data/tf_models/models/model_06092021_2339/checkpoints/cp-235540-1-0.4586/\n",
      "gs://vapit_data/tf_models/models/model_06092021_2339/checkpoints/cp-235610-1-0.4588/\n",
      "gs://vapit_data/tf_models/models/model_06092021_2339/checkpoints/cp-235537-1-0.4595/\n",
      "gs://vapit_data/tf_models/models/model_06092021_2339/checkpoints/cp-234738-3-0.4605/\n",
      "gs://vapit_data/tf_models/models/model_06092021_2339/checkpoints/cp-234803-3-0.4611/\n",
      "gs://vapit_data/tf_models/models/model_06092021_2339/checkpoints/cp-235536-1-0.4612/\n",
      "gs://vapit_data/tf_models/models/model_06092021_2339/checkpoints/cp-235611-1-0.4617/\n",
      "gs://vapit_data/tf_models/models/model_06092021_2339/checkpoints/cp-234808-3-0.4627/\n",
      "gs://vapit_data/tf_models/models/model_06092021_2339/checkpoints/cp-234750-3-0.4664/\n",
      "gs://vapit_data/tf_models/models/model_06092021_2339/checkpoints/cp-234803-3-0.4683/\n",
      "Best Accuracy  from Checkpoints =  0.4683\n",
      "Best Model Dir from Checkpoints =  gs://vapit_data/tf_models/models/model_06092021_2339/checkpoints/cp-234803-3-0.4683/\n"
     ]
    }
   ],
   "source": [
    "# Find count of checkpoints\n",
    "all_models = ! gsutil ls {MODEL_DIR_HPT+'/checkpoints'}\n",
    "print(\"Total Hypertrained Models=\", len(all_models))\n",
    "\n",
    "# Test with latest saved model\n",
    "best_model_dir_hyp = find_best_model_dir(MODEL_DIR_HPT+'/checkpoints', offset=1, maxFlag=1)\n",
    "#acc = test_saved_model(best_model_dir_hyp, 0)\n",
    "\n",
    "#import keras.backend as K\n",
    "#loaded_model = tf.keras.models.load_model(MODEL_DIR_PARAM+'/checkpoints')\n",
    "#print(\"learning_rate=\", K.eval(loaded_model.optimizer.lr))\n",
    "#tf.keras.utils.plot_model(loaded_model, show_shapes=True)\n"
   ]
  },
  {
   "cell_type": "markdown",
   "metadata": {},
   "source": [
    "--------\n",
    "# Deploy the Model"
   ]
  },
  {
   "cell_type": "code",
   "execution_count": 53,
   "metadata": {},
   "outputs": [],
   "source": [
    "## https://cloud.google.com/ai-platform/prediction/docs/machine-types-online-prediction#available_machine_types\n",
    "# We need 2 versions of the same model:\n",
    "# 1. Batch prediction model deployed on a mls1-c1-m2 cluster\n",
    "# 2. Online prediction model deployed on a n1-standard-16 cluster\n",
    "# Batch prediction does not support GPU and n1-standard-16 clusters.\n",
    "\n",
    "# Run the Deploy Model section twice:\n",
    "# 1. As a BATCH Mode version use MODEL_VERSION = MODEL_VERSION_BATCH\n",
    "# 2. As a ONLINE Mode version use MODEL_VERSION = MODEL_VERSION_ONLINE\n"
   ]
  },
  {
   "cell_type": "code",
   "execution_count": 54,
   "metadata": {},
   "outputs": [],
   "source": [
    "# Regional End points with python\n",
    "#https://cloud.google.com/ai-platform/prediction/docs/regional-endpoints#python"
   ]
  },
  {
   "cell_type": "code",
   "execution_count": 66,
   "metadata": {},
   "outputs": [
    {
     "name": "stdout",
     "output_type": "stream",
     "text": [
      "\n",
      "List of Models in Global Endpoint)\n",
      "Using endpoint [https://ml.googleapis.com/]\n",
      "NAME             DEFAULT_VERSION_NAME\n",
      "cifar10_model_1  online_v1\n",
      "mnist_model_1    online_v1\n",
      "\n",
      "List of Versions in Global Endpoint)\n",
      "Using endpoint [https://ml.googleapis.com/]\n",
      "NAME       DEPLOYMENT_URI                                                                        STATE\n",
      "online_v1  gs://vapit_data/tf_models/models/model_06092021_2339/checkpoints/cp-234803-3-0.4683/  READY\n"
     ]
    }
   ],
   "source": [
    "MODEL_NAME = \"cifar10_model_1\"\n",
    "MODEL_VERSION_ONLINE = \"online_v1\"\n",
    "MODEL_VERSION_BATCH  = \"batch_v1\"\n",
    "\n",
    "#Run this as Batch first then Online\n",
    "MODEL_VERSION = MODEL_VERSION_ONLINE\n",
    "#MODEL_VERSION = MODEL_VERSION_BATCH\n",
    "\n",
    "# List all models\n",
    "\n",
    "print(\"\\nList of Models in Global Endpoint)\")\n",
    "!gcloud ai-platform models list --region=global\n",
    "\n",
    "# List all versions of model\n",
    "\n",
    "print(\"\\nList of Versions in Global Endpoint)\")\n",
    "!gcloud ai-platform versions list --model $MODEL_NAME --region=global\n"
   ]
  },
  {
   "cell_type": "code",
   "execution_count": 56,
   "metadata": {},
   "outputs": [],
   "source": [
    "#!gcloud ai-platform versions delete $MODEL_VERSION_ONLINE --model $MODEL_NAME --quiet --region=global\n",
    "#!gcloud ai-platform models delete $MODEL_NAME --quiet --region=global\n"
   ]
  },
  {
   "cell_type": "code",
   "execution_count": 67,
   "metadata": {},
   "outputs": [
    {
     "name": "stdout",
     "output_type": "stream",
     "text": [
      "\n",
      "List of Models in Global Endpoint)\n",
      "Using endpoint [https://ml.googleapis.com/]\n",
      "NAME             DEFAULT_VERSION_NAME\n",
      "cifar10_model_1  online_v1\n",
      "mnist_model_1    online_v1\n",
      "\n",
      "List of Versions in Global Endpoint)\n",
      "Using endpoint [https://ml.googleapis.com/]\n",
      "NAME       DEPLOYMENT_URI                                                                        STATE\n",
      "online_v1  gs://vapit_data/tf_models/models/model_06092021_2339/checkpoints/cp-234803-3-0.4683/  READY\n"
     ]
    }
   ],
   "source": [
    "# List all models\n",
    "\n",
    "print(\"\\nList of Models in Global Endpoint)\")\n",
    "!gcloud ai-platform models list --region=global\n",
    "\n",
    "# List all versions of model\n",
    "\n",
    "print(\"\\nList of Versions in Global Endpoint)\")\n",
    "!gcloud ai-platform versions list --model $MODEL_NAME --region=global\n"
   ]
  },
  {
   "cell_type": "code",
   "execution_count": 68,
   "metadata": {},
   "outputs": [
    {
     "name": "stdout",
     "output_type": "stream",
     "text": [
      "['Using endpoint [https://us-central1-ml.googleapis.com/]', 'Listed 0 items.']\n",
      "Creating model cifar10_model_1\n",
      "Using endpoint [https://ml.googleapis.com/]\n",
      "\u001b[1;31mERROR:\u001b[0m (gcloud.ai-platform.models.create) Resource in projects [cchatterjee-sandbox] is the subject of a conflict: Field: model.name Error: A model with the same name already exists.\n",
      "- '@type': type.googleapis.com/google.rpc.BadRequest\n",
      "  fieldViolations:\n",
      "  - description: A model with the same name already exists.\n",
      "    field: model.name\n",
      "\n",
      "List of Models in Global Endpoint)\n",
      "Using endpoint [https://ml.googleapis.com/]\n",
      "NAME             DEFAULT_VERSION_NAME\n",
      "cifar10_model_1  online_v1\n",
      "mnist_model_1    online_v1\n"
     ]
    }
   ],
   "source": [
    "# create the model if it doesn't already exist\n",
    "modelname = !gcloud ai-platform models list | grep -w $MODEL_NAME\n",
    "print(modelname)\n",
    "if (len(modelname) <= 1) or ('Listed 0 items.' in modelname[1]):\n",
    "    print(\"Creating model \" + MODEL_NAME)\n",
    "    # Global endpoint\n",
    "    !gcloud ai-platform models create $MODEL_NAME --enable-logging --regions $REGION\n",
    "else:\n",
    "    print(\"Model \" + MODEL_NAME + \" exist\")\n",
    "    \n",
    "print(\"\\nList of Models in Global Endpoint)\")\n",
    "!gcloud ai-platform models list --region=global\n"
   ]
  },
  {
   "cell_type": "code",
   "execution_count": 69,
   "metadata": {},
   "outputs": [
    {
     "name": "stdout",
     "output_type": "stream",
     "text": [
      "Model Name = cifar10_model_1\n",
      "Model Versions = batch_v1\n",
      "Best Model Dir:  gs://vapit_data/tf_models/models/model_06092021_2339/checkpoints/cp-234803-3-0.4683/\n",
      "Using endpoint [https://ml.googleapis.com/]\n",
      "Creating version (this might take a few minutes)......done.                    \n",
      "CPU times: user 1.15 s, sys: 321 ms, total: 1.47 s\n",
      "Wall time: 58.4 s\n"
     ]
    }
   ],
   "source": [
    "%%time\n",
    "\n",
    "print(\"Model Name =\", MODEL_NAME)\n",
    "print(\"Model Versions =\", MODEL_VERSION)\n",
    "\n",
    "# Get a list of model directories\n",
    "best_model_dir = best_model_dir_hyp\n",
    "print(\"Best Model Dir: \", best_model_dir)\n",
    "\n",
    "MODEL_FRAMEWORK = \"TENSORFLOW\"\n",
    "MODEL_DESCRIPTION = \"SEQ_MODEL_1\"\n",
    "MODEL_LABELS=\"team=ourteam,phase=test,owner=\"+USER\n",
    "\n",
    "MACHINE_TYPE = \"mls1-c1-m2\"\n",
    "if (MODEL_VERSION == MODEL_VERSION_BATCH):\n",
    "    MACHINE_TYPE = \"mls1-c1-m2\"\n",
    "    MODEL_LABELS = MODEL_LABELS+\",mode=batch\"\n",
    "if (MODEL_VERSION == MODEL_VERSION_ONLINE):\n",
    "    MACHINE_TYPE = \"mls1-c1-m2\" #\"n1-standard-32\"\n",
    "    MODEL_LABELS = MODEL_LABELS+\",mode=online\"\n",
    "\n",
    "# Deploy the model\n",
    "! gcloud beta ai-platform versions create $MODEL_VERSION \\\n",
    "  --model $MODEL_NAME \\\n",
    "  --origin $best_model_dir \\\n",
    "  --runtime-version $RUNTIME_VERSION \\\n",
    "  --python-version=3.7 \\\n",
    "  --description=$MODEL_DESCRIPTION \\\n",
    "  --labels $MODEL_LABELS \\\n",
    "  --machine-type=$MACHINE_TYPE  \\\n",
    "  --framework $MODEL_FRAMEWORK \\\n",
    "  --region global\n"
   ]
  },
  {
   "cell_type": "code",
   "execution_count": 70,
   "metadata": {},
   "outputs": [
    {
     "name": "stdout",
     "output_type": "stream",
     "text": [
      "\n",
      "List of Models in Global Endpoint)\n",
      "Using endpoint [https://ml.googleapis.com/]\n",
      "NAME             DEFAULT_VERSION_NAME\n",
      "cifar10_model_1  online_v1\n",
      "mnist_model_1    online_v1\n",
      "\n",
      "List of Models in Regional Endpoint)\n",
      "Using endpoint [https://us-central1-ml.googleapis.com/]\n",
      "Listed 0 items.\n",
      "\n",
      "List of Versions in Global Endpoint)\n",
      "Using endpoint [https://ml.googleapis.com/]\n",
      "NAME       DEPLOYMENT_URI                                                                        STATE\n",
      "batch_v1   gs://vapit_data/tf_models/models/model_06092021_2339/checkpoints/cp-234803-3-0.4683/  READY\n",
      "online_v1  gs://vapit_data/tf_models/models/model_06092021_2339/checkpoints/cp-234803-3-0.4683/  READY\n"
     ]
    }
   ],
   "source": [
    "# List all models\n",
    "\n",
    "print(\"\\nList of Models in Global Endpoint)\")\n",
    "!gcloud ai-platform models list --region=global\n",
    "\n",
    "print(\"\\nList of Models in Regional Endpoint)\")\n",
    "!gcloud ai-platform models list --region=$REGION\n",
    "\n",
    "# List all versions of model\n",
    "\n",
    "print(\"\\nList of Versions in Global Endpoint)\")\n",
    "!gcloud ai-platform versions list --model $MODEL_NAME --region=global\n",
    "\n",
    "#print(\"\\nList of Versions in Regional Endpoint)\")\n",
    "#!gcloud ai-platform versions list --model $MODEL_NAME --region=$REGION\n"
   ]
  },
  {
   "cell_type": "markdown",
   "metadata": {},
   "source": [
    "------\n",
    "# Predictions with the deployed model"
   ]
  },
  {
   "cell_type": "code",
   "execution_count": 71,
   "metadata": {},
   "outputs": [
    {
     "name": "stdout",
     "output_type": "stream",
     "text": [
      "Copying gs://vapit_data/tf_models/models/model_06092021_2339/checkpoints/cp-234803-3-0.4683/saved_model.pb...\n",
      "Copying gs://vapit_data/tf_models/models/model_06092021_2339/checkpoints/cp-234803-3-0.4683/variables/variables.data-00000-of-00001...\n",
      "Copying gs://vapit_data/tf_models/models/model_06092021_2339/checkpoints/cp-234803-3-0.4683/variables/variables.index...\n",
      "Signature  _SignatureMap({'serving_default': <tensorflow.python.saved_model.load._WrapperFunction object at 0x7fd3d3469510>})\n",
      "\n",
      "Model Input  Layer= flatten\n",
      "Model Output Layer= dense_4\n",
      "\n",
      "CPU times: user 659 ms, sys: 90.6 ms, total: 749 ms\n",
      "Wall time: 2.99 s\n"
     ]
    }
   ],
   "source": [
    "%%time\n",
    "\n",
    "from trainer_t import model\n",
    "\n",
    "# Copy the model from storage to local memory\n",
    "!gsutil -m cp -r $best_model_dir_hyp* ./model_dir\n",
    "\n",
    "# Load the model\n",
    "loaded_model = tf.keras.models.load_model('./model_dir', compile=False) #, \n",
    "               #custom_objects={\"custom_loss\": model.custom_loss,\"custom_mse\": model.custom_mse})\n",
    "print(\"Signature \", loaded_model.signatures)\n",
    "\n",
    "# Check the model layers\n",
    "model_layers = [layer.name for layer in loaded_model.layers]\n",
    "print(\"\")\n",
    "print(\"Model Input  Layer=\", model_layers[0])\n",
    "print(\"Model Output Layer=\", model_layers[-1])\n",
    "print(\"\")\n"
   ]
  },
  {
   "cell_type": "code",
   "execution_count": 72,
   "metadata": {},
   "outputs": [
    {
     "name": "stdout",
     "output_type": "stream",
     "text": [
      "X_train shape =  (50000, 32, 32, 3)\n",
      "X_test  shape =  (10000, 32, 32, 3)\n",
      "y_train shape =  (50000,)\n",
      "y_test  shape =  (10000,)\n"
     ]
    }
   ],
   "source": [
    "from trainer_t import inputs\n",
    "train_test_data = inputs.load_data()\n",
    "X_test  = train_test_data[1]\n",
    "y_test  = train_test_data[3]\n"
   ]
  },
  {
   "cell_type": "markdown",
   "metadata": {},
   "source": [
    "## Online Prediction with python"
   ]
  },
  {
   "cell_type": "code",
   "execution_count": 73,
   "metadata": {},
   "outputs": [
    {
     "name": "stdout",
     "output_type": "stream",
     "text": [
      "Project ID = cchatterjee-sandbox\n",
      "Model Name = cifar10_model_1\n",
      "Model Version = online_v1\n",
      "model_name= projects/cchatterjee-sandbox/models/cifar10_model_1/versions/online_v1\n",
      "batch_size= 16\n",
      "n_samples= 1000\n",
      "Processing samples 0 16\n",
      "Processing samples 16 32\n",
      "Processing samples 32 48\n",
      "Processing samples 48 64\n",
      "Processing samples 64 80\n",
      "Processing samples 80 96\n",
      "Processing samples 96 112\n",
      "Processing samples 112 128\n",
      "Processing samples 128 144\n",
      "Processing samples 144 160\n",
      "Processing samples 160 176\n",
      "Processing samples 176 192\n",
      "Processing samples 192 208\n",
      "Processing samples 208 224\n",
      "Processing samples 224 240\n",
      "Processing samples 240 256\n",
      "Processing samples 256 272\n",
      "Processing samples 272 288\n",
      "Processing samples 288 304\n",
      "Processing samples 304 320\n",
      "Processing samples 320 336\n",
      "Processing samples 336 352\n",
      "Processing samples 352 368\n",
      "Processing samples 368 384\n",
      "Processing samples 384 400\n",
      "Processing samples 400 416\n",
      "Processing samples 416 432\n",
      "Processing samples 432 448\n",
      "Processing samples 448 464\n",
      "Processing samples 464 480\n",
      "Processing samples 480 496\n",
      "Processing samples 496 512\n",
      "Processing samples 512 528\n",
      "Processing samples 528 544\n",
      "Processing samples 544 560\n",
      "Processing samples 560 576\n",
      "Processing samples 576 592\n",
      "Processing samples 592 608\n",
      "Processing samples 608 624\n",
      "Processing samples 624 640\n",
      "Processing samples 640 656\n",
      "Processing samples 656 672\n",
      "Processing samples 672 688\n",
      "Processing samples 688 704\n",
      "Processing samples 704 720\n",
      "Processing samples 720 736\n",
      "Processing samples 736 752\n",
      "Processing samples 752 768\n",
      "Processing samples 768 784\n",
      "Processing samples 784 800\n",
      "Processing samples 800 816\n",
      "Processing samples 816 832\n",
      "Processing samples 832 848\n",
      "Processing samples 848 864\n",
      "Processing samples 864 880\n",
      "Processing samples 880 896\n",
      "Processing samples 896 912\n",
      "Processing samples 912 928\n",
      "Processing samples 928 944\n",
      "Processing samples 944 960\n",
      "Processing samples 960 976\n",
      "Processing samples 976 992\n",
      "Processing samples 992 1000\n",
      "CPU times: user 9.77 s, sys: 3.14 s, total: 12.9 s\n",
      "Wall time: 27.4 s\n"
     ]
    }
   ],
   "source": [
    "%%time\n",
    "\n",
    "# Online Prediction with Python - works for global end points only\n",
    "\n",
    "# Use MODEL_VERSION_ONLINE not MODEL_VERSION_BATCH\n",
    "MODEL_VERSION = MODEL_VERSION_ONLINE\n",
    "\n",
    "from oauth2client.client import GoogleCredentials\n",
    "from googleapiclient import discovery\n",
    "from googleapiclient import errors\n",
    "import json\n",
    "\n",
    "#tf.compat.v1.logging.set_verbosity(tf.compat.v1.logging.ERROR)\n",
    "#tf.get_logger().setLevel('ERROR')\n",
    "\n",
    "print(\"Project ID =\", PROJECT_ID)\n",
    "print(\"Model Name =\", MODEL_NAME)\n",
    "print(\"Model Version =\", MODEL_VERSION)\n",
    "\n",
    "model_name = 'projects/{}/models/{}'.format(PROJECT_ID, MODEL_NAME)\n",
    "if MODEL_VERSION is not None:\n",
    "    model_name += '/versions/{}'.format(MODEL_VERSION)\n",
    "credentials = GoogleCredentials.get_application_default()\n",
    "service = discovery.build('ml', 'v1', cache_discovery=False, credentials=credentials)\n",
    "print(\"model_name=\", model_name)\n",
    "\n",
    "pprobas_temp = []\n",
    "batch_size = 16\n",
    "n_samples = min(1000,X_test.shape[0])\n",
    "print(\"batch_size=\", batch_size)\n",
    "print(\"n_samples=\", n_samples)\n",
    "\n",
    "for i in range(0, n_samples, batch_size):\n",
    "    j = min(i+batch_size, n_samples)\n",
    "    print(\"Processing samples\", i, j)\n",
    "    request = service.projects().predict(name=model_name, \\\n",
    "                                         body={'instances': np.array(X_test)[i:j].tolist()})\n",
    "    try:\n",
    "        response = request.execute()\n",
    "        pprobas_temp += response['predictions']\n",
    "    except errors.HttpError as err:\n",
    "        # Something went wrong, print out some information.\n",
    "        tf.compat.v1.logging.error('There was an error getting the job info, Check the details:')\n",
    "        tf.compat.v1.logging.error(err._get_reason())\n",
    "        break\n"
   ]
  },
  {
   "cell_type": "code",
   "execution_count": 74,
   "metadata": {},
   "outputs": [
    {
     "data": {
      "text/plain": [
       "array([[0.07, 0.14, 0.12, ..., 0.01, 0.07, 0.03],\n",
       "       [0.02, 0.37, 0.  , ..., 0.  , 0.09, 0.52],\n",
       "       [0.16, 0.33, 0.01, ..., 0.01, 0.34, 0.15],\n",
       "       ...,\n",
       "       [0.11, 0.48, 0.05, ..., 0.03, 0.13, 0.16],\n",
       "       [0.02, 0.  , 0.13, ..., 0.03, 0.01, 0.01],\n",
       "       [0.05, 0.05, 0.02, ..., 0.01, 0.72, 0.05]])"
      ]
     },
     "execution_count": 74,
     "metadata": {},
     "output_type": "execute_result"
    }
   ],
   "source": [
    "# Show the prediction results as an array\n",
    "\n",
    "nPreds = len(pprobas_temp)\n",
    "nClasses = len(np.unique(y_test))\n",
    "pprobas = np.zeros((nPreds, nClasses))\n",
    "for i in range(nPreds):\n",
    "    pprobas[i,:] = np.array(pprobas_temp[i][model_layers[-1]])\n",
    "pprobas = np.round(pprobas, 2)\n",
    "pprobas\n"
   ]
  },
  {
   "cell_type": "markdown",
   "metadata": {},
   "source": [
    "## Batch Prediction with GCLOUD"
   ]
  },
  {
   "cell_type": "code",
   "execution_count": 76,
   "metadata": {},
   "outputs": [
    {
     "name": "stdout",
     "output_type": "stream",
     "text": [
      "n_samples = 400\n",
      "nFiles = 10\n",
      "nRecsPerFile = 40\n",
      "Copying file://./batch_data/unkeyed_batch_9.json [Content-Type=application/json]...\n",
      "Copying file://./batch_data/unkeyed_batch_7.json [Content-Type=application/json]...\n",
      "Copying file://./batch_data/unkeyed_batch_5.json [Content-Type=application/json]...\n",
      "Copying file://./batch_data/unkeyed_batch_2.json [Content-Type=application/json]...\n",
      "Copying file://./batch_data/unkeyed_batch_8.json [Content-Type=application/json]...\n",
      "Copying file://./batch_data/unkeyed_batch_6.json [Content-Type=application/json]...\n",
      "Copying file://./batch_data/unkeyed_batch_1.json [Content-Type=application/json]...\n",
      "Copying file://./batch_data/unkeyed_batch_0.json [Content-Type=application/json]...\n",
      "Copying file://./batch_data/unkeyed_batch_3.json [Content-Type=application/json]...\n",
      "Copying file://./batch_data/unkeyed_batch_4.json [Content-Type=application/json]...\n",
      "\\ [10/10 files][ 24.0 MiB/ 24.0 MiB] 100% Done                                  \n",
      "Operation completed over 10 objects/24.0 MiB.                                    \n",
      "Removing gs://vapit_data/tf_models/batch_predictions/prediction.errors_stats-00000-of-00001#1623285350600277...\n",
      "Removing gs://vapit_data/tf_models/batch_predictions/prediction.results-00000-of-00010#1623285354983798...\n",
      "Removing gs://vapit_data/tf_models/batch_predictions/prediction.results-00001-of-00010#1623285355010846...\n",
      "Removing gs://vapit_data/tf_models/batch_predictions/prediction.results-00002-of-00010#1623285355018039...\n",
      "Removing gs://vapit_data/tf_models/batch_predictions/prediction.results-00003-of-00010#1623285354987471...\n",
      "Removing gs://vapit_data/tf_models/batch_predictions/prediction.results-00004-of-00010#1623285354985367...\n",
      "Removing gs://vapit_data/tf_models/batch_predictions/prediction.results-00005-of-00010#1623285354988861...\n",
      "Removing gs://vapit_data/tf_models/batch_predictions/prediction.results-00006-of-00010#1623285355086055...\n",
      "Removing gs://vapit_data/tf_models/batch_predictions/prediction.results-00007-of-00010#1623285355088545...\n",
      "Removing gs://vapit_data/tf_models/batch_predictions/prediction.results-00008-of-00010#1623285354991473...\n",
      "Removing gs://vapit_data/tf_models/batch_predictions/prediction.results-00009-of-00010#1623285355008209...\n",
      "/ [11/11 objects] 100% Done                                                     \n",
      "Operation completed over 11 objects.                                             \n"
     ]
    }
   ],
   "source": [
    "# Write batch data to file in GCS\n",
    "\n",
    "import shutil\n",
    "\n",
    "# Clean current directory\n",
    "DATA_DIR = './batch_data'\n",
    "shutil.rmtree(DATA_DIR, ignore_errors=True)\n",
    "os.makedirs(DATA_DIR)\n",
    "\n",
    "n_samples = min(400,X_test.shape[0])\n",
    "nFiles = 10\n",
    "nRecsPerFile = min(400,n_samples//nFiles)\n",
    "print(\"n_samples =\", n_samples)\n",
    "print(\"nFiles =\", nFiles)\n",
    "print(\"nRecsPerFile =\", nRecsPerFile)\n",
    "\n",
    "# Create nFiles files with nImagesPerFile images each\n",
    "for i in range(nFiles):\n",
    "    with open(f'{DATA_DIR}/unkeyed_batch_{i}.json', \"w\") as file:\n",
    "        for z in range(nRecsPerFile):\n",
    "            print(f'{{\"flatten_input\": {np.array(X_test)[i*nRecsPerFile+z].tolist()}}}', file=file)\n",
    "            #print(f'{{\"{model_layers[0]}\": {np.array(X_test)[i*nRecsPerFile+z].tolist()}}}', file=file)\n",
    "            #key = f'key_{i}_{z}'\n",
    "            #print(f'{{\"image\": {X_test_images[z].tolist()}, \"key\": \"{key}\"}}', file=file)\n",
    "\n",
    "# Write batch data to gcs file\n",
    "!gsutil -m cp -r ./batch_data gs://$BUCKET_NAME/$FOLDER_RESULTS/\n",
    "    \n",
    "# Remove old batch prediction results\n",
    "!gsutil -m rm -r gs://$BUCKET_NAME/$FOLDER_RESULTS/batch_predictions\n"
   ]
  },
  {
   "cell_type": "code",
   "execution_count": 77,
   "metadata": {},
   "outputs": [
    {
     "name": "stdout",
     "output_type": "stream",
     "text": [
      "INPUT_PATHS =  gs://vapit_data/tf_models/batch_data/*\n",
      "OUTPUT_PATH =  gs://vapit_data/tf_models/batch_predictions\n",
      "Job Name    =  tf_batch_predict_cchatterj_061021_0008\n"
     ]
    }
   ],
   "source": [
    "from datetime import datetime\n",
    "from pytz import timezone\n",
    "\n",
    "DATA_FORMAT=\"text\" # JSON data format\n",
    "INPUT_PATHS='gs://' + BUCKET_NAME + '/' + FOLDER_RESULTS + '/batch_data/*'\n",
    "OUTPUT_PATH='gs://' + BUCKET_NAME + '/' + FOLDER_RESULTS + '/batch_predictions'\n",
    "PRED_LABELS=\"mode=batch,team=ourteam,phase=test,owner=\"+USER\n",
    "SIGNATURE_NAME=\"serving_default\"\n",
    "\n",
    "JOBNAME_BATCH = 'tf_batch_predict_'+ USER + '_' + \\\n",
    "           datetime.now(timezone('US/Pacific')).strftime(\"%m%d%y_%H%M\")\n",
    "\n",
    "print(\"INPUT_PATHS = \", INPUT_PATHS)\n",
    "print(\"OUTPUT_PATH = \", OUTPUT_PATH)\n",
    "print(\"Job Name    = \", JOBNAME_BATCH)\n"
   ]
  },
  {
   "cell_type": "code",
   "execution_count": 78,
   "metadata": {},
   "outputs": [
    {
     "name": "stdout",
     "output_type": "stream",
     "text": [
      "Job [tf_batch_predict_cchatterj_061021_0008] submitted successfully.\n",
      "Your job is still active. You may view the status of your job with the command\n",
      "\n",
      "  $ gcloud ai-platform jobs describe tf_batch_predict_cchatterj_061021_0008\n",
      "\n",
      "or continue streaming the logs with the command\n",
      "\n",
      "  $ gcloud ai-platform jobs stream-logs tf_batch_predict_cchatterj_061021_0008\n",
      "jobId: tf_batch_predict_cchatterj_061021_0008\n",
      "state: QUEUED\n"
     ]
    }
   ],
   "source": [
    "# Only works with global endpoint\n",
    "# Submit batch predict job\n",
    "# Use  MODEL_VERSION_BATCH not MODEL_VERSION_ONLINE\n",
    "MODEL_VERSION = MODEL_VERSION_BATCH\n",
    "\n",
    "!gcloud ai-platform jobs submit prediction $JOBNAME_BATCH \\\n",
    "    --model=$MODEL_NAME \\\n",
    "    --version=$MODEL_VERSION \\\n",
    "    --input-paths=$INPUT_PATHS \\\n",
    "    --output-path=$OUTPUT_PATH \\\n",
    "    --data-format=$DATA_FORMAT \\\n",
    "    --labels=$PRED_LABELS \\\n",
    "    --signature-name=$SIGNATURE_NAME \\\n",
    "    --region=$REGION\n"
   ]
  },
  {
   "cell_type": "code",
   "execution_count": 79,
   "metadata": {},
   "outputs": [
    {
     "name": "stdout",
     "output_type": "stream",
     "text": [
      "createTime: '2021-06-10T07:08:21Z'\n",
      "endTime: '2021-06-10T07:14:34Z'\n",
      "etag: PSSDlPuWqMM=\n",
      "jobId: tf_batch_predict_cchatterj_061021_0008\n",
      "labels:\n",
      "  mode: batch\n",
      "  owner: cchatterj\n",
      "  phase: test\n",
      "  team: ourteam\n",
      "predictionInput:\n",
      "  dataFormat: JSON\n",
      "  inputPaths:\n",
      "  - gs://vapit_data/tf_models/batch_data/*\n",
      "  outputPath: gs://vapit_data/tf_models/batch_predictions\n",
      "  region: us-central1\n",
      "  runtimeVersion: '2.1'\n",
      "  signatureName: serving_default\n",
      "  versionName: projects/cchatterjee-sandbox/models/cifar10_model_1/versions/batch_v1\n",
      "predictionOutput:\n",
      "  nodeHours: 0.13\n",
      "  outputPath: gs://vapit_data/tf_models/batch_predictions\n",
      "  predictionCount: '400'\n",
      "startTime: '2021-06-10T07:08:22Z'\n",
      "state: SUCCEEDED\n",
      "\n",
      "View job in the Cloud Console at:\n",
      "https://console.cloud.google.com/mlengine/jobs/tf_batch_predict_cchatterj_061021_0008?project=cchatterjee-sandbox\n",
      "\n",
      "View logs at:\n",
      "https://console.cloud.google.com/logs?resource=ml_job%2Fjob_id%2Ftf_batch_predict_cchatterj_061021_0008&project=cchatterjee-sandbox\n"
     ]
    }
   ],
   "source": [
    "# check the batch prediction job status\n",
    "! gcloud ai-platform jobs describe $JOBNAME_BATCH\n"
   ]
  },
  {
   "cell_type": "code",
   "execution_count": 80,
   "metadata": {},
   "outputs": [],
   "source": [
    "# Print Errors\n",
    "#response = ! gcloud logging read \"resource.labels.job_id=$JOBNAME_BATCH severity>=ERROR\"\n",
    "#for i in range(0,len(response)):\n",
    "#    if 'message' in response[i]:\n",
    "#        print(response[i])\n"
   ]
  },
  {
   "cell_type": "code",
   "execution_count": 81,
   "metadata": {},
   "outputs": [
    {
     "name": "stdout",
     "output_type": "stream",
     "text": [
      "errors\n",
      "batch prediction results\n",
      "{\"dense_4\": [0.011308513581752777, 0.008373220451176167, 0.2238328456878662, 0.17320549488067627, 0.07242472469806671, 0.31092536449432373, 0.15684688091278076, 0.033228401094675064, 0.002974006114527583, 0.006880562286823988]}\n",
      "{\"dense_4\": [0.0029448247514665127, 0.002031720709055662, 0.028225619345903397, 0.42003992199897766, 0.009170932695269585, 0.4534941017627716, 0.06655288487672806, 0.003436429426074028, 0.011808432638645172, 0.00229514273814857]}\n",
      "{\"dense_4\": [0.01949620246887207, 0.008448616601526737, 0.1310388296842575, 0.04741340130567551, 0.10689985752105713, 0.06091047078371048, 0.500453770160675, 0.11722482740879059, 0.001999978441745043, 0.006114040967077017]}\n",
      "{\"dense_4\": [0.005743170622736216, 0.0024327475111931562, 0.1273624300956726, 0.12071210145950317, 0.14797547459602356, 0.24918906390666962, 0.3171826899051666, 0.0269519854336977, 0.0006644915556535125, 0.0017857953207567334]}\n",
      "{\"dense_4\": [0.023107968270778656, 0.04662526771426201, 0.045081865042448044, 0.2479434460401535, 0.028152737766504288, 0.12675432860851288, 0.38854122161865234, 0.034910645335912704, 0.0038489853031933308, 0.05503353103995323]}\n",
      "{\"dense_4\": [0.038820601999759674, 0.10591810196638107, 0.056672193109989166, 0.060786716639995575, 0.05441051349043846, 0.14648844301700592, 0.1500166952610016, 0.1399834305047989, 0.029999366030097008, 0.2169039100408554]}\n",
      "{\"dense_4\": [0.06825533509254456, 0.010864181444048882, 0.17595930397510529, 0.034004244953393936, 0.29552847146987915, 0.04810095205903053, 0.10190074890851974, 0.22324615716934204, 0.02719416655600071, 0.014946362003684044]}\n",
      "{\"dense_4\": [0.030759913846850395, 0.02227478288114071, 0.10295867174863815, 0.1856134682893753, 0.1186593770980835, 0.12828032672405243, 0.31780874729156494, 0.03858635574579239, 0.007194251287728548, 0.047864124178886414]}\n",
      "{\"dense_4\": [0.22473587095737457, 0.17407236993312836, 0.06643001735210419, 0.029323363676667213, 0.10939960926771164, 0.031503789126873016, 0.03318396583199501, 0.021609783172607422, 0.19601984322071075, 0.11372135579586029]}\n",
      "{\"dense_4\": [0.018295418471097946, 0.0021810410544276237, 0.2070346474647522, 0.07803419977426529, 0.20366410911083221, 0.07501064240932465, 0.3826437294483185, 0.022079523652791977, 0.007199923507869244, 0.003856792114675045]}\n",
      "{\"dense_4\": [0.0838921070098877, 0.217383474111557, 0.09047078341245651, 0.03572084754705429, 0.21203842759132385, 0.1539110541343689, 0.0718885064125061, 0.025329021736979485, 0.09332223236560822, 0.016043564304709435]}\n",
      "{\"dense_4\": [0.0012922232272103429, 0.3173219859600067, 0.0028727848548442125, 0.027723023667931557, 0.0012439040001481771, 0.00726520037278533, 0.007701171562075615, 0.0019409919623285532, 0.006112704519182444, 0.62652587890625]}\n",
      "{\"dense_4\": [0.019860457628965378, 0.010729034431278706, 0.09136122465133667, 0.04006006568670273, 0.15372148156166077, 0.038631372153759, 0.5964862108230591, 0.025501759722828865, 0.009235762059688568, 0.014412689954042435]}\n",
      "{\"dense_4\": [0.012490040622651577, 0.07202434539794922, 0.038481198251247406, 0.029893649742007256, 0.22199887037277222, 0.03683967888355255, 0.42020535469055176, 0.14192384481430054, 0.005853389389812946, 0.0202895849943161]}\n",
      "{\"dense_4\": [0.0467117615044117, 0.00995374284684658, 0.1668301224708557, 0.036686595529317856, 0.19637475907802582, 0.04989238828420639, 0.447733610868454, 0.03427601233124733, 0.004691545385867357, 0.006849369965493679]}\n",
      "{\"dense_4\": [0.026956118643283844, 0.05314985662698746, 0.027834272012114525, 0.11104831844568253, 0.052007775753736496, 0.04643437638878822, 0.4315284192562103, 0.06265482306480408, 0.02978619560599327, 0.15859974920749664]}\n",
      "{\"dense_4\": [0.013645261526107788, 0.007390868850052357, 0.11653284728527069, 0.2778477370738983, 0.047623638063669205, 0.24714075028896332, 0.22996719181537628, 0.04540329799056053, 0.00694267638027668, 0.0075056953355669975]}\n",
      "{\"dense_4\": [0.10368300974369049, 0.07447667419910431, 0.01928337849676609, 0.005919634830206633, 0.02797897905111313, 0.004797513596713543, 0.006139534525573254, 0.023408500477671623, 0.4748479127883911, 0.259464830160141]}\n",
      "{\"dense_4\": [0.7295215129852295, 0.0081134969368577, 0.11315495520830154, 0.008937482722103596, 0.04366641864180565, 0.0067319441586732864, 0.011004619300365448, 0.001731227501295507, 0.07288020849227905, 0.004258021246641874]}\n",
      "{\"dense_4\": [0.03557182475924492, 0.09212837368249893, 0.02930467762053013, 0.010245639830827713, 0.1173844262957573, 0.016302112489938736, 0.03830927982926369, 0.5931248664855957, 0.001661914400756359, 0.06596691906452179]}\n",
      "{\"dense_4\": [0.02919965796172619, 0.010224223136901855, 0.25613299012184143, 0.046674251556396484, 0.28088852763175964, 0.09478701651096344, 0.197631374001503, 0.07904639840126038, 0.0016766077606007457, 0.0037389686331152916]}\n",
      "{\"dense_4\": [0.01298160757869482, 0.0037866844795644283, 0.0684354156255722, 0.06461416929960251, 0.04143913835287094, 0.1582382172346115, 0.5955836772918701, 0.04320339858531952, 0.0021919410210102797, 0.009525726549327374]}\n",
      "{\"dense_4\": [0.6590933203697205, 0.004288102500140667, 0.19374965131282806, 0.013259073719382286, 0.034680142998695374, 0.014486855827271938, 0.009404599666595459, 0.0022333816159516573, 0.06723806262016296, 0.0015669252024963498]}\n",
      "{\"dense_4\": [0.06958092749118805, 0.1187412217259407, 0.06779637932777405, 0.05803655833005905, 0.03538594767451286, 0.103013776242733, 0.044710423797369, 0.44413942098617554, 0.0217345729470253, 0.036860689520835876]}\n",
      "{\"dense_4\": [0.11890685558319092, 0.02052917890250683, 0.055628787726163864, 0.008600166998803616, 0.05164751410484314, 0.01310481783002615, 0.014663688838481903, 0.011265031062066555, 0.6747333407402039, 0.030920663848519325]}\n",
      "{\"dense_4\": [0.008150926791131496, 0.007593363057821989, 0.04245143011212349, 0.4126310646533966, 0.02124164067208767, 0.40663692355155945, 0.030100395902991295, 0.030871674418449402, 0.03680398315191269, 0.003518580226227641]}\n",
      "{\"dense_4\": [0.022157851606607437, 0.012975835241377354, 0.07070784270763397, 0.053388096392154694, 0.09893488138914108, 0.08325549215078354, 0.035759858787059784, 0.6113471984863281, 0.002625111723318696, 0.008847872726619244]}\n",
      "{\"dense_4\": [0.043219875544309616, 0.04113836586475372, 0.06767431646585464, 0.23112401366233826, 0.04413924366235733, 0.16050738096237183, 0.34080958366394043, 0.028409257531166077, 0.0034792872611433268, 0.03949863091111183]}\n",
      "{\"dense_4\": [0.07238459587097168, 0.0075306822545826435, 0.0019428044324740767, 0.006474980153143406, 0.0028371696826070547, 0.01646546460688114, 0.00154298753477633, 0.001970165641978383, 0.8870528936386108, 0.0017982505960389972]}\n",
      "{\"dense_4\": [0.010748159140348434, 0.277146577835083, 0.01252454798668623, 0.014694557525217533, 0.010747999884188175, 0.011304010637104511, 0.01956758089363575, 0.007085106801241636, 0.04148533195257187, 0.5946961641311646]}\n",
      "{\"dense_4\": [0.020307952538132668, 0.3651752173900604, 0.011647685430943966, 0.04753292351961136, 0.01455092802643776, 0.04788294807076454, 0.04350995644927025, 0.03554175794124603, 0.02711283229291439, 0.3867378234863281]}\n",
      "{\"dense_4\": [0.007229014299809933, 0.5791081786155701, 0.005435324274003506, 0.013611541129648685, 0.010973280295729637, 0.005414167884737253, 0.008974720723927021, 0.008615315891802311, 0.02001764066517353, 0.3406207859516144]}\n",
      "{\"dense_4\": [0.06280361115932465, 0.06503596156835556, 0.004105635453015566, 0.0019920009654015303, 0.006008376367390156, 0.001006791484542191, 0.0021751527674496174, 0.006157134659588337, 0.4535323977470398, 0.3971828520298004]}\n",
      "{\"dense_4\": [0.1592281013727188, 0.011814155615866184, 0.5179908871650696, 0.09155943244695663, 0.04061281681060791, 0.09476470202207565, 0.039661064743995667, 0.009171954356133938, 0.030234914273023605, 0.004961930215358734]}\n",
      "{\"dense_4\": [0.014395149424672127, 0.005168322939425707, 0.1581202745437622, 0.11392379552125931, 0.11690703779459, 0.15044543147087097, 0.40325769782066345, 0.027493208646774292, 0.0035278107970952988, 0.006761208642274141]}\n",
      "{\"dense_4\": [0.020146461203694344, 0.013758659362792969, 0.08987894654273987, 0.1532057374715805, 0.14194096624851227, 0.138856902718544, 0.3252272605895996, 0.0796458050608635, 0.011772314086556435, 0.02556694485247135]}\n",
      "{\"dense_4\": [0.017069241032004356, 0.003826499218121171, 0.10163536667823792, 0.046265289187431335, 0.17110176384449005, 0.04745439067482948, 0.5788544416427612, 0.026532132178544998, 0.0025949766859412193, 0.004666011314839125]}\n",
      "{\"dense_4\": [0.03962971642613411, 0.015615838579833508, 0.10036106407642365, 0.10812688618898392, 0.09931664168834686, 0.1719839870929718, 0.18344521522521973, 0.25575730204582214, 0.006563143339008093, 0.019200200214982033]}\n",
      "{\"dense_4\": [0.05921793356537819, 0.7497694492340088, 0.026630312204360962, 0.013476819731295109, 0.013989611528813839, 0.010236464440822601, 0.010209537111222744, 0.011549403890967369, 0.056699544191360474, 0.04822085052728653]}\n",
      "{\"dense_4\": [0.17324760556221008, 0.19887596368789673, 0.03604501113295555, 0.03713154047727585, 0.07001319527626038, 0.015147690661251545, 0.021602287888526917, 0.07322697341442108, 0.1731819212436676, 0.20152783393859863]}\n"
     ]
    }
   ],
   "source": [
    "print(\"errors\")\n",
    "!gsutil cat $OUTPUT_PATH/prediction.errors_stats-00000-of-00001\n",
    "print(\"batch prediction results\")\n",
    "!gsutil cat $OUTPUT_PATH/prediction.results-00000-of-00010\n"
   ]
  },
  {
   "cell_type": "code",
   "execution_count": null,
   "metadata": {},
   "outputs": [],
   "source": []
  }
 ],
 "metadata": {
  "environment": {
   "name": "tf2-gpu.2-1.m71",
   "type": "gcloud",
   "uri": "gcr.io/deeplearning-platform-release/tf2-gpu.2-1:m71"
  },
  "kernelspec": {
   "display_name": "Python 3",
   "language": "python",
   "name": "python3"
  },
  "language_info": {
   "codemirror_mode": {
    "name": "ipython",
    "version": 3
   },
   "file_extension": ".py",
   "mimetype": "text/x-python",
   "name": "python",
   "nbconvert_exporter": "python",
   "pygments_lexer": "ipython3",
   "version": "3.7.10"
  }
 },
 "nbformat": 4,
 "nbformat_minor": 4
}
