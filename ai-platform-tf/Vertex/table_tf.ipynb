{
 "cells": [
  {
   "cell_type": "markdown",
   "metadata": {},
   "source": [
    " ============================================================================== \\\n",
    " Copyright 2021 Google LLC. This software is provided as-is, without warranty \\\n",
    " or representation for any use or purpose. Your use of it is subject to your \\\n",
    " agreement with Google. \\\n",
    " ============================================================================== \n",
    " \n",
    " Author: Chanchal Chatterjee, Elvin Zhu \\\n",
    " Email: cchatterjee@google.com, elvinzhu@google.com \\\n",
    "<img src=\"img/google-cloud-icon.jpg\" alt=\"Drawing\" style=\"width: 200px;\"/>"
   ]
  },
  {
   "cell_type": "markdown",
   "metadata": {
    "tags": []
   },
   "source": [
    "### Import packages"
   ]
  },
  {
   "cell_type": "code",
   "execution_count": 2,
   "metadata": {},
   "outputs": [
    {
     "name": "stdout",
     "output_type": "stream",
     "text": [
      "\u001b[33m  WARNING: The script tensorboard is installed in '/home/jupyter/.local/bin' which is not on PATH.\n",
      "  Consider adding this directory to PATH or, if you prefer to suppress this warning, use --no-warn-script-location.\u001b[0m\n",
      "\u001b[31mERROR: pip's dependency resolver does not currently take into account all the packages that are installed. This behaviour is the source of the following dependency conflicts.\n",
      "tensorflow-io 0.18.0 requires tensorflow-io-gcs-filesystem==0.18.0, which is not installed.\n",
      "explainable-ai-sdk 1.3.2 requires xai-image-widget, which is not installed.\n",
      "tensorflow-transform 1.3.0 requires absl-py<0.13,>=0.9, but you have absl-py 0.14.1 which is incompatible.\n",
      "tensorflow-transform 1.3.0 requires pyarrow<3,>=1, but you have pyarrow 5.0.0 which is incompatible.\n",
      "tensorflow-io 0.18.0 requires tensorflow<2.6.0,>=2.5.0, but you have tensorflow 2.6.0 which is incompatible.\n",
      "pandas-profiling 3.0.0 requires tangled-up-in-unicode==0.1.0, but you have tangled-up-in-unicode 0.2.0 which is incompatible.\n",
      "cloud-tpu-client 0.10 requires google-api-python-client==1.8.0, but you have google-api-python-client 2.24.0 which is incompatible.\n",
      "black 21.9b0 requires typing-extensions>=3.10.0.0, but you have typing-extensions 3.7.4.3 which is incompatible.\n",
      "apache-beam 2.33.0 requires dill<0.3.2,>=0.3.1.1, but you have dill 0.3.4 which is incompatible.\n",
      "apache-beam 2.33.0 requires httplib2<0.20.0,>=0.8, but you have httplib2 0.20.1 which is incompatible.\n",
      "apache-beam 2.33.0 requires pyarrow<5.0.0,>=0.15.1, but you have pyarrow 5.0.0 which is incompatible.\u001b[0m\n",
      "Beginning update. This process may take several minutes.\n",
      "\u001b[1;31mERROR:\u001b[0m (gcloud.components.update) \n",
      "You cannot perform this action because the Cloud SDK component manager \n",
      "is disabled for this installation. You can run the following command \n",
      "to achieve the same result for this installation: \n",
      "\n",
      "sudo apt-get update && sudo apt-get --only-upgrade install google-cloud-sdk-cbt google-cloud-sdk-app-engine-grpc google-cloud-sdk-kpt google-cloud-sdk-cloud-build-local google-cloud-sdk-pubsub-emulator google-cloud-sdk-app-engine-python-extras google-cloud-sdk-firestore-emulator google-cloud-sdk-spanner-emulator google-cloud-sdk-anthos-auth google-cloud-sdk-app-engine-python google-cloud-sdk-gke-gcloud-auth-plugin google-cloud-sdk-datastore-emulator google-cloud-sdk-minikube google-cloud-sdk-local-extract google-cloud-sdk-terraform-validator google-cloud-sdk-datalab google-cloud-sdk-skaffold google-cloud-sdk-app-engine-java google-cloud-sdk-bigtable-emulator kubectl google-cloud-sdk-config-connector google-cloud-sdk-kubectl-oidc google-cloud-sdk-app-engine-go google-cloud-sdk\n",
      "\n",
      "\n"
     ]
    }
   ],
   "source": [
    "!cd /home/jupyter/vapit/ai-platform-tf/Vertex\n",
    "!python3 -m pip install -r ./requirements-tf26.txt -U -q --user\n",
    "!python3 -m pip install -U -q google-cloud-aiplatform\n",
    "!python3 -m pip install -U -q google-cloud-storage==1.32\n",
    "!gcloud components update --quiet\n",
    "!python3 -m pip install -U -q build\n"
   ]
  },
  {
   "cell_type": "code",
   "execution_count": 3,
   "metadata": {},
   "outputs": [
    {
     "name": "stdout",
     "output_type": "stream",
     "text": [
      "2.6.0\n"
     ]
    }
   ],
   "source": [
    "import tensorflow as tf\n",
    "print(tf.__version__)"
   ]
  },
  {
   "cell_type": "markdown",
   "metadata": {},
   "source": [
    "### Create training application package\n",
    "\n",
    "The easiest (and recommended) way to create a training application package uses gcloud to package and upload the application when you submit your training job. This method allows you to create a very simple file structure. For this tutorial, the file structure of your training application package should appear similar to the following:\n",
    "\n",
    "```\n",
    "trainer/ \n",
    "    __init__.py\n",
    "    train.py\n",
    "    train_hpt.py\n",
    "```\n"
   ]
  },
  {
   "cell_type": "code",
   "execution_count": 4,
   "metadata": {},
   "outputs": [
    {
     "name": "stdout",
     "output_type": "stream",
     "text": [
      "Overwriting ./setup.py\n"
     ]
    }
   ],
   "source": [
    "%%writefile ./setup.py\n",
    "\n",
    "# python3\n",
    "# ==============================================================================\n",
    "# Copyright 2020 Google LLC. This software is provided as-is, without warranty\n",
    "# or representation for any use or purpose. Your use of it is subject to your\n",
    "# agreement with Google.\n",
    "# ==============================================================================\n",
    "\n",
    "from setuptools import find_packages\n",
    "from setuptools import setup\n",
    "\n",
    "REQUIRED_PACKAGES = [\n",
    "    'tensorflow==2.6.0',\n",
    "    'numpy==1.18.0',\n",
    "    'pandas==1.2.1',\n",
    "    'scipy==1.4.1',\n",
    "    'scikit-learn==0.22',\n",
    "    'google-cloud-storage==1.23.0',\n",
    "    'xgboost==1.3.3',\n",
    "    'cloudml-hypertune',\n",
    "    ]\n",
    " \n",
    "setup(\n",
    "    name='trainer',\n",
    "    version='0.1',\n",
    "    install_requires=REQUIRED_PACKAGES,\n",
    "    packages=find_packages(),\n",
    "    include_package_data=True,\n",
    "    description='Trainer package for XGBoost Task'\n",
    ")\n"
   ]
  },
  {
   "cell_type": "code",
   "execution_count": 5,
   "metadata": {},
   "outputs": [],
   "source": [
    "# Create the tf_trainer directory and load the trainer files in it\n",
    "!mkdir -p trainer"
   ]
  },
  {
   "cell_type": "code",
   "execution_count": 6,
   "metadata": {},
   "outputs": [
    {
     "name": "stdout",
     "output_type": "stream",
     "text": [
      "Overwriting ./trainer/__init__.py\n"
     ]
    }
   ],
   "source": [
    "%%writefile ./trainer/__init__.py\n",
    "\n",
    "# python3\n",
    "# ==============================================================================\n",
    "# Copyright 2020 Google LLC. This software is provided as-is, without warranty\n",
    "# or representation for any use or purpose. Your use of it is subject to your\n",
    "# agreement with Google.\n",
    "# ==============================================================================\n"
   ]
  },
  {
   "cell_type": "code",
   "execution_count": 7,
   "metadata": {},
   "outputs": [
    {
     "name": "stdout",
     "output_type": "stream",
     "text": [
      "Overwriting ./trainer/train.py\n"
     ]
    }
   ],
   "source": [
    "%%writefile ./trainer/train.py\n",
    "\n",
    "# python3\n",
    "# ==============================================================================\n",
    "# Copyright 2020 Google LLC. This software is provided as-is, without warranty\n",
    "# or representation for any use or purpose. Your use of it is subject to your\n",
    "# agreement with Google.\n",
    "# ==============================================================================\n",
    "\n",
    "import argparse\n",
    "import json\n",
    "import hypertune\n",
    "import os\n",
    "import warnings\n",
    "\n",
    "import datetime as datetime\n",
    "import numpy as np\n",
    "import pandas as pd\n",
    "import tensorflow as tf\n",
    "\n",
    "from pytz import timezone\n",
    "\n",
    "# from .trainer import model\n",
    "# from .trainer import inputs\n",
    "\n",
    "warnings.filterwarnings(\"ignore\")\n",
    "\n",
    "#0 = all messages are logged (default behavior)\n",
    "#1 = INFO messages are not printed\n",
    "#2 = INFO and WARNING messages are not printed\n",
    "#3 = INFO, WARNING, and ERROR messages are not printed\n",
    "os.environ['TF_CPP_MIN_LOG_LEVEL'] = '3' \n",
    "\n",
    "def parse_arguments():\n",
    "    \"\"\"Argument parser.\n",
    "    Returns:\n",
    "      Dictionary of arguments.\n",
    "    \"\"\"\n",
    "\n",
    "    parser = argparse.ArgumentParser()\n",
    "    parser.add_argument('--depth', default=3, type=int, \n",
    "                        help='Hyperparameter: depth of network')\n",
    "    parser.add_argument('--dropout_rate', default=0.02, type=float, \n",
    "                        help='Hyperparameter: Drop out rate')\n",
    "    parser.add_argument('--learning_rate', default=0.0001, type=float, \n",
    "                        help='Hyperparameter: initial learning rate')\n",
    "    parser.add_argument('--batch_size', default=4, type=int, \n",
    "                        help='Hyperparameter: batch size of the deep network')\n",
    "    parser.add_argument('--epochs', default=1, type=int, \n",
    "                        help='number of epochs.')\n",
    "    parser.add_argument('--job-dir', default=\"\",\n",
    "                        help='Directory to store model checkpoints and logs.')\n",
    "    parser.add_argument('--train_feature_name', default=\"\",\n",
    "                        help='GCS path to train feature csv.')\n",
    "    parser.add_argument('--test_feature_name', default=\"\",\n",
    "                        help='GCS path to test feature csv.')\n",
    "    parser.add_argument('--train_label_name', default=\"\",\n",
    "                        help='GCS path to train label csv.')\n",
    "    parser.add_argument('--test_label_name', default=\"\",\n",
    "                        help='GCS path to test label csv.')\n",
    "    parser.add_argument('--verbosity', choices=['DEBUG','ERROR','FATAL','INFO','WARN'],\n",
    "                        default='FATAL')\n",
    "    args, _ = parser.parse_known_args()\n",
    "    return args\n",
    "\n",
    "def tf_model(input_dim, output_dim, depth, dropout_rate):\n",
    "    from tensorflow.keras.models import Sequential\n",
    "    from tensorflow.keras.layers import Dense, Dropout\n",
    "\n",
    "    decr = int((input_dim-output_dim-16)/depth) ^ 1\n",
    "\n",
    "    model = Sequential()\n",
    "    model.add(Dense(128, input_dim=input_dim, activation=tf.nn.relu))\n",
    "    for i in range(1,depth):\n",
    "        model.add(Dense(input_dim-i*decr, activation=tf.nn.relu, kernel_regularizer='l2'))\n",
    "    model.add(Dropout(dropout_rate))\n",
    "    model.add(Dense(output_dim, activation=tf.nn.softmax))\n",
    "    print(model.summary())\n",
    "\n",
    "    return model\n",
    "\n",
    "# def custom_loss(y_true, y_pred):\n",
    "#     custom_loss = mean(square(y_true - y_pred), axis=-1)\n",
    "#     return custom_loss\n",
    "\n",
    "# def custom_metric(y_true, y_pred):\n",
    "#     custom_metric = mean(square(y_true - y_pred), axis=-1)\n",
    "#     return custom_metric\n",
    "\n",
    "def get_callbacks(args, early_stop_patience: int = 3):\n",
    "    \"\"\"Creates Keras callbacks for model training.\"\"\"\n",
    "\n",
    "    # Get trialId\n",
    "    trialId = json.loads(os.environ.get(\"TF_CONFIG\", \"{}\")).get(\"task\", {}).get(\"trial\", \"\")\n",
    "    if trialId == '':\n",
    "        trialId = '0'\n",
    "    print(\"trialId=\", trialId)\n",
    "\n",
    "    curTime = datetime.datetime.now(timezone('US/Pacific')).strftime('%H%M%S')\n",
    "    \n",
    "    # Modify model_dir paths to include trialId\n",
    "    model_dir = args.job_dir + \"/checkpoints/cp-\"+curTime+\"-\"+trialId+\"-{val_accuracy:.4f}\"\n",
    "    log_dir   = args.job_dir + \"/log_dir\"\n",
    "\n",
    "    tensorboard_cb = tf.keras.callbacks.TensorBoard(log_dir, histogram_freq=1)\n",
    "    checkpoint_cb  = tf.keras.callbacks.ModelCheckpoint(model_dir, monitor='val_accuracy', mode='max', \n",
    "                                                        verbose=0, save_best_only=True,\n",
    "                                                        save_weights_only=False)\n",
    "    earlystop_cb   = tf.keras.callbacks.EarlyStopping(monitor='val_accuracy', patience=3)\n",
    "\n",
    "    return [checkpoint_cb, tensorboard_cb, earlystop_cb]\n",
    "\n",
    "\n",
    "if __name__ == \"__main__\":\n",
    "\n",
    "    args = parse_arguments()\n",
    "    print(args)\n",
    "    print(\"Input and pre-process data ...\")   \n",
    "    x_train = pd.read_csv(args.train_feature_name)\n",
    "    y_train = pd.read_csv(args.train_label_name, header=None)\n",
    "    x_test = pd.read_csv(args.test_feature_name)\n",
    "    y_test = pd.read_csv(args.test_label_name, header=None)\n",
    "\n",
    "    print(\"Shapes:\")\n",
    "    print(x_train.shape)\n",
    "    print(y_train.shape)\n",
    "    # Train model\n",
    "    print(\"Creating model ...\")\n",
    "    model = tf_model(x_train.shape[1], y_train.shape[1], \n",
    "                              depth=args.depth,\n",
    "                              dropout_rate=args.dropout_rate)\n",
    "    \n",
    "    model.compile(optimizer=tf.keras.optimizers.Adam(lr=args.learning_rate),\n",
    "                     loss='mean_squared_error',\n",
    "                     metrics=['accuracy'])\n",
    "    \n",
    "    print(\"Fitting model ...\")\n",
    "    callbacks = get_callbacks(args, 3)\n",
    "    hist = model.fit(np.array(x_train), np.array(y_train), \n",
    "                         epochs=args.epochs,\n",
    "                         batch_size=args.batch_size,\n",
    "                         validation_data=(np.array(x_test),y_test),\n",
    "                         callbacks=callbacks)\n",
    "\n",
    "    # TBD save history for visualization\n",
    "    final_epoch_accuracy = hist.history['accuracy'][-1]\n",
    "    final_epoch_count = len(hist.history['accuracy'])\n",
    "\n",
    "    print('final_epoch_accuracy = %.6f' % final_epoch_accuracy)\n",
    "    print('final_epoch_count = %2d' % final_epoch_count)\n",
    "\n",
    "    model.save(args.job_dir)\n"
   ]
  },
  {
   "cell_type": "code",
   "execution_count": 8,
   "metadata": {},
   "outputs": [],
   "source": [
    "# Create the tf directory and load the trainer files in it\n",
    "!cp ./trainer/train.py ./trainer/train_hpt.py\n"
   ]
  },
  {
   "cell_type": "code",
   "execution_count": 9,
   "metadata": {},
   "outputs": [
    {
     "name": "stdout",
     "output_type": "stream",
     "text": [
      "Appending to ./trainer/train_hpt.py\n"
     ]
    }
   ],
   "source": [
    "%%writefile -a ./trainer/train_hpt.py\n",
    "\n",
    "    \"\"\"This method updates a CAIP HPTuning Job with a final metric for the job.\n",
    "    In TF2.X the user must either use hypertune or a custom callback with\n",
    "    tf.summary.scalar to update CAIP HP Tuning jobs. This function uses\n",
    "    hypertune, which appears to be the preferred solution. Hypertune also works\n",
    "    with containers, without code change.\n",
    "    Args:\n",
    "        metric_tag: The metric being optimized.  This MUST MATCH the\n",
    "          hyperparameterMetricTag specificed in the hyperparameter tuning yaml.\n",
    "        metric_value: The value to report at the end of model training.\n",
    "        global_step: An int value to specify the number of trainin steps completed\n",
    "          at the time the metric was reported.\n",
    "    \"\"\"\n",
    "    \n",
    "    # The default name of the metric is training/hptuning/metric. \n",
    "    # We recommend that you assign a custom name. The only functional difference is that \n",
    "    # if you use a custom name, you must set the hyperparameterMetricTag value in the \n",
    "    # HyperparameterSpec object in your job request to match your chosen name.\n",
    "    # https://cloud.google.com/ml-engine/reference/rest/v1/projects.jobs#HyperparameterSpec\n",
    "    hpt = hypertune.HyperTune()\n",
    "    hpt.report_hyperparameter_tuning_metric(\n",
    "        metric_value=final_epoch_accuracy,\n",
    "        hyperparameter_metric_tag='accuracy',\n",
    "        global_step=final_epoch_count\n",
    "    )"
   ]
  },
  {
   "cell_type": "code",
   "execution_count": 10,
   "metadata": {},
   "outputs": [
    {
     "data": {
      "text/plain": [
       "{'status': 'ok', 'restart': True}"
      ]
     },
     "execution_count": 10,
     "metadata": {},
     "output_type": "execute_result"
    }
   ],
   "source": [
    "# Automatically restart kernel after installs\n",
    "import IPython\n",
    "app = IPython.Application.instance()\n",
    "app.kernel.do_shutdown(True)  "
   ]
  },
  {
   "cell_type": "code",
   "execution_count": 10,
   "metadata": {},
   "outputs": [],
   "source": [
    "# Import packages\n",
    "\n",
    "import json\n",
    "import logging\n",
    "import pandas as pd\n",
    "import numpy as np\n",
    "from datetime import datetime\n",
    "from pytz import timezone\n",
    "from googleapiclient import discovery\n",
    "from google.cloud import aiplatform"
   ]
  },
  {
   "cell_type": "markdown",
   "metadata": {},
   "source": [
    "### Configure Global Variables"
   ]
  },
  {
   "cell_type": "markdown",
   "metadata": {},
   "source": [
    "List your current GCP project name"
   ]
  },
  {
   "cell_type": "code",
   "execution_count": 11,
   "metadata": {},
   "outputs": [
    {
     "data": {
      "text/plain": [
       "['cchatterjee-sandbox']"
      ]
     },
     "execution_count": 11,
     "metadata": {},
     "output_type": "execute_result"
    }
   ],
   "source": [
    "project_id = !gcloud config list --format 'value(core.project)' 2>/dev/null\n",
    "project_id"
   ]
  },
  {
   "cell_type": "markdown",
   "metadata": {},
   "source": [
    "Configure your system variables"
   ]
  },
  {
   "cell_type": "code",
   "execution_count": 12,
   "metadata": {},
   "outputs": [],
   "source": [
    "# Configure your global variables\n",
    "PROJECT = project_id[0]  # Replace with your project ID\n",
    "USER = 'cchatterjee'             # Replace with your user name\n",
    "BUCKET_NAME = 'vapit_data'       # Replace with your gcs bucket name - gloablly unique\n",
    "\n",
    "FOLDER_NAME = 'tf_models'\n",
    "TIMEZONE = 'US/Pacific'\n",
    "REGION = 'us-central1'\n",
    "PACKAGE_URIS = f\"gs://{BUCKET_NAME}/trainer/tensorflow/trainer-0.1.tar.gz\" \n",
    "TRAIN_FEATURE_PATH = f\"gs://{BUCKET_NAME}/tf_data/mortgage_structured_x_train.csv\" \n",
    "TRAIN_LABEL_PATH = f\"gs://{BUCKET_NAME}/tf_data/mortgage_structured_y_train.csv\" \n",
    "TEST_FEATURE_PATH = f\"gs://{BUCKET_NAME}/tf_data/mortgage_structured_x_test.csv\" \n",
    "TEST_LABEL_PATH = f\"gs://{BUCKET_NAME}/tf_data/mortgage_structured_y_test.csv\"\n"
   ]
  },
  {
   "cell_type": "markdown",
   "metadata": {},
   "source": [
    "### Authenticate your GCP account\n",
    "\n",
    "This is required if you run the notebook in Colab"
   ]
  },
  {
   "cell_type": "code",
   "execution_count": 13,
   "metadata": {},
   "outputs": [],
   "source": [
    "try:\n",
    "    from google.colab import auth\n",
    "    auth.authenticate_user()\n",
    "    print(\"Colab user is authenticated.\")\n",
    "except: pass"
   ]
  },
  {
   "cell_type": "markdown",
   "metadata": {},
   "source": [
    "Create your bucket"
   ]
  },
  {
   "cell_type": "code",
   "execution_count": 14,
   "metadata": {},
   "outputs": [
    {
     "name": "stdout",
     "output_type": "stream",
     "text": [
      "Creating gs://vapit_data/...\n",
      "ServiceException: 409 A Cloud Storage bucket named 'vapit_data' already exists. Try another name. Bucket names must be globally unique across all Google Cloud projects, including those outside of your organization.\n"
     ]
    }
   ],
   "source": [
    "!gsutil mb -l $REGION gs://$BUCKET_NAME "
   ]
  },
  {
   "cell_type": "markdown",
   "metadata": {},
   "source": [
    "Build python package and upload to your bucket"
   ]
  },
  {
   "cell_type": "code",
   "execution_count": 15,
   "metadata": {},
   "outputs": [
    {
     "name": "stdout",
     "output_type": "stream",
     "text": [
      "\u001b[1m* Creating virtualenv isolated environment...\u001b[0m\n",
      "DEBUG:filelock:Attempting to acquire lock 140390617913680 on /home/jupyter/.local/share/virtualenv/wheel/3.7/image/1/CopyPipInstall/pip-21.2.4-py3-none-any.lock\n",
      "DEBUG:filelock:Lock 140390617913680 acquired on /home/jupyter/.local/share/virtualenv/wheel/3.7/image/1/CopyPipInstall/pip-21.2.4-py3-none-any.lock\n",
      "DEBUG:filelock:Attempting to release lock 140390617913680 on /home/jupyter/.local/share/virtualenv/wheel/3.7/image/1/CopyPipInstall/pip-21.2.4-py3-none-any.lock\n",
      "DEBUG:filelock:Lock 140390617913680 released on /home/jupyter/.local/share/virtualenv/wheel/3.7/image/1/CopyPipInstall/pip-21.2.4-py3-none-any.lock\n",
      "\u001b[1m* Installing packages in isolated environment... (setuptools >= 40.8.0, wheel)\u001b[0m\n",
      "\u001b[1m* Getting dependencies for sdist...\u001b[0m\n",
      "running egg_info\n",
      "creating trainer.egg-info\n",
      "writing trainer.egg-info/PKG-INFO\n",
      "writing dependency_links to trainer.egg-info/dependency_links.txt\n",
      "writing requirements to trainer.egg-info/requires.txt\n",
      "writing top-level names to trainer.egg-info/top_level.txt\n",
      "writing manifest file 'trainer.egg-info/SOURCES.txt'\n",
      "reading manifest file 'trainer.egg-info/SOURCES.txt'\n",
      "writing manifest file 'trainer.egg-info/SOURCES.txt'\n",
      "\u001b[1m* Building sdist...\u001b[0m\n",
      "running sdist\n",
      "running egg_info\n",
      "writing trainer.egg-info/PKG-INFO\n",
      "writing dependency_links to trainer.egg-info/dependency_links.txt\n",
      "writing requirements to trainer.egg-info/requires.txt\n",
      "writing top-level names to trainer.egg-info/top_level.txt\n",
      "reading manifest file 'trainer.egg-info/SOURCES.txt'\n",
      "writing manifest file 'trainer.egg-info/SOURCES.txt'\n",
      "warning: sdist: standard file not found: should have one of README, README.rst, README.txt, README.md\n",
      "\n",
      "running check\n",
      "warning: check: missing required meta-data: url\n",
      "\n",
      "warning: check: missing meta-data: either (author and author_email) or (maintainer and maintainer_email) must be supplied\n",
      "\n",
      "creating trainer-0.1\n",
      "creating trainer-0.1/trainer\n",
      "creating trainer-0.1/trainer.egg-info\n",
      "copying files to trainer-0.1...\n",
      "copying setup.py -> trainer-0.1\n",
      "copying trainer/__init__.py -> trainer-0.1/trainer\n",
      "copying trainer/train.py -> trainer-0.1/trainer\n",
      "copying trainer/train_hpt.py -> trainer-0.1/trainer\n",
      "copying trainer.egg-info/PKG-INFO -> trainer-0.1/trainer.egg-info\n",
      "copying trainer.egg-info/SOURCES.txt -> trainer-0.1/trainer.egg-info\n",
      "copying trainer.egg-info/dependency_links.txt -> trainer-0.1/trainer.egg-info\n",
      "copying trainer.egg-info/requires.txt -> trainer-0.1/trainer.egg-info\n",
      "copying trainer.egg-info/top_level.txt -> trainer-0.1/trainer.egg-info\n",
      "Writing trainer-0.1/setup.cfg\n",
      "Creating tar archive\n",
      "removing 'trainer-0.1' (and everything under it)\n",
      "\u001b[1m* Building wheel from sdist\u001b[0m\n",
      "\u001b[1m* Creating virtualenv isolated environment...\u001b[0m\n",
      "DEBUG:filelock:Attempting to acquire lock 140390618053328 on /home/jupyter/.local/share/virtualenv/wheel/3.7/image/1/CopyPipInstall/pip-21.2.4-py3-none-any.lock\n",
      "DEBUG:filelock:Lock 140390618053328 acquired on /home/jupyter/.local/share/virtualenv/wheel/3.7/image/1/CopyPipInstall/pip-21.2.4-py3-none-any.lock\n",
      "DEBUG:filelock:Attempting to release lock 140390618053328 on /home/jupyter/.local/share/virtualenv/wheel/3.7/image/1/CopyPipInstall/pip-21.2.4-py3-none-any.lock\n",
      "DEBUG:filelock:Lock 140390618053328 released on /home/jupyter/.local/share/virtualenv/wheel/3.7/image/1/CopyPipInstall/pip-21.2.4-py3-none-any.lock\n",
      "\u001b[1m* Installing packages in isolated environment... (setuptools >= 40.8.0, wheel)\u001b[0m\n",
      "\u001b[1m* Getting dependencies for wheel...\u001b[0m\n",
      "running egg_info\n",
      "writing trainer.egg-info/PKG-INFO\n",
      "writing dependency_links to trainer.egg-info/dependency_links.txt\n",
      "writing requirements to trainer.egg-info/requires.txt\n",
      "writing top-level names to trainer.egg-info/top_level.txt\n",
      "reading manifest file 'trainer.egg-info/SOURCES.txt'\n",
      "writing manifest file 'trainer.egg-info/SOURCES.txt'\n",
      "\u001b[1m* Installing packages in isolated environment... (wheel)\u001b[0m\n",
      "\u001b[1m* Building wheel...\u001b[0m\n",
      "running bdist_wheel\n",
      "running build\n",
      "running build_py\n",
      "creating build\n",
      "creating build/lib\n",
      "creating build/lib/trainer\n",
      "copying trainer/train.py -> build/lib/trainer\n",
      "copying trainer/__init__.py -> build/lib/trainer\n",
      "copying trainer/train_hpt.py -> build/lib/trainer\n",
      "running egg_info\n",
      "writing trainer.egg-info/PKG-INFO\n",
      "writing dependency_links to trainer.egg-info/dependency_links.txt\n",
      "writing requirements to trainer.egg-info/requires.txt\n",
      "writing top-level names to trainer.egg-info/top_level.txt\n",
      "reading manifest file 'trainer.egg-info/SOURCES.txt'\n",
      "writing manifest file 'trainer.egg-info/SOURCES.txt'\n",
      "installing to build/bdist.linux-x86_64/wheel\n",
      "running install\n",
      "running install_lib\n",
      "creating build/bdist.linux-x86_64\n",
      "creating build/bdist.linux-x86_64/wheel\n",
      "creating build/bdist.linux-x86_64/wheel/trainer\n",
      "copying build/lib/trainer/train.py -> build/bdist.linux-x86_64/wheel/trainer\n",
      "copying build/lib/trainer/__init__.py -> build/bdist.linux-x86_64/wheel/trainer\n",
      "copying build/lib/trainer/train_hpt.py -> build/bdist.linux-x86_64/wheel/trainer\n",
      "running install_egg_info\n",
      "Copying trainer.egg-info to build/bdist.linux-x86_64/wheel/trainer-0.1-py3.7.egg-info\n",
      "running install_scripts\n",
      "creating build/bdist.linux-x86_64/wheel/trainer-0.1.dist-info/WHEEL\n",
      "creating '/home/jupyter/vapit/ai-platform-tf/Vertex/dist/tmp7eg9tp3h/trainer-0.1-py3-none-any.whl' and adding 'build/bdist.linux-x86_64/wheel' to it\n",
      "adding 'trainer/__init__.py'\n",
      "adding 'trainer/train.py'\n",
      "adding 'trainer/train_hpt.py'\n",
      "adding 'trainer-0.1.dist-info/METADATA'\n",
      "adding 'trainer-0.1.dist-info/WHEEL'\n",
      "adding 'trainer-0.1.dist-info/top_level.txt'\n",
      "adding 'trainer-0.1.dist-info/RECORD'\n",
      "removing build/bdist.linux-x86_64/wheel\n",
      "\u001b[1m\u001b[92mSuccessfully built \u001b[4mtrainer-0.1.tar.gz\u001b[0m\u001b[1m\u001b[92m and \u001b[4mtrainer-0.1-py3-none-any.whl\u001b[0m\u001b[1m\u001b[92m\u001b[0m\n",
      "\u001b[0mCopying file://./dist/trainer-0.1.tar.gz [Content-Type=application/x-tar]...\n",
      "/ [1 files][  3.5 KiB/  3.5 KiB]                                                \n",
      "Operation completed over 1 objects/3.5 KiB.                                      \n"
     ]
    }
   ],
   "source": [
    "!cd /home/jupyter/vapit/ai-platform-tf/Vertex\n",
    "!python3 -m build\n",
    "!gsutil cp ./dist/trainer-0.1.tar.gz $PACKAGE_URIS"
   ]
  },
  {
   "cell_type": "code",
   "execution_count": 16,
   "metadata": {},
   "outputs": [],
   "source": [
    "# freddie mac public mortgage data (Don't change it)\n",
    "INPUT_DATA = \"gs://tuti_asset/datasets/mortgage_structured.csv\" # public mortgage data \n",
    "TARGET_COLUMN = \"TARGET\" # Column name for target labels"
   ]
  },
  {
   "cell_type": "markdown",
   "metadata": {},
   "source": [
    "-----------\n",
    "### Special functions\n"
   ]
  },
  {
   "cell_type": "code",
   "execution_count": 17,
   "metadata": {},
   "outputs": [],
   "source": [
    "#------\n",
    "def find_best_model_dir(model_dir, offset=1, maxFlag=1):\n",
    "    # Get a list of model directories\n",
    "    all_models = ! gsutil ls $model_dir\n",
    "    print(\"\")\n",
    "    print(\"All Models = \")\n",
    "    print(*all_models, sep='\\n')\n",
    "\n",
    "    # Check if model dirs exist\n",
    "    if ((\"CommandException\" in all_models[0]) or (len(all_models) <= 1)):\n",
    "        print(\"Create the models first.\")\n",
    "        return \"\"\n",
    "\n",
    "    # Find the best model from checkpoints\n",
    "    import re\n",
    "    best_acc = -np.Inf\n",
    "    if (maxFlag != 1):\n",
    "        best_acc = np.Inf\n",
    "    best_model_dir = \"\"\n",
    "    tup_list = []\n",
    "    for i in range(1,len(all_models)):\n",
    "        all_floats = re.findall(r\"[-+]?\\d*\\.\\d+|\\d+\", all_models[i]) #Find the floats in the string\n",
    "        cur_acc = -float(all_floats[-offset]) #which item is the model optimization metric\n",
    "        tup_list.append([all_models[i],cur_acc])\n",
    "        if (maxFlag*(cur_acc > best_acc) or (1-maxFlag)*(cur_acc < best_acc)):\n",
    "            best_acc = cur_acc\n",
    "            best_model_dir = all_models[i]\n",
    "    if maxFlag:\n",
    "        tup_list.sort(key=lambda tup: tup[1], reverse=False)\n",
    "    else:\n",
    "        tup_list.sort(key=lambda tup: tup[1], reverse=True)\n",
    "    #for i in range(len(tup_list)):\n",
    "    #    print(tup_list[i][0])\n",
    "    print(\"Best Accuracy  from Checkpoints = \", best_acc)\n",
    "    print(\"Best Model Dir from Checkpoints = \", best_model_dir)\n",
    "    \n",
    "    return best_model_dir\n"
   ]
  },
  {
   "cell_type": "markdown",
   "metadata": {},
   "source": [
    "-----------\n",
    "### Dataset preprocessing\n",
    "\n",
    "Preprocess input data by\n",
    "\n",
    "    1. Dropping unique ID column;\n",
    "    2. Convert categorical into one-hot encodings;\n",
    "    3. Count number of unique classes;\n",
    "    4. Split train/test\n",
    "    5. Save process data into gcs"
   ]
  },
  {
   "cell_type": "code",
   "execution_count": 18,
   "metadata": {},
   "outputs": [
    {
     "name": "stdout",
     "output_type": "stream",
     "text": [
      "INFO:root:Preprocessing raw data:\n",
      "INFO:root: => Drop id column:\n",
      "INFO:root: => One hot encoding categorical features\n",
      "INFO:root: => Count number of classes\n",
      "INFO:root: => Perform train/test split\n",
      "INFO:root:Reading raw data file: gs://tuti_asset/datasets/mortgage_structured.csv\n",
      "INFO:root:Drop unique id column which is not an useful feature for ML: LOAN_SEQUENCE_NUMBER\n",
      "INFO:root:Convert categorical columns into one-hot encodings\n",
      "INFO:root:categorical feature: first_time_home_buyer_flag\n",
      "INFO:root:categorical feature: occupancy_status\n",
      "INFO:root:categorical feature: channel\n",
      "INFO:root:categorical feature: property_state\n",
      "INFO:root:categorical feature: property_type\n",
      "INFO:root:categorical feature: loan_purpose\n",
      "INFO:root:categorical feature: seller_name\n",
      "INFO:root:categorical feature: service_name\n",
      "INFO:root:Count number of unique classes ...\n",
      "INFO:root:No. of Classes: 4\n",
      "INFO:root:Perform train/test split ...\n",
      "INFO:root:Get feature/label shapes ...\n",
      "INFO:root:x_train shape = (93639, 149)\n",
      "INFO:root:x_test shape = (10405, 149)\n",
      "INFO:root:y_train shape = (93639,)\n",
      "INFO:root:y_test shape = (10405,)\n",
      "INFO:root:Saving data ...\n",
      "INFO:root:x_train saved to gs://vapit_data/tf_data/mortgage_structured_x_train.csv\n",
      "INFO:root:y_train saved to gs://vapit_data/tf_data/mortgage_structured_y_train.csv\n",
      "INFO:root:x_test saved to gs://vapit_data/tf_data/mortgage_structured_x_test.csv\n",
      "INFO:root:y_test saved to gs://vapit_data/tf_data/mortgage_structured_y_test.csv\n",
      "INFO:root:finished\n"
     ]
    }
   ],
   "source": [
    "!python3 preprocessing.py \\\n",
    "    --input_file $INPUT_DATA \\\n",
    "    --x_train_name $TRAIN_FEATURE_PATH \\\n",
    "    --x_test_name $TEST_FEATURE_PATH \\\n",
    "    --y_train_name $TRAIN_LABEL_PATH \\\n",
    "    --y_test_name $TEST_LABEL_PATH \\\n",
    "    --target_column $TARGET_COLUMN"
   ]
  },
  {
   "cell_type": "markdown",
   "metadata": {},
   "source": [
    "------\n",
    "### Training with Google Vertex AI "
   ]
  },
  {
   "cell_type": "markdown",
   "metadata": {},
   "source": [
    "For the full article, please visit: https://cloud.google.com/vertex-ai/docs\n",
    "\n",
    "Where Vertex AI fits in the ML workflow \\\n",
    "The diagram below gives a high-level overview of the stages in an ML workflow. The blue-filled boxes indicate where Vertex AI provides managed services and APIs:\n",
    "\n",
    "<img src=\"img/ml-workflow.svg\" alt=\"Drawing\">\n",
    "\n",
    "As the diagram indicates, you can use Vertex AI to manage the following stages in the ML workflow:\n",
    "\n",
    "- Train an ML model on your data:\n",
    " - Train model\n",
    " - Evaluate model accuracy\n",
    " - Tune hyperparameters\n",
    " \n",
    " \n",
    "- Deploy your trained model.\n",
    "\n",
    "- Send prediction requests to your model:\n",
    " - Online prediction\n",
    " - Batch prediction (for TensorFlow only)\n",
    " \n",
    " \n",
    "- Monitor the predictions on an ongoing basis.\n",
    "\n",
    "- Manage your models and model versions.\n",
    "\n",
    "- For the latest list, see \n",
    "  - Pre-built containers for training: https://cloud.google.com/vertex-ai/docs/training/pre-built-containers\n",
    "    and \n",
    "  - Pre-built containers for prediction: https://cloud.google.com/vertex-ai/docs/predictions/pre-built-containers\n"
   ]
  },
  {
   "cell_type": "markdown",
   "metadata": {},
   "source": [
    "#### Train at local\n",
    "\n",
    "Before submitting training jobs to Cloud AI Platform, you can test your train.py code in the local environment. You can test by running your python script in command line, but another and maybe better choice is to use `gcloud ai-platform local train` command. The latter method could make sure your your entire python package are ready to be submitted to the remote VMs."
   ]
  },
  {
   "cell_type": "code",
   "execution_count": 19,
   "metadata": {},
   "outputs": [
    {
     "name": "stdout",
     "output_type": "stream",
     "text": [
      "Namespace(batch_size=4, depth=3, dropout_rate=0.02, epochs=1, job_dir='./models', learning_rate=0.0001, test_feature_name='gs://vapit_data/tf_data/mortgage_structured_x_test.csv', test_label_name='gs://vapit_data/tf_data/mortgage_structured_y_test.csv', train_feature_name='gs://vapit_data/tf_data/mortgage_structured_x_train.csv', train_label_name='gs://vapit_data/tf_data/mortgage_structured_y_train.csv', verbosity='FATAL')\n",
      "Input and pre-process data ...\n",
      "Shapes:\n",
      "(93639, 149)\n",
      "(93639, 4)\n",
      "Creating model ...\n",
      "Model: \"sequential\"\n",
      "_________________________________________________________________\n",
      "Layer (type)                 Output Shape              Param #   \n",
      "=================================================================\n",
      "dense (Dense)                (None, 128)               19200     \n",
      "_________________________________________________________________\n",
      "dense_1 (Dense)              (None, 107)               13803     \n",
      "_________________________________________________________________\n",
      "dense_2 (Dense)              (None, 65)                7020      \n",
      "_________________________________________________________________\n",
      "dropout (Dropout)            (None, 65)                0         \n",
      "_________________________________________________________________\n",
      "dense_3 (Dense)              (None, 4)                 264       \n",
      "=================================================================\n",
      "Total params: 40,287\n",
      "Trainable params: 40,287\n",
      "Non-trainable params: 0\n",
      "_________________________________________________________________\n",
      "None\n",
      "Fitting model ...\n",
      "trialId= 0\n",
      "23410/23410 [==============================] - 115s 5ms/step - loss: 0.2959 - accuracy: 0.4986 - val_loss: 0.0356 - val_accuracy: 0.9289\n",
      "final_epoch_accuracy = 0.498617\n",
      "final_epoch_count =  1\n"
     ]
    }
   ],
   "source": [
    "# Train on local machine with python command\n",
    "!python3 trainer/train.py \\\n",
    "    --job-dir ./models \\\n",
    "    --train_feature_name $TRAIN_FEATURE_PATH \\\n",
    "    --train_label_name $TRAIN_LABEL_PATH \\\n",
    "    --test_feature_name $TEST_FEATURE_PATH \\\n",
    "    --test_label_name $TEST_LABEL_PATH"
   ]
  },
  {
   "cell_type": "markdown",
   "metadata": {},
   "source": [
    "------\n",
    "### Hyperparameter Tuning\n",
    "\n",
    "To use hyperparameter tuning in your training job you must perform the following steps:\n",
    "\n",
    "- Specify the hyperparameter tuning configuration for your training job by including a HyperparameterSpec in your TrainingInput object.\n",
    "\n",
    "- Include the following code in your training application:\n",
    "\n",
    " - Parse the command-line arguments representing the hyperparameters you want to tune, and use the values to set the hyperparameters for your training trial.\n",
    " - Add your hyperparameter metric to the summary for your graph.\n"
   ]
  },
  {
   "cell_type": "code",
   "execution_count": 20,
   "metadata": {},
   "outputs": [
    {
     "name": "stdout",
     "output_type": "stream",
     "text": [
      "JOB_NAME_HPT =  tensorflow_train_cchatterjee_101721_1037_hpt\n",
      "JOB_DIR_HPT =  gs://vapit_data/tf_models/jobdir/model_101721_1037\n"
     ]
    }
   ],
   "source": [
    "# Google Vertex AI requires each job to have unique name, \n",
    "# Therefore, we use prefix + timestamp to form job names.\n",
    "JOBNAME_HPT = 'tensorflow_train_{}_{}_hpt'.format(\n",
    "    USER,\n",
    "    datetime.now(timezone(TIMEZONE)).strftime(\"%m%d%y_%H%M\")\n",
    "    ) # define unique job name\n",
    "\n",
    "# We use the job names as folder names to store outputs.\n",
    "JOB_DIR_HPT = 'gs://{}/{}/jobdir/{}'.format(\n",
    "    BUCKET_NAME,\n",
    "    FOLDER_NAME,\n",
    "    datetime.now(timezone(TIMEZONE)).strftime(\"model_%m%d%y_%H%M\")\n",
    "    )\n",
    "\n",
    "print(\"JOB_NAME_HPT = \", JOBNAME_HPT)\n",
    "print(\"JOB_DIR_HPT = \", JOB_DIR_HPT)\n"
   ]
  },
  {
   "cell_type": "markdown",
   "metadata": {},
   "source": [
    "### Submit the hyperparameter job to vertex AI"
   ]
  },
  {
   "cell_type": "code",
   "execution_count": 21,
   "metadata": {},
   "outputs": [
    {
     "name": "stdout",
     "output_type": "stream",
     "text": [
      "response: name: \"projects/901951554789/locations/us-central1/hyperparameterTuningJobs/2341033978372292608\"\n",
      "display_name: \"tensorflow_train_cchatterjee_101721_1037_hpt\"\n",
      "study_spec {\n",
      "  metrics {\n",
      "    metric_id: \"accuracy\"\n",
      "    goal: MAXIMIZE\n",
      "  }\n",
      "  parameters {\n",
      "    parameter_id: \"depth\"\n",
      "    integer_value_spec {\n",
      "      min_value: 1\n",
      "      max_value: 10\n",
      "    }\n",
      "    scale_type: UNIT_LINEAR_SCALE\n",
      "  }\n",
      "  parameters {\n",
      "    parameter_id: \"dropout_rate\"\n",
      "    double_value_spec {\n",
      "      min_value: 0.001\n",
      "      max_value: 0.1\n",
      "    }\n",
      "    scale_type: UNIT_LOG_SCALE\n",
      "  }\n",
      "  parameters {\n",
      "    parameter_id: \"learning_rate\"\n",
      "    double_value_spec {\n",
      "      min_value: 1e-05\n",
      "      max_value: 0.01\n",
      "    }\n",
      "    scale_type: UNIT_LOG_SCALE\n",
      "  }\n",
      "  parameters {\n",
      "    parameter_id: \"batch_size\"\n",
      "    integer_value_spec {\n",
      "      min_value: 1\n",
      "      max_value: 16\n",
      "    }\n",
      "    scale_type: UNIT_LINEAR_SCALE\n",
      "  }\n",
      "  parameters {\n",
      "    parameter_id: \"epochs\"\n",
      "    integer_value_spec {\n",
      "      min_value: 1\n",
      "      max_value: 5\n",
      "    }\n",
      "    scale_type: UNIT_LINEAR_SCALE\n",
      "  }\n",
      "}\n",
      "max_trial_count: 4\n",
      "parallel_trial_count: 2\n",
      "trial_job_spec {\n",
      "  worker_pool_specs {\n",
      "    machine_spec {\n",
      "      machine_type: \"n1-standard-4\"\n",
      "    }\n",
      "    replica_count: 1\n",
      "    disk_spec {\n",
      "      boot_disk_type: \"pd-ssd\"\n",
      "      boot_disk_size_gb: 100\n",
      "    }\n",
      "    python_package_spec {\n",
      "      executor_image_uri: \"us-docker.pkg.dev/vertex-ai/training/tf-cpu.2-2:latest\"\n",
      "      package_uris: \"gs://vapit_data/trainer/tensorflow/trainer-0.1.tar.gz\"\n",
      "      python_module: \"trainer.train_hpt\"\n",
      "      args: \"--job-dir\"\n",
      "      args: \"gs://vapit_data/tf_models/jobdir/model_101721_1037\"\n",
      "      args: \"--train_feature_name\"\n",
      "      args: \"gs://vapit_data/tf_data/mortgage_structured_x_train.csv\"\n",
      "      args: \"--train_label_name\"\n",
      "      args: \"gs://vapit_data/tf_data/mortgage_structured_y_train.csv\"\n",
      "      args: \"--test_feature_name\"\n",
      "      args: \"gs://vapit_data/tf_data/mortgage_structured_x_test.csv\"\n",
      "      args: \"--test_label_name\"\n",
      "      args: \"gs://vapit_data/tf_data/mortgage_structured_y_test.csv\"\n",
      "    }\n",
      "  }\n",
      "}\n",
      "state: JOB_STATE_PENDING\n",
      "create_time {\n",
      "  seconds: 1634492248\n",
      "  nanos: 810108000\n",
      "}\n",
      "update_time {\n",
      "  seconds: 1634492248\n",
      "  nanos: 810108000\n",
      "}\n",
      "\n"
     ]
    }
   ],
   "source": [
    "executor_image_uri = 'us-docker.pkg.dev/vertex-ai/training/tf-cpu.2-2:latest'\n",
    "python_module =  \"trainer.train_hpt\"\n",
    "api_endpoint = \"{}-aiplatform.googleapis.com\".format(REGION)\n",
    "machine_type = \"n1-standard-4\"\n",
    "\n",
    "# The AI Platform services require regional API endpoints.\n",
    "client_options = {\"api_endpoint\": api_endpoint}\n",
    "# Initialize client that will be used to create and send requests.\n",
    "# This client only needs to be created once, and can be reused for multiple requests.\n",
    "client = aiplatform.gapic.JobServiceClient(client_options=client_options)\n",
    "\n",
    "# study_spec\n",
    "metric = {\n",
    "    \"metric_id\": \"accuracy\",\n",
    "    \"goal\": aiplatform.gapic.StudySpec.MetricSpec.GoalType.MAXIMIZE,\n",
    "}\n",
    "\n",
    "depth = {\n",
    "        \"parameter_id\": \"depth\",\n",
    "        \"integer_value_spec\": {\"min_value\": 1, \"max_value\": 10},\n",
    "        \"scale_type\": aiplatform.gapic.StudySpec.ParameterSpec.ScaleType.UNIT_LINEAR_SCALE,\n",
    "}\n",
    "dropout_rate = {\n",
    "        \"parameter_id\": \"dropout_rate\",\n",
    "        \"double_value_spec\": {\"min_value\": 0.001, \"max_value\": 0.1},\n",
    "        \"scale_type\": aiplatform.gapic.StudySpec.ParameterSpec.ScaleType.UNIT_LOG_SCALE,\n",
    "}\n",
    "learning_rate = {\n",
    "        \"parameter_id\": \"learning_rate\",\n",
    "        \"double_value_spec\": {\"min_value\": 0.00001, \"max_value\": 0.01},\n",
    "        \"scale_type\": aiplatform.gapic.StudySpec.ParameterSpec.ScaleType.UNIT_LOG_SCALE,\n",
    "}\n",
    "batch_size = {\n",
    "        \"parameter_id\": \"batch_size\",\n",
    "        \"integer_value_spec\": {\"min_value\": 1, \"max_value\": 16},\n",
    "        \"scale_type\": aiplatform.gapic.StudySpec.ParameterSpec.ScaleType.UNIT_LINEAR_SCALE,\n",
    "}\n",
    "epochs = {\n",
    "        \"parameter_id\": \"epochs\",\n",
    "        \"integer_value_spec\": {\"min_value\": 1, \"max_value\": 5},\n",
    "        \"scale_type\": aiplatform.gapic.StudySpec.ParameterSpec.ScaleType.UNIT_LINEAR_SCALE,\n",
    "}\n",
    "\n",
    "# trial_job_spec\n",
    "machine_spec = {\n",
    "    \"machine_type\": machine_type,\n",
    "}\n",
    "worker_pool_spec = {\n",
    "    \"machine_spec\": machine_spec,\n",
    "    \"replica_count\": 1,\n",
    "    \"python_package_spec\": {\n",
    "        \"executor_image_uri\": executor_image_uri,\n",
    "        \"package_uris\": [PACKAGE_URIS],\n",
    "        \"python_module\": python_module,\n",
    "        \"args\": [\n",
    "            '--job-dir',\n",
    "            JOB_DIR_HPT,\n",
    "            '--train_feature_name',\n",
    "            TRAIN_FEATURE_PATH,\n",
    "            '--train_label_name',\n",
    "            TRAIN_LABEL_PATH,\n",
    "            '--test_feature_name',\n",
    "            TEST_FEATURE_PATH,\n",
    "            '--test_label_name',\n",
    "            TEST_LABEL_PATH,\n",
    "        ],\n",
    "    },\n",
    "}\n",
    "\n",
    "# hyperparameter_tuning_job\n",
    "hyperparameter_tuning_job = {\n",
    "    \"display_name\": JOBNAME_HPT,\n",
    "    \"max_trial_count\": 4,\n",
    "    \"parallel_trial_count\": 2,\n",
    "    \"study_spec\": {\n",
    "        \"metrics\": [metric],\n",
    "        \"parameters\": [depth, dropout_rate, learning_rate, batch_size, epochs],\n",
    "#         \"algorithm\": aiplatform.gapic.StudySpec.Algorithm.RANDOM_SEARCH,\n",
    "    },\n",
    "    \"trial_job_spec\": {\"worker_pool_specs\": [worker_pool_spec]},\n",
    "}\n",
    "parent = f\"projects/{PROJECT}/locations/{REGION}\"\n",
    "response = client.create_hyperparameter_tuning_job(\n",
    "    parent=parent, hyperparameter_tuning_job=hyperparameter_tuning_job\n",
    ")\n",
    "print(\"response:\", response)\n",
    "job_name_hpt = response.name.split('/')[-1]\n"
   ]
  },
  {
   "cell_type": "markdown",
   "metadata": {},
   "source": [
    "#### Check the status of Long Running Operation (LRO) with Google API Client\n",
    "\n",
    "Send an API request to Vertex AI to get the detailed information. The most interesting piece of information is the hyperparameter values in the trial with best performance metric."
   ]
  },
  {
   "cell_type": "code",
   "execution_count": 22,
   "metadata": {},
   "outputs": [
    {
     "name": "stdout",
     "output_type": "stream",
     "text": [
      "Job status =  JobState.JOB_STATE_PENDING\n",
      "response: name: \"projects/901951554789/locations/us-central1/hyperparameterTuningJobs/2341033978372292608\"\n",
      "display_name: \"tensorflow_train_cchatterjee_101721_1037_hpt\"\n",
      "study_spec {\n",
      "  metrics {\n",
      "    metric_id: \"accuracy\"\n",
      "    goal: MAXIMIZE\n",
      "  }\n",
      "  parameters {\n",
      "    parameter_id: \"depth\"\n",
      "    integer_value_spec {\n",
      "      min_value: 1\n",
      "      max_value: 10\n",
      "    }\n",
      "    scale_type: UNIT_LINEAR_SCALE\n",
      "  }\n",
      "  parameters {\n",
      "    parameter_id: \"dropout_rate\"\n",
      "    double_value_spec {\n",
      "      min_value: 0.001\n",
      "      max_value: 0.1\n",
      "    }\n",
      "    scale_type: UNIT_LOG_SCALE\n",
      "  }\n",
      "  parameters {\n",
      "    parameter_id: \"learning_rate\"\n",
      "    double_value_spec {\n",
      "      min_value: 1e-05\n",
      "      max_value: 0.01\n",
      "    }\n",
      "    scale_type: UNIT_LOG_SCALE\n",
      "  }\n",
      "  parameters {\n",
      "    parameter_id: \"batch_size\"\n",
      "    integer_value_spec {\n",
      "      min_value: 1\n",
      "      max_value: 16\n",
      "    }\n",
      "    scale_type: UNIT_LINEAR_SCALE\n",
      "  }\n",
      "  parameters {\n",
      "    parameter_id: \"epochs\"\n",
      "    integer_value_spec {\n",
      "      min_value: 1\n",
      "      max_value: 5\n",
      "    }\n",
      "    scale_type: UNIT_LINEAR_SCALE\n",
      "  }\n",
      "}\n",
      "max_trial_count: 4\n",
      "parallel_trial_count: 2\n",
      "trial_job_spec {\n",
      "  worker_pool_specs {\n",
      "    machine_spec {\n",
      "      machine_type: \"n1-standard-4\"\n",
      "    }\n",
      "    replica_count: 1\n",
      "    disk_spec {\n",
      "      boot_disk_type: \"pd-ssd\"\n",
      "      boot_disk_size_gb: 100\n",
      "    }\n",
      "    python_package_spec {\n",
      "      executor_image_uri: \"us-docker.pkg.dev/vertex-ai/training/tf-cpu.2-2:latest\"\n",
      "      package_uris: \"gs://vapit_data/trainer/tensorflow/trainer-0.1.tar.gz\"\n",
      "      python_module: \"trainer.train_hpt\"\n",
      "      args: \"--job-dir\"\n",
      "      args: \"gs://vapit_data/tf_models/jobdir/model_101721_1037\"\n",
      "      args: \"--train_feature_name\"\n",
      "      args: \"gs://vapit_data/tf_data/mortgage_structured_x_train.csv\"\n",
      "      args: \"--train_label_name\"\n",
      "      args: \"gs://vapit_data/tf_data/mortgage_structured_y_train.csv\"\n",
      "      args: \"--test_feature_name\"\n",
      "      args: \"gs://vapit_data/tf_data/mortgage_structured_x_test.csv\"\n",
      "      args: \"--test_label_name\"\n",
      "      args: \"gs://vapit_data/tf_data/mortgage_structured_y_test.csv\"\n",
      "    }\n",
      "  }\n",
      "}\n",
      "state: JOB_STATE_PENDING\n",
      "create_time {\n",
      "  seconds: 1634492248\n",
      "  nanos: 810108000\n",
      "}\n",
      "start_time {\n",
      "  seconds: 1634492248\n",
      "  nanos: 943879000\n",
      "}\n",
      "update_time {\n",
      "  seconds: 1634492252\n",
      "  nanos: 496499000\n",
      "}\n",
      "\n"
     ]
    }
   ],
   "source": [
    "client_options = {\"api_endpoint\": api_endpoint}\n",
    "client = aiplatform.gapic.JobServiceClient(client_options=client_options)\n",
    "name = client.hyperparameter_tuning_job_path(\n",
    "    project=PROJECT,\n",
    "    location=REGION,\n",
    "    hyperparameter_tuning_job=job_name_hpt,\n",
    ")\n",
    "response = client.get_hyperparameter_tuning_job(name=name)\n",
    "print(\"Job status = \", response.state)\n",
    "print(\"response:\", response)\n",
    "# print(\"response state: \", str(response.state))\n",
    "if \"JobState.JOB_STATE_SUCCEEDED\" == str(response.state):\n",
    "    print(\"Job state succeeded.\")\n"
   ]
  },
  {
   "cell_type": "markdown",
   "metadata": {},
   "source": [
    "#### Get the hyperparameters associated with the best metrics"
   ]
  },
  {
   "cell_type": "code",
   "execution_count": null,
   "metadata": {},
   "outputs": [],
   "source": [
    "max_ind = 0\n",
    "max_val = 0\n",
    "for ind, trials in enumerate(response.trials):\n",
    "    value = trials.final_measurement.metrics[0].value\n",
    "    print(\"Metrics Value (larger is better):\", value)\n",
    "    if value > max_val:\n",
    "        max_val = value\n",
    "        max_ind = ind\n",
    "        \n",
    "param_dict = {}\n",
    "for params in response.trials[max_ind].parameters:\n",
    "    param_dict[params.parameter_id] = params.value\n",
    "\n",
    "print(param_dict)\n",
    "\n",
    "depth=str(int(param_dict['depth']))\n",
    "dropout_rate=str(param_dict['dropout_rate'])\n",
    "learning_rate=str(param_dict['learning_rate'])\n",
    "batch_size=str(int(param_dict['batch_size']))\n",
    "epochs=str(int(param_dict['epochs']))\n"
   ]
  },
  {
   "cell_type": "markdown",
   "metadata": {},
   "source": [
    "#### Get the best model"
   ]
  },
  {
   "cell_type": "code",
   "execution_count": null,
   "metadata": {},
   "outputs": [],
   "source": [
    "best_model_dir_hpt = find_best_model_dir(JOB_DIR_HPT+'/checkpoints', offset=1, maxFlag=1)\n"
   ]
  },
  {
   "cell_type": "markdown",
   "metadata": {},
   "source": [
    "------\n",
    "### Training with Tuned Parameters\n",
    "\n",
    "Once your hyperparameter training jobs are done. You can use the optimized combination of hyperparameters from your trials and start a single training job on Cloud AI Platform to train your final model."
   ]
  },
  {
   "cell_type": "code",
   "execution_count": null,
   "metadata": {},
   "outputs": [],
   "source": [
    "# Google Cloud AI Platform requires each job to have unique name, \n",
    "# Therefore, we use prefix + timestamp to form job names.\n",
    "JOBNAME_TRN = 'tensorflow_train_{}_{}'.format(\n",
    "    USER,\n",
    "    datetime.now(timezone(TIMEZONE)).strftime(\"%m%d%y_%H%M\")\n",
    "    )\n",
    "# We use the job names as folder names to store outputs.\n",
    "JOB_DIR_TRN = 'gs://{}/{}/jobdir/{}'.format(\n",
    "    BUCKET_NAME,\n",
    "    FOLDER_NAME,\n",
    "    datetime.now(timezone(TIMEZONE)).strftime(\"model_%m%d%y_%H%M\")\n",
    "    )\n",
    "\n",
    "print(\"JOB_NAME_TRN = \", JOBNAME_TRN)\n",
    "print(\"JOB_DIR_TRN = \", JOB_DIR_TRN)\n"
   ]
  },
  {
   "cell_type": "code",
   "execution_count": null,
   "metadata": {},
   "outputs": [],
   "source": [
    "executor_image_uri = 'us-docker.pkg.dev/vertex-ai/training/tf-cpu.2-2:latest'\n",
    "python_module = \"trainer.train\"\n",
    "api_endpoint = \"{}-aiplatform.googleapis.com\".format(REGION)\n",
    "machine_type = \"n1-standard-4\"\n",
    "        \n",
    "# The AI Platform services require regional API endpoints.\n",
    "client_options = {\"api_endpoint\": api_endpoint}\n",
    "# Initialize client that will be used to create and send requests.\n",
    "# This client only needs to be created once, and can be reused for multiple requests.\n",
    "client = aiplatform.gapic.JobServiceClient(client_options=client_options)\n",
    "custom_job = {\n",
    "    \"display_name\": JOBNAME_TRN,\n",
    "    \"job_spec\": {\n",
    "        \"worker_pool_specs\": [\n",
    "            {\n",
    "                \"machine_spec\": {\n",
    "                    \"machine_type\": machine_type,\n",
    "                },\n",
    "                \"replica_count\": 1,\n",
    "                \"python_package_spec\": {\n",
    "                    \"executor_image_uri\": executor_image_uri,\n",
    "                    \"package_uris\": [PACKAGE_URIS],\n",
    "                    \"python_module\": python_module,\n",
    "                    \"args\": [\n",
    "                        '--job-dir',\n",
    "                        JOB_DIR_TRN,\n",
    "                        '--train_feature_name',\n",
    "                        TRAIN_FEATURE_PATH,\n",
    "                        '--train_label_name',\n",
    "                        TRAIN_LABEL_PATH,\n",
    "                        '--test_feature_name',\n",
    "                        TEST_FEATURE_PATH,\n",
    "                        '--test_label_name',\n",
    "                        TEST_LABEL_PATH,\n",
    "                        '--depth',\n",
    "                        depth,\n",
    "                        '--dropout_rate',\n",
    "                        dropout_rate,\n",
    "                        '--learning_rate',\n",
    "                        learning_rate,\n",
    "                        '--batch_size',\n",
    "                        batch_size,\n",
    "                        '--epochs',\n",
    "                        epochs\n",
    "                    ],\n",
    "                },\n",
    "            }\n",
    "        ]\n",
    "    },\n",
    "}\n",
    "parent = f\"projects/{PROJECT}/locations/{REGION}\"\n",
    "response = client.create_custom_job(parent=parent, custom_job=custom_job)\n",
    "print(\"response:\", response)\n",
    "job_id_trn = response.name.split('/')[-1]\n"
   ]
  },
  {
   "cell_type": "markdown",
   "metadata": {},
   "source": [
    "Check the training job status"
   ]
  },
  {
   "cell_type": "code",
   "execution_count": null,
   "metadata": {},
   "outputs": [],
   "source": [
    "# check the training job status\n",
    "client_options = {\"api_endpoint\": api_endpoint}\n",
    "client = aiplatform.gapic.JobServiceClient(client_options=client_options)\n",
    "name = client.custom_job_path(\n",
    "    project=PROJECT,\n",
    "    location=REGION,\n",
    "    custom_job=job_id_trn,\n",
    ")\n",
    "response = client.get_custom_job(name=name)\n",
    "print(response.state)\n"
   ]
  },
  {
   "cell_type": "markdown",
   "metadata": {},
   "source": [
    "#### Get the best model"
   ]
  },
  {
   "cell_type": "code",
   "execution_count": null,
   "metadata": {},
   "outputs": [],
   "source": [
    "best_model_dir_trn = find_best_model_dir(JOB_DIR_TRN+'/checkpoints', offset=1, maxFlag=1)\n"
   ]
  },
  {
   "cell_type": "markdown",
   "metadata": {},
   "source": [
    "--------\n",
    "### Deploy the Model\n",
    "\n",
    "Vertex AI provides tools to upload your trained ML model to the cloud, so that you can send prediction requests to the model.\n",
    "\n",
    "In order to deploy your trained model on Vertex AI, you must save your trained model using the tools provided by your machine learning framework. This involves serializing the information that represents your trained model into a file which you can deploy for prediction in the cloud.\n",
    "\n",
    "Then you upload the saved model to a Cloud Storage bucket, and create a model resource on Vertex AI, specifying the Cloud Storage path to your saved model.\n",
    "\n",
    "When you deploy your model, you can also provide custom code (beta) to customize how it handles prediction requests.\n",
    "\n"
   ]
  },
  {
   "cell_type": "markdown",
   "metadata": {},
   "source": [
    "#### Import model artifacts to Vertex AI \n",
    "\n",
    "When you import a model, you associate it with a container for Vertex AI to run prediction requests. You can use pre-built containers provided by Vertex AI, or use your own custom containers that you build and push to Container Registry or Artifact Registry.\n",
    "\n",
    "You can use a pre-built container if your model meets the following requirements:\n",
    "\n",
    "- Trained in Python 3.7 or later\n",
    "- Trained using TensorFlow, scikit-learn, or XGBoost\n",
    "- Exported to meet framework-specific requirements for one of the pre-built prediction containers\n",
    "\n",
    "The link to the list of pre-built predict container images:\n",
    "\n",
    "https://cloud.google.com/vertex-ai/docs/predictions/pre-built-containers?_ga=2.125143370.-1302053296.1620920844&_gac=1.221340266.1622086653.CjwKCAjw47eFBhA9EiwAy8kzNOkCqVAmokRvQaxBDOoa8AhGOpzzW69x64rRzfgWxogIn3m6moQoBRoCuOsQAvD_BwE"
   ]
  },
  {
   "cell_type": "code",
   "execution_count": null,
   "metadata": {},
   "outputs": [],
   "source": [
    "MODEL_NAME = \"my_first_tensorflow_model\"\n",
    "\n",
    "response = aiplatform.Model.upload(\n",
    "    display_name = MODEL_NAME,\n",
    "    serving_container_image_uri = 'us-docker.pkg.dev/vertex-ai/prediction/tf2-cpu.2-2:latest',\n",
    "    artifact_uri = best_model_dir_hpt, #best_model_dir_trn,\n",
    ")\n",
    "\n",
    "model_id = response.name.split('/')[-1]\n",
    "print(\"model_id = \", model_id)\n"
   ]
  },
  {
   "cell_type": "markdown",
   "metadata": {},
   "source": [
    "#### Create Endpoint\n",
    "\n",
    "You need the endpoint ID to deploy the model."
   ]
  },
  {
   "cell_type": "code",
   "execution_count": null,
   "metadata": {},
   "outputs": [],
   "source": [
    "MODEL_ENDPOINT_DISPLAY_NAME = \"my_first_tensorflow_model_endpoint\"\n",
    "\n",
    "aiplatform.init(project=PROJECT, location=REGION)\n",
    "endpoint = aiplatform.Endpoint.create(\n",
    "    display_name=MODEL_ENDPOINT_DISPLAY_NAME, project=PROJECT, location=REGION,\n",
    ")\n",
    "\n",
    "endpoint_id = endpoint.resource_name.split('/')[-1]\n",
    "\n",
    "print(\"endpoint.display_name  = \", endpoint.display_name)\n",
    "print(\"endpoint.resource_name = \", endpoint.resource_name)\n",
    "#print(endpoint.uri)\n",
    "print(\"endpoint_id = \", endpoint_id)\n"
   ]
  },
  {
   "cell_type": "markdown",
   "metadata": {},
   "source": [
    "#### Deploy Model to the endpoint\n",
    "\n",
    "You must deploy a model to an endpoint before that model can be used to serve online predictions; deploying a model associates physical resources with the model so it can serve online predictions with low latency. An undeployed model can serve batch predictions, which do not have the same low latency requirements."
   ]
  },
  {
   "cell_type": "code",
   "execution_count": null,
   "metadata": {},
   "outputs": [],
   "source": [
    "MODEL_NAME = \"my_first_tensorflow_model\"\n",
    "DEPLOYED_MODEL_DISPLAY_NAME = \"my_first_tensorflow_model_deployed\"\n",
    "\n",
    "aiplatform.init(project=PROJECT, location=REGION)\n",
    "model = aiplatform.Model(model_name=model_id)\n",
    "\n",
    "# The explanation_metadata and explanation_parameters should only be\n",
    "# provided for a custom trained model and not an AutoML model.\n",
    "model.deploy(\n",
    "    endpoint=endpoint,\n",
    "    deployed_model_display_name=DEPLOYED_MODEL_DISPLAY_NAME,\n",
    "    machine_type = \"n1-standard-4\",\n",
    "    sync=True\n",
    ")\n",
    "\n",
    "print(model.display_name)\n",
    "print(model.resource_name)\n"
   ]
  },
  {
   "cell_type": "markdown",
   "metadata": {},
   "source": [
    "### Explore models and endpoints"
   ]
  },
  {
   "cell_type": "code",
   "execution_count": null,
   "metadata": {},
   "outputs": [],
   "source": [
    "print(\"Models:\")\n",
    "!gcloud beta ai models list --region=$REGION\n",
    "print(\"Endpoints:\")\n",
    "!gcloud beta ai endpoints list --region=$REGION\n"
   ]
  },
  {
   "cell_type": "code",
   "execution_count": null,
   "metadata": {},
   "outputs": [],
   "source": [
    "from google.cloud.aiplatform import gapic as aip\n",
    "def list_models():\n",
    "    PARENT = \"projects/\" + PROJECT + \"/locations/\" + REGION\n",
    "    API_ENDPOINT = \"{}-aiplatform.googleapis.com\".format(REGION)\n",
    "    client_options = {\"api_endpoint\": API_ENDPOINT}\n",
    "    client = aip.ModelServiceClient(client_options=client_options)\n",
    "    response = client.list_models(parent=PARENT)\n",
    "    model_list = []\n",
    "    for model in response:\n",
    "        model_list.append(\n",
    "            {\n",
    "                \"name\": model.name,\n",
    "                \"display_name\": model.display_name,\n",
    "                \"create_time\": model.create_time,\n",
    "                \"container\":  model.container_spec.image_uri,\n",
    "                \"artifact_uri\": model.artifact_uri\n",
    "            }\n",
    "        )\n",
    "    return(model_list)\n",
    "\n",
    "model_list = list_models()\n",
    "model_list\n"
   ]
  },
  {
   "cell_type": "code",
   "execution_count": null,
   "metadata": {},
   "outputs": [],
   "source": [
    "from google.cloud.aiplatform import gapic as aip\n",
    "def list_endpoints():\n",
    "    PARENT = \"projects/\" + PROJECT + \"/locations/\" + REGION\n",
    "    API_ENDPOINT = \"{}-aiplatform.googleapis.com\".format(REGION)\n",
    "    client_options = {\"api_endpoint\": API_ENDPOINT}\n",
    "    client = aip.EndpointServiceClient(client_options=client_options)\n",
    "    response = client.list_endpoints(parent=PARENT)\n",
    "    endpoint_list = []\n",
    "    for endpoint in response:\n",
    "        model_name = ''\n",
    "        if (len(endpoint.deployed_models) > 0):\n",
    "            model_name = endpoint.deployed_models[0].model\n",
    "        endpoint_list.append(\n",
    "            {\n",
    "                \"name\": endpoint.name,\n",
    "                \"display_name\": endpoint.display_name,\n",
    "                \"create_time\": endpoint.create_time,\n",
    "                \"deployed_models\": model_name\n",
    "            }\n",
    "        )\n",
    "    return(endpoint_list)\n",
    "\n",
    "endpoint_list = list_endpoints()\n",
    "endpoint_list\n"
   ]
  },
  {
   "cell_type": "code",
   "execution_count": null,
   "metadata": {},
   "outputs": [],
   "source": [
    "# deployed_model_id = endpoint.list_models()[0].id\n",
    "# print(deployed_model_id)\n",
    "# endpoint.undeploy(deployed_model_id=deployed_model_id)"
   ]
  },
  {
   "cell_type": "code",
   "execution_count": null,
   "metadata": {},
   "outputs": [],
   "source": [
    "# print(endpoint.list_models())\n",
    "# print(endpoint.resource_name)"
   ]
  },
  {
   "cell_type": "markdown",
   "metadata": {},
   "source": [
    "------\n",
    "### Send inference requests to your model\n",
    "\n",
    "Vertex AI provides the services you need to request predictions from your model in the cloud.\n",
    "\n",
    "There are two ways to get predictions from trained models: online prediction (sometimes called HTTP prediction) and batch prediction. In both cases, you pass input data to a cloud-hosted machine-learning model and get inferences for each data instance.\n",
    "\n",
    "Vertex AI online prediction is a service optimized to run your data through hosted models with as little latency as possible. You send small batches of data to the service and it returns your predictions in the response."
   ]
  },
  {
   "cell_type": "markdown",
   "metadata": {},
   "source": [
    "#### Call Google API for online inference"
   ]
  },
  {
   "cell_type": "code",
   "execution_count": null,
   "metadata": {},
   "outputs": [],
   "source": [
    "from googleapiclient import errors\n",
    "\n",
    "# Load test feature and labels\n",
    "x_test = pd.read_csv(TEST_FEATURE_PATH)\n",
    "#y_test = pd.read_csv(TEST_LABEL_PATH)\n",
    "\n",
    "# Fill nan value with zeros (Prediction lacks the ability to handle nan values for now)\n",
    "x_test = x_test.fillna(0)\n",
    "\n",
    "pprobas = []\n",
    "batch_size = 16\n",
    "n_samples = min(160,x_test.shape[0])\n",
    "print(\"batch_size=\", batch_size)\n",
    "print(\"n_samples=\", n_samples)\n",
    "\n",
    "aiplatform.init(project=PROJECT, location=REGION)\n",
    "\n",
    "for i in range(0, n_samples, batch_size):\n",
    "    j = min(i+batch_size, n_samples)\n",
    "    print(\"Processing samples\", i, j)\n",
    "    response = aiplatform.Endpoint(endpoint_id).predict(instances=x_test.iloc[i:j].values.tolist())\n",
    "    try:\n",
    "        for prediction_ in response.predictions:\n",
    "            pprobas.append(prediction_)\n",
    "    except errors.HttpError as err:\n",
    "        # Something went wrong, print out some information.\n",
    "        tf.compat.v1.logging.error('There was an error getting the job info, Check the details:')\n",
    "        tf.compat.v1.logging.error(err._get_reason())\n",
    "        break\n"
   ]
  },
  {
   "cell_type": "code",
   "execution_count": null,
   "metadata": {},
   "outputs": [],
   "source": [
    "np.array(pprobas)"
   ]
  },
  {
   "cell_type": "markdown",
   "metadata": {},
   "source": [
    "#### Call Google GCLOUD API for online inference"
   ]
  },
  {
   "cell_type": "code",
   "execution_count": null,
   "metadata": {},
   "outputs": [],
   "source": [
    "# Load test feature and labels\n",
    "x_test = pd.read_csv(TEST_FEATURE_PATH)\n",
    "#y_test = pd.read_csv(TEST_LABEL_PATH)\n",
    "\n",
    "# Fill nan value with zeros (Prediction lacks the ability to handle nan values for now)\n",
    "x_test = x_test.fillna(0)\n",
    "\n",
    "# Create a temporary json file to contain data to be predicted\n",
    "JSON_TEMP = 'tf_test_data.json' # temp json file name to hold the inference data\n",
    "batch_size = 100                # data batch size\n",
    "start = 0\n",
    "end = min(ind+batch_size, len(x_test))\n",
    "body={'instances': x_test.iloc[start:end].values.tolist()}\n",
    "# body = json.dumps(body).encode().decode()\n",
    "with open(JSON_TEMP, 'w') as fp:\n",
    "    fp.write(json.dumps(body))\n"
   ]
  },
  {
   "cell_type": "code",
   "execution_count": null,
   "metadata": {},
   "outputs": [],
   "source": [
    "!gcloud beta ai endpoints predict $endpoint_id \\\n",
    "  --region=$REGION \\\n",
    "  --json-request=$JSON_TEMP\n"
   ]
  },
  {
   "cell_type": "markdown",
   "metadata": {},
   "source": [
    "#### Call Google API for batch inference"
   ]
  },
  {
   "cell_type": "code",
   "execution_count": null,
   "metadata": {},
   "outputs": [],
   "source": [
    "# Write batch data to file in GCS\n",
    "\n",
    "import shutil\n",
    "import os\n",
    "\n",
    "# Clean current directory\n",
    "DATA_DIR = './batch_data'\n",
    "shutil.rmtree(DATA_DIR, ignore_errors=True)\n",
    "os.makedirs(DATA_DIR)\n",
    "\n",
    "n_samples = min(1000,x_test.shape[0])\n",
    "nFiles = 10\n",
    "nRecsPerFile = min(1000,n_samples//nFiles)\n",
    "print(\"n_samples =\", n_samples)\n",
    "print(\"nFiles =\", nFiles)\n",
    "print(\"nRecsPerFile =\", nRecsPerFile)\n",
    "\n",
    "# Create nFiles files with nImagesPerFile images each\n",
    "for i in range(nFiles):\n",
    "    with open(f'{DATA_DIR}/unkeyed_batch_{i}.json', \"w\") as file:\n",
    "        for z in range(nRecsPerFile):\n",
    "            print(f'{{\"dense_input\": {np.array(x_test)[i*nRecsPerFile+z].tolist()}}}', file=file)\n",
    "            #print(f'{{\"{model_layers[0]}\": {np.array(x_test)[i*nRecsPerFile+z].tolist()}}}', file=file)\n",
    "            #key = f'key_{i}_{z}'\n",
    "            #print(f'{{\"image\": {x_test_images[z].tolist()}, \"key\": \"{key}\"}}', file=file)\n",
    "\n",
    "# Write batch data to gcs file\n",
    "!gsutil -m cp -r ./batch_data gs://$BUCKET_NAME/$FOLDER_NAME/\n",
    "    \n",
    "# Remove old batch prediction results\n",
    "!gsutil -m rm -r gs://$BUCKET_NAME/$FOLDER_NAME/batch_predictions\n"
   ]
  },
  {
   "cell_type": "code",
   "execution_count": null,
   "metadata": {},
   "outputs": [],
   "source": [
    "JOBNAME_BATCH = 'tensorflow_batch_{}_{}'.format(\n",
    "    USER,\n",
    "    datetime.now(timezone(TIMEZONE)).strftime(\"%m%d%y_%H%M\")\n",
    "    )\n",
    "# We use the job names as folder names to store outputs.\n",
    "JOB_DIR_BATCH = 'gs://{}/{}/{}'.format(\n",
    "    BUCKET_NAME,\n",
    "    FOLDER_NAME,\n",
    "    JOBNAME_BATCH,\n",
    "    )\n",
    "\n",
    "INPUT_PATH='gs://' + BUCKET_NAME + '/' + FOLDER_NAME + '/batch_data/*'\n",
    "OUTPUT_PATH='gs://' + BUCKET_NAME + '/' + FOLDER_NAME + '/batch_predictions'\n",
    "\n",
    "print(\"JOB_NAME_BATCH = \", JOBNAME_BATCH)\n",
    "print(\"JOB_DIR_BATCH = \", JOB_DIR_BATCH)\n"
   ]
  },
  {
   "cell_type": "code",
   "execution_count": null,
   "metadata": {},
   "outputs": [],
   "source": [
    "aiplatform.init(project=PROJECT, location=REGION)\n",
    "\n",
    "my_model = aiplatform.Model(model_name=model_id)\n",
    "\n",
    "\n",
    "# Make SDK batch_predict method call\n",
    "batch_prediction_job = my_model.batch_predict(\n",
    "    instances_format=\"jsonl\",\n",
    "    predictions_format=\"jsonl\",\n",
    "    job_display_name=JOBNAME_BATCH,\n",
    "    gcs_source=INPUT_PATH,\n",
    "    gcs_destination_prefix=OUTPUT_PATH,\n",
    "    model_parameters=None,\n",
    "    machine_type=\"n1-standard-4\",\n",
    "    starting_replica_count=1,\n",
    "    max_replica_count=1,\n",
    "    sync=True,\n",
    ")\n",
    "print(batch_prediction_job.display_name)\n",
    "print(batch_prediction_job.resource_name)\n",
    "print(batch_prediction_job.state)\n"
   ]
  },
  {
   "cell_type": "code",
   "execution_count": null,
   "metadata": {},
   "outputs": [],
   "source": [
    "print(\"errors\")\n",
    "!gsutil cat $OUTPUT_PATH/prediction.errors_stats-00000-of-00001\n",
    "print(\"batch prediction results\")\n",
    "!gsutil cat $OUTPUT_PATH/prediction.results-00000-of-00010\n"
   ]
  },
  {
   "cell_type": "code",
   "execution_count": null,
   "metadata": {},
   "outputs": [],
   "source": []
  }
 ],
 "metadata": {
  "environment": {
   "name": "tf2-gpu.2-6.m81",
   "type": "gcloud",
   "uri": "gcr.io/deeplearning-platform-release/tf2-gpu.2-6:m81"
  },
  "kernelspec": {
   "display_name": "Python 3",
   "language": "python",
   "name": "python3"
  },
  "language_info": {
   "codemirror_mode": {
    "name": "ipython",
    "version": 3
   },
   "file_extension": ".py",
   "mimetype": "text/x-python",
   "name": "python",
   "nbconvert_exporter": "python",
   "pygments_lexer": "ipython3",
   "version": "3.7.10"
  }
 },
 "nbformat": 4,
 "nbformat_minor": 4
}
