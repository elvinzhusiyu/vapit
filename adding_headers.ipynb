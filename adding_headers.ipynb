{
 "cells": [
  {
   "cell_type": "code",
   "execution_count": 26,
   "metadata": {},
   "outputs": [],
   "source": [
    "import os"
   ]
  },
  {
   "cell_type": "code",
   "execution_count": 27,
   "metadata": {},
   "outputs": [],
   "source": [
    "header = '''# Copyright 2021 Google LLC\n",
    "#\n",
    "# Licensed under the Apache License, Version 2.0 (the \"License\");\n",
    "# you may not use this file except in compliance with the License.\n",
    "# You may obtain a copy of the License at\n",
    "#\n",
    "#     https://www.apache.org/licenses/LICENSE-2.0\n",
    "#\n",
    "# Unless required by applicable law or agreed to in writing, software\n",
    "# distributed under the License is distributed on an \"AS IS\" BASIS,\n",
    "# WITHOUT WARRANTIES OR CONDITIONS OF ANY KIND, either express or implied.\n",
    "# See the License for the specific language governing permissions and\n",
    "# limitations under the License.\n",
    "\n",
    "'''"
   ]
  },
  {
   "cell_type": "code",
   "execution_count": 28,
   "metadata": {},
   "outputs": [],
   "source": [
    "def add_header(filename, header):\n",
    "    ''' Define a function to add header to files\n",
    "    Args:\n",
    "        filename: str, file to be added headers on\n",
    "        header: str, content of headers\n",
    "    Return: None\n",
    "    '''\n",
    "    with open(filename, 'r') as f:\n",
    "        content = f.read()\n",
    "#         print(content)\n",
    "\n",
    "    with open(filename, 'w') as f:\n",
    "        f.write(header+content)"
   ]
  },
  {
   "cell_type": "code",
   "execution_count": 30,
   "metadata": {},
   "outputs": [
    {
     "name": "stdout",
     "output_type": "stream",
     "text": [
      "./ai-platform-xgboost/setup.py\n",
      "./ai-platform-xgboost/preprocessing.py\n",
      "./ai-platform-xgboost/build_image.sh\n",
      "./ai-platform-xgboost/config/config_hpt.yaml\n",
      "./ai-platform-xgboost/config/config.yaml\n",
      "./ai-platform-xgboost/.ipynb_checkpoints/setup-checkpoint.py\n",
      "./ai-platform-xgboost/components/lro.yaml\n",
      "./ai-platform-xgboost/components/preprocess.yaml\n",
      "./ai-platform-xgboost/components/train_hpt.yaml\n",
      "./ai-platform-xgboost/components/ghp.yaml\n",
      "./ai-platform-xgboost/components/deploy.yaml\n",
      "./ai-platform-xgboost/components/train.yaml\n",
      "./ai-platform-xgboost/trainer/train_hpt.py\n",
      "./ai-platform-xgboost/trainer/__init__.py\n",
      "./ai-platform-xgboost/trainer/train.py\n",
      "./ai-platform-tf/setup.py\n",
      "./ai-platform-tf/preprocessing.py\n",
      "./ai-platform-tf/build_image.sh\n",
      "./ai-platform-tf/config/config_hpt.yaml\n",
      "./ai-platform-tf/config/config.yaml\n",
      "./ai-platform-tf/.ipynb_checkpoints/setup-checkpoint.py\n",
      "./ai-platform-tf/components/lro.yaml\n",
      "./ai-platform-tf/components/preprocess.yaml\n",
      "./ai-platform-tf/components/train_hpt.yaml\n",
      "./ai-platform-tf/components/ghp.yaml\n",
      "./ai-platform-tf/components/deploy.yaml\n",
      "./ai-platform-tf/components/train.yaml\n",
      "./ai-platform-tf/trainer/train_hpt.py\n",
      "./ai-platform-tf/trainer/__init__.py\n",
      "./ai-platform-tf/trainer/train.py\n",
      "./ai-platform-tf/trainer/model.py\n"
     ]
    }
   ],
   "source": [
    "# Scanning all py ymal and sh files and add header to each\n",
    "cnt = 0\n",
    "for root, dirs, files in os.walk(\".\"):\n",
    "    for file in files:\n",
    "        if file.endswith(('.yaml', '.py', '.sh')):\n",
    "            fullname = os.path.join(root, file)\n",
    "            print(fullname)\n",
    "            add_header(fullname, header)\n",
    "            cnt += 1\n"
   ]
  },
  {
   "cell_type": "code",
   "execution_count": null,
   "metadata": {},
   "outputs": [],
   "source": []
  },
  {
   "cell_type": "code",
   "execution_count": null,
   "metadata": {},
   "outputs": [],
   "source": []
  },
  {
   "cell_type": "code",
   "execution_count": null,
   "metadata": {},
   "outputs": [],
   "source": []
  }
 ],
 "metadata": {
  "environment": {
   "name": "tf2-gpu.2-1.m61",
   "type": "gcloud",
   "uri": "gcr.io/deeplearning-platform-release/tf2-gpu.2-1:m61"
  },
  "kernelspec": {
   "display_name": "Python 3",
   "language": "python",
   "name": "python3"
  },
  "language_info": {
   "codemirror_mode": {
    "name": "ipython",
    "version": 3
   },
   "file_extension": ".py",
   "mimetype": "text/x-python",
   "name": "python",
   "nbconvert_exporter": "python",
   "pygments_lexer": "ipython3",
   "version": "3.7.9"
  }
 },
 "nbformat": 4,
 "nbformat_minor": 4
}
