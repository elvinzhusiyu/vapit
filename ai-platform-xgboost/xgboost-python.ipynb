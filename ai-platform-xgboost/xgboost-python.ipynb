{
 "cells": [
  {
   "cell_type": "code",
   "execution_count": null,
   "metadata": {},
   "outputs": [],
   "source": [
    "# ==============================================================================\n",
    "# Copyright 2020 Google LLC. This software is provided as-is, without warranty\n",
    "# or representation for any use or purpose. Your use of it is subject to your\n",
    "# agreement with Google.\n",
    "# ==============================================================================\n"
   ]
  },
  {
   "cell_type": "code",
   "execution_count": null,
   "metadata": {},
   "outputs": [],
   "source": [
    "!gcloud config list --format 'value(core.project)' 2>/dev/null"
   ]
  },
  {
   "cell_type": "code",
   "execution_count": null,
   "metadata": {},
   "outputs": [],
   "source": [
    "# Import packages\n",
    "import pandas as pd\n",
    "import numpy as np\n",
    "import xgboost as xgb\n",
    "from xgboost import XGBClassifier\n",
    "from datetime import datetime\n",
    "from pytz import timezone"
   ]
  },
  {
   "cell_type": "markdown",
   "metadata": {},
   "source": [
    "-----------\n",
    "# Dataset preprocessing"
   ]
  },
  {
   "cell_type": "code",
   "execution_count": null,
   "metadata": {},
   "outputs": [],
   "source": [
    "!python3 preprocessing.py"
   ]
  },
  {
   "cell_type": "markdown",
   "metadata": {},
   "source": [
    "------\n",
    "# Hyperparameter Tuning"
   ]
  },
  {
   "cell_type": "code",
   "execution_count": 340,
   "metadata": {},
   "outputs": [
    {
     "name": "stdout",
     "output_type": "stream",
     "text": [
      "JOB_NAME =  xgb_train_elvinzhu_022221_2153_hpt\n",
      "JOB_DIR =  gs://tuti_asset/xgb_train_job/jobdir\n",
      "JOB_CONFIG =  ./config/config_hpt.yaml\n"
     ]
    }
   ],
   "source": [
    "PROJECT_ID = 'img-seg-3d' # Replace with your project ID\n",
    "USER = 'elvinzhu' # Replace with your User name\n",
    "BUCKET_NAME = 'tuti_asset' # Replace with your bucket name\n",
    "FOLDER_NAME = 'xgb_train_job' # Replace with your Folder name\n",
    "REGION = 'us-central1' # Replace with your region\n",
    "TIMEZONE = 'US/Pacific'\n",
    "\n",
    "JOBNAME = 'xgb_train_{}_{}_hpt'.format(\n",
    "    USER,\n",
    "    datetime.now(timezone(TIMEZONE)).strftime(\"%m%d%y_%H%M\")\n",
    "    )\n",
    "\n",
    "JOB_DIR = 'gs://{}/{}/jobdir'.format(\n",
    "    BUCKET_NAME,\n",
    "    FOLDER_NAME,\n",
    "    )\n",
    "JOB_CONFIG = \"./config/config_hpt.yaml\"\n",
    "print(\"JOB_NAME = \", JOBNAME)\n",
    "print(\"JOB_DIR = \", JOB_DIR)\n",
    "print(\"JOB_CONFIG = \", JOB_CONFIG)\n",
    "\n",
    "TRAIN_FEATURE_PATH = 'gs://tuti_asset/datasets/mortgage_structured_x_train.csv'\n",
    "TRAIN_LABEL_PATH = 'gs://tuti_asset/datasets/mortgage_structured_y_train.csv'\n",
    "VAL_FEATURE_NAME = 'gs://tuti_asset/datasets/mortgage_structured_x_test.csv'\n",
    "VAL_LABEL_NAME = 'gs://tuti_asset/datasets/mortgage_structured_y_test.csv'"
   ]
  },
  {
   "cell_type": "code",
   "execution_count": 341,
   "metadata": {},
   "outputs": [
    {
     "name": "stdout",
     "output_type": "stream",
     "text": [
      "Job [xgb_train_elvinzhu_022221_2153_hpt] submitted successfully.\n",
      "Your job is still active. You may view the status of your job with the command\n",
      "\n",
      "  $ gcloud ai-platform jobs describe xgb_train_elvinzhu_022221_2153_hpt\n",
      "\n",
      "or continue streaming the logs with the command\n",
      "\n",
      "  $ gcloud ai-platform jobs stream-logs xgb_train_elvinzhu_022221_2153_hpt\n",
      "jobId: xgb_train_elvinzhu_022221_2153_hpt\n",
      "state: QUEUED\n"
     ]
    }
   ],
   "source": [
    "# submit the hyperparameter training job\n",
    "!gcloud ai-platform jobs submit training $JOBNAME \\\n",
    "    --package-path $(pwd)/trainer \\\n",
    "    --module-name trainer.train_hpt \\\n",
    "    --python-version 3.7 \\\n",
    "    --runtime-version 2.2 \\\n",
    "    --job-dir $JOB_DIR \\\n",
    "    --region $REGION \\\n",
    "    --config $JOB_CONFIG \\\n",
    "    -- \\\n",
    "    --train_feature_name $TRAIN_FEATURE_PATH \\\n",
    "    --train_label_name $TRAIN_LABEL_PATH \\\n",
    "    --val_feature_name $VAL_FEATURE_NAME \\\n",
    "    --val_label_name $VAL_LABEL_NAME"
   ]
  },
  {
   "cell_type": "code",
   "execution_count": 342,
   "metadata": {},
   "outputs": [
    {
     "name": "stdout",
     "output_type": "stream",
     "text": [
      "createTime: '2021-02-23T05:53:07Z'\n",
      "etag: F0WHi7tWEFE=\n",
      "jobId: xgb_train_elvinzhu_022221_2153_hpt\n",
      "startTime: '2021-02-23T05:53:10Z'\n",
      "state: RUNNING\n",
      "trainingInput:\n",
      "  args:\n",
      "  - --train_feature_name\n",
      "  - gs://tuti_asset/datasets/mortgage_structured_x_train.csv\n",
      "  - --train_label_name\n",
      "  - gs://tuti_asset/datasets/mortgage_structured_y_train.csv\n",
      "  - --val_feature_name\n",
      "  - gs://tuti_asset/datasets/mortgage_structured_x_test.csv\n",
      "  - --val_label_name\n",
      "  - gs://tuti_asset/datasets/mortgage_structured_y_test.csv\n",
      "  hyperparameters:\n",
      "    enableTrialEarlyStopping: true\n",
      "    goal: MAXIMIZE\n",
      "    hyperparameterMetricTag: roc_auc\n",
      "    maxParallelTrials: 5\n",
      "    maxTrials: 50\n",
      "    params:\n",
      "    - maxValue: 20.0\n",
      "      minValue: 2.0\n",
      "      parameterName: max_depth\n",
      "      type: INTEGER\n",
      "    - maxValue: 200.0\n",
      "      minValue: 10.0\n",
      "      parameterName: n_estimators\n",
      "      type: INTEGER\n",
      "    - categoricalValues:\n",
      "      - gbtree\n",
      "      - gblinear\n",
      "      - dart\n",
      "      parameterName: booster\n",
      "      type: CATEGORICAL\n",
      "  jobDir: gs://tuti_asset/xgb_train_job/jobdir\n",
      "  packageUris:\n",
      "  - gs://tuti_asset/xgb_train_job/jobdir/packages/6af2d072f53f860f996a36487d1d904e5a552c87fbab1d9aec51ff93b35500b7/trainer-0.1.tar.gz\n",
      "  pythonModule: trainer.train_hpt\n",
      "  pythonVersion: '3.7'\n",
      "  region: us-central1\n",
      "  runtimeVersion: '2.2'\n",
      "  scaleTier: STANDARD_1\n",
      "trainingOutput:\n",
      "  isHyperparameterTuningJob: true\n",
      "\n",
      "View job in the Cloud Console at:\n",
      "https://console.cloud.google.com/mlengine/jobs/xgb_train_elvinzhu_022221_2153_hpt?project=img-seg-3d\n",
      "\n",
      "View logs at:\n",
      "https://console.cloud.google.com/logs?resource=ml_job%2Fjob_id%2Fxgb_train_elvinzhu_022221_2153_hpt&project=img-seg-3d\n"
     ]
    }
   ],
   "source": [
    "!gcloud ai-platform jobs describe xgb_train_elvinzhu_022221_2153_hpt"
   ]
  },
  {
   "cell_type": "code",
   "execution_count": null,
   "metadata": {},
   "outputs": [],
   "source": [
    "#check the hyperparameter training job status using googleapiclient\n",
    "\n",
    "from googleapiclient import discovery\n",
    "import json\n",
    "\n",
    "# Define the project id and the job id and format it for the api request\n",
    "job_id = 'projects/{}/jobs/{}'.format(PROJECT_ID, JOBNAME)\n",
    "\n",
    "# Build the service\n",
    "ml = discovery.build('ml', 'v1', cache_discovery=False)\n",
    "# Execute the request and pass in the job id\n",
    "request = ml.projects().jobs().get(name=job_id).execute()\n",
    "\n",
    "# Print response\n",
    "print(json.dumps(request, indent=4))"
   ]
  },
  {
   "cell_type": "code",
   "execution_count": null,
   "metadata": {},
   "outputs": [],
   "source": [
    "import pandas as pd\n",
    "trials = request['trainingOutput']['trials']\n",
    "trials = pd.DataFrame(trials)\n",
    "trials['hyperparameters.booster'] = trials['hyperparameters'].apply(lambda x: x['booster'])\n",
    "trials['hyperparameters.max_depth'] = trials['hyperparameters'].apply(lambda x: x['max_depth'])\n",
    "trials['hyperparameters.n_estimators'] = trials['hyperparameters'].apply(lambda x: x['n_estimators'])\n",
    "trials['finalMetric.trainingStep'] = trials['finalMetric'].apply(lambda x: x['trainingStep'])\n",
    "trials['finalMetric.objectiveValue'] = trials['finalMetric'].apply(lambda x: x['objectiveValue'])\n",
    "trials = trials.sort_values(['finalMetric.objectiveValue'], ascending=False)"
   ]
  },
  {
   "cell_type": "markdown",
   "metadata": {},
   "source": [
    "------\n",
    "# Training with Tuned Parameters"
   ]
  },
  {
   "cell_type": "code",
   "execution_count": 307,
   "metadata": {},
   "outputs": [
    {
     "name": "stdout",
     "output_type": "stream",
     "text": [
      "JOB_NAME =  xgb_train_elvinzhu_022221_2003\n",
      "JOB_DIR =  gs://tuti_asset/xgb_train_job/xgb_train_elvinzhu_022221_2003\n",
      "JOB_CONFIG =  ./config/config.yaml\n",
      "TRAIN_FEATURE_PATH =  gs://tuti_asset/datasets/mortgage_structured_x_train.csv\n",
      "TRAIN_LABEL_PATH =  gs://tuti_asset/datasets/mortgage_structured_y_train.csv\n",
      "N_CLASSES =  4\n",
      "BOOSTER =  gbtree\n",
      "MAX_DEPTH =  14\n",
      "N_ESTIMATORS =  40\n"
     ]
    }
   ],
   "source": [
    "PROJECT_ID = 'img-seg-3d' # Replace with your project ID\n",
    "USER = 'elvinzhu' # Replace with your User name\n",
    "BUCKET_NAME = 'tuti_asset' # Replace with your bucket name\n",
    "FOLDER_NAME = 'xgb_train_job' # Replace with your Folder name\n",
    "REGION = 'us-central1' # Replace with your region\n",
    "TIMEZONE = 'US/Pacific'\n",
    "\n",
    "JOBNAME = 'xgb_train_{}_{}'.format(\n",
    "    USER,\n",
    "    datetime.now(timezone(TIMEZONE)).strftime(\"%m%d%y_%H%M\")\n",
    "    )\n",
    "\n",
    "JOB_DIR = 'gs://{}/{}/{}'.format(\n",
    "    BUCKET_NAME,\n",
    "    FOLDER_NAME,\n",
    "    JOBNAME,\n",
    "    )\n",
    "JOB_CONFIG = \"./config/config.yaml\"\n",
    "\n",
    "print(\"JOB_NAME = \", JOBNAME)\n",
    "print(\"JOB_DIR = \", JOB_DIR)\n",
    "print(\"JOB_CONFIG = \", JOB_CONFIG)\n",
    "\n",
    "# MODEL_PATH = 'models/{}/model.bst'.format(JOBNAME)\n",
    "TRAIN_FEATURE_PATH = 'gs://tuti_asset/datasets/mortgage_structured_x_train.csv'\n",
    "TRAIN_LABEL_PATH = 'gs://tuti_asset/datasets/mortgage_structured_y_train.csv'\n",
    "N_CLASSES = 4\n",
    "\n",
    "print(\"TRAIN_FEATURE_PATH = \", TRAIN_FEATURE_PATH)\n",
    "print(\"TRAIN_LABEL_PATH = \", TRAIN_LABEL_PATH)\n",
    "print(\"N_CLASSES = \", N_CLASSES)\n",
    "\n",
    "# Getthe best hypertuned model parameters\n",
    "BOOSTER=trials['hyperparameters'][0]['booster']\n",
    "MAX_DEPTH=trials['hyperparameters'][0]['max_depth']\n",
    "N_ESTIMATORS=trials['hyperparameters'][0]['n_estimators']\n",
    "\n",
    "print(\"BOOSTER = \", BOOSTER)\n",
    "print(\"MAX_DEPTH = \", MAX_DEPTH)\n",
    "print(\"N_ESTIMATORS = \", N_ESTIMATORS)"
   ]
  },
  {
   "cell_type": "code",
   "execution_count": 308,
   "metadata": {},
   "outputs": [
    {
     "name": "stdout",
     "output_type": "stream",
     "text": [
      "Namespace(booster='gbtree', job_dir='./', max_depth=14, n_estimators=40, no_classes=4, train_feature_name='gs://tuti_asset/datasets/mortgage_structured_x_train.csv', train_label_name='gs://tuti_asset/datasets/mortgage_structured_y_train.csv')\n",
      "(93639, 149)\n",
      "(93639, 1)\n",
      "[04:04:08] WARNING: ../src/learner.cc:1061: Starting in XGBoost 1.3.0, the default evaluation metric used with the objective 'multi:softprob' was changed from 'merror' to 'mlogloss'. Explicitly set eval_metric if you'd like to restore the old behavior.\n",
      "CommandException: cp: \"file://model.bst\" and \"file://./model.bst\" are the same file - abort.\n",
      "Traceback (most recent call last):\n",
      "  File \"trainer/train.py\", line 88, in <module>\n",
      "  File \"trainer/train.py\", line 73, in train_xgboost\n",
      "    return xgb_model\n",
      "  File \"/opt/conda/lib/python3.7/subprocess.py\", line 363, in check_call\n",
      "    raise CalledProcessError(retcode, cmd)\n",
      "subprocess.CalledProcessError: Command '['gsutil', 'cp', 'model.bst', './model.bst']' returned non-zero exit status 1.\n"
     ]
    }
   ],
   "source": [
    "# Train on local machine\n",
    "!python3 trainer/train.py \\\n",
    "    --train_feature_name $TRAIN_FEATURE_PATH \\\n",
    "    --train_label_name $TRAIN_LABEL_PATH \\\n",
    "    --no_classes $N_CLASSES \\\n",
    "    --n_estimators $N_ESTIMATORS \\\n",
    "    --max_depth $MAX_DEPTH \\\n",
    "    --booster $BOOSTER"
   ]
  },
  {
   "cell_type": "code",
   "execution_count": null,
   "metadata": {},
   "outputs": [],
   "source": [
    "! gcloud ai-platform local train \\\n",
    "    --job-dir $JOB_DIR \\\n",
    "    --package-path $(pwd)/trainer \\\n",
    "    --module-name trainer.train \\\n",
    "    -- \\\n",
    "    --train_feature_name $TRAIN_FEATURE_PATH \\\n",
    "    --train_label_name $TRAIN_LABEL_PATH \\\n",
    "    --no_classes $N_CLASSES \\\n",
    "    --n_estimators $N_ESTIMATORS \\\n",
    "    --max_depth $MAX_DEPTH \\\n",
    "    --booster $BOOSTER"
   ]
  },
  {
   "cell_type": "code",
   "execution_count": null,
   "metadata": {},
   "outputs": [],
   "source": [
    "# https://cloud.google.com/sdk/gcloud/reference/ai-platform/jobs/submit/training\n",
    "\n",
    "# submit the training job\n",
    "! gcloud ai-platform jobs submit training $JOBNAME \\\n",
    "    --job-dir $JOB_DIR \\\n",
    "    --package-path $(pwd)/trainer \\\n",
    "    --module-name trainer.train \\\n",
    "    --region $REGION \\\n",
    "    --python-version 3.7 \\\n",
    "    --runtime-version 2.2 \\\n",
    "    --config $JOB_CONFIG \\\n",
    "    -- \\\n",
    "    --train_feature_name $TRAIN_FEATURE_PATH \\\n",
    "    --train_label_name $TRAIN_LABEL_PATH \\\n",
    "    --no_classes $N_CLASSES \\\n",
    "    --n_estimators $N_ESTIMATORS \\\n",
    "    --max_depth $MAX_DEPTH \\\n",
    "    --booster $BOOSTER"
   ]
  },
  {
   "cell_type": "code",
   "execution_count": null,
   "metadata": {},
   "outputs": [],
   "source": [
    "# check the training job status\n",
    "! gcloud ai-platform jobs describe $JOBNAME"
   ]
  },
  {
   "cell_type": "markdown",
   "metadata": {},
   "source": [
    "--------\n",
    "# Deploy the Model\n"
   ]
  },
  {
   "cell_type": "code",
   "execution_count": 344,
   "metadata": {},
   "outputs": [],
   "source": [
    "MODEL_NAME = \"xgb_model\"\n",
    "MODEL_VERSION = \"elvinzhu_xgb_bst_v0_1\"\n",
    "REGION = \"global\"\n",
    "MODEL_FRAMEWORK = \"XGBOOST\"\n",
    "MODEL_DESCRIPTION = \"best_xgb_hpt\""
   ]
  },
  {
   "cell_type": "code",
   "execution_count": 345,
   "metadata": {},
   "outputs": [
    {
     "name": "stdout",
     "output_type": "stream",
     "text": [
      "Using endpoint [https://ml.googleapis.com/]\n",
      "NAME       DEFAULT_VERSION_NAME\n",
      "xgb_model  elvinzhu_xgb_bst\n"
     ]
    }
   ],
   "source": [
    "# List all models in region\n",
    "!gcloud ai-platform models list --region $REGION"
   ]
  },
  {
   "cell_type": "code",
   "execution_count": null,
   "metadata": {},
   "outputs": [],
   "source": [
    "# create model if not exist\n",
    "!gcloud ai-platform models create $MODEL_NAME --region $REGION --enable-logging"
   ]
  },
  {
   "cell_type": "code",
   "execution_count": null,
   "metadata": {},
   "outputs": [],
   "source": [
    "# list model versions under model\n",
    "!gcloud ai-platform versions list --model $MODEL_NAME --region $REGION"
   ]
  },
  {
   "cell_type": "code",
   "execution_count": null,
   "metadata": {},
   "outputs": [],
   "source": [
    "LATEST_MODEL_DIR = \"gs://{}/{}/{}\".format(BUCKET_NAME, FOLDER_NAME, JOBNAME)\n",
    "print(\"LATEST_MODEL_DIR: \", LATEST_MODEL_DIR)"
   ]
  },
  {
   "cell_type": "code",
   "execution_count": null,
   "metadata": {},
   "outputs": [],
   "source": [
    "# Deploy the model\n",
    "! gcloud beta ai-platform versions create $MODEL_VERSION \\\n",
    "  --model=$MODEL_NAME \\\n",
    "  --origin=$LATEST_MODEL_DIR \\\n",
    "  --runtime-version=2.2 \\\n",
    "  --python-version=3.7 \\\n",
    "  --framework=$MODEL_FRAMEWORK \\\n",
    "  --description=$MODEL_DESCRIPTION \\\n",
    "  --region=$REGION \n"
   ]
  },
  {
   "cell_type": "code",
   "execution_count": 348,
   "metadata": {},
   "outputs": [
    {
     "name": "stdout",
     "output_type": "stream",
     "text": [
      "Using endpoint [https://ml.googleapis.com/]\n",
      "NAME       DEFAULT_VERSION_NAME\n",
      "xgb_model  elvinzhu_xgb_bst\n",
      "Using endpoint [https://ml.googleapis.com/]\n",
      "NAME                   DEPLOYMENT_URI                                                STATE\n",
      "elvinzhu_xgb_bst       gs://tuti_asset/datasets/models/model_20210131_061916         READY\n",
      "elvinzhu_xgb_bst_v0_1  gs://tuti_asset/xgb_train_job/xgb_train_elvinzhu_020821_2057  READY\n",
      "Using endpoint [https://ml.googleapis.com/]\n",
      "defaultVersion:\n",
      "  createTime: '2021-02-02T05:23:31Z'\n",
      "  deploymentUri: gs://tuti_asset/datasets/models/model_20210131_061916\n",
      "  description: best_xgb_hpt\n",
      "  etag: MYHO2cqGljM=\n",
      "  framework: XGBOOST\n",
      "  isDefault: true\n",
      "  machineType: mls1-c1-m2\n",
      "  name: projects/img-seg-3d/models/xgb_model/versions/elvinzhu_xgb_bst\n",
      "  pythonVersion: '3.7'\n",
      "  runtimeVersion: '2.2'\n",
      "  state: READY\n",
      "etag: WXWsM_7Tg8w=\n",
      "name: projects/img-seg-3d/models/xgb_model\n",
      "onlinePredictionLogging: true\n",
      "regions:\n",
      "- us-central1\n"
     ]
    }
   ],
   "source": [
    "# List all models\n",
    "!gcloud ai-platform models list --region $REGION\n",
    "# List all versions of the created model\n",
    "!gcloud ai-platform versions list --model $MODEL_NAME --region $REGION\n",
    "# Describe the Model\n",
    "!gcloud ai-platform models describe $MODEL_NAME --region $REGION\n"
   ]
  },
  {
   "cell_type": "markdown",
   "metadata": {},
   "source": [
    "------\n",
    "# Predictions from the deployed model with test data"
   ]
  },
  {
   "cell_type": "markdown",
   "metadata": {},
   "source": [
    "### Load testing data"
   ]
  },
  {
   "cell_type": "code",
   "execution_count": 229,
   "metadata": {},
   "outputs": [],
   "source": [
    "# Load test feature and labels\n",
    "test_feature_url = 'gs://tuti_asset/datasets/mortgage_structured_x_test.csv'\n",
    "test_label_url = 'gs://tuti_asset/datasets/mortgage_structured_y_test.csv'\n",
    "\n",
    "x_test = pd.read_csv(test_feature_url)\n",
    "y_test = pd.read_csv(test_label_url)"
   ]
  },
  {
   "cell_type": "markdown",
   "metadata": {},
   "source": [
    "### Call Google API for online prediction"
   ]
  },
  {
   "cell_type": "code",
   "execution_count": 108,
   "metadata": {},
   "outputs": [
    {
     "name": "stdout",
     "output_type": "stream",
     "text": [
      "Predict array size =  (10405,)\n"
     ]
    }
   ],
   "source": [
    "# Create google API client \n",
    "import googleapiclient.discovery\n",
    "import numpy as np\n",
    "\n",
    "PROJECT_ID = \"img-seg-3d\"\n",
    "MODEL_NAME = \"xgb_model\"\n",
    "VERSION = \"elvinzhu_xgb_bst\"\n",
    "prediction_file = './prediction.json'\n",
    "batch_size = 1000\n",
    "\n",
    "model_name = 'projects/{}/models/{}/versions/{}'.format(\n",
    "    PROJECT_ID, \n",
    "    MODEL_NAME, \n",
    "    VERSION\n",
    "    )\n",
    "\n",
    "service = googleapiclient.discovery.build(\n",
    "    'ml', \n",
    "    'v1', \n",
    "    cache_discovery=False, \n",
    "    cache=False\n",
    "    )\n",
    "\n",
    "prediction_list = []\n",
    "\n",
    "for ind in range(0, len(x_test), batch_size):\n",
    "    start = ind\n",
    "    end = min(ind+batch_size, len(x_test))\n",
    "    response = service.projects().predict(\n",
    "        name=model_name,\n",
    "        body={'instances': x_test.iloc[start:end].values.tolist()}\n",
    "        ).execute()\n",
    "    prediction_list += response['predictions']\n",
    "    \n",
    "prediction_list = np.array(prediction_list)\n",
    "preds = np.argmax(prediction_list, axis=1)\n",
    "print(\"Predict array size = \", np.array(preds).shape)"
   ]
  },
  {
   "cell_type": "markdown",
   "metadata": {},
   "source": [
    "# Other way to call Cloud AI Platform API using gcloud command for prediction"
   ]
  },
  {
   "cell_type": "code",
   "execution_count": 306,
   "metadata": {},
   "outputs": [],
   "source": [
    "def post_process(predict, n_sample, n_class):  \n",
    "    predictions = np.empty([n_sample, n_class])\n",
    "    for entry in predict[1:]:\n",
    "        key, value = entry.split(\":\")\n",
    "        exec(\"{} = {}\".format(key, value))\n",
    "    predictions = np.argmax(predictions, axis=1)\n",
    "    return predictions.tolist()\n",
    "\n",
    "def accuracy_score(y_true, y_pred):\n",
    "    from sklearn import metrics\n",
    "    return metrics.accuracy_score(y_true, y_pred)"
   ]
  },
  {
   "cell_type": "code",
   "execution_count": 302,
   "metadata": {},
   "outputs": [],
   "source": [
    "PROJECT_ID = \"img-seg-3d\"\n",
    "MODEL_NAME = \"xgb_model\"\n",
    "VERSION = \"elvinzhu_xgb_bst\"\n",
    "JSON_TEMP = 'xgb_test_data.json'\n",
    "batch_size = 1000\n",
    "y_pred = []\n",
    "\n",
    "for ind in range(0, len(x_test), batch_size):\n",
    "    start = ind\n",
    "    end = min(ind+batch_size, len(x_test))\n",
    "    body={'instances': x_test.iloc[start:end].values.tolist()}\n",
    "    with open(JSON_TEMP, 'w') as fp:\n",
    "        json.dump(body, fp)\n",
    "    \n",
    "    predict = !gcloud ai-platform predict \\\n",
    "      --model=$MODEL_NAME \\\n",
    "      --version=$VERSION \\\n",
    "      --format='text' \\\n",
    "      --json-request=$JSON_TEMP \\\n",
    "      --region=$REGION\n",
    "    \n",
    "    y_pred += post_process(predict[1:], end-start, N_CLASSES)"
   ]
  },
  {
   "cell_type": "code",
   "execution_count": 304,
   "metadata": {},
   "outputs": [
    {
     "name": "stdout",
     "output_type": "stream",
     "text": [
      "Accuracy:  0.9807784718885152\n"
     ]
    }
   ],
   "source": [
    "accuracy = accuracy_score(y_test['TARGET'].tolist(), y_pred)\n",
    "print(\"Accuracy: \", accuracy)"
   ]
  },
  {
   "cell_type": "code",
   "execution_count": null,
   "metadata": {},
   "outputs": [],
   "source": []
  },
  {
   "cell_type": "code",
   "execution_count": null,
   "metadata": {},
   "outputs": [],
   "source": []
  },
  {
   "cell_type": "code",
   "execution_count": null,
   "metadata": {},
   "outputs": [],
   "source": []
  },
  {
   "cell_type": "code",
   "execution_count": null,
   "metadata": {},
   "outputs": [],
   "source": []
  }
 ],
 "metadata": {
  "environment": {
   "name": "tf2-gpu.2-1.m61",
   "type": "gcloud",
   "uri": "gcr.io/deeplearning-platform-release/tf2-gpu.2-1:m61"
  },
  "kernelspec": {
   "display_name": "Python 3",
   "language": "python",
   "name": "python3"
  },
  "language_info": {
   "codemirror_mode": {
    "name": "ipython",
    "version": 3
   },
   "file_extension": ".py",
   "mimetype": "text/x-python",
   "name": "python",
   "nbconvert_exporter": "python",
   "pygments_lexer": "ipython3",
   "version": "3.7.9"
  }
 },
 "nbformat": 4,
 "nbformat_minor": 4
}
