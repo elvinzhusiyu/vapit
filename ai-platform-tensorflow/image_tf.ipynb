{
 "cells": [
  {
   "cell_type": "code",
   "execution_count": 1,
   "metadata": {},
   "outputs": [],
   "source": [
    "# ==============================================================================\n",
    "# Copyright 2021 Google LLC. This software is provided as-is, without warranty\n",
    "# or representation for any use or purpose. Your use of it is subject to your\n",
    "# agreement with Google.\n",
    "# ==============================================================================\n",
    "#\n",
    "# Author: Chanchal Chatterjee\n",
    "# Email: cchatterjee@google.com\n",
    "#"
   ]
  },
  {
   "cell_type": "code",
   "execution_count": 2,
   "metadata": {},
   "outputs": [],
   "source": [
    "# To these first:\n",
    "# 1. Create a VM with TF 2.1\n",
    "# 2. Create the following buckets in your project:\n",
    "#    Root Bucket:               BUCKET_NAME    = 'tuti_asset'  'gs://$BUCKET_NAME'\n",
    "#    Model Results Directory:   FOLDER_RESULTS = 'tf_models'   'gs://$BUCKET_NAME/$FOLDER_RESULTS'\n",
    "# 3. In your VM create directory called ./model_dir\n"
   ]
  },
  {
   "cell_type": "code",
   "execution_count": 3,
   "metadata": {},
   "outputs": [],
   "source": [
    "# Uninstall old packages\n",
    "#!pip3 uninstall -r requirements-uninstall.txt -y\n"
   ]
  },
  {
   "cell_type": "code",
   "execution_count": 4,
   "metadata": {},
   "outputs": [
    {
     "name": "stdout",
     "output_type": "stream",
     "text": [
      "Collecting cloudml-hypertune\n",
      "  Downloading cloudml-hypertune-0.1.0.dev6.tar.gz (3.2 kB)\n",
      "Building wheels for collected packages: cloudml-hypertune\n",
      "  Building wheel for cloudml-hypertune (setup.py) ... \u001b[?25ldone\n",
      "\u001b[?25h  Created wheel for cloudml-hypertune: filename=cloudml_hypertune-0.1.0.dev6-py2.py3-none-any.whl size=3988 sha256=68cc5a454d18bf5375d11361f35271db3de890ad32c22844616f101dce47fab2\n",
      "  Stored in directory: /home/jupyter/.cache/pip/wheels/a7/ff/87/e7bed0c2741fe219b3d6da67c2431d7f7fedb183032e00f81e\n",
      "Successfully built cloudml-hypertune\n",
      "Installing collected packages: cloudml-hypertune\n",
      "Successfully installed cloudml-hypertune-0.1.0.dev6\n"
     ]
    }
   ],
   "source": [
    "# Install packages\n",
    "# https://cloud.google.com/ai-platform/training/docs/runtime-version-list\n",
    "#!pip3 install -r requirements-rt2.1.txt --user --ignore-installed\n",
    "\n",
    "# If VM created with TF2.1 Enterprise (no GPUs), all you need to install is cloudml-hypertune\n",
    "!pip3 install cloudml-hypertune --user --ignore-installed\n"
   ]
  },
  {
   "cell_type": "code",
   "execution_count": 5,
   "metadata": {},
   "outputs": [
    {
     "name": "stdout",
     "output_type": "stream",
     "text": [
      "TF Version=  2.4.1\n",
      "Keras Version=  2.4.0\n"
     ]
    }
   ],
   "source": [
    "# Import packages\n",
    "import warnings\n",
    "warnings.filterwarnings(\"ignore\")\n",
    "\n",
    "import os\n",
    "os.environ['TF_CPP_MIN_LOG_LEVEL'] = '2' \n",
    "#0 = all messages are logged (default behavior)\n",
    "#1 = INFO messages are not printed\n",
    "#2 = INFO and WARNING messages are not printed\n",
    "#3 = INFO, WARNING, and ERROR messages are not printed\n",
    "\n",
    "import numpy as np\n",
    "from google.cloud import storage\n",
    "import tensorflow as tf\n",
    "#import matplotlib.pyplot as plt\n",
    "#from tensorflow.keras import models\n",
    "\n",
    "print(\"TF Version= \", tf.__version__)\n",
    "print(\"Keras Version= \", tf.keras.__version__)\n"
   ]
  },
  {
   "cell_type": "code",
   "execution_count": 6,
   "metadata": {},
   "outputs": [],
   "source": [
    "# Utility functions\n",
    "\n",
    "#------\n",
    "def find_best_model_dir(model_dir, offset=1, maxFlag=1):\n",
    "    # Get a list of model directories\n",
    "    all_models = ! gsutil ls $model_dir\n",
    "    print(\"\")\n",
    "    print(\"All Models = \")\n",
    "    print(*all_models, sep='\\n')\n",
    "\n",
    "    # Check if model dirs exist\n",
    "    if ((\"CommandException\" in all_models[0]) or (len(all_models) <= 1)):\n",
    "        print(\"Create the models first.\")\n",
    "        return \"\"\n",
    "\n",
    "    # Find the best model from checkpoints\n",
    "    import re\n",
    "    best_acc = -np.Inf\n",
    "    if (maxFlag != 1):\n",
    "        best_acc = np.Inf\n",
    "    best_model_dir = \"\"\n",
    "    tup_list = []\n",
    "    for i in range(1,len(all_models)):\n",
    "        all_floats = re.findall(r\"[-+]?\\d*\\.\\d+|\\d+\", all_models[i]) #Find the floats in the string\n",
    "        cur_acc = -float(all_floats[-offset]) #which item is the model optimization metric\n",
    "        tup_list.append([all_models[i],cur_acc])\n",
    "        if (maxFlag*(cur_acc > best_acc) or (1-maxFlag)*(cur_acc < best_acc)):\n",
    "            best_acc = cur_acc\n",
    "            best_model_dir = all_models[i]\n",
    "    if maxFlag:\n",
    "        tup_list.sort(key=lambda tup: tup[1], reverse=False)\n",
    "    else:\n",
    "        tup_list.sort(key=lambda tup: tup[1], reverse=True)\n",
    "    for i in range(len(tup_list)):\n",
    "        print(tup_list[i][0])\n",
    "    print(\"Best Accuracy  from Checkpoints = \", best_acc)\n",
    "    print(\"Best Model Dir from Checkpoints = \", best_model_dir)\n",
    "    \n",
    "    return best_model_dir\n"
   ]
  },
  {
   "cell_type": "code",
   "execution_count": 7,
   "metadata": {},
   "outputs": [],
   "source": [
    "from oauth2client.client import GoogleCredentials\n",
    "from googleapiclient import discovery\n",
    "from googleapiclient import errors\n",
    "import json\n",
    "\n",
    "#------\n",
    "# Python module to get the best hypertuned model parameters\n",
    "def pyth_get_hypertuned_parameters(project_name, job_name, maxFlag):\n",
    "    # Define the credentials for the service account\n",
    "    #credentials = service_account.Credentials.from_service_account_file(<PATH TO CREDENTIALS JSON>)\n",
    "    credentials = GoogleCredentials.get_application_default()\n",
    "\n",
    "    # Define the project id and the job id and format it for the api request\n",
    "    project_id = 'projects/{}'.format(project_name)\n",
    "    job_id = '{}/jobs/{}'.format(project_id, job_name)\n",
    "\n",
    "    # Build the service\n",
    "    cloudml = discovery.build('ml', 'v1', cache_discovery=False, credentials=credentials)\n",
    "\n",
    "    # Execute the request and pass in the job id\n",
    "    request = cloudml.projects().jobs().get(name=job_id)\n",
    "\n",
    "    try:\n",
    "        response = request.execute()\n",
    "        # Handle a successful request\n",
    "    except errors.HttpError as err:\n",
    "        tf.compat.v1.logging.error('There was an error getting the hyperparameters. Check the details:')\n",
    "        tf.compat.v1.logging.error(err._get_reason())\n",
    "\n",
    "    # Get just the best hp values\n",
    "    if maxFlag:\n",
    "        best_model = response['trainingOutput']['trials'][0]\n",
    "    else:\n",
    "        best_model = response['trainingOutput']['trials'][-1]\n",
    "    #print('Best Hyperparameters:')\n",
    "    #print(json.dumps(best_model, indent=4))\n",
    "\n",
    "    nTrials = len(response['trainingOutput']['trials'])\n",
    "    for i in range(0,nTrials):\n",
    "        state = response['trainingOutput']['trials'][i]['state']\n",
    "        trialId = response['trainingOutput']['trials'][i]['trialId']\n",
    "        objV = -1\n",
    "        if (state == 'SUCCEEDED'):\n",
    "            objV = response['trainingOutput']['trials'][i]['finalMetric']['objectiveValue']\n",
    "        print('objective=', objV, ' trialId=', trialId, state)\n",
    "        d = response['trainingOutput']['trials'][i]['hyperparameters']\n",
    "        for key, value in d.items():\n",
    "            print('    ', key, value)\n",
    "    return best_model\n"
   ]
  },
  {
   "cell_type": "code",
   "execution_count": 8,
   "metadata": {},
   "outputs": [],
   "source": [
    "# Plot original images\n",
    "# image_array is np.array(num_images, x_size, y_size)\n",
    "\n",
    "import matplotlib.pyplot as plt\n",
    "\n",
    "def plot_images(image_array):\n",
    "    fig, axarr = plt.subplots(4,4, figsize=(8, 8))\n",
    "    for i in range(4):\n",
    "        for j in range(4):\n",
    "            #axarr[i,j].set_title('Image-'+str(4*i+j))\n",
    "            axarr[i,j].imshow(image_array[4*i+j,:,:], cmap='gray')\n"
   ]
  },
  {
   "cell_type": "markdown",
   "metadata": {},
   "source": [
    "# Setup"
   ]
  },
  {
   "cell_type": "code",
   "execution_count": 9,
   "metadata": {},
   "outputs": [
    {
     "data": {
      "text/plain": [
       "'cchatterjee-sandbox'"
      ]
     },
     "execution_count": 9,
     "metadata": {},
     "output_type": "execute_result"
    }
   ],
   "source": [
    "# Get the project id\n",
    "proj_id = !gcloud config list project --format \"value(core.project)\"\n",
    "proj_id[0]\n"
   ]
  },
  {
   "cell_type": "code",
   "execution_count": 29,
   "metadata": {},
   "outputs": [],
   "source": [
    "USER = 'cchatterj'\n",
    "PROJECT_ID = proj_id[0]\n",
    "BUCKET_NAME = 'vapit_data' #Use a unique name\n",
    "FOLDER_RESULTS = 'tf_models'\n",
    "REGION = 'us-central1'\n",
    "ZONE1 = 'us-central1-a'\n",
    "RUNTIME_VERSION = 2.4\n",
    "JOB_DIR   = 'gs://' + BUCKET_NAME + '/' + FOLDER_RESULTS + '/jobdir'\n",
    "MODEL_DIR = 'gs://' + BUCKET_NAME + '/' + FOLDER_RESULTS + '/models'\n"
   ]
  },
  {
   "cell_type": "code",
   "execution_count": 12,
   "metadata": {},
   "outputs": [
    {
     "name": "stdout",
     "output_type": "stream",
     "text": [
      "Updated property [core/project].\n",
      "\n",
      "\n",
      "To take a quick anonymous survey, run:\n",
      "  $ gcloud survey\n",
      "\n",
      "Updated property [compute/zone].\n",
      "Updated property [compute/region].\n",
      "[compute]\n",
      "region = us-central1\n",
      "zone = us-central1-a\n",
      "[core]\n",
      "account = cchatterjee@google.com\n",
      "disable_usage_reporting = True\n",
      "project = cchatterjee-sandbox\n",
      "\n",
      "Your active configuration is: [default]\n"
     ]
    }
   ],
   "source": [
    "!gcloud config set project $PROJECT_ID\n",
    "!gcloud config set compute/zone $ZONE1\n",
    "!gcloud config set compute/region $REGION\n",
    "!gcloud config list\n",
    "#!gcloud config config-helper --format \"value(configuration.properties.core.project)\"\n"
   ]
  },
  {
   "cell_type": "code",
   "execution_count": 13,
   "metadata": {},
   "outputs": [
    {
     "name": "stdout",
     "output_type": "stream",
     "text": [
      "CommandException: 1 files/objects could not be removed.\n",
      "CommandException: 1 files/objects could not be removed.\n"
     ]
    }
   ],
   "source": [
    "# Clean old job logs, job packages and models\n",
    "!gsutil -m -q rm $JOB_DIR/packages/**\n",
    "!gsutil -m -q rm $MODEL_DIR/model**\n"
   ]
  },
  {
   "cell_type": "markdown",
   "metadata": {},
   "source": [
    "# ML Model"
   ]
  },
  {
   "cell_type": "code",
   "execution_count": 14,
   "metadata": {},
   "outputs": [],
   "source": [
    "# Create the tf_trainer directory and load the trainer files in it\n",
    "!mkdir -p trainer\n"
   ]
  },
  {
   "cell_type": "code",
   "execution_count": 15,
   "metadata": {},
   "outputs": [
    {
     "name": "stdout",
     "output_type": "stream",
     "text": [
      "Writing ./trainer/inputs.py\n"
     ]
    }
   ],
   "source": [
    "%%writefile ./trainer/inputs.py\n",
    "\n",
    "# Create the train and label lists\n",
    "import math\n",
    "import numpy as np\n",
    "import pandas as pd\n",
    "import tensorflow as tf\n",
    "from sklearn.model_selection import train_test_split\n",
    "\n",
    "#------\n",
    "def load_data():\n",
    "\n",
    "    \"\"\"Creates train and test data set\"\"\"\n",
    "    mnist = tf.keras.datasets.mnist\n",
    "    (X_train, y_train),(X_test, y_test) = mnist.load_data()\n",
    "    X_train, X_test = X_train / 255.0, X_test / 255.0\n",
    "    \n",
    "    # Check the shape\n",
    "    print(\"X_train shape = \", X_train.shape)\n",
    "    print(\"X_test  shape = \", X_test.shape)\n",
    "    \n",
    "    print(\"y_train shape = \", y_train.shape)\n",
    "    print(\"y_test  shape = \", y_test.shape)\n",
    "\n",
    "    return [X_train, X_test, y_train, y_test]\n"
   ]
  },
  {
   "cell_type": "code",
   "execution_count": 16,
   "metadata": {},
   "outputs": [
    {
     "name": "stdout",
     "output_type": "stream",
     "text": [
      "Downloading data from https://storage.googleapis.com/tensorflow/tf-keras-datasets/mnist.npz\n",
      "11493376/11490434 [==============================] - 0s 0us/step\n",
      "X_train shape =  (60000, 28, 28)\n",
      "X_test  shape =  (10000, 28, 28)\n",
      "y_train shape =  (60000,)\n",
      "y_test  shape =  (10000,)\n"
     ]
    },
    {
     "data": {
      "image/png": "[encoded data removed]",
      "text/plain": [
       "<Figure size 576x576 with 16 Axes>"
      ]
     },
     "metadata": {
      "needs_background": "light"
     },
     "output_type": "display_data"
    }
   ],
   "source": [
    "from trainer import inputs\n",
    "train_test_data = inputs.load_data()\n",
    "X_test  = train_test_data[1]\n",
    "plot_images(X_test)\n"
   ]
  },
  {
   "cell_type": "code",
   "execution_count": 17,
   "metadata": {},
   "outputs": [
    {
     "name": "stdout",
     "output_type": "stream",
     "text": [
      "Writing ./trainer/model.py\n"
     ]
    }
   ],
   "source": [
    "%%writefile ./trainer/model.py\n",
    "\n",
    "import tensorflow as tf\n",
    "import numpy as np\n",
    "\n",
    "def tf_model(input_shape, model_depth: int = 1, dropout_rate: float = 0.02):\n",
    "    \"\"\"Creates the keras model used by task to train the model.\"\"\"\n",
    "    from tensorflow.keras.models import Sequential\n",
    "    from tensorflow.keras.layers import Dense, Flatten, Dropout\n",
    "\n",
    "    model = Sequential()\n",
    "    model.add(Flatten(input_shape=input_shape))\n",
    "    for i in range(0,model_depth):\n",
    "        nUnits = 28*28-(i+1)*((28*28-128)//model_depth)\n",
    "        model.add(Dense(nUnits, activation='relu'))\n",
    "        model.add(Dropout(dropout_rate))\n",
    "    model.add(Dense(10, activation='softmax'))\n",
    "\n",
    "    print(model.summary())\n",
    "\n",
    "    return model\n",
    "\n",
    "def custom_loss(y_true, y_pred):\n",
    "    custom_loss = mean(square(y_true - y_pred), axis=-1)\n",
    "    return custom_loss\n",
    "\n",
    "def custom_metric(y_true, y_pred):\n",
    "    custom_metric = mean(square(y_true - y_pred), axis=-1)\n",
    "    return custom_metric\n"
   ]
  },
  {
   "cell_type": "markdown",
   "metadata": {},
   "source": [
    "## Package for distributed training"
   ]
  },
  {
   "cell_type": "code",
   "execution_count": 38,
   "metadata": {},
   "outputs": [
    {
     "name": "stdout",
     "output_type": "stream",
     "text": [
      "Overwriting ./setup.py\n"
     ]
    }
   ],
   "source": [
    "%%writefile ./setup.py\n",
    "\n",
    "# python3\n",
    "\n",
    "# ==============================================================================\n",
    "# Copyright 2020 Google LLC. This software is provided as-is, without warranty\n",
    "# or representation for any use or purpose. Your use of it is subject to your\n",
    "# agreement with Google.\n",
    "# ==============================================================================\n",
    "\n",
    "# https://cloud.google.com/ai-platform/training/docs/runtime-version-list\n",
    "\n",
    "from setuptools import find_packages\n",
    "from setuptools import setup\n",
    "\n",
    "#Runtime 2.4\n",
    "REQUIRED_PACKAGES = ['tensorflow==2.4.1',\n",
    "                     'numpy==1.19.4',\n",
    "                     'pandas==1.1.5',\n",
    "                     'scikit-learn==0.24.0',\n",
    "                     'google-cloud-storage==1.35.0',\n",
    "                     'gcsfs',\n",
    "                     'cloudml-hypertune',\n",
    "                    ]\n",
    "setup(\n",
    "    name='trainer',\n",
    "    version='0.1',\n",
    "    install_requires=REQUIRED_PACKAGES,\n",
    "    packages=find_packages(),\n",
    "    include_package_data=True,\n",
    "    description='Trainer package for Tensorflow Task'\n",
    ")\n"
   ]
  },
  {
   "cell_type": "markdown",
   "metadata": {},
   "source": [
    "## Training functions"
   ]
  },
  {
   "cell_type": "code",
   "execution_count": 20,
   "metadata": {},
   "outputs": [
    {
     "name": "stdout",
     "output_type": "stream",
     "text": [
      "Writing ./trainer/__init__.py\n"
     ]
    }
   ],
   "source": [
    "%%writefile ./trainer/__init__.py\n",
    "# python3\n",
    "\n",
    "# ==============================================================================\n",
    "# Copyright 2020 Google LLC. This software is provided as-is, without warranty\n",
    "# or representation for any use or purpose. Your use of it is subject to your\n",
    "# agreement with Google.\n",
    "# ==============================================================================\n"
   ]
  },
  {
   "cell_type": "code",
   "execution_count": 30,
   "metadata": {},
   "outputs": [
    {
     "name": "stdout",
     "output_type": "stream",
     "text": [
      "Overwriting ./trainer/train.py\n"
     ]
    }
   ],
   "source": [
    "%%writefile ./trainer/train.py\n",
    "\n",
    "# python3\n",
    "# ==============================================================================\n",
    "# Copyright 2020 Google LLC. This software is provided as-is, without warranty\n",
    "# or representation for any use or purpose. Your use of it is subject to your\n",
    "# agreement with Google.\n",
    "# ==============================================================================\n",
    "\n",
    "import os\n",
    "import json\n",
    "import tensorflow as tf\n",
    "import numpy as np\n",
    "import datetime as datetime\n",
    "from pytz import timezone\n",
    "import hypertune\n",
    "import argparse\n",
    "from trainer import model\n",
    "from trainer import inputs\n",
    "\n",
    "\n",
    "import warnings\n",
    "warnings.filterwarnings(\"ignore\")\n",
    "\n",
    "import os\n",
    "os.environ['TF_CPP_MIN_LOG_LEVEL'] = '3' \n",
    "#0 = all messages are logged (default behavior)\n",
    "#1 = INFO messages are not printed\n",
    "#2 = INFO and WARNING messages are not printed\n",
    "#3 = INFO, WARNING, and ERROR messages are not printed\n",
    "\n",
    "def parse_arguments():\n",
    "    \"\"\"Argument parser.\n",
    "    Returns:\n",
    "      Dictionary of arguments.\n",
    "    \"\"\"\n",
    "    parser = argparse.ArgumentParser()\n",
    "    parser.add_argument('--model_depth', default=1, type=int,\n",
    "                        help='Hyperparameter: depth of the model')\n",
    "    parser.add_argument('--dropout_rate', default=0.02, type=float, \n",
    "                        help='Hyperparameter: Drop out rate')\n",
    "    parser.add_argument('--learning_rate', default=0.0001, type=float, \n",
    "                        help='Hyperparameter: initial learning rate')\n",
    "    parser.add_argument('--epochs', default=2, type=int,\n",
    "                        help='Hyperparameter: epoch.')\n",
    "    parser.add_argument('--batch_size', default=4, type=int, \n",
    "                        help='batch size of the deep network')\n",
    "    parser.add_argument('--model_dir', default=\"\",\n",
    "                        help='Directory to store model checkpoints and logs.')\n",
    "    parser.add_argument('--verbosity',choices=['DEBUG', 'ERROR', 'FATAL', 'INFO', 'WARN'],\n",
    "                        default='FATAL')\n",
    "    args, _ = parser.parse_known_args()\n",
    "    return args\n",
    "\n",
    "def get_callbacks(args, early_stop_patience: int = 3):\n",
    "    \"\"\"Creates Keras callbacks for model training.\"\"\"\n",
    "\n",
    "    # Get trialId\n",
    "    trialId = json.loads(os.environ.get(\"TF_CONFIG\", \"{}\")).get(\"task\", {}).get(\"trial\", \"\")\n",
    "    if trialId == '':\n",
    "        trialId = '0'\n",
    "    print(\"trialId=\", trialId)\n",
    "\n",
    "    curTime = datetime.datetime.now(timezone('US/Pacific')).strftime('%H%M%S')\n",
    "    \n",
    "    # Modify model_dir paths to include trialId\n",
    "    model_dir = args.model_dir + \"/checkpoints/cp-\"+curTime+\"-\"+trialId+\"-{val_accuracy:.4f}\"\n",
    "    log_dir   = args.model_dir + \"/log_dir\"\n",
    "\n",
    "    tensorboard_cb = tf.keras.callbacks.TensorBoard(log_dir, histogram_freq=1)\n",
    "    checkpoint_cb  = tf.keras.callbacks.ModelCheckpoint(model_dir, monitor='val_accuracy', mode='max', \n",
    "                                                        verbose=0, save_best_only=True,\n",
    "                                                        save_weights_only=False)\n",
    "    earlystop_cb   = tf.keras.callbacks.EarlyStopping(monitor='val_accuracy', patience=3)\n",
    "\n",
    "    return [checkpoint_cb, tensorboard_cb, earlystop_cb]\n",
    "\n",
    "\n",
    "if __name__ == \"__main__\":\n",
    "\n",
    "    # ---------------------------------------\n",
    "    # Parse Arguments\n",
    "    # ---------------------------------------\n",
    "    args = parse_arguments()\n",
    "    #args.model_dir = MODEL_DIR + datetime.datetime.now(timezone('US/Pacific')).strftime('/model_%m%d%Y_%H%M')\n",
    "    print(args)\n",
    "\n",
    "    # ---------------------------------------\n",
    "    # Input Data & Preprocessing\n",
    "    # ---------------------------------------\n",
    "    print(\"Input and pre-process data ...\")\n",
    "    # Extract train_seismic, train_label\n",
    "    train_test_data = inputs.load_data()\n",
    "    X_train = train_test_data[0]\n",
    "    X_test  = train_test_data[1]\n",
    "    y_train = train_test_data[2]\n",
    "    y_test  = train_test_data[3]\n",
    "\n",
    "    # ---------------------------------------\n",
    "    # Train model\n",
    "    # ---------------------------------------\n",
    "    print(\"Creating model ...\")\n",
    "    tf_model = model.tf_model((28,28), model_depth=args.model_depth,\n",
    "                              dropout_rate=args.dropout_rate)\n",
    "    \n",
    "    optimizer = tf.keras.optimizers.Adam(learning_rate=args.learning_rate)\n",
    "    tf_model.compile(optimizer=optimizer,\n",
    "                     loss='sparse_categorical_crossentropy',\n",
    "                     metrics=['accuracy'])\n",
    "    \n",
    "    print(\"Fitting model ...\")\n",
    "    callbacks = get_callbacks(args, 3)\n",
    "    histy = tf_model.fit(x=X_train, y=y_train,\n",
    "                         epochs=args.epochs,\n",
    "                         batch_size=args.batch_size,\n",
    "                         validation_data=(X_test, y_test),\n",
    "                         callbacks=callbacks)\n",
    "    # TBD save history for visualization\n",
    "\n",
    "    final_epoch_accuracy = histy.history['accuracy'][-1]\n",
    "    final_epoch_count = len(histy.history['accuracy'])\n",
    "\n",
    "    print('final_epoch_accuracy = %.6f' % final_epoch_accuracy)\n",
    "    print('final_epoch_count = %2d' % final_epoch_count)\n"
   ]
  },
  {
   "cell_type": "code",
   "execution_count": 31,
   "metadata": {},
   "outputs": [
    {
     "name": "stdout",
     "output_type": "stream",
     "text": [
      "MODEL_DEPTH =  2\n",
      "DROPOUT_RATE = 0.0100\n",
      "LEARNING_RATE = 0.000050\n",
      "EPOCHS =  1\n",
      "BATCH_SIZE = 32\n",
      "MODEL_DIR = gs://vapit_data/tf_models/models/model_06082021_2017\n",
      "Namespace(batch_size=32, dropout_rate=0.01, epochs=1, learning_rate=5e-05, model_depth=2, model_dir='gs://vapit_data/tf_models/models/model_06082021_2017', verbosity='FATAL')\n",
      "Input and pre-process data ...\n",
      "X_train shape =  (60000, 28, 28)\n",
      "X_test  shape =  (10000, 28, 28)\n",
      "y_train shape =  (60000,)\n",
      "y_test  shape =  (10000,)\n",
      "Creating model ...\n",
      "Model: \"sequential\"\n",
      "_________________________________________________________________\n",
      "Layer (type)                 Output Shape              Param #   \n",
      "=================================================================\n",
      "flatten (Flatten)            (None, 784)               0         \n",
      "_________________________________________________________________\n",
      "dense (Dense)                (None, 456)               357960    \n",
      "_________________________________________________________________\n",
      "dropout (Dropout)            (None, 456)               0         \n",
      "_________________________________________________________________\n",
      "dense_1 (Dense)              (None, 128)               58496     \n",
      "_________________________________________________________________\n",
      "dropout_1 (Dropout)          (None, 128)               0         \n",
      "_________________________________________________________________\n",
      "dense_2 (Dense)              (None, 10)                1290      \n",
      "=================================================================\n",
      "Total params: 417,746\n",
      "Trainable params: 417,746\n",
      "Non-trainable params: 0\n",
      "_________________________________________________________________\n",
      "None\n",
      "Fitting model ...\n",
      "trialId= 0\n",
      "1875/1875 [==============================] - 14s 7ms/step - loss: 0.9564 - accuracy: 0.7584 - val_loss: 0.2552 - val_accuracy: 0.9283\n",
      "final_epoch_accuracy = 0.863350\n",
      "final_epoch_count =  1\n",
      "CPU times: user 606 ms, sys: 181 ms, total: 788 ms\n",
      "Wall time: 28.5 s\n"
     ]
    }
   ],
   "source": [
    "%%time\n",
    "# Run the training manually\n",
    "# Training parameters\n",
    "from datetime import datetime\n",
    "from pytz import timezone\n",
    "\n",
    "MODEL_DEPTH = 2\n",
    "DROPOUT_RATE = 0.01\n",
    "LEARNING_RATE = 0.00005\n",
    "EPOCHS = 1\n",
    "BATCH_SIZE = 32\n",
    "\n",
    "MODEL_DIR_PYTH = MODEL_DIR + datetime.now(timezone('US/Pacific')).strftime('/model_%m%d%Y_%H%M')\n",
    "\n",
    "print('MODEL_DEPTH = %2d' % MODEL_DEPTH)\n",
    "print('DROPOUT_RATE = %.4f' % DROPOUT_RATE)\n",
    "print('LEARNING_RATE = %.6f' % LEARNING_RATE)\n",
    "print('EPOCHS = %2d' % EPOCHS)\n",
    "print('BATCH_SIZE = %2d' % BATCH_SIZE)\n",
    "print(\"MODEL_DIR =\", MODEL_DIR_PYTH)\n",
    "\n",
    "# Run training\n",
    "! python3 -m trainer.train \\\n",
    "    --model_depth=$MODEL_DEPTH \\\n",
    "    --dropout_rate=$DROPOUT_RATE \\\n",
    "    --learning_rate=$LEARNING_RATE \\\n",
    "    --epochs=$EPOCHS \\\n",
    "    --batch_size=$BATCH_SIZE \\\n",
    "    --model_dir=$MODEL_DIR_PYTH \n"
   ]
  },
  {
   "cell_type": "code",
   "execution_count": 32,
   "metadata": {},
   "outputs": [
    {
     "name": "stdout",
     "output_type": "stream",
     "text": [
      "\n",
      "All Models = \n",
      "gs://vapit_data/tf_models/models/model_06082021_2017/checkpoints/\n",
      "gs://vapit_data/tf_models/models/model_06082021_2017/checkpoints/cp-201801-0-0.9283/\n",
      "gs://vapit_data/tf_models/models/model_06082021_2017/checkpoints/cp-201801-0-0.9283/\n",
      "Best Accuracy  from Checkpoints =  0.9283\n",
      "Best Model Dir from Checkpoints =  gs://vapit_data/tf_models/models/model_06082021_2017/checkpoints/cp-201801-0-0.9283/\n"
     ]
    }
   ],
   "source": [
    "# Test with latest saved model\n",
    "best_model_dir_pyth = find_best_model_dir(MODEL_DIR_PYTH+'/checkpoints', offset=1, maxFlag=1)\n",
    "#acc = test_saved_model(best_model_dir_pyth, 0)\n"
   ]
  },
  {
   "cell_type": "code",
   "execution_count": 33,
   "metadata": {},
   "outputs": [
    {
     "name": "stdout",
     "output_type": "stream",
     "text": [
      "Copying gs://vapit_data/tf_models/models/model_06082021_2017/checkpoints/cp-201801-0-0.9283/saved_model.pb...\n",
      "Copying gs://vapit_data/tf_models/models/model_06082021_2017/checkpoints/cp-201801-0-0.9283/variables/variables.data-00000-of-00001...\n",
      "Copying gs://vapit_data/tf_models/models/model_06082021_2017/checkpoints/cp-201801-0-0.9283/variables/variables.index...\n",
      "Signature  _SignatureMap({'serving_default': <ConcreteFunction signature_wrapper(*, flatten_input) at 0x7F77AFB85DD0>})\n",
      "\n",
      "CPU times: user 311 ms, sys: 109 ms, total: 420 ms\n",
      "Wall time: 2.58 s\n"
     ]
    },
    {
     "data": {
      "image/png": "[encoded data removed]",
      "text/plain": [
       "<IPython.core.display.Image object>"
      ]
     },
     "execution_count": 33,
     "metadata": {},
     "output_type": "execute_result"
    }
   ],
   "source": [
    "%%time\n",
    "\n",
    "#***CREATE model_dir in local VM***\n",
    "!mkdir -p model_dir\n",
    "\n",
    "from trainer import model\n",
    "\n",
    "# Copy the model from storage to local memory\n",
    "!gsutil -m cp -r $best_model_dir_pyth* ./model_dir\n",
    "\n",
    "# Load the model\n",
    "loaded_model = tf.keras.models.load_model('./model_dir', compile=False)#, \n",
    "               #custom_objects={\"custom_loss\": model.custom_loss, \"custom_mse\": model.custom_mse})\n",
    "print(\"Signature \", loaded_model.signatures)\n",
    "print(\"\")\n",
    "\n",
    "# Display model\n",
    "tf.keras.utils.plot_model(loaded_model, show_shapes=True)\n"
   ]
  },
  {
   "cell_type": "markdown",
   "metadata": {},
   "source": [
    "------\n",
    "# Training"
   ]
  },
  {
   "cell_type": "code",
   "execution_count": 34,
   "metadata": {},
   "outputs": [],
   "source": [
    "# Create the config directory and load the trainer files in it\n",
    "!mkdir -p config\n"
   ]
  },
  {
   "cell_type": "code",
   "execution_count": 35,
   "metadata": {},
   "outputs": [
    {
     "name": "stdout",
     "output_type": "stream",
     "text": [
      "Overwriting ./config/config.yaml\n"
     ]
    }
   ],
   "source": [
    "%%writefile ./config/config.yaml\n",
    "\n",
    "# python3\n",
    "# ==============================================================================\n",
    "# Copyright 2020 Google LLC. This software is provided as-is, without warranty\n",
    "# or representation for any use or purpose. Your use of it is subject to your\n",
    "# agreement with Google.\n",
    "# ==============================================================================\n",
    "\n",
    "# https://cloud.google.com/sdk/gcloud/reference/ai-platform/jobs/submit/training#--scale-tier\n",
    "# https://www.kaggle.com/c/passenger-screening-algorithm-challenge/discussion/37087\n",
    "# https://cloud.google.com/ai-platform/training/docs/using-gpus\n",
    "\n",
    "#trainingInput:\n",
    "#    scaleTier: CUSTOM\n",
    "#    masterType: n1-highmem-16\n",
    "#    masterConfig:\n",
    "#        acceleratorConfig:\n",
    "#            count: 2\n",
    "#            type: NVIDIA_TESLA_V100\n",
    "\n",
    "#trainingInput:\n",
    "#  scaleTier: CUSTOM\n",
    "#  masterType: n1-highmem-8\n",
    "#  masterConfig:\n",
    "#    acceleratorConfig:\n",
    "#      count: 1\n",
    "#      type: NVIDIA_TESLA_T4\n",
    "\n",
    "#  masterType: n1-highcpu-16\n",
    "#  workerType: cloud_tpu\n",
    "#  workerCount: 1\n",
    "#  workerConfig:\n",
    "#    acceleratorConfig:\n",
    "#      type: TPU_V3\n",
    "#      count: 8\n",
    "\n",
    "#trainingInput:\n",
    "#  scaleTier: CUSTOM\n",
    "#  masterType: complex_model_m\n",
    "#  workerType: complex_model_m\n",
    "#  parameterServerType: large_model\n",
    "#  workerCount: 6\n",
    "#  parameterServerCount: 1\n",
    "#  scheduling:\n",
    "#    maxWaitTime: 3600s\n",
    "#    maxRunningTime: 7200s\n",
    "\n",
    "#trainingInput:\n",
    "#  runtimeVersion: \"2.1\"\n",
    "#  scaleTier: CUSTOM\n",
    "#  masterType: standard_gpu\n",
    "#  workerCount: 9\n",
    "#  workerType: standard_gpu\n",
    "#  parameterServerCount: 3\n",
    "#  parameterServerType: standard\n",
    "\n",
    "#trainingInput:\n",
    "#  scaleTier: BASIC-GPU\n",
    "    \n",
    "#trainingInput:\n",
    "#  region: us-central1\n",
    "#  scaleTier: CUSTOM\n",
    "#  masterType: complex_model_m\n",
    "#  workerType: complex_model_m_gpu\n",
    "#  parameterServerType: large_model\n",
    "#  workerCount: 4\n",
    "#  parameterServerCount: 2\n",
    "\n",
    "trainingInput:\n",
    "  scaleTier: standard-1\n"
   ]
  },
  {
   "cell_type": "code",
   "execution_count": 36,
   "metadata": {},
   "outputs": [
    {
     "name": "stdout",
     "output_type": "stream",
     "text": [
      "Job Name =  tf_train_cchatterj_060821_2018\n",
      "Job Dir  =  gs://vapit_data/tf_models/jobdir\n",
      "MODEL_DIR = gs://vapit_data/tf_models/models/model_06082021_2018\n",
      "MODEL_DEPTH =  3\n",
      "DROPOUT_RATE = 0.0200\n",
      "LEARNING_RATE = 0.000100\n",
      "EPOCHS =  2\n",
      "BATCH_SIZE = 32\n"
     ]
    }
   ],
   "source": [
    "from datetime import datetime\n",
    "from pytz import timezone\n",
    "JOBNAME_TRN = 'tf_train_'+ USER + '_' + \\\n",
    "           datetime.now(timezone('US/Pacific')).strftime(\"%m%d%y_%H%M\")\n",
    "JOB_CONFIG = \"config/config.yaml\"\n",
    "MODEL_DIR_TRN = MODEL_DIR + datetime.now(timezone('US/Pacific')).strftime('/model_%m%d%Y_%H%M')\n",
    "\n",
    "print(\"Job Name = \", JOBNAME_TRN)\n",
    "print(\"Job Dir  = \", JOB_DIR)\n",
    "print(\"MODEL_DIR =\", MODEL_DIR_TRN)\n",
    "\n",
    "# Training parameters\n",
    "MODEL_DEPTH = 3\n",
    "DROPOUT_RATE = 0.02\n",
    "LEARNING_RATE = 0.0001\n",
    "EPOCHS = 2\n",
    "BATCH_SIZE = 32\n",
    "\n",
    "print('MODEL_DEPTH = %2d' % MODEL_DEPTH)\n",
    "print('DROPOUT_RATE = %.4f' % DROPOUT_RATE)\n",
    "print('LEARNING_RATE = %.6f' % LEARNING_RATE)\n",
    "print('EPOCHS = %2d' % EPOCHS)\n",
    "print('BATCH_SIZE = %2d' % BATCH_SIZE)\n"
   ]
  },
  {
   "cell_type": "code",
   "execution_count": 39,
   "metadata": {},
   "outputs": [
    {
     "name": "stdout",
     "output_type": "stream",
     "text": [
      "Job [tf_train_cchatterj_060821_2018] submitted successfully.\n",
      "Your job is still active. You may view the status of your job with the command\n",
      "\n",
      "  $ gcloud ai-platform jobs describe tf_train_cchatterj_060821_2018\n",
      "\n",
      "or continue streaming the logs with the command\n",
      "\n",
      "  $ gcloud ai-platform jobs stream-logs tf_train_cchatterj_060821_2018\n",
      "jobId: tf_train_cchatterj_060821_2018\n",
      "state: QUEUED\n"
     ]
    }
   ],
   "source": [
    "# https://cloud.google.com/sdk/gcloud/reference/ai-platform/jobs/submit/training\n",
    "\n",
    "TRAIN_LABELS = \"mode=train,owner=\"+USER\n",
    "\n",
    "# submit the training job\n",
    "! gcloud ai-platform jobs submit training $JOBNAME_TRN \\\n",
    "  --package-path $(pwd)/trainer \\\n",
    "  --module-name trainer.train \\\n",
    "  --region $REGION \\\n",
    "  --python-version 3.7 \\\n",
    "  --runtime-version $RUNTIME_VERSION \\\n",
    "  --job-dir $JOB_DIR \\\n",
    "  --config $JOB_CONFIG \\\n",
    "  --labels $TRAIN_LABELS \\\n",
    "  -- \\\n",
    "  --model_depth=$MODEL_DEPTH \\\n",
    "  --dropout_rate=$DROPOUT_RATE \\\n",
    "  --learning_rate=$LEARNING_RATE \\\n",
    "  --epochs=$EPOCHS \\\n",
    "  --batch_size=$BATCH_SIZE \\\n",
    "  --model_dir=$MODEL_DIR_TRN\n"
   ]
  },
  {
   "cell_type": "code",
   "execution_count": 40,
   "metadata": {},
   "outputs": [
    {
     "name": "stdout",
     "output_type": "stream",
     "text": [
      "createTime: '2021-06-09T03:20:46Z'\n",
      "endTime: '2021-06-09T03:30:51Z'\n",
      "etag: jW1_c92Lg4c=\n",
      "jobId: tf_train_cchatterj_060821_2018\n",
      "labels:\n",
      "  mode: train\n",
      "  owner: cchatterj\n",
      "startTime: '2021-06-09T03:30:51Z'\n",
      "state: SUCCEEDED\n",
      "trainingInput:\n",
      "  args:\n",
      "  - --model_depth=3\n",
      "  - --dropout_rate=0.02\n",
      "  - --learning_rate=0.0001\n",
      "  - --epochs=2\n",
      "  - --batch_size=32\n",
      "  - --model_dir=gs://vapit_data/tf_models/models/model_06082021_2018\n",
      "  jobDir: gs://vapit_data/tf_models/jobdir\n",
      "  packageUris:\n",
      "  - gs://vapit_data/tf_models/jobdir/packages/493e1b7f627860c01ff5d675fd8830c5bb26c891759870fa68b3f828fe058d49/trainer-0.1.tar.gz\n",
      "  pythonModule: trainer.train\n",
      "  pythonVersion: '3.7'\n",
      "  region: us-central1\n",
      "  runtimeVersion: '2.4'\n",
      "  scaleTier: STANDARD_1\n",
      "trainingOutput: {}\n",
      "\n",
      "View job in the Cloud Console at:\n",
      "https://console.cloud.google.com/mlengine/jobs/tf_train_cchatterj_060821_2018?project=cchatterjee-sandbox\n",
      "\n",
      "View logs at:\n",
      "https://console.cloud.google.com/logs?resource=ml_job%2Fjob_id%2Ftf_train_cchatterj_060821_2018&project=cchatterjee-sandbox\n"
     ]
    }
   ],
   "source": [
    "# check the training job status\n",
    "! gcloud ai-platform jobs describe $JOBNAME_TRN\n"
   ]
  },
  {
   "cell_type": "code",
   "execution_count": 43,
   "metadata": {},
   "outputs": [],
   "source": [
    "# Print Errors\n",
    "if 0:\n",
    "    response = ! gcloud logging read \"resource.labels.job_id=$JOBNAME_TRN severity>=ERROR\"\n",
    "    for i in range(0,len(response)):\n",
    "        if 'message' in response[i]:\n",
    "            print(response[i])"
   ]
  },
  {
   "cell_type": "code",
   "execution_count": 44,
   "metadata": {},
   "outputs": [
    {
     "name": "stdout",
     "output_type": "stream",
     "text": [
      "\n",
      "All Models = \n",
      "gs://vapit_data/tf_models/models/model_06082021_2018/checkpoints/\n",
      "gs://vapit_data/tf_models/models/model_06082021_2018/checkpoints/cp-202957-0-0.9563/\n",
      "gs://vapit_data/tf_models/models/model_06082021_2018/checkpoints/cp-202957-0-0.9673/\n",
      "gs://vapit_data/tf_models/models/model_06082021_2018/checkpoints/cp-203003-0-0.9532/\n",
      "gs://vapit_data/tf_models/models/model_06082021_2018/checkpoints/cp-203003-0-0.9683/\n",
      "gs://vapit_data/tf_models/models/model_06082021_2018/checkpoints/cp-203014-0-0.9494/\n",
      "gs://vapit_data/tf_models/models/model_06082021_2018/checkpoints/cp-203014-0-0.9667/\n",
      "gs://vapit_data/tf_models/models/model_06082021_2018/checkpoints/cp-203016-0-0.9520/\n",
      "gs://vapit_data/tf_models/models/model_06082021_2018/checkpoints/cp-203016-0-0.9668/\n",
      "gs://vapit_data/tf_models/models/model_06082021_2018/checkpoints/cp-203030-0-0.9531/\n",
      "gs://vapit_data/tf_models/models/model_06082021_2018/checkpoints/cp-203030-0-0.9551/\n",
      "gs://vapit_data/tf_models/models/model_06082021_2018/checkpoints/cp-203030-0-0.9662/\n",
      "gs://vapit_data/tf_models/models/model_06082021_2018/checkpoints/cp-203030-0-0.9683/\n",
      "gs://vapit_data/tf_models/models/model_06082021_2018/checkpoints/cp-203047-0-0.9562/\n",
      "gs://vapit_data/tf_models/models/model_06082021_2018/checkpoints/cp-203047-0-0.9672/\n",
      "gs://vapit_data/tf_models/models/model_06082021_2018/checkpoints/cp-203055-0-0.9548/\n",
      "gs://vapit_data/tf_models/models/model_06082021_2018/checkpoints/cp-203055-0-0.9656/\n",
      "gs://vapit_data/tf_models/models/model_06082021_2018/checkpoints/cp-203014-0-0.9494/\n",
      "gs://vapit_data/tf_models/models/model_06082021_2018/checkpoints/cp-203016-0-0.9520/\n",
      "gs://vapit_data/tf_models/models/model_06082021_2018/checkpoints/cp-203030-0-0.9531/\n",
      "gs://vapit_data/tf_models/models/model_06082021_2018/checkpoints/cp-203003-0-0.9532/\n",
      "gs://vapit_data/tf_models/models/model_06082021_2018/checkpoints/cp-203055-0-0.9548/\n",
      "gs://vapit_data/tf_models/models/model_06082021_2018/checkpoints/cp-203030-0-0.9551/\n",
      "gs://vapit_data/tf_models/models/model_06082021_2018/checkpoints/cp-203047-0-0.9562/\n",
      "gs://vapit_data/tf_models/models/model_06082021_2018/checkpoints/cp-202957-0-0.9563/\n",
      "gs://vapit_data/tf_models/models/model_06082021_2018/checkpoints/cp-203055-0-0.9656/\n",
      "gs://vapit_data/tf_models/models/model_06082021_2018/checkpoints/cp-203030-0-0.9662/\n",
      "gs://vapit_data/tf_models/models/model_06082021_2018/checkpoints/cp-203014-0-0.9667/\n",
      "gs://vapit_data/tf_models/models/model_06082021_2018/checkpoints/cp-203016-0-0.9668/\n",
      "gs://vapit_data/tf_models/models/model_06082021_2018/checkpoints/cp-203047-0-0.9672/\n",
      "gs://vapit_data/tf_models/models/model_06082021_2018/checkpoints/cp-202957-0-0.9673/\n",
      "gs://vapit_data/tf_models/models/model_06082021_2018/checkpoints/cp-203003-0-0.9683/\n",
      "gs://vapit_data/tf_models/models/model_06082021_2018/checkpoints/cp-203030-0-0.9683/\n",
      "Best Accuracy  from Checkpoints =  0.9683\n",
      "Best Model Dir from Checkpoints =  gs://vapit_data/tf_models/models/model_06082021_2018/checkpoints/cp-203003-0-0.9683/\n"
     ]
    }
   ],
   "source": [
    "# Test with latest saved model\n",
    "best_model_dir_trn = find_best_model_dir(MODEL_DIR_TRN+'/checkpoints', offset=1, maxFlag=1)\n",
    "#acc = test_saved_model(best_model_dir_trn, 0)\n"
   ]
  },
  {
   "cell_type": "markdown",
   "metadata": {},
   "source": [
    "------\n",
    "# Hyper Parameter Tuning"
   ]
  },
  {
   "cell_type": "code",
   "execution_count": 45,
   "metadata": {},
   "outputs": [],
   "source": [
    "# Create the tf directory and load the trainer files in it\n",
    "!cp ./trainer/train.py ./trainer/train_hpt.py\n"
   ]
  },
  {
   "cell_type": "code",
   "execution_count": 46,
   "metadata": {},
   "outputs": [
    {
     "name": "stdout",
     "output_type": "stream",
     "text": [
      "Appending to ./trainer/train_hpt.py\n"
     ]
    }
   ],
   "source": [
    "%%writefile -a ./trainer/train_hpt.py\n",
    "\n",
    "    \"\"\"This method updates a CAIP HPTuning Job with a final metric for the job.\n",
    "    In TF2.X the user must either use hypertune or a custom callback with\n",
    "    tf.summary.scalar to update CAIP HP Tuning jobs. This function uses\n",
    "    hypertune, which appears to be the preferred solution. Hypertune also works\n",
    "    with containers, without code change.\n",
    "    Args:\n",
    "        metric_tag: The metric being optimized.  This MUST MATCH the\n",
    "          hyperparameterMetricTag specificed in the hyperparameter tuning yaml.\n",
    "        metric_value: The value to report at the end of model training.\n",
    "        global_step: An int value to specify the number of trainin steps completed\n",
    "          at the time the metric was reported.\n",
    "    \"\"\"\n",
    "\n",
    "    hpt = hypertune.HyperTune()\n",
    "    hpt.report_hyperparameter_tuning_metric(\n",
    "        hyperparameter_metric_tag='accuracy',\n",
    "        metric_value=final_epoch_accuracy,\n",
    "        global_step=final_epoch_count\n",
    "    )\n"
   ]
  },
  {
   "cell_type": "code",
   "execution_count": 47,
   "metadata": {},
   "outputs": [
    {
     "name": "stdout",
     "output_type": "stream",
     "text": [
      "Writing ./config/hptuning_config.yaml\n"
     ]
    }
   ],
   "source": [
    "%%writefile ./config/hptuning_config.yaml\n",
    "\n",
    "# python3\n",
    "# ==============================================================================\n",
    "# Copyright 2020 Google LLC. This software is provided as-is, without warranty\n",
    "# or representation for any use or purpose. Your use of it is subject to your\n",
    "# agreement with Google.\n",
    "# ==============================================================================\n",
    "\n",
    "# https://cloud.google.com/ai-platform/training/docs/reference/rest/v1/projects.jobs\n",
    "# https://cloud.google.com/sdk/gcloud/reference/ai-platform/jobs/submit/training\n",
    "\n",
    "#trainingInput:\n",
    "#  scaleTier: CUSTOM\n",
    "#  masterType: n1-highmem-8\n",
    "#  masterConfig:\n",
    "#    acceleratorConfig:\n",
    "#      count: 1\n",
    "#      type: NVIDIA_TESLA_T4\n",
    "#\n",
    "#  masterType: standard_p100\n",
    "#  workerType: standard_p100\n",
    "#  parameterServerType: standard_p100\n",
    "#  workerCount: 8\n",
    "#  parameterServerCount: 1\n",
    "#  runtimeVersion: $RUNTIME_VERSION\n",
    "#  pythonVersion: '3.7'\n",
    "\n",
    "#trainingInput:\n",
    "#  scaleTier: CUSTOM\n",
    "#  masterType: complex_model_m\n",
    "#  workerType: complex_model_m\n",
    "#  parameterServerType: large_model\n",
    "#  workerCount: 9\n",
    "#  parameterServerCount: 3\n",
    "#  scheduling:\n",
    "#    maxWaitTime: 3600s\n",
    "#    maxRunningTime: 7200s\n",
    "\n",
    "#trainingInput:\n",
    "#  scaleTier: BASIC-GPU\n",
    "\n",
    "#trainingInput:\n",
    "#  scaleTier: CUSTOM\n",
    "#  masterType: n1-highmem-16\n",
    "#  masterConfig:\n",
    "#    acceleratorConfig:\n",
    "#      count: 2\n",
    "#      type: NVIDIA_TESLA_V100\n",
    "\n",
    "trainingInput:\n",
    "  scaleTier: STANDARD-1\n",
    "  hyperparameters:\n",
    "    goal: MAXIMIZE\n",
    "    hyperparameterMetricTag: accuracy\n",
    "    maxTrials: 4\n",
    "    maxParallelTrials: 4\n",
    "    enableTrialEarlyStopping: True\n",
    "    params:\n",
    "    - parameterName: model_depth\n",
    "      type: INTEGER\n",
    "      minValue: 2\n",
    "      maxValue: 4\n",
    "      scaleType: UNIT_LINEAR_SCALE\n",
    "    - parameterName: epochs\n",
    "      type: INTEGER\n",
    "      minValue: 1\n",
    "      maxValue: 3\n",
    "      scaleType: UNIT_LINEAR_SCALE\n"
   ]
  },
  {
   "cell_type": "code",
   "execution_count": 48,
   "metadata": {},
   "outputs": [
    {
     "name": "stdout",
     "output_type": "stream",
     "text": [
      "Job Name =  tf_hptrn_cchatterj_060821_2033\n",
      "Job Dir  =  gs://vapit_data/tf_models/jobdir\n",
      "MODEL_DIR = gs://vapit_data/tf_models/models/model_06082021_2033\n"
     ]
    }
   ],
   "source": [
    "from datetime import datetime\n",
    "from pytz import timezone\n",
    "\n",
    "JOBNAME_HPT = 'tf_hptrn_' + USER + '_' + \\\n",
    "              datetime.now(timezone('US/Pacific')).strftime(\"%m%d%y_%H%M\")\n",
    "JOB_CONFIG = \"./config/hptuning_config.yaml\"\n",
    "MODEL_DIR_HPT = MODEL_DIR + datetime.now(timezone('US/Pacific')).strftime('/model_%m%d%Y_%H%M')\n",
    "\n",
    "print(\"Job Name = \", JOBNAME_HPT)\n",
    "print(\"Job Dir  = \", JOB_DIR)\n",
    "print(\"MODEL_DIR =\", MODEL_DIR_HPT)\n",
    "\n",
    "# Training parameters\n",
    "DROPOUT_RATE = 0.02\n",
    "LEARNING_RATE = 0.0001\n",
    "BATCH_SIZE = 32\n"
   ]
  },
  {
   "cell_type": "code",
   "execution_count": 49,
   "metadata": {},
   "outputs": [
    {
     "name": "stdout",
     "output_type": "stream",
     "text": [
      "Job [tf_hptrn_cchatterj_060821_2033] submitted successfully.\n",
      "Your job is still active. You may view the status of your job with the command\n",
      "\n",
      "  $ gcloud ai-platform jobs describe tf_hptrn_cchatterj_060821_2033\n",
      "\n",
      "or continue streaming the logs with the command\n",
      "\n",
      "  $ gcloud ai-platform jobs stream-logs tf_hptrn_cchatterj_060821_2033\n",
      "jobId: tf_hptrn_cchatterj_060821_2033\n",
      "state: QUEUED\n"
     ]
    }
   ],
   "source": [
    "# submit the training job\n",
    "HT_LABELS = \"mode=hypertrain,owner=\"+USER\n",
    "\n",
    "! gcloud ai-platform jobs submit training $JOBNAME_HPT \\\n",
    "  --package-path $(pwd)/trainer \\\n",
    "  --module-name trainer.train_hpt \\\n",
    "  --python-version 3.7 \\\n",
    "  --runtime-version $RUNTIME_VERSION \\\n",
    "  --region $REGION \\\n",
    "  --job-dir $JOB_DIR \\\n",
    "  --config $JOB_CONFIG \\\n",
    "  --labels $HT_LABELS \\\n",
    "  -- \\\n",
    "  --dropout_rate=$DROPOUT_RATE \\\n",
    "  --learning_rate=$LEARNING_RATE \\\n",
    "  --batch_size=$BATCH_SIZE \\\n",
    "  --model_dir=$MODEL_DIR_HPT\n"
   ]
  },
  {
   "cell_type": "code",
   "execution_count": 51,
   "metadata": {},
   "outputs": [
    {
     "name": "stdout",
     "output_type": "stream",
     "text": [
      "createTime: '2021-06-09T03:33:09Z'\n",
      "endTime: '2021-06-09T03:47:10Z'\n",
      "etag: M-YS15P_lTY=\n",
      "jobId: tf_hptrn_cchatterj_060821_2033\n",
      "labels:\n",
      "  mode: hypertrain\n",
      "  owner: cchatterj\n",
      "startTime: '2021-06-09T03:33:11Z'\n",
      "state: SUCCEEDED\n",
      "trainingInput:\n",
      "  args:\n",
      "  - --dropout_rate=0.02\n",
      "  - --learning_rate=0.0001\n",
      "  - --batch_size=32\n",
      "  - --model_dir=gs://vapit_data/tf_models/models/model_06082021_2033\n",
      "  hyperparameters:\n",
      "    enableTrialEarlyStopping: true\n",
      "    goal: MAXIMIZE\n",
      "    hyperparameterMetricTag: accuracy\n",
      "    maxParallelTrials: 4\n",
      "    maxTrials: 4\n",
      "    params:\n",
      "    - maxValue: 4.0\n",
      "      minValue: 2.0\n",
      "      parameterName: model_depth\n",
      "      scaleType: UNIT_LINEAR_SCALE\n",
      "      type: INTEGER\n",
      "    - maxValue: 3.0\n",
      "      minValue: 1.0\n",
      "      parameterName: epochs\n",
      "      scaleType: UNIT_LINEAR_SCALE\n",
      "      type: INTEGER\n",
      "  jobDir: gs://vapit_data/tf_models/jobdir\n",
      "  packageUris:\n",
      "  - gs://vapit_data/tf_models/jobdir/packages/c716d8cf5149e3b44afc664d13259aec81ec5ed5a9fd525a0e49badda4a1a320/trainer-0.1.tar.gz\n",
      "  pythonModule: trainer.train_hpt\n",
      "  pythonVersion: '3.7'\n",
      "  region: us-central1\n",
      "  runtimeVersion: '2.4'\n",
      "  scaleTier: STANDARD_1\n",
      "trainingOutput:\n",
      "  completedTrialCount: '4'\n",
      "  consumedMLUnits: 2.7\n",
      "  hyperparameterMetricTag: accuracy\n",
      "  isHyperparameterTuningJob: true\n",
      "  trials:\n",
      "  - endTime: '2021-06-09T03:39:15Z'\n",
      "    finalMetric:\n",
      "      objectiveValue: 0.976067\n",
      "      trainingStep: '3'\n",
      "    hyperparameters:\n",
      "      epochs: '3'\n",
      "      model_depth: '4'\n",
      "    startTime: '2021-06-09T03:33:16.147011104Z'\n",
      "    state: SUCCEEDED\n",
      "    trialId: '3'\n",
      "  - endTime: '2021-06-09T03:44:47Z'\n",
      "    finalMetric:\n",
      "      objectiveValue: 0.9726\n",
      "      trainingStep: '3'\n",
      "    hyperparameters:\n",
      "      epochs: '3'\n",
      "      model_depth: '3'\n",
      "    startTime: '2021-06-09T03:33:16.146827214Z'\n",
      "    state: SUCCEEDED\n",
      "    trialId: '2'\n",
      "  - endTime: '2021-06-09T03:45:15Z'\n",
      "    finalMetric:\n",
      "      objectiveValue: 0.963917\n",
      "      trainingStep: '2'\n",
      "    hyperparameters:\n",
      "      epochs: '2'\n",
      "      model_depth: '4'\n",
      "    startTime: '2021-06-09T03:33:16.147166650Z'\n",
      "    state: SUCCEEDED\n",
      "    trialId: '4'\n",
      "  - endTime: '2021-06-09T03:39:48Z'\n",
      "    finalMetric:\n",
      "      objectiveValue: 0.96195\n",
      "      trainingStep: '2'\n",
      "    hyperparameters:\n",
      "      epochs: '2'\n",
      "      model_depth: '3'\n",
      "    startTime: '2021-06-09T03:33:16.146441355Z'\n",
      "    state: SUCCEEDED\n",
      "    trialId: '1'\n",
      "\n",
      "View job in the Cloud Console at:\n",
      "https://console.cloud.google.com/mlengine/jobs/tf_hptrn_cchatterj_060821_2033?project=cchatterjee-sandbox\n",
      "\n",
      "View logs at:\n",
      "https://console.cloud.google.com/logs?resource=ml_job%2Fjob_id%2Ftf_hptrn_cchatterj_060821_2033&project=cchatterjee-sandbox\n"
     ]
    }
   ],
   "source": [
    "# check the hyperparameter training job status\n",
    "! gcloud ai-platform jobs describe $JOBNAME_HPT\n"
   ]
  },
  {
   "cell_type": "code",
   "execution_count": 55,
   "metadata": {},
   "outputs": [],
   "source": [
    "# Print Errors\n",
    "if 0:\n",
    "    response = ! gcloud logging read \"resource.labels.job_id=$JOBNAME_HPT severity>=ERROR\"\n",
    "    for i in range(0,len(response)):\n",
    "        if 'message' in response[i]:\n",
    "            print(response[i])\n"
   ]
  },
  {
   "cell_type": "code",
   "execution_count": 56,
   "metadata": {},
   "outputs": [
    {
     "name": "stdout",
     "output_type": "stream",
     "text": [
      "objective= 0.9760666489601135  trialId= 3 SUCCEEDED\n",
      "     epochs 3\n",
      "     model_depth 4\n",
      "objective= 0.972599983215332  trialId= 2 SUCCEEDED\n",
      "     epochs 3\n",
      "     model_depth 3\n",
      "objective= 0.9639166593551636  trialId= 4 SUCCEEDED\n",
      "     epochs 2\n",
      "     model_depth 4\n",
      "objective= 0.9619500041007996  trialId= 1 SUCCEEDED\n",
      "     epochs 2\n",
      "     model_depth 3\n",
      "\n",
      "Objective= 0.9760666489601135\n",
      "MODEL_DEPTH = 4\n",
      "EPOCHS = 3\n"
     ]
    }
   ],
   "source": [
    "# Get the best model parameters from Cloud API\n",
    "best_model = pyth_get_hypertuned_parameters(PROJECT_ID, JOBNAME_HPT, 1)\n",
    "MODEL_DEPTH = best_model['hyperparameters']['model_depth']\n",
    "EPOCHS = best_model['hyperparameters']['epochs']\n",
    "print('')\n",
    "print('Objective=', best_model['finalMetric']['objectiveValue'])\n",
    "print('MODEL_DEPTH =', MODEL_DEPTH)\n",
    "print('EPOCHS =', EPOCHS)\n"
   ]
  },
  {
   "cell_type": "code",
   "execution_count": 57,
   "metadata": {},
   "outputs": [
    {
     "name": "stdout",
     "output_type": "stream",
     "text": [
      "Total Hypertrained Models= 73\n",
      "\n",
      "All Models = \n",
      "gs://vapit_data/tf_models/models/model_06082021_2033/checkpoints/\n",
      "gs://vapit_data/tf_models/models/model_06082021_2033/checkpoints/cp-203345-1-0.9546/\n",
      "gs://vapit_data/tf_models/models/model_06082021_2033/checkpoints/cp-203345-1-0.9562/\n",
      "gs://vapit_data/tf_models/models/model_06082021_2033/checkpoints/cp-203345-1-0.9673/\n",
      "gs://vapit_data/tf_models/models/model_06082021_2033/checkpoints/cp-203346-3-0.9587/\n",
      "gs://vapit_data/tf_models/models/model_06082021_2033/checkpoints/cp-203346-3-0.9714/\n",
      "gs://vapit_data/tf_models/models/model_06082021_2033/checkpoints/cp-203346-3-0.9767/\n",
      "gs://vapit_data/tf_models/models/model_06082021_2033/checkpoints/cp-203808-3-0.9591/\n",
      "gs://vapit_data/tf_models/models/model_06082021_2033/checkpoints/cp-203808-3-0.9685/\n",
      "gs://vapit_data/tf_models/models/model_06082021_2033/checkpoints/cp-203808-3-0.9743/\n",
      "gs://vapit_data/tf_models/models/model_06082021_2033/checkpoints/cp-203815-1-0.9546/\n",
      "gs://vapit_data/tf_models/models/model_06082021_2033/checkpoints/cp-203815-1-0.9684/\n",
      "gs://vapit_data/tf_models/models/model_06082021_2033/checkpoints/cp-203816-3-0.9561/\n",
      "gs://vapit_data/tf_models/models/model_06082021_2033/checkpoints/cp-203816-3-0.9715/\n",
      "gs://vapit_data/tf_models/models/model_06082021_2033/checkpoints/cp-203816-3-0.9749/\n",
      "gs://vapit_data/tf_models/models/model_06082021_2033/checkpoints/cp-203820-1-0.9510/\n",
      "gs://vapit_data/tf_models/models/model_06082021_2033/checkpoints/cp-203820-1-0.9679/\n",
      "gs://vapit_data/tf_models/models/model_06082021_2033/checkpoints/cp-203821-3-0.9533/\n",
      "gs://vapit_data/tf_models/models/model_06082021_2033/checkpoints/cp-203821-3-0.9702/\n",
      "gs://vapit_data/tf_models/models/model_06082021_2033/checkpoints/cp-203821-3-0.9728/\n",
      "gs://vapit_data/tf_models/models/model_06082021_2033/checkpoints/cp-203823-1-0.9519/\n",
      "gs://vapit_data/tf_models/models/model_06082021_2033/checkpoints/cp-203823-1-0.9658/\n",
      "gs://vapit_data/tf_models/models/model_06082021_2033/checkpoints/cp-203823-3-0.9576/\n",
      "gs://vapit_data/tf_models/models/model_06082021_2033/checkpoints/cp-203823-3-0.9707/\n",
      "gs://vapit_data/tf_models/models/model_06082021_2033/checkpoints/cp-203823-3-0.9741/\n",
      "gs://vapit_data/tf_models/models/model_06082021_2033/checkpoints/cp-203824-3-0.9548/\n",
      "gs://vapit_data/tf_models/models/model_06082021_2033/checkpoints/cp-203824-3-0.9703/\n",
      "gs://vapit_data/tf_models/models/model_06082021_2033/checkpoints/cp-203826-1-0.9521/\n",
      "gs://vapit_data/tf_models/models/model_06082021_2033/checkpoints/cp-203826-1-0.9666/\n",
      "gs://vapit_data/tf_models/models/model_06082021_2033/checkpoints/cp-203827-1-0.9563/\n",
      "gs://vapit_data/tf_models/models/model_06082021_2033/checkpoints/cp-203827-1-0.9681/\n",
      "gs://vapit_data/tf_models/models/model_06082021_2033/checkpoints/cp-203828-1-0.9530/\n",
      "gs://vapit_data/tf_models/models/model_06082021_2033/checkpoints/cp-203828-1-0.9670/\n",
      "gs://vapit_data/tf_models/models/model_06082021_2033/checkpoints/cp-204206-2-0.9519/\n",
      "gs://vapit_data/tf_models/models/model_06082021_2033/checkpoints/cp-204206-2-0.9661/\n",
      "gs://vapit_data/tf_models/models/model_06082021_2033/checkpoints/cp-204206-2-0.9704/\n",
      "gs://vapit_data/tf_models/models/model_06082021_2033/checkpoints/cp-204206-4-0.9591/\n",
      "gs://vapit_data/tf_models/models/model_06082021_2033/checkpoints/cp-204206-4-0.9684/\n",
      "gs://vapit_data/tf_models/models/model_06082021_2033/checkpoints/cp-204207-2-0.9551/\n",
      "gs://vapit_data/tf_models/models/model_06082021_2033/checkpoints/cp-204207-2-0.9662/\n",
      "gs://vapit_data/tf_models/models/model_06082021_2033/checkpoints/cp-204207-2-0.9763/\n",
      "gs://vapit_data/tf_models/models/model_06082021_2033/checkpoints/cp-204208-2-0.9517/\n",
      "gs://vapit_data/tf_models/models/model_06082021_2033/checkpoints/cp-204208-2-0.9536/\n",
      "gs://vapit_data/tf_models/models/model_06082021_2033/checkpoints/cp-204208-2-0.9657/\n",
      "gs://vapit_data/tf_models/models/model_06082021_2033/checkpoints/cp-204208-2-0.9677/\n",
      "gs://vapit_data/tf_models/models/model_06082021_2033/checkpoints/cp-204208-2-0.9722/\n",
      "gs://vapit_data/tf_models/models/model_06082021_2033/checkpoints/cp-204208-2-0.9751/\n",
      "gs://vapit_data/tf_models/models/model_06082021_2033/checkpoints/cp-204221-2-0.9500/\n",
      "gs://vapit_data/tf_models/models/model_06082021_2033/checkpoints/cp-204221-2-0.9698/\n",
      "gs://vapit_data/tf_models/models/model_06082021_2033/checkpoints/cp-204221-2-0.9752/\n",
      "gs://vapit_data/tf_models/models/model_06082021_2033/checkpoints/cp-204223-2-0.9524/\n",
      "gs://vapit_data/tf_models/models/model_06082021_2033/checkpoints/cp-204223-2-0.9670/\n",
      "gs://vapit_data/tf_models/models/model_06082021_2033/checkpoints/cp-204223-2-0.9713/\n",
      "gs://vapit_data/tf_models/models/model_06082021_2033/checkpoints/cp-204247-2-0.9522/\n",
      "gs://vapit_data/tf_models/models/model_06082021_2033/checkpoints/cp-204247-2-0.9649/\n",
      "gs://vapit_data/tf_models/models/model_06082021_2033/checkpoints/cp-204247-2-0.9752/\n",
      "gs://vapit_data/tf_models/models/model_06082021_2033/checkpoints/cp-204249-4-0.9551/\n",
      "gs://vapit_data/tf_models/models/model_06082021_2033/checkpoints/cp-204249-4-0.9707/\n",
      "gs://vapit_data/tf_models/models/model_06082021_2033/checkpoints/cp-204250-4-0.9495/\n",
      "gs://vapit_data/tf_models/models/model_06082021_2033/checkpoints/cp-204250-4-0.9683/\n",
      "gs://vapit_data/tf_models/models/model_06082021_2033/checkpoints/cp-204252-4-0.9595/\n",
      "gs://vapit_data/tf_models/models/model_06082021_2033/checkpoints/cp-204252-4-0.9687/\n",
      "gs://vapit_data/tf_models/models/model_06082021_2033/checkpoints/cp-204254-4-0.9581/\n",
      "gs://vapit_data/tf_models/models/model_06082021_2033/checkpoints/cp-204254-4-0.9713/\n",
      "gs://vapit_data/tf_models/models/model_06082021_2033/checkpoints/cp-204256-4-0.9594/\n",
      "gs://vapit_data/tf_models/models/model_06082021_2033/checkpoints/cp-204256-4-0.9671/\n",
      "gs://vapit_data/tf_models/models/model_06082021_2033/checkpoints/cp-204257-4-0.9590/\n",
      "gs://vapit_data/tf_models/models/model_06082021_2033/checkpoints/cp-204257-4-0.9691/\n",
      "gs://vapit_data/tf_models/models/model_06082021_2033/checkpoints/cp-204258-4-0.9542/\n",
      "gs://vapit_data/tf_models/models/model_06082021_2033/checkpoints/cp-204258-4-0.9672/\n",
      "gs://vapit_data/tf_models/models/model_06082021_2033/checkpoints/cp-204302-2-0.9529/\n",
      "gs://vapit_data/tf_models/models/model_06082021_2033/checkpoints/cp-204302-2-0.9654/\n",
      "gs://vapit_data/tf_models/models/model_06082021_2033/checkpoints/cp-204302-2-0.9720/\n",
      "gs://vapit_data/tf_models/models/model_06082021_2033/checkpoints/cp-204250-4-0.9495/\n",
      "gs://vapit_data/tf_models/models/model_06082021_2033/checkpoints/cp-204221-2-0.9500/\n",
      "gs://vapit_data/tf_models/models/model_06082021_2033/checkpoints/cp-203820-1-0.9510/\n",
      "gs://vapit_data/tf_models/models/model_06082021_2033/checkpoints/cp-204208-2-0.9517/\n",
      "gs://vapit_data/tf_models/models/model_06082021_2033/checkpoints/cp-203823-1-0.9519/\n",
      "gs://vapit_data/tf_models/models/model_06082021_2033/checkpoints/cp-204206-2-0.9519/\n",
      "gs://vapit_data/tf_models/models/model_06082021_2033/checkpoints/cp-203826-1-0.9521/\n",
      "gs://vapit_data/tf_models/models/model_06082021_2033/checkpoints/cp-204247-2-0.9522/\n",
      "gs://vapit_data/tf_models/models/model_06082021_2033/checkpoints/cp-204223-2-0.9524/\n",
      "gs://vapit_data/tf_models/models/model_06082021_2033/checkpoints/cp-204302-2-0.9529/\n",
      "gs://vapit_data/tf_models/models/model_06082021_2033/checkpoints/cp-203828-1-0.9530/\n",
      "gs://vapit_data/tf_models/models/model_06082021_2033/checkpoints/cp-203821-3-0.9533/\n",
      "gs://vapit_data/tf_models/models/model_06082021_2033/checkpoints/cp-204208-2-0.9536/\n",
      "gs://vapit_data/tf_models/models/model_06082021_2033/checkpoints/cp-204258-4-0.9542/\n",
      "gs://vapit_data/tf_models/models/model_06082021_2033/checkpoints/cp-203345-1-0.9546/\n",
      "gs://vapit_data/tf_models/models/model_06082021_2033/checkpoints/cp-203815-1-0.9546/\n",
      "gs://vapit_data/tf_models/models/model_06082021_2033/checkpoints/cp-203824-3-0.9548/\n",
      "gs://vapit_data/tf_models/models/model_06082021_2033/checkpoints/cp-204207-2-0.9551/\n",
      "gs://vapit_data/tf_models/models/model_06082021_2033/checkpoints/cp-204249-4-0.9551/\n",
      "gs://vapit_data/tf_models/models/model_06082021_2033/checkpoints/cp-203816-3-0.9561/\n",
      "gs://vapit_data/tf_models/models/model_06082021_2033/checkpoints/cp-203345-1-0.9562/\n",
      "gs://vapit_data/tf_models/models/model_06082021_2033/checkpoints/cp-203827-1-0.9563/\n",
      "gs://vapit_data/tf_models/models/model_06082021_2033/checkpoints/cp-203823-3-0.9576/\n",
      "gs://vapit_data/tf_models/models/model_06082021_2033/checkpoints/cp-204254-4-0.9581/\n",
      "gs://vapit_data/tf_models/models/model_06082021_2033/checkpoints/cp-203346-3-0.9587/\n",
      "gs://vapit_data/tf_models/models/model_06082021_2033/checkpoints/cp-204257-4-0.9590/\n",
      "gs://vapit_data/tf_models/models/model_06082021_2033/checkpoints/cp-203808-3-0.9591/\n",
      "gs://vapit_data/tf_models/models/model_06082021_2033/checkpoints/cp-204206-4-0.9591/\n",
      "gs://vapit_data/tf_models/models/model_06082021_2033/checkpoints/cp-204256-4-0.9594/\n",
      "gs://vapit_data/tf_models/models/model_06082021_2033/checkpoints/cp-204252-4-0.9595/\n",
      "gs://vapit_data/tf_models/models/model_06082021_2033/checkpoints/cp-204247-2-0.9649/\n",
      "gs://vapit_data/tf_models/models/model_06082021_2033/checkpoints/cp-204302-2-0.9654/\n",
      "gs://vapit_data/tf_models/models/model_06082021_2033/checkpoints/cp-204208-2-0.9657/\n",
      "gs://vapit_data/tf_models/models/model_06082021_2033/checkpoints/cp-203823-1-0.9658/\n",
      "gs://vapit_data/tf_models/models/model_06082021_2033/checkpoints/cp-204206-2-0.9661/\n",
      "gs://vapit_data/tf_models/models/model_06082021_2033/checkpoints/cp-204207-2-0.9662/\n",
      "gs://vapit_data/tf_models/models/model_06082021_2033/checkpoints/cp-203826-1-0.9666/\n",
      "gs://vapit_data/tf_models/models/model_06082021_2033/checkpoints/cp-203828-1-0.9670/\n",
      "gs://vapit_data/tf_models/models/model_06082021_2033/checkpoints/cp-204223-2-0.9670/\n",
      "gs://vapit_data/tf_models/models/model_06082021_2033/checkpoints/cp-204256-4-0.9671/\n",
      "gs://vapit_data/tf_models/models/model_06082021_2033/checkpoints/cp-204258-4-0.9672/\n",
      "gs://vapit_data/tf_models/models/model_06082021_2033/checkpoints/cp-203345-1-0.9673/\n",
      "gs://vapit_data/tf_models/models/model_06082021_2033/checkpoints/cp-204208-2-0.9677/\n",
      "gs://vapit_data/tf_models/models/model_06082021_2033/checkpoints/cp-203820-1-0.9679/\n",
      "gs://vapit_data/tf_models/models/model_06082021_2033/checkpoints/cp-203827-1-0.9681/\n",
      "gs://vapit_data/tf_models/models/model_06082021_2033/checkpoints/cp-204250-4-0.9683/\n",
      "gs://vapit_data/tf_models/models/model_06082021_2033/checkpoints/cp-203815-1-0.9684/\n",
      "gs://vapit_data/tf_models/models/model_06082021_2033/checkpoints/cp-204206-4-0.9684/\n",
      "gs://vapit_data/tf_models/models/model_06082021_2033/checkpoints/cp-203808-3-0.9685/\n",
      "gs://vapit_data/tf_models/models/model_06082021_2033/checkpoints/cp-204252-4-0.9687/\n",
      "gs://vapit_data/tf_models/models/model_06082021_2033/checkpoints/cp-204257-4-0.9691/\n",
      "gs://vapit_data/tf_models/models/model_06082021_2033/checkpoints/cp-204221-2-0.9698/\n",
      "gs://vapit_data/tf_models/models/model_06082021_2033/checkpoints/cp-203821-3-0.9702/\n",
      "gs://vapit_data/tf_models/models/model_06082021_2033/checkpoints/cp-203824-3-0.9703/\n",
      "gs://vapit_data/tf_models/models/model_06082021_2033/checkpoints/cp-204206-2-0.9704/\n",
      "gs://vapit_data/tf_models/models/model_06082021_2033/checkpoints/cp-203823-3-0.9707/\n",
      "gs://vapit_data/tf_models/models/model_06082021_2033/checkpoints/cp-204249-4-0.9707/\n",
      "gs://vapit_data/tf_models/models/model_06082021_2033/checkpoints/cp-204223-2-0.9713/\n",
      "gs://vapit_data/tf_models/models/model_06082021_2033/checkpoints/cp-204254-4-0.9713/\n",
      "gs://vapit_data/tf_models/models/model_06082021_2033/checkpoints/cp-203346-3-0.9714/\n",
      "gs://vapit_data/tf_models/models/model_06082021_2033/checkpoints/cp-203816-3-0.9715/\n",
      "gs://vapit_data/tf_models/models/model_06082021_2033/checkpoints/cp-204302-2-0.9720/\n",
      "gs://vapit_data/tf_models/models/model_06082021_2033/checkpoints/cp-204208-2-0.9722/\n",
      "gs://vapit_data/tf_models/models/model_06082021_2033/checkpoints/cp-203821-3-0.9728/\n",
      "gs://vapit_data/tf_models/models/model_06082021_2033/checkpoints/cp-203823-3-0.9741/\n",
      "gs://vapit_data/tf_models/models/model_06082021_2033/checkpoints/cp-203808-3-0.9743/\n",
      "gs://vapit_data/tf_models/models/model_06082021_2033/checkpoints/cp-203816-3-0.9749/\n",
      "gs://vapit_data/tf_models/models/model_06082021_2033/checkpoints/cp-204208-2-0.9751/\n",
      "gs://vapit_data/tf_models/models/model_06082021_2033/checkpoints/cp-204221-2-0.9752/\n",
      "gs://vapit_data/tf_models/models/model_06082021_2033/checkpoints/cp-204247-2-0.9752/\n",
      "gs://vapit_data/tf_models/models/model_06082021_2033/checkpoints/cp-204207-2-0.9763/\n",
      "gs://vapit_data/tf_models/models/model_06082021_2033/checkpoints/cp-203346-3-0.9767/\n",
      "Best Accuracy  from Checkpoints =  0.9767\n",
      "Best Model Dir from Checkpoints =  gs://vapit_data/tf_models/models/model_06082021_2033/checkpoints/cp-203346-3-0.9767/\n"
     ]
    }
   ],
   "source": [
    "# Find count of checkpoints\n",
    "all_models = ! gsutil ls {MODEL_DIR_HPT+'/checkpoints'}\n",
    "print(\"Total Hypertrained Models=\", len(all_models))\n",
    "\n",
    "# Test with latest saved model\n",
    "best_model_dir_hyp = find_best_model_dir(MODEL_DIR_HPT+'/checkpoints', offset=1, maxFlag=1)\n",
    "#acc = test_saved_model(best_model_dir_hyp, 0)\n",
    "\n",
    "#import keras.backend as K\n",
    "#loaded_model = tf.keras.models.load_model(MODEL_DIR_PARAM+'/checkpoints')\n",
    "#print(\"learning_rate=\", K.eval(loaded_model.optimizer.lr))\n",
    "#tf.keras.utils.plot_model(loaded_model, show_shapes=True)\n"
   ]
  },
  {
   "cell_type": "markdown",
   "metadata": {},
   "source": [
    "--------\n",
    "# Deploy the Model"
   ]
  },
  {
   "cell_type": "code",
   "execution_count": 58,
   "metadata": {},
   "outputs": [],
   "source": [
    "## https://cloud.google.com/ai-platform/prediction/docs/machine-types-online-prediction#available_machine_types\n",
    "# We need 2 versions of the same model:\n",
    "# 1. Batch prediction model deployed on a mls1-c1-m2 cluster\n",
    "# 2. Online prediction model deployed on a n1-standard-16 cluster\n",
    "# Batch prediction does not support GPU and n1-standard-16 clusters.\n",
    "\n",
    "# Run the Deploy Model section twice:\n",
    "# 1. As a BATCH Mode version use MODEL_VERSION = MODEL_VERSION_BATCH\n",
    "# 2. As a ONLINE Mode version use MODEL_VERSION = MODEL_VERSION_ONLINE\n"
   ]
  },
  {
   "cell_type": "code",
   "execution_count": 59,
   "metadata": {},
   "outputs": [],
   "source": [
    "# Regional End points with python\n",
    "#https://cloud.google.com/ai-platform/prediction/docs/regional-endpoints#python"
   ]
  },
  {
   "cell_type": "code",
   "execution_count": 169,
   "metadata": {},
   "outputs": [
    {
     "name": "stdout",
     "output_type": "stream",
     "text": [
      "\n",
      "List of Models in Global Endpoint)\n",
      "Using endpoint [https://ml.googleapis.com/]\n",
      "NAME           DEFAULT_VERSION_NAME\n",
      "mnist_model_1  online_v1\n",
      "\n",
      "List of Versions in Global Endpoint)\n",
      "Using endpoint [https://ml.googleapis.com/]\n",
      "NAME       DEPLOYMENT_URI                                                                        STATE\n",
      "online_v1  gs://vapit_data/tf_models/models/model_06082021_2033/checkpoints/cp-203346-3-0.9767/  READY\n"
     ]
    }
   ],
   "source": [
    "MODEL_NAME = \"mnist_model_1\"\n",
    "MODEL_VERSION_ONLINE = \"online_v1\"\n",
    "MODEL_VERSION_BATCH  = \"batch_v1\"\n",
    "\n",
    "#Run this as Batch first then Online\n",
    "MODEL_VERSION = MODEL_VERSION_ONLINE\n",
    "#MODEL_VERSION = MODEL_VERSION_BATCH\n",
    "\n",
    "# List all models\n",
    "\n",
    "print(\"\\nList of Models in Global Endpoint)\")\n",
    "!gcloud ai-platform models list --region=global\n",
    "\n",
    "# List all versions of model\n",
    "\n",
    "print(\"\\nList of Versions in Global Endpoint)\")\n",
    "!gcloud ai-platform versions list --model $MODEL_NAME --region=global\n"
   ]
  },
  {
   "cell_type": "code",
   "execution_count": 160,
   "metadata": {},
   "outputs": [],
   "source": [
    "#!gcloud ai-platform versions delete $MODEL_VERSION_ONLINE --model $MODEL_NAME --quiet --region=global\n",
    "#!gcloud ai-platform models delete $MODEL_NAME --quiet --region=global\n"
   ]
  },
  {
   "cell_type": "code",
   "execution_count": 170,
   "metadata": {},
   "outputs": [
    {
     "name": "stdout",
     "output_type": "stream",
     "text": [
      "\n",
      "List of Models in Global Endpoint)\n",
      "Using endpoint [https://ml.googleapis.com/]\n",
      "NAME           DEFAULT_VERSION_NAME\n",
      "mnist_model_1  online_v1\n",
      "\n",
      "List of Versions in Global Endpoint)\n",
      "Using endpoint [https://ml.googleapis.com/]\n",
      "NAME       DEPLOYMENT_URI                                                                        STATE\n",
      "online_v1  gs://vapit_data/tf_models/models/model_06082021_2033/checkpoints/cp-203346-3-0.9767/  READY\n"
     ]
    }
   ],
   "source": [
    "# List all models\n",
    "\n",
    "print(\"\\nList of Models in Global Endpoint)\")\n",
    "!gcloud ai-platform models list --region=global\n",
    "\n",
    "# List all versions of model\n",
    "\n",
    "print(\"\\nList of Versions in Global Endpoint)\")\n",
    "!gcloud ai-platform versions list --model $MODEL_NAME --region=global\n"
   ]
  },
  {
   "cell_type": "code",
   "execution_count": 171,
   "metadata": {},
   "outputs": [
    {
     "name": "stdout",
     "output_type": "stream",
     "text": [
      "['Using endpoint [https://us-central1-ml.googleapis.com/]', 'Listed 0 items.']\n",
      "Creating model mnist_model_1\n",
      "Using endpoint [https://ml.googleapis.com/]\n",
      "\u001b[1;31mERROR:\u001b[0m (gcloud.ai-platform.models.create) Resource in projects [cchatterjee-sandbox] is the subject of a conflict: Field: model.name Error: A model with the same name already exists.\n",
      "- '@type': type.googleapis.com/google.rpc.BadRequest\n",
      "  fieldViolations:\n",
      "  - description: A model with the same name already exists.\n",
      "    field: model.name\n",
      "\n",
      "List of Models in Global Endpoint)\n",
      "Using endpoint [https://ml.googleapis.com/]\n",
      "NAME           DEFAULT_VERSION_NAME\n",
      "mnist_model_1  online_v1\n"
     ]
    }
   ],
   "source": [
    "# create the model if it doesn't already exist\n",
    "modelname = !gcloud ai-platform models list | grep -w $MODEL_NAME\n",
    "print(modelname)\n",
    "if (len(modelname) <= 1) or ('Listed 0 items.' in modelname[1]):\n",
    "    print(\"Creating model \" + MODEL_NAME)\n",
    "    # Global endpoint\n",
    "    !gcloud ai-platform models create $MODEL_NAME --enable-logging --regions $REGION\n",
    "else:\n",
    "    print(\"Model \" + MODEL_NAME + \" exist\")\n",
    "    \n",
    "print(\"\\nList of Models in Global Endpoint)\")\n",
    "!gcloud ai-platform models list --region=global\n"
   ]
  },
  {
   "cell_type": "code",
   "execution_count": 172,
   "metadata": {},
   "outputs": [
    {
     "name": "stdout",
     "output_type": "stream",
     "text": [
      "Model Name = mnist_model_1\n",
      "Model Versions = batch_v1\n",
      "Best Model Dir:  gs://vapit_data/tf_models/models/model_06082021_2033/checkpoints/cp-203346-3-0.9767/\n",
      "Using endpoint [https://ml.googleapis.com/]\n",
      "Creating version (this might take a few minutes)......done.                    \n",
      "CPU times: user 1.14 s, sys: 252 ms, total: 1.4 s\n",
      "Wall time: 53.3 s\n"
     ]
    }
   ],
   "source": [
    "%%time\n",
    "\n",
    "print(\"Model Name =\", MODEL_NAME)\n",
    "print(\"Model Versions =\", MODEL_VERSION)\n",
    "\n",
    "# Get a list of model directories\n",
    "best_model_dir = best_model_dir_hyp\n",
    "print(\"Best Model Dir: \", best_model_dir)\n",
    "\n",
    "MODEL_FRAMEWORK = \"TENSORFLOW\"\n",
    "MODEL_DESCRIPTION = \"SEQ_MODEL_1\"\n",
    "MODEL_LABELS=\"team=ourteam,phase=test,owner=\"+USER\n",
    "\n",
    "MACHINE_TYPE = \"mls1-c1-m2\"\n",
    "if (MODEL_VERSION == MODEL_VERSION_BATCH):\n",
    "    MACHINE_TYPE = \"mls1-c1-m2\"\n",
    "    MODEL_LABELS = MODEL_LABELS+\",mode=batch\"\n",
    "if (MODEL_VERSION == MODEL_VERSION_ONLINE):\n",
    "    MACHINE_TYPE = \"mls1-c1-m2\" #\"n1-standard-32\"\n",
    "    MODEL_LABELS = MODEL_LABELS+\",mode=online\"\n",
    "\n",
    "# Deploy the model\n",
    "! gcloud beta ai-platform versions create $MODEL_VERSION \\\n",
    "  --model $MODEL_NAME \\\n",
    "  --origin $best_model_dir \\\n",
    "  --runtime-version $RUNTIME_VERSION \\\n",
    "  --python-version=3.7 \\\n",
    "  --description=$MODEL_DESCRIPTION \\\n",
    "  --labels $MODEL_LABELS \\\n",
    "  --machine-type=$MACHINE_TYPE  \\\n",
    "  --framework $MODEL_FRAMEWORK \\\n",
    "  --region global\n"
   ]
  },
  {
   "cell_type": "code",
   "execution_count": 173,
   "metadata": {},
   "outputs": [
    {
     "name": "stdout",
     "output_type": "stream",
     "text": [
      "\n",
      "List of Models in Global Endpoint)\n",
      "Using endpoint [https://ml.googleapis.com/]\n",
      "NAME           DEFAULT_VERSION_NAME\n",
      "mnist_model_1  online_v1\n",
      "\n",
      "List of Models in Regional Endpoint)\n",
      "Using endpoint [https://us-central1-ml.googleapis.com/]\n",
      "Listed 0 items.\n",
      "\n",
      "List of Versions in Global Endpoint)\n",
      "Using endpoint [https://ml.googleapis.com/]\n",
      "NAME       DEPLOYMENT_URI                                                                        STATE\n",
      "batch_v1   gs://vapit_data/tf_models/models/model_06082021_2033/checkpoints/cp-203346-3-0.9767/  READY\n",
      "online_v1  gs://vapit_data/tf_models/models/model_06082021_2033/checkpoints/cp-203346-3-0.9767/  READY\n"
     ]
    }
   ],
   "source": [
    "# List all models\n",
    "\n",
    "print(\"\\nList of Models in Global Endpoint)\")\n",
    "!gcloud ai-platform models list --region=global\n",
    "\n",
    "print(\"\\nList of Models in Regional Endpoint)\")\n",
    "!gcloud ai-platform models list --region=$REGION\n",
    "\n",
    "# List all versions of model\n",
    "\n",
    "print(\"\\nList of Versions in Global Endpoint)\")\n",
    "!gcloud ai-platform versions list --model $MODEL_NAME --region=global\n",
    "\n",
    "#print(\"\\nList of Versions in Regional Endpoint)\")\n",
    "#!gcloud ai-platform versions list --model $MODEL_NAME --region=$REGION\n"
   ]
  },
  {
   "cell_type": "markdown",
   "metadata": {},
   "source": [
    "------\n",
    "# Predictions with the deployed model"
   ]
  },
  {
   "cell_type": "code",
   "execution_count": 174,
   "metadata": {},
   "outputs": [
    {
     "name": "stdout",
     "output_type": "stream",
     "text": [
      "Copying gs://vapit_data/tf_models/models/model_06082021_2033/checkpoints/cp-203346-3-0.9767/saved_model.pb...\n",
      "Copying gs://vapit_data/tf_models/models/model_06082021_2033/checkpoints/cp-203346-3-0.9767/variables/variables.data-00000-of-00001...\n",
      "Copying gs://vapit_data/tf_models/models/model_06082021_2033/checkpoints/cp-203346-3-0.9767/variables/variables.index...\n",
      "Signature  _SignatureMap({'serving_default': <ConcreteFunction signature_wrapper(*, flatten_input) at 0x7F77A8DBC9D0>})\n",
      "\n",
      "Model Input  Layer= flatten\n",
      "Model Output Layer= dense_4\n",
      "\n",
      "CPU times: user 495 ms, sys: 73.7 ms, total: 568 ms\n",
      "Wall time: 2.74 s\n"
     ]
    }
   ],
   "source": [
    "%%time\n",
    "\n",
    "from trainer import model\n",
    "\n",
    "# Copy the model from storage to local memory\n",
    "!gsutil -m cp -r $best_model_dir_hyp* ./model_dir\n",
    "\n",
    "# Load the model\n",
    "loaded_model = tf.keras.models.load_model('./model_dir', compile=False) #, \n",
    "               #custom_objects={\"custom_loss\": model.custom_loss,\"custom_mse\": model.custom_mse})\n",
    "print(\"Signature \", loaded_model.signatures)\n",
    "\n",
    "# Check the model layers\n",
    "model_layers = [layer.name for layer in loaded_model.layers]\n",
    "print(\"\")\n",
    "print(\"Model Input  Layer=\", model_layers[0])\n",
    "print(\"Model Output Layer=\", model_layers[-1])\n",
    "print(\"\")\n"
   ]
  },
  {
   "cell_type": "code",
   "execution_count": 175,
   "metadata": {},
   "outputs": [
    {
     "name": "stdout",
     "output_type": "stream",
     "text": [
      "X_train shape =  (60000, 28, 28)\n",
      "X_test  shape =  (10000, 28, 28)\n",
      "y_train shape =  (60000,)\n",
      "y_test  shape =  (10000,)\n"
     ]
    }
   ],
   "source": [
    "from trainer import inputs\n",
    "train_test_data = inputs.load_data()\n",
    "X_test  = train_test_data[1]\n",
    "y_test  = train_test_data[3]\n"
   ]
  },
  {
   "cell_type": "markdown",
   "metadata": {},
   "source": [
    "## Online Prediction with python"
   ]
  },
  {
   "cell_type": "code",
   "execution_count": 167,
   "metadata": {},
   "outputs": [
    {
     "name": "stdout",
     "output_type": "stream",
     "text": [
      "Project ID = cchatterjee-sandbox\n",
      "Model Name = mnist_model_1\n",
      "Model Version = online_v1\n",
      "model_name= projects/cchatterjee-sandbox/models/mnist_model_1/versions/online_v1\n",
      "batch_size= 32\n",
      "n_samples= 1000\n",
      "Processing samples 0 32\n",
      "Processing samples 32 64\n",
      "Processing samples 64 96\n",
      "Processing samples 96 128\n",
      "Processing samples 128 160\n",
      "Processing samples 160 192\n",
      "Processing samples 192 224\n",
      "Processing samples 224 256\n",
      "Processing samples 256 288\n",
      "Processing samples 288 320\n",
      "Processing samples 320 352\n",
      "Processing samples 352 384\n",
      "Processing samples 384 416\n",
      "Processing samples 416 448\n",
      "Processing samples 448 480\n",
      "Processing samples 480 512\n",
      "Processing samples 512 544\n",
      "Processing samples 544 576\n",
      "Processing samples 576 608\n",
      "Processing samples 608 640\n",
      "Processing samples 640 672\n",
      "Processing samples 672 704\n",
      "Processing samples 704 736\n",
      "Processing samples 736 768\n",
      "Processing samples 768 800\n",
      "Processing samples 800 832\n",
      "Processing samples 832 864\n",
      "Processing samples 864 896\n",
      "Processing samples 896 928\n",
      "Processing samples 928 960\n",
      "Processing samples 960 992\n",
      "Processing samples 992 1000\n",
      "CPU times: user 1.12 s, sys: 869 ms, total: 1.98 s\n",
      "Wall time: 31.5 s\n"
     ]
    }
   ],
   "source": [
    "%%time\n",
    "\n",
    "# Online Prediction with Python - works for global end points only\n",
    "\n",
    "# Use MODEL_VERSION_ONLINE not MODEL_VERSION_BATCH\n",
    "MODEL_VERSION = MODEL_VERSION_ONLINE\n",
    "\n",
    "from oauth2client.client import GoogleCredentials\n",
    "from googleapiclient import discovery\n",
    "from googleapiclient import errors\n",
    "import json\n",
    "\n",
    "#tf.compat.v1.logging.set_verbosity(tf.compat.v1.logging.ERROR)\n",
    "#tf.get_logger().setLevel('ERROR')\n",
    "\n",
    "print(\"Project ID =\", PROJECT_ID)\n",
    "print(\"Model Name =\", MODEL_NAME)\n",
    "print(\"Model Version =\", MODEL_VERSION)\n",
    "\n",
    "model_name = 'projects/{}/models/{}'.format(PROJECT_ID, MODEL_NAME)\n",
    "if MODEL_VERSION is not None:\n",
    "    model_name += '/versions/{}'.format(MODEL_VERSION)\n",
    "credentials = GoogleCredentials.get_application_default()\n",
    "service = discovery.build('ml', 'v1', cache_discovery=False, credentials=credentials)\n",
    "print(\"model_name=\", model_name)\n",
    "\n",
    "pprobas_temp = []\n",
    "batch_size = 32\n",
    "n_samples = min(1000,X_test.shape[0])\n",
    "print(\"batch_size=\", batch_size)\n",
    "print(\"n_samples=\", n_samples)\n",
    "\n",
    "for i in range(0, n_samples, batch_size):\n",
    "    j = min(i+batch_size, n_samples)\n",
    "    print(\"Processing samples\", i, j)\n",
    "    request = service.projects().predict(name=model_name, \\\n",
    "                                         body={'instances': np.array(X_test)[i:j].tolist()})\n",
    "    try:\n",
    "        response = request.execute()\n",
    "        pprobas_temp += response['predictions']\n",
    "    except errors.HttpError as err:\n",
    "        # Something went wrong, print out some information.\n",
    "        tf.compat.v1.logging.error('There was an error getting the job info, Check the details:')\n",
    "        tf.compat.v1.logging.error(err._get_reason())\n",
    "        break\n"
   ]
  },
  {
   "cell_type": "code",
   "execution_count": 168,
   "metadata": {},
   "outputs": [
    {
     "data": {
      "text/plain": [
       "array([[0.  , 0.  , 0.  , ..., 1.  , 0.  , 0.  ],\n",
       "       [0.  , 0.  , 1.  , ..., 0.  , 0.  , 0.  ],\n",
       "       [0.  , 0.99, 0.  , ..., 0.  , 0.  , 0.  ],\n",
       "       ...,\n",
       "       [1.  , 0.  , 0.  , ..., 0.  , 0.  , 0.  ],\n",
       "       [0.  , 0.  , 0.  , ..., 0.  , 1.  , 0.  ],\n",
       "       [0.  , 0.  , 0.  , ..., 0.01, 0.  , 0.97]])"
      ]
     },
     "execution_count": 168,
     "metadata": {},
     "output_type": "execute_result"
    }
   ],
   "source": [
    "# Show the prediction results as an array\n",
    "\n",
    "nPreds = len(pprobas_temp)\n",
    "nClasses = len(np.unique(y_test))\n",
    "pprobas = np.zeros((nPreds, nClasses))\n",
    "for i in range(nPreds):\n",
    "    pprobas[i,:] = np.array(pprobas_temp[i][model_layers[-1]])\n",
    "pprobas = np.round(pprobas, 2)\n",
    "pprobas\n"
   ]
  },
  {
   "cell_type": "markdown",
   "metadata": {},
   "source": [
    "## Batch Prediction with GCLOUD"
   ]
  },
  {
   "cell_type": "code",
   "execution_count": 176,
   "metadata": {},
   "outputs": [
    {
     "name": "stdout",
     "output_type": "stream",
     "text": [
      "n_samples = 1000\n",
      "nFiles = 10\n",
      "nRecsPerFile = 100\n",
      "Copying file://./batch_data/unkeyed_batch_5.json [Content-Type=application/json]...\n",
      "Copying file://./batch_data/unkeyed_batch_6.json [Content-Type=application/json]...\n",
      "Copying file://./batch_data/unkeyed_batch_8.json [Content-Type=application/json]...\n",
      "Copying file://./batch_data/unkeyed_batch_3.json [Content-Type=application/json]...\n",
      "Copying file://./batch_data/unkeyed_batch_7.json [Content-Type=application/json]...\n",
      "Copying file://./batch_data/unkeyed_batch_2.json [Content-Type=application/json]...\n",
      "Copying file://./batch_data/unkeyed_batch_1.json [Content-Type=application/json]...\n",
      "Copying file://./batch_data/unkeyed_batch_9.json [Content-Type=application/json]...\n",
      "Copying file://./batch_data/unkeyed_batch_0.json [Content-Type=application/json]...\n",
      "Copying file://./batch_data/unkeyed_batch_4.json [Content-Type=application/json]...\n",
      "/ [10/10 files][  5.8 MiB/  5.8 MiB] 100% Done                                  \n",
      "Operation completed over 10 objects/5.8 MiB.                                     \n",
      "CommandException: 1 files/objects could not be removed.\n"
     ]
    }
   ],
   "source": [
    "# Write batch data to file in GCS\n",
    "\n",
    "import shutil\n",
    "\n",
    "# Clean current directory\n",
    "DATA_DIR = './batch_data'\n",
    "shutil.rmtree(DATA_DIR, ignore_errors=True)\n",
    "os.makedirs(DATA_DIR)\n",
    "\n",
    "n_samples = min(1000,X_test.shape[0])\n",
    "nFiles = 10\n",
    "nRecsPerFile = min(1000,n_samples//nFiles)\n",
    "print(\"n_samples =\", n_samples)\n",
    "print(\"nFiles =\", nFiles)\n",
    "print(\"nRecsPerFile =\", nRecsPerFile)\n",
    "\n",
    "# Create nFiles files with nImagesPerFile images each\n",
    "for i in range(nFiles):\n",
    "    with open(f'{DATA_DIR}/unkeyed_batch_{i}.json', \"w\") as file:\n",
    "        for z in range(nRecsPerFile):\n",
    "            print(f'{{\"flatten_input\": {np.array(X_test)[i*nRecsPerFile+z].tolist()}}}', file=file)\n",
    "            #print(f'{{\"{model_layers[0]}\": {np.array(X_test)[i*nRecsPerFile+z].tolist()}}}', file=file)\n",
    "            #key = f'key_{i}_{z}'\n",
    "            #print(f'{{\"image\": {X_test_images[z].tolist()}, \"key\": \"{key}\"}}', file=file)\n",
    "\n",
    "# Write batch data to gcs file\n",
    "!gsutil -m cp -r ./batch_data gs://$BUCKET_NAME/$FOLDER_RESULTS/\n",
    "    \n",
    "# Remove old batch prediction results\n",
    "!gsutil -m rm -r gs://$BUCKET_NAME/$FOLDER_RESULTS/batch_predictions\n"
   ]
  },
  {
   "cell_type": "code",
   "execution_count": 179,
   "metadata": {},
   "outputs": [
    {
     "name": "stdout",
     "output_type": "stream",
     "text": [
      "INPUT_PATHS =  gs://vapit_data/tf_models/batch_data/*\n",
      "OUTPUT_PATH =  gs://vapit_data/tf_models/batch_predictions\n",
      "Job Name    =  tf_batch_predict_cchatterj_060821_2231\n"
     ]
    }
   ],
   "source": [
    "from datetime import datetime\n",
    "from pytz import timezone\n",
    "\n",
    "DATA_FORMAT=\"text\" # JSON data format\n",
    "INPUT_PATHS='gs://' + BUCKET_NAME + '/' + FOLDER_RESULTS + '/batch_data/*'\n",
    "OUTPUT_PATH='gs://' + BUCKET_NAME + '/' + FOLDER_RESULTS + '/batch_predictions'\n",
    "PRED_LABELS=\"mode=batch,team=ourteam,phase=test,owner=\"+USER\n",
    "SIGNATURE_NAME=\"serving_default\"\n",
    "\n",
    "JOBNAME_BATCH = 'tf_batch_predict_'+ USER + '_' + \\\n",
    "           datetime.now(timezone('US/Pacific')).strftime(\"%m%d%y_%H%M\")\n",
    "\n",
    "print(\"INPUT_PATHS = \", INPUT_PATHS)\n",
    "print(\"OUTPUT_PATH = \", OUTPUT_PATH)\n",
    "print(\"Job Name    = \", JOBNAME_BATCH)\n"
   ]
  },
  {
   "cell_type": "code",
   "execution_count": 184,
   "metadata": {},
   "outputs": [
    {
     "name": "stdout",
     "output_type": "stream",
     "text": [
      "Job [tf_batch_predict_cchatterj_060821_2231] submitted successfully.\n",
      "Your job is still active. You may view the status of your job with the command\n",
      "\n",
      "  $ gcloud ai-platform jobs describe tf_batch_predict_cchatterj_060821_2231\n",
      "\n",
      "or continue streaming the logs with the command\n",
      "\n",
      "  $ gcloud ai-platform jobs stream-logs tf_batch_predict_cchatterj_060821_2231\n",
      "\u001b[1;31mERROR:\u001b[0m (gcloud.ai-platform.jobs.submit.prediction) INVALID_ARGUMENT: Field: runtime_version Error: The specified runtime version 'v1_0ga' is not supported or is deprecated.  Please specify a different runtime version.  See https://cloud.google.com/ml/docs/concepts/runtime-version-list for a list of supported versions\n",
      "- '@type': type.googleapis.com/google.rpc.BadRequest\n",
      "  fieldViolations:\n",
      "  - description: The specified runtime version 'v1_0ga' is not supported or is deprecated.  Please\n",
      "      specify a different runtime version.  See https://cloud.google.com/ml/docs/concepts/runtime-version-list\n",
      "      for a list of supported versions\n",
      "    field: runtime_version\n"
     ]
    }
   ],
   "source": [
    "# Only works with global endpoint\n",
    "# Submit batch predict job\n",
    "# Use  MODEL_VERSION_BATCH not MODEL_VERSION_ONLINE\n",
    "MODEL_VERSION = MODEL_VERSION_BATCH\n",
    "\n",
    "!gcloud ai-platform jobs submit prediction $JOBNAME_BATCH \\\n",
    "    --model=$MODEL_NAME \\\n",
    "    --version=$MODEL_VERSION \\\n",
    "    --input-paths=$INPUT_PATHS \\\n",
    "    --output-path=$OUTPUT_PATH \\\n",
    "    --data-format=$DATA_FORMAT \\\n",
    "    --labels=$PRED_LABELS \\\n",
    "    --signature-name=$SIGNATURE_NAME \\\n",
    "    --region=$REGION\n"
   ]
  },
  {
   "cell_type": "code",
   "execution_count": 100,
   "metadata": {},
   "outputs": [
    {
     "name": "stdout",
     "output_type": "stream",
     "text": [
      "createTime: '2021-05-08T03:09:29Z'\n",
      "endTime: '2021-05-08T03:16:27Z'\n",
      "etag: Xzs8tuE4hOY=\n",
      "jobId: tf_batch_predict_cchatterj_050721_2009\n",
      "labels:\n",
      "  mode: batch\n",
      "  owner: cchatterj\n",
      "  phase: test\n",
      "  team: ourteam\n",
      "predictionInput:\n",
      "  dataFormat: JSON\n",
      "  inputPaths:\n",
      "  - gs://tuti_asset/tf_models/batch_data/*\n",
      "  outputPath: gs://tuti_asset/tf_models/batch_predictions\n",
      "  region: us-central1\n",
      "  runtimeVersion: '2.1'\n",
      "  signatureName: serving_default\n",
      "  versionName: projects/img-seg-3d/models/mnist_model_1/versions/batch_v1\n",
      "predictionOutput:\n",
      "  nodeHours: 0.12\n",
      "  outputPath: gs://tuti_asset/tf_models/batch_predictions\n",
      "  predictionCount: '1000'\n",
      "startTime: '2021-05-08T03:09:29Z'\n",
      "state: SUCCEEDED\n",
      "\n",
      "View job in the Cloud Console at:\n",
      "https://console.cloud.google.com/mlengine/jobs/tf_batch_predict_cchatterj_050721_2009?project=img-seg-3d\n",
      "\n",
      "View logs at:\n",
      "https://console.cloud.google.com/logs?resource=ml_job%2Fjob_id%2Ftf_batch_predict_cchatterj_050721_2009&project=img-seg-3d\n"
     ]
    }
   ],
   "source": [
    "# check the batch prediction job status\n",
    "! gcloud ai-platform jobs describe $JOBNAME_BATCH\n"
   ]
  },
  {
   "cell_type": "code",
   "execution_count": 101,
   "metadata": {},
   "outputs": [],
   "source": [
    "# Print Errors\n",
    "#response = ! gcloud logging read \"resource.labels.job_id=$JOBNAME_BATCH severity>=ERROR\"\n",
    "#for i in range(0,len(response)):\n",
    "#    if 'message' in response[i]:\n",
    "#        print(response[i])\n"
   ]
  },
  {
   "cell_type": "code",
   "execution_count": 103,
   "metadata": {},
   "outputs": [
    {
     "name": "stdout",
     "output_type": "stream",
     "text": [
      "errors\n",
      "batch prediction results\n",
      "{\"dense_4\": [1.5569074093946256e-05, 4.465508482098812e-06, 5.606467311736196e-05, 0.00013420336472336203, 1.1440502589721291e-07, 7.478337238353561e-07, 1.971690899438272e-08, 0.9997689127922058, 1.418449073753436e-06, 1.8464221284375526e-05]}\n",
      "{\"dense_4\": [6.3324897325856e-08, 6.007076535752276e-06, 0.999923825263977, 6.897489947732538e-05, 5.897189403469838e-10, 3.7902630367625534e-08, 2.405205368205543e-09, 3.133243353659054e-08, 9.399802252119116e-07, 8.448650112846678e-11]}\n",
      "{\"dense_4\": [1.3423500604403671e-05, 0.9984585046768188, 0.00042809778824448586, 2.7107555069960654e-05, 0.00011921809345949441, 5.862123543920461e-06, 5.339018389349803e-05, 0.0005637670983560383, 0.0003190849383827299, 1.1625871593423653e-05]}\n",
      "{\"dense_4\": [0.9997149109840393, 1.5705425539636053e-05, 5.923803473706357e-05, 6.913218385307118e-06, 9.507743016001768e-06, 2.5874439302242536e-07, 7.189909229055047e-05, 3.961725815315731e-05, 1.439556285731669e-06, 8.058062667259946e-05]}\n",
      "{\"dense_4\": [6.712702543154592e-06, 5.223053904046537e-06, 1.4331204738482484e-06, 1.0014654208134743e-06, 0.9987139701843262, 2.316390464329743e-06, 6.521816430904437e-06, 7.374328561127186e-05, 7.872374226280954e-06, 0.0011813044548034668]}\n",
      "{\"dense_4\": [3.332219193907804e-06, 0.9995743632316589, 7.095322871464305e-06, 3.043560127480305e-06, 3.550470864865929e-05, 1.3461422554428282e-07, 2.102654661939596e-06, 0.00033996690763160586, 2.7185253202333115e-05, 7.282081696757814e-06]}\n",
      "{\"dense_4\": [1.0935491445707157e-05, 1.833797068684362e-05, 1.5793181091794395e-06, 1.2263222970432253e-06, 0.9977511763572693, 8.715222065802664e-05, 9.493361721979454e-05, 9.691677405498922e-05, 0.0006836599786765873, 0.0012541586766019464]}\n",
      "{\"dense_4\": [1.0457504686200991e-05, 2.943294748547487e-05, 3.084855416091159e-05, 0.0056397984735667706, 0.000863008841406554, 0.00010868833487620577, 1.568543410712664e-07, 0.00031805355683900416, 2.8520807973109186e-05, 0.9929710030555725]}\n",
      "{\"dense_4\": [6.746971848770045e-06, 0.00012330865138210356, 0.0035320050083100796, 7.212071068352088e-05, 0.881248950958252, 0.05732075124979019, 0.03432289510965347, 1.2217979929118883e-05, 0.021398380398750305, 0.0019625776913017035]}\n",
      "{\"dense_4\": [2.015493009821512e-06, 7.045231882329972e-07, 3.550965743670531e-08, 1.8802764316205867e-05, 0.000414410256780684, 1.6911846500988759e-07, 4.9013344494142075e-09, 6.613695586565882e-05, 1.2218575648148544e-05, 0.9994853734970093]}\n",
      "{\"dense_4\": [0.9999059438705444, 2.0816207779716933e-06, 2.05008818738861e-05, 1.2732418497307663e-07, 1.9400572170980013e-07, 3.4996210729332233e-07, 7.548782832600409e-06, 7.950636245368514e-06, 3.221663007479947e-07, 5.5006494221743196e-05]}\n",
      "{\"dense_4\": [0.00019126305414829403, 4.740441909234505e-06, 9.119046808336861e-06, 4.740329131891485e-06, 0.0002650430251378566, 0.00023146625608205795, 0.9980194568634033, 2.548422116888105e-06, 0.0012700916267931461, 1.4840749145150767e-06]}\n",
      "{\"dense_4\": [6.627509492318495e-07, 4.584388761941227e-07, 5.849790696288437e-08, 1.9450588297331706e-05, 0.00011889265442732722, 1.4048619050299749e-06, 1.9281505281298905e-09, 3.835435563814826e-06, 1.0095283187183668e-06, 0.9998542070388794]}\n",
      "{\"dense_4\": [0.9995830655097961, 6.16368924966082e-06, 1.491019156674156e-05, 9.093635640056164e-07, 4.204982815281255e-06, 1.3409986650003702e-06, 8.19709530333057e-05, 7.304663449758664e-05, 4.538379016594263e-06, 0.00022990703291725367]}\n",
      "{\"dense_4\": [2.2747127559341607e-07, 0.9999274015426636, 2.4413054688920965e-06, 2.0477424186537974e-05, 4.441830697032856e-06, 5.651170198461841e-08, 1.7457701062539854e-07, 8.296668056573253e-06, 3.4202399547211826e-05, 2.448220811857027e-06]}\n",
      "{\"dense_4\": [5.443382633529836e-07, 5.734827482228866e-06, 3.2654691040079342e-06, 0.026261314749717712, 2.1731025299231987e-06, 0.9734050631523132, 1.705573936305882e-06, 1.3207554729888216e-05, 7.291306974366307e-05, 0.00023407915432471782]}\n",
      "{\"dense_4\": [1.826602419896517e-05, 6.428616643461282e-07, 1.0568534207777702e-06, 1.745328336255625e-05, 0.00045266313827596605, 2.4245838403658126e-07, 7.498055509813639e-08, 0.00011901054676854983, 2.0468412913032807e-05, 0.9993701577186584]}\n",
      "{\"dense_4\": [9.765655704541132e-06, 8.352413374268508e-07, 0.00011584019375732169, 0.00011091023770859465, 2.5238634293600626e-08, 5.611731168642109e-08, 2.1642321268444675e-09, 0.9997580647468567, 1.327634890913032e-07, 4.398825694806874e-06]}\n",
      "{\"dense_4\": [1.0386596841271967e-05, 1.0602975635265466e-05, 5.962078648735769e-05, 0.9783942103385925, 1.2325358511589002e-05, 0.0001646518794586882, 2.9519030704250326e-06, 3.5047145502176136e-05, 0.021242043003439903, 6.817725079599768e-05]}\n",
      "{\"dense_4\": [3.9360446635328117e-07, 1.5146329133131076e-06, 8.913982583180768e-07, 1.0056473342956451e-07, 0.9999568462371826, 2.8909551019751234e-06, 1.7282200133195147e-06, 2.0352041246951558e-05, 4.4106798213761067e-07, 1.4787417057959829e-05]}\n",
      "{\"dense_4\": [0.00029731859103776515, 4.8624599003233016e-05, 9.94099991658004e-07, 0.000681764620821923, 7.065559475449845e-05, 0.00010488789848750457, 3.454416486192713e-08, 0.014622341841459274, 2.875993050110992e-05, 0.9841446876525879]}\n",
      "{\"dense_4\": [4.117673961445689e-05, 4.857050726059242e-07, 1.4468564586422872e-06, 5.958149245088862e-07, 2.2923772121430375e-05, 0.0005256680306047201, 0.9993765950202942, 6.190463182065287e-07, 3.0077948395046405e-05, 4.764787320254982e-07]}\n",
      "{\"dense_4\": [1.5325727872550488e-05, 1.468697973905364e-06, 4.894273388345027e-06, 8.483966098538076e-07, 0.00011054472997784615, 3.934773485525511e-05, 0.9996366500854492, 4.567689302348299e-06, 0.00018623023061081767, 1.6563397764457477e-07]}\n",
      "{\"dense_4\": [4.421589494540967e-08, 3.179950169851509e-08, 2.569193497947708e-07, 2.1202895368332975e-05, 5.05199636791076e-07, 0.9999616146087646, 3.695571194839431e-06, 2.0338148942755652e-07, 1.2245803873156547e-06, 1.1114073458884377e-05]}\n",
      "{\"dense_4\": [6.950744864298031e-05, 6.571976700797677e-05, 1.599243114469573e-05, 7.958627975312993e-06, 0.9962961077690125, 7.530699804192409e-05, 9.499535372015089e-05, 0.0005604755715467036, 7.887463289080188e-05, 0.0027351202443242073]}\n",
      "{\"dense_4\": [0.9999439716339111, 1.430406086910807e-07, 1.5413537539643585e-06, 1.3279888300132825e-08, 6.942753316252492e-06, 6.233648042197615e-10, 7.171362540248083e-06, 3.484597357328312e-07, 2.4013417032620055e-07, 3.96803006879054e-05]}\n",
      "{\"dense_4\": [0.00012615967716556042, 1.656372296565678e-05, 0.00012327598233241588, 0.0002432389883324504, 1.2944790341862245e-06, 1.4383305824594572e-05, 2.0745643780628598e-07, 0.9986451268196106, 4.336720849096309e-06, 0.0008253980777226388]}\n",
      "{\"dense_4\": [2.864534742741398e-08, 5.926443691350869e-08, 1.106774139003619e-08, 4.337414871713463e-09, 0.999994158744812, 3.963565688991366e-07, 1.3506510754268675e-07, 5.95561402860767e-07, 4.082919602410584e-08, 4.613789769791765e-06]}\n",
      "{\"dense_4\": [0.9996428489685059, 4.6034787715143466e-07, 0.00034793568192981184, 2.0498399067037099e-07, 5.842009898060496e-08, 2.0277397538848163e-08, 1.5161209603320458e-06, 9.375552281198907e-07, 6.213206233951496e-07, 5.4716351769457106e-06]}\n",
      "{\"dense_4\": [1.0665927447917056e-06, 0.9994833469390869, 1.5662588339182548e-05, 4.610494215739891e-05, 0.00017407821724191308, 3.1212723570206435e-06, 7.450837074429728e-06, 4.7874120355118066e-05, 0.0002140892465831712, 7.214495326479664e-06]}\n",
      "{\"dense_4\": [3.485829846994193e-09, 1.3926383246598562e-07, 1.7195761259358733e-08, 0.999984860420227, 4.830705169212024e-09, 2.642930894580786e-06, 2.378669136660072e-11, 3.648669064659771e-07, 1.190092007163912e-07, 1.1954361070820596e-05]}\n",
      "{\"dense_4\": [4.1989169403677806e-05, 0.9939885139465332, 0.00023143520229496062, 0.000467840232886374, 0.0017223802860826254, 2.1851879864698276e-05, 2.8205846319906414e-05, 0.0015598133904859424, 0.0011824371758848429, 0.0007556051132269204]}\n",
      "{\"dense_4\": [1.4704270023813137e-09, 1.5099801942142221e-07, 2.585755964901182e-08, 0.9999945163726807, 2.8277360897277504e-08, 2.089610461553093e-06, 1.445890907003644e-10, 1.876148303381342e-08, 2.0603122266038554e-06, 1.1246230542383273e-06]}\n",
      "{\"dense_4\": [0.0005872235633432865, 4.045620244141901e-06, 4.563653783407062e-05, 6.027728431945434e-07, 0.9984148740768433, 4.2865463910857216e-05, 0.0008623913745395839, 2.6219257051707245e-05, 6.5173398979823105e-06, 9.604128536011558e-06]}\n",
      "{\"dense_4\": [1.6163271538971458e-06, 5.653185326082166e-06, 6.230635335668921e-05, 0.0002850361343007535, 7.771900101261053e-08, 1.4939345760467404e-08, 8.85596396216215e-09, 0.9996383190155029, 3.250707095503458e-06, 3.6677843127108645e-06]}\n",
      "{\"dense_4\": [8.443149681625073e-07, 0.000688467116560787, 0.9989867806434631, 0.00026798417093232274, 8.637068837913375e-09, 2.206630142609356e-06, 1.71692633443854e-08, 4.072795491083525e-05, 1.2371518096188083e-05, 5.978006925033696e-07]}\n",
      "{\"dense_4\": [5.8380260270496365e-06, 6.182613105920609e-06, 0.0003089890524279326, 6.427273183362558e-05, 5.327158802970189e-08, 1.7004512642415648e-07, 3.156231187517733e-08, 0.9996024966239929, 2.5807448764680885e-06, 9.469944416196086e-06]}\n",
      "{\"dense_4\": [9.20690979455685e-07, 0.9997621178627014, 6.24218728262349e-06, 6.926334208401386e-06, 4.2113133531529456e-05, 3.5096684314339655e-07, 2.1129485503479373e-06, 6.729870801791549e-05, 0.00010107098933076486, 1.0857039342226926e-05]}\n",
      "{\"dense_4\": [0.00023532846535090357, 0.0009831805946305394, 0.8774676322937012, 0.11667138338088989, 2.539358547437587e-06, 0.0004478911869227886, 9.468862117500976e-06, 0.00013741532166022807, 0.004030674695968628, 1.4404648027266376e-05]}\n",
      "{\"dense_4\": [1.5446631778104347e-06, 0.9998629093170166, 1.2754469480569242e-06, 1.0386269423179328e-05, 6.147311796667054e-05, 4.7293294613837134e-08, 2.3831394173612352e-06, 1.432539829693269e-05, 4.08755149692297e-05, 4.841976533498382e-06]}\n",
      "{\"dense_4\": [7.46308287489228e-05, 0.9963089823722839, 0.0004667982866521925, 0.00015182248898781836, 0.00029063853435218334, 2.4462491637677886e-05, 0.00014966211165301502, 0.0011903287377208471, 0.001044334378093481, 0.00029829906998202205]}\n",
      "{\"dense_4\": [2.529483026592061e-05, 4.7505080146947876e-05, 0.00036648340756073594, 0.0003180412168148905, 1.4941231256671017e-06, 2.9773611913697096e-06, 2.602837696485949e-07, 0.9991552829742432, 4.205890036246274e-06, 7.84882577136159e-05]}\n",
      "{\"dense_4\": [4.196063940753447e-08, 1.0986278766722535e-06, 1.977828034682716e-08, 1.2436903773505037e-07, 0.9998840093612671, 7.564297987983082e-08, 4.3475347411003895e-07, 4.160959360888228e-05, 1.5702353266533464e-06, 7.103652751538903e-05]}\n",
      "{\"dense_4\": [0.00018604107026476413, 0.015205872245132923, 0.9486846327781677, 0.004650505725294352, 0.020853115245699883, 0.0015132816042751074, 0.003219767939299345, 0.0031987919937819242, 0.0024776775389909744, 1.032319778460078e-05]}\n",
      "{\"dense_4\": [5.653632939583986e-08, 8.649007213534787e-06, 1.2966139365744311e-05, 0.9998767375946045, 6.93821220920654e-07, 5.2055234846193343e-05, 6.561307230867897e-08, 1.3433960930342437e-06, 4.582853216561489e-05, 1.6364347175112925e-06]}\n",
      "{\"dense_4\": [2.991972905874718e-06, 1.1410419347157585e-06, 1.2089757319699856e-06, 0.0001507979177404195, 1.2899838111479767e-05, 0.9995959401130676, 0.00011437755892984569, 6.534246949740918e-06, 7.413715502480045e-05, 3.9997237763600424e-05]}\n",
      "{\"dense_4\": [3.3258453413509415e-07, 0.9989987015724182, 4.578313382808119e-05, 0.0002951081842184067, 0.00015111036191228777, 1.1226526339669363e-06, 6.082308914301393e-07, 5.5109783716034144e-05, 0.0004132276226300746, 3.89092238037847e-05]}\n",
      "{\"dense_4\": [2.8045587896485813e-06, 3.6126086342846975e-05, 0.9998457431793213, 4.7215085942298174e-05, 8.356998478120659e-06, 2.579313331807498e-06, 3.322369957459159e-05, 1.1667711078189313e-05, 1.2089464689779561e-05, 2.757557027166513e-08]}\n",
      "{\"dense_4\": [4.674211018240726e-10, 7.561657966448365e-09, 5.997694701997958e-11, 2.9551153191142987e-10, 0.999998927116394, 1.866551713192166e-08, 2.1325757160184367e-08, 1.856056570659348e-07, 3.35590222277915e-08, 8.555180102121085e-07]}\n",
      "{\"dense_4\": [6.157394523143012e-07, 8.307010830321815e-07, 1.7231486992841383e-07, 1.2393680037803279e-07, 0.9998052716255188, 3.6171471151646983e-07, 9.958749842553516e-07, 1.3373633919400163e-05, 1.0287787972629303e-06, 0.00017722704797051847]}\n",
      "{\"dense_4\": [0.00019200700626242906, 5.2816308198089246e-06, 3.678864231915213e-05, 8.746880666876677e-06, 5.782898733741604e-05, 0.00031655156635679305, 0.9993688464164734, 4.428342890605563e-06, 9.075137313629966e-06, 4.485529814246547e-07]}\n",
      "{\"dense_4\": [4.1557616015097665e-08, 8.367489385818772e-07, 8.726315172680188e-07, 0.999950647354126, 1.1789078513402274e-07, 5.117439741297858e-06, 2.3180544150847027e-09, 1.5323224715757533e-06, 3.820652636932209e-05, 2.555492073952337e-06]}\n",
      "{\"dense_4\": [2.3458900955120043e-07, 3.6013443605042994e-07, 1.1576701126614353e-06, 5.594071262748912e-05, 4.922210064250976e-05, 0.9997097849845886, 3.9574406400788575e-06, 6.442326139222132e-06, 2.43469730776269e-06, 0.00017052682233043015]}\n",
      "{\"dense_4\": [8.277866072603501e-06, 1.205041553475894e-05, 7.074770564940991e-06, 0.005122547969222069, 1.259358487004647e-05, 0.9929267764091492, 1.9889102986780927e-05, 3.776459561777301e-05, 0.00016394715930800885, 0.0016890630358830094]}\n",
      "{\"dense_4\": [1.170138148154365e-06, 2.7865896257139866e-08, 6.519488948697472e-08, 6.997015855603195e-09, 1.5382320270873606e-06, 7.537668352597393e-06, 0.9999812841415405, 3.27414162448747e-09, 8.218167749873828e-06, 3.1490416940727073e-09]}\n",
      "{\"dense_4\": [0.9942948222160339, 2.4168044546968304e-05, 0.0002622847387101501, 5.956654604233336e-06, 7.879588520154357e-05, 1.6484413208672777e-05, 0.005089109297841787, 2.25154963118257e-05, 0.00015731404710095376, 4.854802318732254e-05]}\n",
      "{\"dense_4\": [7.10202563425355e-09, 2.142387600656548e-08, 1.3750898197883998e-09, 9.66823177073195e-10, 0.9999964237213135, 8.406838958308072e-08, 6.179536882200409e-08, 1.3010991324335919e-06, 3.0809044204715974e-08, 2.0470627077884274e-06]}\n",
      "{\"dense_4\": [1.1130178791063372e-05, 0.9987505674362183, 6.54939649393782e-05, 1.5853032891754992e-05, 0.00010826435027411208, 1.0939405683529912e-06, 1.1199110304005444e-05, 0.0008791183936409652, 0.00013186008436605334, 2.543115806474816e-05]}\n",
      "{\"dense_4\": [7.613519414917391e-07, 1.876324091654169e-07, 4.915964879614876e-08, 2.5779512725421228e-05, 0.0003002433804795146, 3.372259698153357e-07, 1.780596337042084e-09, 1.639175388845615e-05, 5.168679990674718e-07, 0.9996557235717773]}\n",
      "{\"dense_4\": [0.00016252034401986748, 6.340761319734156e-05, 4.0344784792978317e-05, 0.0006193959852680564, 6.651756120845675e-05, 0.9932358860969543, 6.466973718488589e-05, 0.00427428912371397, 0.0007852190756238997, 0.0006877689156681299]}\n",
      "{\"dense_4\": [3.62136290732451e-07, 1.9552506103082123e-07, 2.4222572392318398e-06, 2.2085390810389072e-05, 3.898394052015419e-09, 2.23579831981624e-07, 3.276232340976293e-10, 0.9999697208404541, 7.540078783563331e-09, 4.949535650666803e-06]}\n",
      "{\"dense_4\": [1.8512742826715112e-05, 1.935303043865133e-05, 0.002332694362848997, 0.005423806142061949, 2.644502728799125e-06, 1.156167945737252e-05, 1.091544277187495e-06, 2.912274248956237e-05, 0.9918618202209473, 0.00029939692467451096]}\n",
      "{\"dense_4\": [0.00046537071466445923, 6.903315079398453e-05, 0.00017623712483327836, 0.0006321826949715614, 0.01116980891674757, 0.0042807962745428085, 0.00018886776524595916, 0.0004398205492179841, 0.017270201817154884, 0.9653075933456421]}\n",
      "{\"dense_4\": [3.4900126593129244e-06, 9.587824933987577e-06, 0.0014516266528517008, 0.9935018420219421, 9.459224656893639e-07, 4.976581635673938e-07, 5.9775158156583075e-09, 4.7210546654241625e-06, 0.004932326730340719, 9.494545520283282e-05]}\n",
      "{\"dense_4\": [1.0461753845447674e-06, 4.0836346215655794e-07, 1.7367005057167262e-05, 0.0008131434442475438, 1.1064365708080004e-06, 3.999985231928349e-09, 3.3594134141168297e-09, 0.9991458654403687, 3.7601193980663083e-07, 2.075003067147918e-05]}\n",
      "{\"dense_4\": [2.6339910618844442e-05, 0.00010306161129847169, 5.080848950456129e-06, 5.3310075600165874e-05, 0.9937859773635864, 0.00018982740584760904, 4.4602464186027646e-05, 0.00010458700126037002, 4.335083212936297e-05, 0.005643988493829966]}\n",
      "{\"dense_4\": [0.0012026369804516435, 0.00014754700532648712, 0.0014444958651438355, 0.00020413206948433071, 0.00229168264195323, 0.00024496990954503417, 0.9927600622177124, 0.0008546593016944826, 0.0008422359824180603, 7.585185358038871e-06]}\n",
      "{\"dense_4\": [1.3365335860271443e-07, 1.7864605297290836e-06, 2.698040816540015e-06, 5.838607535224583e-07, 0.9998093247413635, 4.7674234338046517e-07, 2.990045402384567e-07, 1.5583018466713838e-06, 1.556564143356809e-06, 0.0001816393923945725]}\n",
      "{\"dense_4\": [2.1491086688030236e-09, 4.3951931871788474e-08, 1.3298973478015341e-08, 0.9999934434890747, 3.540754134334634e-09, 2.2519093079154118e-07, 2.4715547317089026e-11, 1.9316372501521073e-08, 4.991471541870851e-06, 1.2899929515697295e-06]}\n",
      "{\"dense_4\": [0.9996438026428223, 8.68607730808435e-06, 2.997780029545538e-06, 5.869712254025217e-07, 1.0299986570316833e-06, 2.5447529878874775e-06, 0.0002956005046144128, 3.2532589102629572e-06, 8.19626393422368e-07, 4.063532469444908e-05]}\n",
      "{\"dense_4\": [5.607432285614777e-06, 1.7539526879772893e-06, 1.7753667634679005e-05, 4.5501426939154044e-05, 4.719076684978063e-08, 6.151092435402461e-08, 3.799419445726926e-09, 0.9999147653579712, 6.644120986720736e-08, 1.4424175788008142e-05]}\n",
      "{\"dense_4\": [0.9999973773956299, 1.9203158174718737e-08, 2.752326011545847e-08, 1.8284834757409385e-10, 4.598343927852966e-09, 9.87087855897073e-10, 5.720167450817826e-07, 4.4335877191770123e-08, 2.4660340436355455e-09, 1.930554844875587e-06]}\n",
      "{\"dense_4\": [4.909317067358643e-05, 1.0733077942859381e-05, 0.9990701079368591, 0.0008520300616510212, 1.4351333454953874e-08, 2.071047902063583e-07, 1.1586362091975388e-08, 1.65510118677048e-05, 1.096802179745282e-06, 2.370875051838084e-07]}\n",
      "{\"dense_4\": [3.5637534892885014e-05, 1.988271833397448e-05, 1.1808965609816369e-06, 0.0004739372816402465, 9.87469611573033e-05, 7.444082683605302e-08, 1.3738686632791541e-08, 0.0004685870953835547, 0.00043420353904366493, 0.998467743396759]}\n",
      "{\"dense_4\": [1.0702991630751058e-06, 0.9995343685150146, 2.0405514078447595e-06, 9.115207831200678e-06, 0.00026057742070406675, 8.307810048790998e-07, 2.7401565603213385e-06, 3.888908395310864e-05, 0.00010512146400287747, 4.530381193035282e-05]}\n",
      "{\"dense_4\": [1.2112924423490767e-06, 1.883148252090905e-05, 1.2147565939812921e-05, 0.00010710670903790742, 1.6574936125834938e-06, 3.258947600670581e-08, 1.7957809461677243e-08, 0.9998078942298889, 8.347693096766307e-07, 5.026471626479179e-05]}\n",
      "{\"dense_4\": [4.851787238635552e-08, 4.557562988338759e-06, 6.23226355855877e-07, 0.9999253749847412, 4.4227601847524056e-07, 1.300750591326505e-05, 3.132308412645557e-09, 1.5752716819861234e-07, 3.8076941564213485e-05, 1.7793297956814058e-05]}\n",
      "{\"dense_4\": [3.9534003008157015e-05, 0.0028476824518293142, 0.9953285455703735, 0.00021031273354310542, 2.0567899809975643e-06, 8.511372470820788e-06, 7.025736977084307e-06, 0.0012790231266990304, 0.000252466241363436, 2.4771099560894072e-05]}\n",
      "{\"dense_4\": [2.2644229829893447e-05, 0.00012218751362524927, 1.5092207661382417e-07, 0.00011782807996496558, 0.008980984799563885, 4.12814461014932e-06, 2.0483905416313064e-07, 0.00036119454307481647, 9.388887701788917e-05, 0.9902967810630798]}\n",
      "{\"dense_4\": [5.131082434672862e-05, 4.0974540752358735e-05, 0.0005086185410618782, 0.04088658094406128, 1.8089065179083264e-07, 1.9859498934238218e-06, 1.0311749676361615e-08, 0.9526558518409729, 0.0012181526981294155, 0.004636329598724842]}\n",
      "{\"dense_4\": [0.00010299132554791868, 1.4596721484849695e-05, 4.8512356443097815e-06, 2.1249124984024093e-05, 1.8382905182079412e-05, 0.00011134202213725075, 5.021976789976179e-07, 0.9970218539237976, 1.6750639133533696e-06, 0.0027024676091969013]}\n",
      "{\"dense_4\": [0.00039832814945839345, 8.152820555551443e-06, 2.672470327524934e-05, 2.5097453999478603e-06, 7.53708227421157e-05, 0.00024328746076207608, 0.999210000038147, 2.9278642159624724e-06, 2.116926589224022e-05, 1.1488057680253405e-05]}\n",
      "{\"dense_4\": [5.872686337227151e-09, 7.817757818884274e-08, 0.9999958276748657, 3.648735173555906e-06, 2.3042028285402694e-09, 4.014672760899174e-10, 9.602996176028e-11, 3.813002535935084e-07, 8.314423638466906e-08, 2.0800612621219017e-10]}\n",
      "{\"dense_4\": [2.7238445909461007e-05, 6.07698893873021e-06, 4.137259111303138e-06, 3.6611816085496685e-06, 1.1826674608528265e-06, 1.1839798617074848e-06, 6.196208346409549e-08, 0.9998487234115601, 3.530218748437619e-07, 0.00010722698061726987]}\n",
      "{\"dense_4\": [8.081067790044472e-06, 6.476014095824212e-05, 3.300377284176648e-05, 0.00014483100676443428, 9.4217000878416e-05, 0.00012424588203430176, 6.478651630459353e-05, 6.814670086896513e-06, 0.9994145631790161, 4.467058533919044e-05]}\n",
      "{\"dense_4\": [5.805190772534274e-10, 1.3613750127206004e-08, 3.1187066817928155e-10, 5.519272261444996e-10, 0.9999990463256836, 8.921544392137548e-09, 1.3696285883213477e-08, 1.0616611234581796e-07, 3.857326902334535e-08, 8.253370538113813e-07]}\n",
      "{\"dense_4\": [6.149541604827391e-06, 3.32526360580232e-05, 0.00011225066555198282, 0.0005996235995553434, 1.1851007997165652e-07, 3.175686060785665e-07, 1.2744119537444476e-08, 0.9991897940635681, 1.888413135020528e-05, 3.956983346142806e-05]}\n",
      "{\"dense_4\": [1.3465202641782525e-07, 1.7457354260841385e-05, 1.3017292985750828e-06, 0.9999065399169922, 1.0205314993072534e-06, 1.9982055164291523e-05, 3.759726752150527e-08, 4.739620635518804e-05, 3.184260549460305e-06, 2.8625252070924034e-06]}\n",
      "{\"dense_4\": [5.76184106648725e-07, 1.1310038239287223e-08, 1.3482767258210515e-07, 1.7169269339589732e-09, 1.120237629947951e-05, 5.937279752288305e-07, 0.9999865293502808, 5.285635751306472e-08, 7.974821869538573e-07, 9.437547410229286e-10]}\n",
      "{\"dense_4\": [9.052580935531296e-06, 0.9992167949676514, 9.264230175176635e-05, 5.022254481445998e-05, 0.00016545764810871333, 1.4340662346512545e-06, 2.465282341290731e-05, 0.00016860873438417912, 0.00026677356800064445, 4.280449047655566e-06]}\n",
      "{\"dense_4\": [7.257992820086656e-07, 8.49700427352218e-06, 2.739346882663085e-06, 0.9991341233253479, 4.130336037633242e-07, 3.0805105780018494e-05, 1.429507179295797e-08, 1.3348090988074546e-06, 0.0006434918032027781, 0.00017783093790058047]}\n",
      "{\"dense_4\": [2.818382199620828e-06, 3.434464872498211e-07, 2.544562448747456e-06, 1.0018027296609944e-06, 2.0598911305569345e-06, 2.4381424736930057e-05, 0.9999607801437378, 1.1415362166644627e-07, 5.8862542573479e-06, 1.6820454362687087e-08]}\n",
      "{\"dense_4\": [0.0004062233492732048, 0.00044782477198168635, 6.798261892981827e-05, 0.0007093496969901025, 0.21590425074100494, 0.00012047007476212457, 6.1054750403855e-05, 0.00204681558534503, 0.002109599532559514, 0.7781264185905457]}\n",
      "{\"dense_4\": [1.9808124918085923e-08, 9.186272222905245e-07, 4.474032877510581e-08, 0.9998049139976501, 6.576580613426586e-09, 3.1079827749636024e-05, 3.345768800899762e-11, 1.1006628852783251e-07, 1.9587121187214507e-06, 0.00016095633327495307]}\n",
      "{\"dense_4\": [1.600689358838281e-07, 0.9998149275779724, 5.321024673321517e-06, 2.0794432202819735e-06, 2.4734694306971505e-05, 4.2006185196896695e-08, 1.1732216762538883e-06, 5.006630999560002e-06, 0.00014510889013763517, 1.556822212478437e-06]}\n",
      "{\"dense_4\": [2.2946021260850102e-07, 5.079943434793677e-07, 6.036219133420673e-07, 1.2454750049073482e-06, 0.9998249411582947, 1.2133039035688853e-06, 6.3804659475863446e-06, 8.162371045727923e-07, 6.821285751357209e-06, 0.0001572160836076364]}\n",
      "{\"dense_4\": [6.799281254643574e-05, 0.9470173716545105, 0.0003937732835765928, 0.002932931063696742, 0.019821874797344208, 0.0004472081200219691, 5.2283448894741014e-05, 0.004704243503510952, 0.011075703427195549, 0.013486633077263832]}\n",
      "{\"dense_4\": [6.288865961323609e-07, 9.20075035537593e-06, 8.977236575447023e-05, 0.0004458693729247898, 6.209404546098085e-06, 2.2431866142369472e-08, 2.290657050707523e-07, 0.9994433522224426, 3.3251669719902566e-06, 1.4334204934129957e-06]}\n",
      "{\"dense_4\": [0.0008987342589534819, 2.7072263037553057e-05, 2.5740806449903175e-05, 4.193161942112056e-07, 0.0001455019519198686, 0.0002492906933184713, 0.9986374974250793, 1.183316157948866e-06, 1.2013129889965057e-05, 2.460050382069312e-06]}\n",
      "{\"dense_4\": [1.5562621911158203e-06, 3.054892516729524e-08, 1.2458880860322097e-07, 0.00016186163702514023, 1.2108479268135852e-06, 8.275424079329241e-08, 5.022530169540573e-10, 9.900883014779538e-06, 3.017926019310835e-06, 0.9998223185539246]}\n"
     ]
    }
   ],
   "source": [
    "print(\"errors\")\n",
    "!gsutil cat $OUTPUT_PATH/prediction.errors_stats-00000-of-00001\n",
    "print(\"batch prediction results\")\n",
    "!gsutil cat $OUTPUT_PATH/prediction.results-00000-of-00010\n"
   ]
  },
  {
   "cell_type": "code",
   "execution_count": null,
   "metadata": {},
   "outputs": [],
   "source": []
  }
 ],
 "metadata": {
  "environment": {
   "name": "tf2-gpu.2-4.m65",
   "type": "gcloud",
   "uri": "gcr.io/deeplearning-platform-release/tf2-gpu.2-4:m65"
  },
  "kernelspec": {
   "display_name": "Python 3",
   "language": "python",
   "name": "python3"
  },
  "language_info": {
   "codemirror_mode": {
    "name": "ipython",
    "version": 3
   },
   "file_extension": ".py",
   "mimetype": "text/x-python",
   "name": "python",
   "nbconvert_exporter": "python",
   "pygments_lexer": "ipython3",
   "version": "3.7.10"
  }
 },
 "nbformat": 4,
 "nbformat_minor": 4
}
