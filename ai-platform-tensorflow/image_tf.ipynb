{
 "cells": [
  {
   "cell_type": "code",
   "execution_count": 68,
   "metadata": {},
   "outputs": [],
   "source": [
    "# ==============================================================================\n",
    "# Copyright 2021 Google LLC. This software is provided as-is, without warranty\n",
    "# or representation for any use or purpose. Your use of it is subject to your\n",
    "# agreement with Google.\n",
    "# ==============================================================================\n",
    "#\n",
    "# Author: Chanchal Chatterjee\n",
    "# Email: cchatterjee@google.com\n",
    "#\n",
    "# Filename image_tf.ipynb\n",
    "# Classify numbers 0-9\n",
    "#"
   ]
  },
  {
   "cell_type": "code",
   "execution_count": 69,
   "metadata": {},
   "outputs": [],
   "source": [
    "# To these first:\n",
    "# 1. Create a VM with TF 2.1\n",
    "# 2. Create the following buckets in your project:\n",
    "#    Root Bucket:               BUCKET_NAME    = 'tuti_asset'  'gs://$BUCKET_NAME'\n",
    "#    Model Results Directory:   FOLDER_RESULTS = 'tf_models'   'gs://$BUCKET_NAME/$FOLDER_RESULTS'\n",
    "# 3. In your VM create directory called ./model_dir\n"
   ]
  },
  {
   "cell_type": "code",
   "execution_count": 70,
   "metadata": {},
   "outputs": [],
   "source": [
    "# Uninstall old packages\n",
    "#!pip3 uninstall -r requirements-uninstall.txt -y\n"
   ]
  },
  {
   "cell_type": "code",
   "execution_count": 71,
   "metadata": {},
   "outputs": [
    {
     "name": "stdout",
     "output_type": "stream",
     "text": [
      "Collecting cloudml-hypertune\n",
      "  Using cached cloudml_hypertune-0.1.0.dev6-py2.py3-none-any.whl\n",
      "Installing collected packages: cloudml-hypertune\n",
      "Successfully installed cloudml-hypertune-0.1.0.dev6\n"
     ]
    }
   ],
   "source": [
    "# Install packages\n",
    "# https://cloud.google.com/ai-platform/training/docs/runtime-version-list\n",
    "#!pip3 install -r requirements-rt2.1.txt --user --ignore-installed\n",
    "\n",
    "# If VM created with TF2.1 Enterprise (no GPUs), all you need to install is cloudml-hypertune\n",
    "!pip3 install cloudml-hypertune --user --ignore-installed\n"
   ]
  },
  {
   "cell_type": "code",
   "execution_count": 72,
   "metadata": {},
   "outputs": [
    {
     "name": "stdout",
     "output_type": "stream",
     "text": [
      "TF Version=  2.1.3\n",
      "Keras Version=  2.3.0-tf\n"
     ]
    }
   ],
   "source": [
    "# Import packages\n",
    "import warnings\n",
    "warnings.filterwarnings(\"ignore\")\n",
    "\n",
    "import os\n",
    "os.environ['TF_CPP_MIN_LOG_LEVEL'] = '2' \n",
    "#0 = all messages are logged (default behavior)\n",
    "#1 = INFO messages are not printed\n",
    "#2 = INFO and WARNING messages are not printed\n",
    "#3 = INFO, WARNING, and ERROR messages are not printed\n",
    "\n",
    "import numpy as np\n",
    "from google.cloud import storage\n",
    "import tensorflow as tf\n",
    "#import matplotlib.pyplot as plt\n",
    "#from tensorflow.keras import models\n",
    "\n",
    "print(\"TF Version= \", tf.__version__)\n",
    "print(\"Keras Version= \", tf.keras.__version__)\n"
   ]
  },
  {
   "cell_type": "code",
   "execution_count": 73,
   "metadata": {},
   "outputs": [],
   "source": [
    "# Utility functions\n",
    "\n",
    "#------\n",
    "def find_best_model_dir(model_dir, offset=1, maxFlag=1):\n",
    "    # Get a list of model directories\n",
    "    all_models = ! gsutil ls $model_dir\n",
    "    print(\"\")\n",
    "    print(\"All Models = \")\n",
    "    print(*all_models, sep='\\n')\n",
    "\n",
    "    # Check if model dirs exist\n",
    "    if ((\"CommandException\" in all_models[0]) or (len(all_models) <= 1)):\n",
    "        print(\"Create the models first.\")\n",
    "        return \"\"\n",
    "\n",
    "    # Find the best model from checkpoints\n",
    "    import re\n",
    "    best_metric = -np.Inf\n",
    "    if (maxFlag != 1):\n",
    "        best_metric = np.Inf\n",
    "    best_model_dir = \"\"\n",
    "    tup_list = []\n",
    "    for i in range(1,len(all_models)):\n",
    "        all_floats = re.findall(r\"[-+]?\\d*\\.\\d+|\\d+\", all_models[i]) #Find the floats in the string\n",
    "        cur_metric = -float(all_floats[-offset]) #which item is the model optimization metric\n",
    "        tup_list.append([all_models[i], cur_metric])\n",
    "        if (maxFlag*(cur_metric > best_metric) or (1-maxFlag)*(cur_metric < best_metric)):\n",
    "            best_metric = cur_metric\n",
    "            best_model_dir = all_models[i]\n",
    "    if maxFlag:\n",
    "        tup_list.sort(key=lambda tup: tup[1], reverse=False)\n",
    "    else:\n",
    "        tup_list.sort(key=lambda tup: tup[1], reverse=True)\n",
    "    for i in range(len(tup_list)):\n",
    "        print(tup_list[i][0])\n",
    "    print(\"Best Accuracy  from Checkpoints = \", best_metric)\n",
    "    print(\"Best Model Dir from Checkpoints = \", best_model_dir)\n",
    "    \n",
    "    return best_model_dir\n"
   ]
  },
  {
   "cell_type": "code",
   "execution_count": 74,
   "metadata": {},
   "outputs": [],
   "source": [
    "from oauth2client.client import GoogleCredentials\n",
    "from googleapiclient import discovery\n",
    "from googleapiclient import errors\n",
    "import json\n",
    "\n",
    "#------\n",
    "# Python module to get the best hypertuned model parameters\n",
    "def pyth_get_hypertuned_parameters(project_name, job_name, maxFlag):\n",
    "    # Define the credentials for the service account\n",
    "    #credentials = service_account.Credentials.from_service_account_file(<PATH TO CREDENTIALS JSON>)\n",
    "    credentials = GoogleCredentials.get_application_default()\n",
    "\n",
    "    # Define the project id and the job id and format it for the api request\n",
    "    project_id = 'projects/{}'.format(project_name)\n",
    "    job_id = '{}/jobs/{}'.format(project_id, job_name)\n",
    "\n",
    "    # Build the service\n",
    "    cloudml = discovery.build('ml', 'v1', cache_discovery=False, credentials=credentials)\n",
    "\n",
    "    # Execute the request and pass in the job id\n",
    "    request = cloudml.projects().jobs().get(name=job_id)\n",
    "\n",
    "    try:\n",
    "        response = request.execute()\n",
    "        # Handle a successful request\n",
    "    except errors.HttpError as err:\n",
    "        tf.compat.v1.logging.error('There was an error getting the hyperparameters. Check the details:')\n",
    "        tf.compat.v1.logging.error(err._get_reason())\n",
    "\n",
    "    # Get just the best hp values\n",
    "    if maxFlag:\n",
    "        best_model = response['trainingOutput']['trials'][0]\n",
    "    else:\n",
    "        best_model = response['trainingOutput']['trials'][-1]\n",
    "    #print('Best Hyperparameters:')\n",
    "    #print(json.dumps(best_model, indent=4))\n",
    "\n",
    "    nTrials = len(response['trainingOutput']['trials'])\n",
    "    for i in range(0,nTrials):\n",
    "        state = response['trainingOutput']['trials'][i]['state']\n",
    "        trialId = response['trainingOutput']['trials'][i]['trialId']\n",
    "        objV = -1\n",
    "        if (state == 'SUCCEEDED'):\n",
    "            objV = response['trainingOutput']['trials'][i]['finalMetric']['objectiveValue']\n",
    "        print('objective=', objV, ' trialId=', trialId, state)\n",
    "        d = response['trainingOutput']['trials'][i]['hyperparameters']\n",
    "        for key, value in d.items():\n",
    "            print('    ', key, value)\n",
    "    return best_model\n"
   ]
  },
  {
   "cell_type": "code",
   "execution_count": 75,
   "metadata": {},
   "outputs": [],
   "source": [
    "# Plot original images\n",
    "# image_array is np.array(num_images, x_size, y_size)\n",
    "\n",
    "import matplotlib.pyplot as plt\n",
    "\n",
    "def plot_images(image_array):\n",
    "    fig, axarr = plt.subplots(4,4, figsize=(8, 8))\n",
    "    for i in range(4):\n",
    "        for j in range(4):\n",
    "            #axarr[i,j].set_title('Image-'+str(4*i+j))\n",
    "            axarr[i,j].imshow(image_array[4*i+j,:,:], cmap='gray')\n"
   ]
  },
  {
   "cell_type": "markdown",
   "metadata": {},
   "source": [
    "# Setup"
   ]
  },
  {
   "cell_type": "code",
   "execution_count": 76,
   "metadata": {},
   "outputs": [
    {
     "data": {
      "text/plain": [
       "'cchatterjee-sandbox'"
      ]
     },
     "execution_count": 76,
     "metadata": {},
     "output_type": "execute_result"
    }
   ],
   "source": [
    "# Get the project id\n",
    "proj_id = !gcloud config list project --format \"value(core.project)\"\n",
    "proj_id[0]\n"
   ]
  },
  {
   "cell_type": "code",
   "execution_count": 77,
   "metadata": {},
   "outputs": [],
   "source": [
    "USER = 'cchatterj'\n",
    "PROJECT_ID = proj_id[0]\n",
    "BUCKET_NAME = 'vapit_data' #Use a unique name\n",
    "FOLDER_RESULTS = 'tf_models'\n",
    "REGION = 'us-central1'\n",
    "ZONE1 = 'us-central1-a'\n",
    "RUNTIME_VERSION = 2.1\n",
    "JOB_DIR   = 'gs://' + BUCKET_NAME + '/' + FOLDER_RESULTS + '/jobdir'\n",
    "MODEL_DIR = 'gs://' + BUCKET_NAME + '/' + FOLDER_RESULTS + '/models'\n"
   ]
  },
  {
   "cell_type": "code",
   "execution_count": 78,
   "metadata": {},
   "outputs": [
    {
     "name": "stdout",
     "output_type": "stream",
     "text": [
      "Updated property [core/project].\n",
      "Updated property [compute/zone].\n",
      "Updated property [compute/region].\n",
      "[compute]\n",
      "region = us-central1\n",
      "zone = us-central1-a\n",
      "[core]\n",
      "account = 901951554789-compute@developer.gserviceaccount.com\n",
      "disable_usage_reporting = True\n",
      "project = cchatterjee-sandbox\n",
      "\n",
      "Your active configuration is: [default]\n"
     ]
    }
   ],
   "source": [
    "!gcloud config set project $PROJECT_ID\n",
    "!gcloud config set compute/zone $ZONE1\n",
    "!gcloud config set compute/region $REGION\n",
    "!gcloud config list\n",
    "#!gcloud config config-helper --format \"value(configuration.properties.core.project)\"\n"
   ]
  },
  {
   "cell_type": "code",
   "execution_count": 79,
   "metadata": {},
   "outputs": [
    {
     "name": "stdout",
     "output_type": "stream",
     "text": [
      "CommandException: 1 files/objects could not be removed.\n"
     ]
    }
   ],
   "source": [
    "# Clean old job logs, job packages and models\n",
    "!gsutil -m -q rm $JOB_DIR/packages/**\n",
    "!gsutil -m -q rm $MODEL_DIR/model**\n"
   ]
  },
  {
   "cell_type": "markdown",
   "metadata": {},
   "source": [
    "# ML Model"
   ]
  },
  {
   "cell_type": "code",
   "execution_count": 80,
   "metadata": {},
   "outputs": [],
   "source": [
    "# Create the tf_trainer directory and load the trainer files in it\n",
    "!mkdir -p trainer_i\n"
   ]
  },
  {
   "cell_type": "code",
   "execution_count": 81,
   "metadata": {},
   "outputs": [
    {
     "name": "stdout",
     "output_type": "stream",
     "text": [
      "Overwriting ./trainer_i/inputs.py\n"
     ]
    }
   ],
   "source": [
    "%%writefile ./trainer_i/inputs.py\n",
    "\n",
    "# Create the train and label lists\n",
    "import math\n",
    "import numpy as np\n",
    "import pandas as pd\n",
    "import tensorflow as tf\n",
    "from sklearn.model_selection import train_test_split\n",
    "\n",
    "#------\n",
    "def load_data():\n",
    "\n",
    "    \"\"\"Creates train and test data set\"\"\"\n",
    "    mnist = tf.keras.datasets.mnist\n",
    "    (X_train, y_train),(X_test, y_test) = mnist.load_data()\n",
    "    X_train, X_test = X_train / 255.0, X_test / 255.0\n",
    "    \n",
    "    # Check the shape\n",
    "    print(\"X_train shape = \", X_train.shape)\n",
    "    print(\"X_test  shape = \", X_test.shape)\n",
    "    \n",
    "    print(\"y_train shape = \", y_train.shape)\n",
    "    print(\"y_test  shape = \", y_test.shape)\n",
    "\n",
    "    return [X_train, X_test, y_train, y_test]\n"
   ]
  },
  {
   "cell_type": "code",
   "execution_count": 82,
   "metadata": {},
   "outputs": [
    {
     "name": "stdout",
     "output_type": "stream",
     "text": [
      "X_train shape =  (60000, 28, 28)\n",
      "X_test  shape =  (10000, 28, 28)\n",
      "y_train shape =  (60000,)\n",
      "y_test  shape =  (10000,)\n"
     ]
    },
    {
     "data": {
      "image/png": "[encoded data removed]",
      "text/plain": [
       "<Figure size 576x576 with 16 Axes>"
      ]
     },
     "metadata": {
      "needs_background": "light"
     },
     "output_type": "display_data"
    }
   ],
   "source": [
    "from trainer_i import inputs\n",
    "train_test_data = inputs.load_data()\n",
    "X_test  = train_test_data[1]\n",
    "plot_images(X_test)\n"
   ]
  },
  {
   "cell_type": "code",
   "execution_count": 179,
   "metadata": {},
   "outputs": [
    {
     "name": "stdout",
     "output_type": "stream",
     "text": [
      "Overwriting ./trainer_i/model.py\n"
     ]
    }
   ],
   "source": [
    "%%writefile ./trainer_i/model.py\n",
    "\n",
    "import tensorflow as tf\n",
    "import numpy as np\n",
    "from tensorflow.keras import backend as K\n",
    "\n",
    "def tf_model(input_shape, model_depth: int = 1, dropout_rate: float = 0.02):\n",
    "    \"\"\"Creates the keras model used by task to train the model.\"\"\"\n",
    "    from tensorflow.keras.models import Sequential\n",
    "    from tensorflow.keras.layers import Dense, Flatten, Dropout\n",
    "    x_dim = input_shape[0]\n",
    "    y_dim = input_shape[1]\n",
    "\n",
    "    model = Sequential()\n",
    "    model.add(Flatten(input_shape=input_shape))\n",
    "    for i in range(0,model_depth):\n",
    "        nUnits = x_dim*y_dim-(i+1)*((x_dim*y_dim-128)//model_depth)\n",
    "        model.add(Dense(nUnits, activation='relu'))\n",
    "        model.add(Dropout(dropout_rate))\n",
    "    model.add(Dense(10, activation='softmax'))\n",
    "\n",
    "    print(model.summary())\n",
    "\n",
    "    return model\n",
    "\n",
    "def custom_loss(y_true, y_pred):\n",
    "    custom_loss = tf.keras.losses.sparse_categorical_crossentropy(y_true, y_pred)\n",
    "    return custom_loss\n",
    "\n",
    "def custom_metric(y_true, y_pred):\n",
    "    y_true = K.flatten(y_true)\n",
    "    y_pred = K.flatten(y_pred)\n",
    "    custom_metric = np.mean(tf.math.squared_difference(y_true, y_pred))\n",
    "    custom_metric = tf.reduce_sum(custom_metric)\n",
    "    return custom_metric\n"
   ]
  },
  {
   "cell_type": "markdown",
   "metadata": {},
   "source": [
    "## Package for distributed training"
   ]
  },
  {
   "cell_type": "code",
   "execution_count": 180,
   "metadata": {},
   "outputs": [
    {
     "name": "stdout",
     "output_type": "stream",
     "text": [
      "Overwriting ./setup.py\n"
     ]
    }
   ],
   "source": [
    "%%writefile ./setup.py\n",
    "\n",
    "# python3\n",
    "\n",
    "# ==============================================================================\n",
    "# Copyright 2020 Google LLC. This software is provided as-is, without warranty\n",
    "# or representation for any use or purpose. Your use of it is subject to your\n",
    "# agreement with Google.\n",
    "# ==============================================================================\n",
    "\n",
    "# https://cloud.google.com/ai-platform/training/docs/runtime-version-list\n",
    "\n",
    "from setuptools import find_packages\n",
    "from setuptools import setup\n",
    "\n",
    "#Runtime 2.1\n",
    "REQUIRED_PACKAGES = ['tensorflow==2.1.0',\n",
    "                     'numpy==1.18.0',\n",
    "                     'pandas==0.25.3',\n",
    "                     'scikit-learn==0.22',\n",
    "                     'google-cloud-storage==1.23.0',\n",
    "                     'gcsfs==0.6.1',\n",
    "                     'cloudml-hypertune',\n",
    "                    ]\n",
    "setup(\n",
    "    name='trainer_i',\n",
    "    version='0.1',\n",
    "    install_requires=REQUIRED_PACKAGES,\n",
    "    packages=find_packages(),\n",
    "    include_package_data=True,\n",
    "    description='Trainer package for Tensorflow Task'\n",
    ")\n"
   ]
  },
  {
   "cell_type": "markdown",
   "metadata": {},
   "source": [
    "## Training functions"
   ]
  },
  {
   "cell_type": "code",
   "execution_count": 181,
   "metadata": {},
   "outputs": [
    {
     "name": "stdout",
     "output_type": "stream",
     "text": [
      "Overwriting ./trainer_i/__init__.py\n"
     ]
    }
   ],
   "source": [
    "%%writefile ./trainer_i/__init__.py\n",
    "# python3\n",
    "\n",
    "# ==============================================================================\n",
    "# Copyright 2020 Google LLC. This software is provided as-is, without warranty\n",
    "# or representation for any use or purpose. Your use of it is subject to your\n",
    "# agreement with Google.\n",
    "# ==============================================================================\n"
   ]
  },
  {
   "cell_type": "code",
   "execution_count": 182,
   "metadata": {},
   "outputs": [
    {
     "name": "stdout",
     "output_type": "stream",
     "text": [
      "Overwriting ./trainer_i/train.py\n"
     ]
    }
   ],
   "source": [
    "%%writefile ./trainer_i/train.py\n",
    "\n",
    "# python3\n",
    "# ==============================================================================\n",
    "# Copyright 2020 Google LLC. This software is provided as-is, without warranty\n",
    "# or representation for any use or purpose. Your use of it is subject to your\n",
    "# agreement with Google.\n",
    "# ==============================================================================\n",
    "\n",
    "import os\n",
    "import json\n",
    "import tensorflow as tf\n",
    "import numpy as np\n",
    "import datetime as datetime\n",
    "from pytz import timezone\n",
    "import hypertune\n",
    "import argparse\n",
    "from trainer_i import model\n",
    "from trainer_i import inputs\n",
    "\n",
    "\n",
    "import warnings\n",
    "warnings.filterwarnings(\"ignore\")\n",
    "\n",
    "import os\n",
    "os.environ['TF_CPP_MIN_LOG_LEVEL'] = '3' \n",
    "#0 = all messages are logged (default behavior)\n",
    "#1 = INFO messages are not printed\n",
    "#2 = INFO and WARNING messages are not printed\n",
    "#3 = INFO, WARNING, and ERROR messages are not printed\n",
    "\n",
    "def parse_arguments():\n",
    "    \"\"\"Argument parser.\n",
    "    Returns:\n",
    "      Dictionary of arguments.\n",
    "    \"\"\"\n",
    "    parser = argparse.ArgumentParser()\n",
    "    parser.add_argument('--model_depth', default=1, type=int,\n",
    "                        help='Hyperparameter: depth of the model')\n",
    "    parser.add_argument('--dropout_rate', default=0.02, type=float, \n",
    "                        help='Hyperparameter: Drop out rate')\n",
    "    parser.add_argument('--learning_rate', default=0.0001, type=float, \n",
    "                        help='Hyperparameter: initial learning rate')\n",
    "    parser.add_argument('--epochs', default=2, type=int,\n",
    "                        help='Hyperparameter: epoch.')\n",
    "    parser.add_argument('--batch_size', default=4, type=int, \n",
    "                        help='batch size of the deep network')\n",
    "    parser.add_argument('--model_dir', default=\"\",\n",
    "                        help='Directory to store model checkpoints and logs.')\n",
    "    parser.add_argument('--verbosity',choices=['DEBUG', 'ERROR', 'FATAL', 'INFO', 'WARN'],\n",
    "                        default='FATAL')\n",
    "    args, _ = parser.parse_known_args()\n",
    "    return args\n",
    "\n",
    "def get_callbacks(args, early_stop_patience: int = 3):\n",
    "    \"\"\"Creates Keras callbacks for model training.\"\"\"\n",
    "\n",
    "    # Get trialId\n",
    "    trialId = json.loads(os.environ.get(\"TF_CONFIG\", \"{}\")).get(\"task\", {}).get(\"trial\", \"\")\n",
    "    if trialId == '':\n",
    "        trialId = '0'\n",
    "    print(\"trialId=\", trialId)\n",
    "\n",
    "    curTime = datetime.datetime.now(timezone('US/Pacific')).strftime('%H%M%S')\n",
    "    \n",
    "    # Modify model_dir paths to include trialId\n",
    "    model_dir = args.model_dir + \"/checkpoints/cp-\"+curTime+\"-\"+trialId+\"-{val_accuracy:.4f}\"\n",
    "    log_dir   = args.model_dir + \"/log_dir\"\n",
    "\n",
    "    tensorboard_cb = tf.keras.callbacks.TensorBoard(log_dir, histogram_freq=1)\n",
    "    checkpoint_cb  = tf.keras.callbacks.ModelCheckpoint(model_dir, monitor='val_accuracy', mode='max', \n",
    "                                                        verbose=0, save_best_only=True,\n",
    "                                                        save_weights_only=False)\n",
    "    earlystop_cb   = tf.keras.callbacks.EarlyStopping(monitor='val_accuracy', patience=3)\n",
    "\n",
    "    return [checkpoint_cb, tensorboard_cb, earlystop_cb]\n",
    "\n",
    "\n",
    "if __name__ == \"__main__\":\n",
    "\n",
    "    # ---------------------------------------\n",
    "    # Parse Arguments\n",
    "    # ---------------------------------------\n",
    "    args = parse_arguments()\n",
    "    #args.model_dir = MODEL_DIR + datetime.datetime.now(timezone('US/Pacific')).strftime('/model_%m%d%Y_%H%M')\n",
    "    print(args)\n",
    "\n",
    "    # ---------------------------------------\n",
    "    # Input Data & Preprocessing\n",
    "    # ---------------------------------------\n",
    "    print(\"Input and pre-process data ...\")\n",
    "    # Extract train_seismic, train_label\n",
    "    train_test_data = inputs.load_data()\n",
    "    X_train = train_test_data[0]\n",
    "    X_test  = train_test_data[1]\n",
    "    y_train = train_test_data[2]\n",
    "    y_test  = train_test_data[3]\n",
    "\n",
    "    # ---------------------------------------\n",
    "    # Train model\n",
    "    # ---------------------------------------\n",
    "    print(\"Creating model ...\")\n",
    "    input_shape = (X_train.shape)[1:]\n",
    "    tf_model = model.tf_model(input_shape, model_depth=args.model_depth,\n",
    "                              dropout_rate=args.dropout_rate)\n",
    "    \n",
    "    optimizer = tf.keras.optimizers.Adam(learning_rate=args.learning_rate)\n",
    "    tf_model.compile(optimizer=optimizer,\n",
    "                     loss='sparse_categorical_crossentropy',\n",
    "                     metrics=['accuracy'])\n",
    "    \n",
    "    print(\"Fitting model ...\")\n",
    "    callbacks = get_callbacks(args, 3)\n",
    "    histy = tf_model.fit(x=X_train, y=y_train,\n",
    "                         epochs=args.epochs,\n",
    "                         batch_size=args.batch_size,\n",
    "                         validation_data=(X_test, y_test),\n",
    "                         callbacks=callbacks)\n",
    "    # TBD save history for visualization\n",
    "\n",
    "    final_epoch_accuracy = histy.history['accuracy'][-1]\n",
    "    final_epoch_count = len(histy.history['accuracy'])\n",
    "\n",
    "    print('final_epoch_accuracy = %.6f' % final_epoch_accuracy)\n",
    "    print('final_epoch_count = %2d' % final_epoch_count)\n"
   ]
  },
  {
   "cell_type": "code",
   "execution_count": 183,
   "metadata": {},
   "outputs": [
    {
     "name": "stdout",
     "output_type": "stream",
     "text": [
      "MODEL_DEPTH =  2\n",
      "DROPOUT_RATE = 0.0100\n",
      "LEARNING_RATE = 0.000050\n",
      "EPOCHS =  1\n",
      "BATCH_SIZE = 32\n",
      "MODEL_DIR = gs://vapit_data/tf_models/models/model_06092021_1635\n",
      "Namespace(batch_size=32, dropout_rate=0.01, epochs=1, learning_rate=5e-05, model_depth=2, model_dir='gs://vapit_data/tf_models/models/model_06092021_1635', verbosity='FATAL')\n",
      "Input and pre-process data ...\n",
      "X_train shape =  (60000, 28, 28)\n",
      "X_test  shape =  (10000, 28, 28)\n",
      "y_train shape =  (60000,)\n",
      "y_test  shape =  (10000,)\n",
      "Creating model ...\n",
      "Model: \"sequential\"\n",
      "_________________________________________________________________\n",
      "Layer (type)                 Output Shape              Param #   \n",
      "=================================================================\n",
      "flatten (Flatten)            (None, 784)               0         \n",
      "_________________________________________________________________\n",
      "dense (Dense)                (None, 456)               357960    \n",
      "_________________________________________________________________\n",
      "dropout (Dropout)            (None, 456)               0         \n",
      "_________________________________________________________________\n",
      "dense_1 (Dense)              (None, 128)               58496     \n",
      "_________________________________________________________________\n",
      "dropout_1 (Dropout)          (None, 128)               0         \n",
      "_________________________________________________________________\n",
      "dense_2 (Dense)              (None, 10)                1290      \n",
      "=================================================================\n",
      "Total params: 417,746\n",
      "Trainable params: 417,746\n",
      "Non-trainable params: 0\n",
      "_________________________________________________________________\n",
      "None\n",
      "Fitting model ...\n",
      "trialId= 0\n",
      "Train on 60000 samples, validate on 10000 samples\n",
      "   32/60000 [..............................] - ETA: 14:36 - loss: 2.3624 - accuracy: 0.1250WARNING:tensorflow:Method (on_train_batch_end) is slow compared to the batch update (0.857657). Check your callbacks.\n",
      "59936/60000 [============================>.] - ETA: 0s - loss: 0.5423 - accuracy: 0.8633WARNING:tensorflow:From /opt/conda/lib/python3.7/site-packages/tensorflow_core/python/ops/resource_variable_ops.py:1786: calling BaseResourceVariable.__init__ (from tensorflow.python.ops.resource_variable_ops) with constraint is deprecated and will be removed in a future version.\n",
      "Instructions for updating:\n",
      "If using Keras pass *_constraint arguments to layers.\n",
      "60000/60000 [==============================] - 33s 545us/sample - loss: 0.5421 - accuracy: 0.8634 - val_loss: 0.2572 - val_accuracy: 0.9289\n",
      "final_epoch_accuracy = 0.863400\n",
      "final_epoch_count =  1\n",
      "CPU times: user 903 ms, sys: 250 ms, total: 1.15 s\n",
      "Wall time: 37.9 s\n"
     ]
    }
   ],
   "source": [
    "%%time\n",
    "# Run the training manually\n",
    "# Training parameters\n",
    "from datetime import datetime\n",
    "from pytz import timezone\n",
    "\n",
    "MODEL_DEPTH = 2\n",
    "DROPOUT_RATE = 0.01\n",
    "LEARNING_RATE = 0.00005\n",
    "EPOCHS = 1\n",
    "BATCH_SIZE = 32\n",
    "\n",
    "MODEL_DIR_PYTH = MODEL_DIR + datetime.now(timezone('US/Pacific')).strftime('/model_%m%d%Y_%H%M')\n",
    "\n",
    "print('MODEL_DEPTH = %2d' % MODEL_DEPTH)\n",
    "print('DROPOUT_RATE = %.4f' % DROPOUT_RATE)\n",
    "print('LEARNING_RATE = %.6f' % LEARNING_RATE)\n",
    "print('EPOCHS = %2d' % EPOCHS)\n",
    "print('BATCH_SIZE = %2d' % BATCH_SIZE)\n",
    "print(\"MODEL_DIR =\", MODEL_DIR_PYTH)\n",
    "\n",
    "# Run training\n",
    "! python3 -m trainer_i.train \\\n",
    "    --model_depth=$MODEL_DEPTH \\\n",
    "    --dropout_rate=$DROPOUT_RATE \\\n",
    "    --learning_rate=$LEARNING_RATE \\\n",
    "    --epochs=$EPOCHS \\\n",
    "    --batch_size=$BATCH_SIZE \\\n",
    "    --model_dir=$MODEL_DIR_PYTH \n"
   ]
  },
  {
   "cell_type": "code",
   "execution_count": 184,
   "metadata": {},
   "outputs": [
    {
     "name": "stdout",
     "output_type": "stream",
     "text": [
      "\n",
      "All Models = \n",
      "gs://vapit_data/tf_models/models/model_06092021_1635/checkpoints/\n",
      "gs://vapit_data/tf_models/models/model_06092021_1635/checkpoints/cp-163541-0-0.9289/\n",
      "gs://vapit_data/tf_models/models/model_06092021_1635/checkpoints/cp-163541-0-0.9289/\n",
      "Best Accuracy  from Checkpoints =  0.9289\n",
      "Best Model Dir from Checkpoints =  gs://vapit_data/tf_models/models/model_06092021_1635/checkpoints/cp-163541-0-0.9289/\n"
     ]
    }
   ],
   "source": [
    "# Test with latest saved model\n",
    "best_model_dir_pyth = find_best_model_dir(MODEL_DIR_PYTH+'/checkpoints', offset=1, maxFlag=1)\n"
   ]
  },
  {
   "cell_type": "code",
   "execution_count": 185,
   "metadata": {},
   "outputs": [
    {
     "name": "stdout",
     "output_type": "stream",
     "text": [
      "Copying gs://vapit_data/tf_models/models/model_06092021_1635/checkpoints/cp-163541-0-0.9289/saved_model.pb...\n",
      "Copying gs://vapit_data/tf_models/models/model_06092021_1635/checkpoints/cp-163541-0-0.9289/variables/variables.data-00000-of-00001...\n",
      "Copying gs://vapit_data/tf_models/models/model_06092021_1635/checkpoints/cp-163541-0-0.9289/variables/variables.index...\n",
      "Signature  _SignatureMap({'serving_default': <tensorflow.python.saved_model.load._WrapperFunction object at 0x7fe7d0683cd0>})\n",
      "\n",
      "CPU times: user 365 ms, sys: 55.4 ms, total: 421 ms\n",
      "Wall time: 2.37 s\n"
     ]
    },
    {
     "data": {
      "image/png": "[encoded data removed]",
      "text/plain": [
       "<IPython.core.display.Image object>"
      ]
     },
     "execution_count": 185,
     "metadata": {},
     "output_type": "execute_result"
    }
   ],
   "source": [
    "%%time\n",
    "\n",
    "#***CREATE model_dir in local VM***\n",
    "!mkdir -p model_dir\n",
    "\n",
    "from trainer_i import model\n",
    "\n",
    "# Copy the model from storage to local memory\n",
    "!gsutil -m cp -r $best_model_dir_pyth* ./model_dir\n",
    "\n",
    "# Load the model\n",
    "loaded_model = tf.keras.models.load_model('./model_dir', compile=False) #, \n",
    "               #custom_objects={\"custom_loss\": model.custom_loss, \"custom_metric\": model.custom_metric})\n",
    "print(\"Signature \", loaded_model.signatures)\n",
    "print(\"\")\n",
    "\n",
    "# Display model\n",
    "tf.keras.utils.plot_model(loaded_model, show_shapes=True)\n"
   ]
  },
  {
   "cell_type": "markdown",
   "metadata": {},
   "source": [
    "------\n",
    "# Training"
   ]
  },
  {
   "cell_type": "code",
   "execution_count": 186,
   "metadata": {},
   "outputs": [],
   "source": [
    "# Create the config directory and load the trainer files in it\n",
    "!mkdir -p config\n"
   ]
  },
  {
   "cell_type": "code",
   "execution_count": 271,
   "metadata": {},
   "outputs": [
    {
     "name": "stdout",
     "output_type": "stream",
     "text": [
      "Overwriting ./config/config.yaml\n"
     ]
    }
   ],
   "source": [
    "%%writefile ./config/config.yaml\n",
    "\n",
    "# python3\n",
    "# ==============================================================================\n",
    "# Copyright 2020 Google LLC. This software is provided as-is, without warranty\n",
    "# or representation for any use or purpose. Your use of it is subject to your\n",
    "# agreement with Google.\n",
    "# ==============================================================================\n",
    "\n",
    "# https://cloud.google.com/sdk/gcloud/reference/ai-platform/jobs/submit/training#--scale-tier\n",
    "# https://www.kaggle.com/c/passenger-screening-algorithm-challenge/discussion/37087\n",
    "# https://cloud.google.com/ai-platform/training/docs/using-gpus\n",
    "\n",
    "#trainingInput:\n",
    "#    scaleTier: CUSTOM\n",
    "#    masterType: n1-highmem-16\n",
    "#    masterConfig:\n",
    "#        acceleratorConfig:\n",
    "#            count: 2\n",
    "#            type: NVIDIA_TESLA_V100\n",
    "\n",
    "#trainingInput:\n",
    "#  scaleTier: CUSTOM\n",
    "#  masterType: n1-highmem-8\n",
    "#  masterConfig:\n",
    "#    acceleratorConfig:\n",
    "#      count: 1\n",
    "#      type: NVIDIA_TESLA_T4\n",
    "\n",
    "#  masterType: n1-highcpu-16\n",
    "#  workerType: cloud_tpu\n",
    "#  workerCount: 1\n",
    "#  workerConfig:\n",
    "#    acceleratorConfig:\n",
    "#      type: TPU_V3\n",
    "#      count: 8\n",
    "\n",
    "#trainingInput:\n",
    "#  scaleTier: CUSTOM\n",
    "#  masterType: complex_model_m\n",
    "#  workerType: complex_model_m\n",
    "#  parameterServerType: large_model\n",
    "#  workerCount: 6\n",
    "#  parameterServerCount: 1\n",
    "#  scheduling:\n",
    "#    maxWaitTime: 3600s\n",
    "#    maxRunningTime: 7200s\n",
    "\n",
    "#trainingInput:\n",
    "#  runtimeVersion: \"2.1\"\n",
    "#  scaleTier: CUSTOM\n",
    "#  masterType: standard_gpu\n",
    "#  workerCount: 9\n",
    "#  workerType: standard_gpu\n",
    "#  parameterServerCount: 3\n",
    "#  parameterServerType: standard\n",
    "\n",
    "#trainingInput:\n",
    "#  scaleTier: BASIC-GPU\n",
    "    \n",
    "#trainingInput:\n",
    "#  region: us-central1\n",
    "#  scaleTier: CUSTOM\n",
    "#  masterType: complex_model_m\n",
    "#  workerType: complex_model_m_gpu\n",
    "#  parameterServerType: large_model\n",
    "#  workerCount: 4\n",
    "#  parameterServerCount: 2\n",
    "\n",
    "#trainingInput:\n",
    "#  scaleTier: standard-1\n",
    "\n",
    "trainingInput:\n",
    "  scaleTier: CUSTOM\n",
    "  masterType: n1-highcpu-16\n",
    "  workerType: n1-highcpu-16\n",
    "  parameterServerType: n1-highmem-8\n",
    "  evaluatorType: n1-highcpu-16\n",
    "  workerCount: 9\n",
    "  parameterServerCount: 3\n",
    "  evaluatorCount: 1\n",
    "    \n",
    "#trainingInput:\n",
    "#  scaleTier: standard-1\n"
   ]
  },
  {
   "cell_type": "code",
   "execution_count": 272,
   "metadata": {},
   "outputs": [
    {
     "name": "stdout",
     "output_type": "stream",
     "text": [
      "Job Name =  tf_train_cchatterj_060921_2330\n",
      "Job Dir  =  gs://vapit_data/tf_models/jobdir\n",
      "MODEL_DIR = gs://vapit_data/tf_models/models/model_06092021_2330\n",
      "MODEL_DEPTH =  3\n",
      "DROPOUT_RATE = 0.0200\n",
      "LEARNING_RATE = 0.000100\n",
      "EPOCHS =  2\n",
      "BATCH_SIZE = 32\n"
     ]
    }
   ],
   "source": [
    "from datetime import datetime\n",
    "from pytz import timezone\n",
    "JOBNAME_TRN = 'tf_train_'+ USER + '_' + \\\n",
    "           datetime.now(timezone('US/Pacific')).strftime(\"%m%d%y_%H%M\")\n",
    "JOB_CONFIG = \"config/config.yaml\"\n",
    "MODEL_DIR_TRN = MODEL_DIR + datetime.now(timezone('US/Pacific')).strftime('/model_%m%d%Y_%H%M')\n",
    "\n",
    "print(\"Job Name = \", JOBNAME_TRN)\n",
    "print(\"Job Dir  = \", JOB_DIR)\n",
    "print(\"MODEL_DIR =\", MODEL_DIR_TRN)\n",
    "\n",
    "# Training parameters\n",
    "MODEL_DEPTH = 3\n",
    "DROPOUT_RATE = 0.02\n",
    "LEARNING_RATE = 0.0001\n",
    "EPOCHS = 2\n",
    "BATCH_SIZE = 32\n",
    "\n",
    "print('MODEL_DEPTH = %2d' % MODEL_DEPTH)\n",
    "print('DROPOUT_RATE = %.4f' % DROPOUT_RATE)\n",
    "print('LEARNING_RATE = %.6f' % LEARNING_RATE)\n",
    "print('EPOCHS = %2d' % EPOCHS)\n",
    "print('BATCH_SIZE = %2d' % BATCH_SIZE)\n"
   ]
  },
  {
   "cell_type": "code",
   "execution_count": 273,
   "metadata": {},
   "outputs": [
    {
     "name": "stdout",
     "output_type": "stream",
     "text": [
      "Job [tf_train_cchatterj_060921_2330] submitted successfully.\n",
      "Your job is still active. You may view the status of your job with the command\n",
      "\n",
      "  $ gcloud ai-platform jobs describe tf_train_cchatterj_060921_2330\n",
      "\n",
      "or continue streaming the logs with the command\n",
      "\n",
      "  $ gcloud ai-platform jobs stream-logs tf_train_cchatterj_060921_2330\n",
      "jobId: tf_train_cchatterj_060921_2330\n",
      "state: QUEUED\n"
     ]
    }
   ],
   "source": [
    "# https://cloud.google.com/sdk/gcloud/reference/ai-platform/jobs/submit/training\n",
    "\n",
    "TRAIN_LABELS = \"mode=train,owner=\"+USER\n",
    "\n",
    "# submit the training job\n",
    "! gcloud ai-platform jobs submit training $JOBNAME_TRN \\\n",
    "  --package-path $(pwd)/trainer_i \\\n",
    "  --module-name trainer_i.train \\\n",
    "  --region $REGION \\\n",
    "  --python-version 3.7 \\\n",
    "  --runtime-version $RUNTIME_VERSION \\\n",
    "  --job-dir $JOB_DIR \\\n",
    "  --config $JOB_CONFIG \\\n",
    "  --labels $TRAIN_LABELS \\\n",
    "  -- \\\n",
    "  --model_depth=$MODEL_DEPTH \\\n",
    "  --dropout_rate=$DROPOUT_RATE \\\n",
    "  --learning_rate=$LEARNING_RATE \\\n",
    "  --epochs=$EPOCHS \\\n",
    "  --batch_size=$BATCH_SIZE \\\n",
    "  --model_dir=$MODEL_DIR_TRN\n"
   ]
  },
  {
   "cell_type": "code",
   "execution_count": 194,
   "metadata": {},
   "outputs": [
    {
     "name": "stdout",
     "output_type": "stream",
     "text": [
      "createTime: '2021-06-09T23:47:27Z'\n",
      "endTime: '2021-06-09T23:56:59Z'\n",
      "etag: JFQUYgfLm7E=\n",
      "jobId: tf_train_cchatterj_060921_1647\n",
      "labels:\n",
      "  mode: train\n",
      "  owner: cchatterj\n",
      "startTime: '2021-06-09T23:54:58Z'\n",
      "state: SUCCEEDED\n",
      "trainingInput:\n",
      "  args:\n",
      "  - --model_depth=3\n",
      "  - --dropout_rate=0.02\n",
      "  - --learning_rate=0.0001\n",
      "  - --epochs=2\n",
      "  - --batch_size=32\n",
      "  - --model_dir=gs://vapit_data/tf_models/models/model_06092021_1647\n",
      "  jobDir: gs://vapit_data/tf_models/jobdir\n",
      "  packageUris:\n",
      "  - gs://vapit_data/tf_models/jobdir/packages/8e02a772a1a21373e4a2c9b9085cea649648f28cbe60f701c6f70a3044d694d1/trainer_i-0.1.tar.gz\n",
      "  pythonModule: trainer_i.train\n",
      "  pythonVersion: '3.7'\n",
      "  region: us-central1\n",
      "  runtimeVersion: '2.1'\n",
      "  scaleTier: PREMIUM_1\n",
      "trainingOutput:\n",
      "  consumedMLUnits: 1.14\n",
      "\n",
      "View job in the Cloud Console at:\n",
      "https://console.cloud.google.com/mlengine/jobs/tf_train_cchatterj_060921_1647?project=cchatterjee-sandbox\n",
      "\n",
      "View logs at:\n",
      "https://console.cloud.google.com/logs?resource=ml_job%2Fjob_id%2Ftf_train_cchatterj_060921_1647&project=cchatterjee-sandbox\n"
     ]
    }
   ],
   "source": [
    "# check the training job status\n",
    "! gcloud ai-platform jobs describe $JOBNAME_TRN\n"
   ]
  },
  {
   "cell_type": "code",
   "execution_count": 274,
   "metadata": {},
   "outputs": [],
   "source": [
    "# Print Errors\n",
    "if 0:\n",
    "    response = ! gcloud logging read \"resource.labels.job_id=$JOBNAME_TRN severity>=ERROR\"\n",
    "    for i in range(0,len(response)):\n",
    "        if 'message' in response[i]:\n",
    "            print(response[i])"
   ]
  },
  {
   "cell_type": "code",
   "execution_count": 275,
   "metadata": {},
   "outputs": [
    {
     "name": "stdout",
     "output_type": "stream",
     "text": [
      "\n",
      "All Models = \n",
      "gs://vapit_data/tf_models/models/model_06092021_2330/checkpoints/\n",
      "gs://vapit_data/tf_models/models/model_06092021_2330/checkpoints/cp-233135-0-0.9504/\n",
      "gs://vapit_data/tf_models/models/model_06092021_2330/checkpoints/cp-233135-0-0.9522/\n",
      "gs://vapit_data/tf_models/models/model_06092021_2330/checkpoints/cp-233135-0-0.9669/\n",
      "gs://vapit_data/tf_models/models/model_06092021_2330/checkpoints/cp-233135-0-0.9678/\n",
      "gs://vapit_data/tf_models/models/model_06092021_2330/checkpoints/cp-233137-0-0.9556/\n",
      "gs://vapit_data/tf_models/models/model_06092021_2330/checkpoints/cp-233137-0-0.9666/\n",
      "gs://vapit_data/tf_models/models/model_06092021_2330/checkpoints/cp-233139-0-0.9520/\n",
      "gs://vapit_data/tf_models/models/model_06092021_2330/checkpoints/cp-233139-0-0.9651/\n",
      "gs://vapit_data/tf_models/models/model_06092021_2330/checkpoints/cp-233140-0-0.9530/\n",
      "gs://vapit_data/tf_models/models/model_06092021_2330/checkpoints/cp-233140-0-0.9673/\n",
      "gs://vapit_data/tf_models/models/model_06092021_2330/checkpoints/cp-233142-0-0.9535/\n",
      "gs://vapit_data/tf_models/models/model_06092021_2330/checkpoints/cp-233142-0-0.9562/\n",
      "gs://vapit_data/tf_models/models/model_06092021_2330/checkpoints/cp-233142-0-0.9637/\n",
      "gs://vapit_data/tf_models/models/model_06092021_2330/checkpoints/cp-233142-0-0.9691/\n",
      "gs://vapit_data/tf_models/models/model_06092021_2330/checkpoints/cp-233143-0-0.9533/\n",
      "gs://vapit_data/tf_models/models/model_06092021_2330/checkpoints/cp-233143-0-0.9680/\n",
      "gs://vapit_data/tf_models/models/model_06092021_2330/checkpoints/cp-233144-0-0.9553/\n",
      "gs://vapit_data/tf_models/models/model_06092021_2330/checkpoints/cp-233144-0-0.9682/\n",
      "gs://vapit_data/tf_models/models/model_06092021_2330/checkpoints/cp-233146-0-0.9531/\n",
      "gs://vapit_data/tf_models/models/model_06092021_2330/checkpoints/cp-233146-0-0.9689/\n",
      "gs://vapit_data/tf_models/models/model_06092021_2330/checkpoints/cp-233148-0-0.9545/\n",
      "gs://vapit_data/tf_models/models/model_06092021_2330/checkpoints/cp-233148-0-0.9564/\n",
      "gs://vapit_data/tf_models/models/model_06092021_2330/checkpoints/cp-233148-0-0.9680/\n",
      "gs://vapit_data/tf_models/models/model_06092021_2330/checkpoints/cp-233148-0-0.9682/\n",
      "gs://vapit_data/tf_models/models/model_06092021_2330/checkpoints/cp-233149-0-0.9536/\n",
      "gs://vapit_data/tf_models/models/model_06092021_2330/checkpoints/cp-233149-0-0.9659/\n",
      "gs://vapit_data/tf_models/models/model_06092021_2330/checkpoints/cp-233150-0-0.9570/\n",
      "gs://vapit_data/tf_models/models/model_06092021_2330/checkpoints/cp-233150-0-0.9691/\n",
      "gs://vapit_data/tf_models/models/model_06092021_2330/checkpoints/cp-233135-0-0.9504/\n",
      "gs://vapit_data/tf_models/models/model_06092021_2330/checkpoints/cp-233139-0-0.9520/\n",
      "gs://vapit_data/tf_models/models/model_06092021_2330/checkpoints/cp-233135-0-0.9522/\n",
      "gs://vapit_data/tf_models/models/model_06092021_2330/checkpoints/cp-233140-0-0.9530/\n",
      "gs://vapit_data/tf_models/models/model_06092021_2330/checkpoints/cp-233146-0-0.9531/\n",
      "gs://vapit_data/tf_models/models/model_06092021_2330/checkpoints/cp-233143-0-0.9533/\n",
      "gs://vapit_data/tf_models/models/model_06092021_2330/checkpoints/cp-233142-0-0.9535/\n",
      "gs://vapit_data/tf_models/models/model_06092021_2330/checkpoints/cp-233149-0-0.9536/\n",
      "gs://vapit_data/tf_models/models/model_06092021_2330/checkpoints/cp-233148-0-0.9545/\n",
      "gs://vapit_data/tf_models/models/model_06092021_2330/checkpoints/cp-233144-0-0.9553/\n",
      "gs://vapit_data/tf_models/models/model_06092021_2330/checkpoints/cp-233137-0-0.9556/\n",
      "gs://vapit_data/tf_models/models/model_06092021_2330/checkpoints/cp-233142-0-0.9562/\n",
      "gs://vapit_data/tf_models/models/model_06092021_2330/checkpoints/cp-233148-0-0.9564/\n",
      "gs://vapit_data/tf_models/models/model_06092021_2330/checkpoints/cp-233150-0-0.9570/\n",
      "gs://vapit_data/tf_models/models/model_06092021_2330/checkpoints/cp-233142-0-0.9637/\n",
      "gs://vapit_data/tf_models/models/model_06092021_2330/checkpoints/cp-233139-0-0.9651/\n",
      "gs://vapit_data/tf_models/models/model_06092021_2330/checkpoints/cp-233149-0-0.9659/\n",
      "gs://vapit_data/tf_models/models/model_06092021_2330/checkpoints/cp-233137-0-0.9666/\n",
      "gs://vapit_data/tf_models/models/model_06092021_2330/checkpoints/cp-233135-0-0.9669/\n",
      "gs://vapit_data/tf_models/models/model_06092021_2330/checkpoints/cp-233140-0-0.9673/\n",
      "gs://vapit_data/tf_models/models/model_06092021_2330/checkpoints/cp-233135-0-0.9678/\n",
      "gs://vapit_data/tf_models/models/model_06092021_2330/checkpoints/cp-233143-0-0.9680/\n",
      "gs://vapit_data/tf_models/models/model_06092021_2330/checkpoints/cp-233148-0-0.9680/\n",
      "gs://vapit_data/tf_models/models/model_06092021_2330/checkpoints/cp-233144-0-0.9682/\n",
      "gs://vapit_data/tf_models/models/model_06092021_2330/checkpoints/cp-233148-0-0.9682/\n",
      "gs://vapit_data/tf_models/models/model_06092021_2330/checkpoints/cp-233146-0-0.9689/\n",
      "gs://vapit_data/tf_models/models/model_06092021_2330/checkpoints/cp-233142-0-0.9691/\n",
      "gs://vapit_data/tf_models/models/model_06092021_2330/checkpoints/cp-233150-0-0.9691/\n",
      "Best Accuracy  from Checkpoints =  0.9691\n",
      "Best Model Dir from Checkpoints =  gs://vapit_data/tf_models/models/model_06092021_2330/checkpoints/cp-233142-0-0.9691/\n"
     ]
    }
   ],
   "source": [
    "# Test with latest saved model\n",
    "best_model_dir_trn = find_best_model_dir(MODEL_DIR_TRN+'/checkpoints', offset=1, maxFlag=1)\n"
   ]
  },
  {
   "cell_type": "markdown",
   "metadata": {},
   "source": [
    "------\n",
    "# Hyper Parameter Tuning"
   ]
  },
  {
   "cell_type": "code",
   "execution_count": 276,
   "metadata": {},
   "outputs": [],
   "source": [
    "# Create the tf directory and load the trainer files in it\n",
    "!cp ./trainer_i/train.py ./trainer_i/train_hpt.py\n"
   ]
  },
  {
   "cell_type": "code",
   "execution_count": 277,
   "metadata": {},
   "outputs": [
    {
     "name": "stdout",
     "output_type": "stream",
     "text": [
      "Appending to ./trainer_i/train_hpt.py\n"
     ]
    }
   ],
   "source": [
    "%%writefile -a ./trainer_i/train_hpt.py\n",
    "\n",
    "    \"\"\"This method updates a CAIP HPTuning Job with a final metric for the job.\n",
    "    In TF2.X the user must either use hypertune or a custom callback with\n",
    "    tf.summary.scalar to update CAIP HP Tuning jobs. This function uses\n",
    "    hypertune, which appears to be the preferred solution. Hypertune also works\n",
    "    with containers, without code change.\n",
    "    Args:\n",
    "        metric_tag: The metric being optimized.  This MUST MATCH the\n",
    "          hyperparameterMetricTag specificed in the hyperparameter tuning yaml.\n",
    "        metric_value: The value to report at the end of model training.\n",
    "        global_step: An int value to specify the number of trainin steps completed\n",
    "          at the time the metric was reported.\n",
    "    \"\"\"\n",
    "\n",
    "    hpt = hypertune.HyperTune()\n",
    "    hpt.report_hyperparameter_tuning_metric(\n",
    "        hyperparameter_metric_tag='accuracy',\n",
    "        metric_value=final_epoch_accuracy,\n",
    "        global_step=final_epoch_count\n",
    "    )\n"
   ]
  },
  {
   "cell_type": "code",
   "execution_count": 278,
   "metadata": {},
   "outputs": [
    {
     "name": "stdout",
     "output_type": "stream",
     "text": [
      "Overwriting ./config/hptuning_config.yaml\n"
     ]
    }
   ],
   "source": [
    "%%writefile ./config/hptuning_config.yaml\n",
    "\n",
    "# python3\n",
    "# ==============================================================================\n",
    "# Copyright 2020 Google LLC. This software is provided as-is, without warranty\n",
    "# or representation for any use or purpose. Your use of it is subject to your\n",
    "# agreement with Google.\n",
    "# ==============================================================================\n",
    "\n",
    "# https://cloud.google.com/ai-platform/training/docs/reference/rest/v1/projects.jobs\n",
    "# https://cloud.google.com/sdk/gcloud/reference/ai-platform/jobs/submit/training\n",
    "\n",
    "#trainingInput:\n",
    "#  scaleTier: CUSTOM\n",
    "#  masterType: n1-highmem-8\n",
    "#  masterConfig:\n",
    "#    acceleratorConfig:\n",
    "#      count: 1\n",
    "#      type: NVIDIA_TESLA_T4\n",
    "#\n",
    "#  masterType: standard_p100\n",
    "#  workerType: standard_p100\n",
    "#  parameterServerType: standard_p100\n",
    "#  workerCount: 8\n",
    "#  parameterServerCount: 1\n",
    "#  runtimeVersion: $RUNTIME_VERSION\n",
    "#  pythonVersion: '3.7'\n",
    "\n",
    "#trainingInput:\n",
    "#  scaleTier: CUSTOM\n",
    "#  masterType: complex_model_m\n",
    "#  workerType: complex_model_m\n",
    "#  parameterServerType: large_model\n",
    "#  workerCount: 9\n",
    "#  parameterServerCount: 3\n",
    "#  scheduling:\n",
    "#    maxWaitTime: 3600s\n",
    "#    maxRunningTime: 7200s\n",
    "\n",
    "#trainingInput:\n",
    "#  scaleTier: BASIC-GPU\n",
    "\n",
    "#trainingInput:\n",
    "#  scaleTier: CUSTOM\n",
    "#  masterType: n1-highmem-16\n",
    "#  masterConfig:\n",
    "#    acceleratorConfig:\n",
    "#      count: 2\n",
    "#      type: NVIDIA_TESLA_V100\n",
    "\n",
    "#trainingInput:\n",
    "#  scaleTier: STANDARD-1\n",
    "    \n",
    "trainingInput:\n",
    "  scaleTier: CUSTOM\n",
    "  masterType: n1-highcpu-16\n",
    "  workerType: n1-highcpu-16\n",
    "  parameterServerType: n1-highmem-8\n",
    "  evaluatorType: n1-highcpu-16\n",
    "  workerCount: 9\n",
    "  parameterServerCount: 3\n",
    "  evaluatorCount: 1\n",
    "  hyperparameters:\n",
    "    goal: MAXIMIZE\n",
    "    hyperparameterMetricTag: accuracy\n",
    "    maxTrials: 4\n",
    "    maxParallelTrials: 4\n",
    "    enableTrialEarlyStopping: True\n",
    "    params:\n",
    "    - parameterName: model_depth\n",
    "      type: INTEGER\n",
    "      minValue: 2\n",
    "      maxValue: 4\n",
    "      scaleType: UNIT_LINEAR_SCALE\n",
    "    - parameterName: epochs\n",
    "      type: INTEGER\n",
    "      minValue: 1\n",
    "      maxValue: 3\n",
    "      scaleType: UNIT_LINEAR_SCALE\n"
   ]
  },
  {
   "cell_type": "code",
   "execution_count": 279,
   "metadata": {},
   "outputs": [
    {
     "name": "stdout",
     "output_type": "stream",
     "text": [
      "Job Name =  tf_hptrn_cchatterj_060921_2333\n",
      "Job Dir  =  gs://vapit_data/tf_models/jobdir\n",
      "MODEL_DIR = gs://vapit_data/tf_models/models/model_06092021_2333\n"
     ]
    }
   ],
   "source": [
    "from datetime import datetime\n",
    "from pytz import timezone\n",
    "\n",
    "JOBNAME_HPT = 'tf_hptrn_' + USER + '_' + \\\n",
    "              datetime.now(timezone('US/Pacific')).strftime(\"%m%d%y_%H%M\")\n",
    "JOB_CONFIG = \"./config/hptuning_config.yaml\"\n",
    "MODEL_DIR_HPT = MODEL_DIR + datetime.now(timezone('US/Pacific')).strftime('/model_%m%d%Y_%H%M')\n",
    "\n",
    "print(\"Job Name = \", JOBNAME_HPT)\n",
    "print(\"Job Dir  = \", JOB_DIR)\n",
    "print(\"MODEL_DIR =\", MODEL_DIR_HPT)\n",
    "\n",
    "# Training parameters\n",
    "DROPOUT_RATE = 0.02\n",
    "LEARNING_RATE = 0.0001\n",
    "BATCH_SIZE = 32\n"
   ]
  },
  {
   "cell_type": "code",
   "execution_count": 280,
   "metadata": {},
   "outputs": [
    {
     "name": "stdout",
     "output_type": "stream",
     "text": [
      "Job [tf_hptrn_cchatterj_060921_2333] submitted successfully.\n",
      "Your job is still active. You may view the status of your job with the command\n",
      "\n",
      "  $ gcloud ai-platform jobs describe tf_hptrn_cchatterj_060921_2333\n",
      "\n",
      "or continue streaming the logs with the command\n",
      "\n",
      "  $ gcloud ai-platform jobs stream-logs tf_hptrn_cchatterj_060921_2333\n",
      "jobId: tf_hptrn_cchatterj_060921_2333\n",
      "state: QUEUED\n"
     ]
    }
   ],
   "source": [
    "# submit the training job\n",
    "HT_LABELS = \"mode=hypertrain,owner=\"+USER\n",
    "\n",
    "! gcloud ai-platform jobs submit training $JOBNAME_HPT \\\n",
    "  --package-path $(pwd)/trainer_i \\\n",
    "  --module-name trainer_i.train_hpt \\\n",
    "  --python-version 3.7 \\\n",
    "  --runtime-version $RUNTIME_VERSION \\\n",
    "  --region $REGION \\\n",
    "  --job-dir $JOB_DIR \\\n",
    "  --config $JOB_CONFIG \\\n",
    "  --labels $HT_LABELS \\\n",
    "  -- \\\n",
    "  --dropout_rate=$DROPOUT_RATE \\\n",
    "  --learning_rate=$LEARNING_RATE \\\n",
    "  --batch_size=$BATCH_SIZE \\\n",
    "  --model_dir=$MODEL_DIR_HPT\n"
   ]
  },
  {
   "cell_type": "code",
   "execution_count": 281,
   "metadata": {},
   "outputs": [
    {
     "name": "stdout",
     "output_type": "stream",
     "text": [
      "createTime: '2021-06-10T06:34:02Z'\n",
      "endTime: '2021-06-10T06:45:12Z'\n",
      "etag: omGT069ylJg=\n",
      "jobId: tf_hptrn_cchatterj_060921_2333\n",
      "labels:\n",
      "  mode: hypertrain\n",
      "  owner: cchatterj\n",
      "startTime: '2021-06-10T06:34:04Z'\n",
      "state: SUCCEEDED\n",
      "trainingInput:\n",
      "  args:\n",
      "  - --dropout_rate=0.02\n",
      "  - --learning_rate=0.0001\n",
      "  - --batch_size=32\n",
      "  - --model_dir=gs://vapit_data/tf_models/models/model_06092021_2333\n",
      "  evaluatorCount: '1'\n",
      "  evaluatorType: n1-highcpu-16\n",
      "  hyperparameters:\n",
      "    enableTrialEarlyStopping: true\n",
      "    goal: MAXIMIZE\n",
      "    hyperparameterMetricTag: accuracy\n",
      "    maxParallelTrials: 4\n",
      "    maxTrials: 4\n",
      "    params:\n",
      "    - maxValue: 4.0\n",
      "      minValue: 2.0\n",
      "      parameterName: model_depth\n",
      "      scaleType: UNIT_LINEAR_SCALE\n",
      "      type: INTEGER\n",
      "    - maxValue: 3.0\n",
      "      minValue: 1.0\n",
      "      parameterName: epochs\n",
      "      scaleType: UNIT_LINEAR_SCALE\n",
      "      type: INTEGER\n",
      "  jobDir: gs://vapit_data/tf_models/jobdir\n",
      "  masterType: n1-highcpu-16\n",
      "  packageUris:\n",
      "  - gs://vapit_data/tf_models/jobdir/packages/c36a7b8ea25583d11857b1218f810e2cf889c8599494ae37f843557a4aa0fe94/trainer_t-0.1.tar.gz\n",
      "  parameterServerCount: '3'\n",
      "  parameterServerType: n1-highmem-8\n",
      "  pythonModule: trainer_i.train_hpt\n",
      "  pythonVersion: '3.7'\n",
      "  region: us-central1\n",
      "  runtimeVersion: '2.1'\n",
      "  scaleTier: CUSTOM\n",
      "  workerCount: '9'\n",
      "  workerType: n1-highcpu-16\n",
      "trainingOutput:\n",
      "  completedTrialCount: '4'\n",
      "  consumedMLUnits: 10.42\n",
      "  hyperparameterMetricTag: accuracy\n",
      "  isHyperparameterTuningJob: true\n",
      "  trials:\n",
      "  - endTime: '2021-06-10T06:43:24Z'\n",
      "    finalMetric:\n",
      "      objectiveValue: 0.972817\n",
      "      trainingStep: '3'\n",
      "    hyperparameters:\n",
      "      epochs: '3'\n",
      "      model_depth: '3'\n",
      "    startTime: '2021-06-10T06:34:09.644136114Z'\n",
      "    state: SUCCEEDED\n",
      "    trialId: '1'\n",
      "  - endTime: '2021-06-10T06:36:07Z'\n",
      "    finalMetric:\n",
      "      objectiveValue: 0.9635\n",
      "      trainingStep: '2'\n",
      "    hyperparameters:\n",
      "      epochs: '2'\n",
      "      model_depth: '4'\n",
      "    startTime: '2021-06-10T06:34:09.644487409Z'\n",
      "    state: SUCCEEDED\n",
      "    trialId: '3'\n",
      "  - endTime: '2021-06-10T06:36:00Z'\n",
      "    finalMetric:\n",
      "      objectiveValue: 0.96335\n",
      "      trainingStep: '3'\n",
      "    hyperparameters:\n",
      "      epochs: '3'\n",
      "      model_depth: '2'\n",
      "    startTime: '2021-06-10T06:34:09.644595165Z'\n",
      "    state: SUCCEEDED\n",
      "    trialId: '4'\n",
      "  - endTime: '2021-06-10T06:43:40Z'\n",
      "    finalMetric:\n",
      "      objectiveValue: 0.96035\n",
      "      trainingStep: '2'\n",
      "    hyperparameters:\n",
      "      epochs: '2'\n",
      "      model_depth: '3'\n",
      "    startTime: '2021-06-10T06:34:09.644391639Z'\n",
      "    state: SUCCEEDED\n",
      "    trialId: '2'\n",
      "\n",
      "View job in the Cloud Console at:\n",
      "https://console.cloud.google.com/mlengine/jobs/tf_hptrn_cchatterj_060921_2333?project=cchatterjee-sandbox\n",
      "\n",
      "View logs at:\n",
      "https://console.cloud.google.com/logs?resource=ml_job%2Fjob_id%2Ftf_hptrn_cchatterj_060921_2333&project=cchatterjee-sandbox\n"
     ]
    }
   ],
   "source": [
    "# check the hyperparameter training job status\n",
    "! gcloud ai-platform jobs describe $JOBNAME_HPT\n"
   ]
  },
  {
   "cell_type": "code",
   "execution_count": 282,
   "metadata": {},
   "outputs": [],
   "source": [
    "# Print Errors\n",
    "if 0:\n",
    "    response = ! gcloud logging read \"resource.labels.job_id=$JOBNAME_HPT severity>=ERROR\"\n",
    "    for i in range(0,len(response)):\n",
    "        if 'message' in response[i]:\n",
    "            print(response[i])\n"
   ]
  },
  {
   "cell_type": "code",
   "execution_count": 283,
   "metadata": {},
   "outputs": [
    {
     "name": "stdout",
     "output_type": "stream",
     "text": [
      "objective= 0.9728166460990906  trialId= 1 SUCCEEDED\n",
      "     epochs 3\n",
      "     model_depth 3\n",
      "objective= 0.9635000228881836  trialId= 3 SUCCEEDED\n",
      "     epochs 2\n",
      "     model_depth 4\n",
      "objective= 0.9633499979972839  trialId= 4 SUCCEEDED\n",
      "     epochs 3\n",
      "     model_depth 2\n",
      "objective= 0.960349977016449  trialId= 2 SUCCEEDED\n",
      "     epochs 2\n",
      "     model_depth 3\n",
      "\n",
      "Objective= 0.9728166460990906\n",
      "MODEL_DEPTH = 3\n",
      "EPOCHS = 3\n"
     ]
    }
   ],
   "source": [
    "# Get the best model parameters from Cloud API\n",
    "best_model = pyth_get_hypertuned_parameters(PROJECT_ID, JOBNAME_HPT, 1)\n",
    "MODEL_DEPTH = best_model['hyperparameters']['model_depth']\n",
    "EPOCHS = best_model['hyperparameters']['epochs']\n",
    "print('')\n",
    "print('Objective=', best_model['finalMetric']['objectiveValue'])\n",
    "print('MODEL_DEPTH =', MODEL_DEPTH)\n",
    "print('EPOCHS =', EPOCHS)\n"
   ]
  },
  {
   "cell_type": "code",
   "execution_count": 284,
   "metadata": {},
   "outputs": [
    {
     "name": "stdout",
     "output_type": "stream",
     "text": [
      "Total Hypertrained Models= 104\n",
      "\n",
      "All Models = \n",
      "gs://vapit_data/tf_models/models/model_06092021_2333/checkpoints/\n",
      "gs://vapit_data/tf_models/models/model_06092021_2333/checkpoints/cp-233507-4-0.9404/\n",
      "gs://vapit_data/tf_models/models/model_06092021_2333/checkpoints/cp-233507-4-0.9561/\n",
      "gs://vapit_data/tf_models/models/model_06092021_2333/checkpoints/cp-233507-4-0.9663/\n",
      "gs://vapit_data/tf_models/models/model_06092021_2333/checkpoints/cp-233510-3-0.9574/\n",
      "gs://vapit_data/tf_models/models/model_06092021_2333/checkpoints/cp-233510-3-0.9710/\n",
      "gs://vapit_data/tf_models/models/model_06092021_2333/checkpoints/cp-233510-4-0.9445/\n",
      "gs://vapit_data/tf_models/models/model_06092021_2333/checkpoints/cp-233510-4-0.9590/\n",
      "gs://vapit_data/tf_models/models/model_06092021_2333/checkpoints/cp-233510-4-0.9668/\n",
      "gs://vapit_data/tf_models/models/model_06092021_2333/checkpoints/cp-233512-3-0.9589/\n",
      "gs://vapit_data/tf_models/models/model_06092021_2333/checkpoints/cp-233512-3-0.9695/\n",
      "gs://vapit_data/tf_models/models/model_06092021_2333/checkpoints/cp-233515-4-0.9392/\n",
      "gs://vapit_data/tf_models/models/model_06092021_2333/checkpoints/cp-233515-4-0.9450/\n",
      "gs://vapit_data/tf_models/models/model_06092021_2333/checkpoints/cp-233515-4-0.9566/\n",
      "gs://vapit_data/tf_models/models/model_06092021_2333/checkpoints/cp-233515-4-0.9584/\n",
      "gs://vapit_data/tf_models/models/model_06092021_2333/checkpoints/cp-233515-4-0.9652/\n",
      "gs://vapit_data/tf_models/models/model_06092021_2333/checkpoints/cp-233515-4-0.9667/\n",
      "gs://vapit_data/tf_models/models/model_06092021_2333/checkpoints/cp-233516-4-0.9399/\n",
      "gs://vapit_data/tf_models/models/model_06092021_2333/checkpoints/cp-233516-4-0.9602/\n",
      "gs://vapit_data/tf_models/models/model_06092021_2333/checkpoints/cp-233516-4-0.9677/\n",
      "gs://vapit_data/tf_models/models/model_06092021_2333/checkpoints/cp-233519-3-0.9555/\n",
      "gs://vapit_data/tf_models/models/model_06092021_2333/checkpoints/cp-233519-3-0.9694/\n",
      "gs://vapit_data/tf_models/models/model_06092021_2333/checkpoints/cp-233520-4-0.9440/\n",
      "gs://vapit_data/tf_models/models/model_06092021_2333/checkpoints/cp-233520-4-0.9595/\n",
      "gs://vapit_data/tf_models/models/model_06092021_2333/checkpoints/cp-233520-4-0.9669/\n",
      "gs://vapit_data/tf_models/models/model_06092021_2333/checkpoints/cp-233522-4-0.9439/\n",
      "gs://vapit_data/tf_models/models/model_06092021_2333/checkpoints/cp-233522-4-0.9571/\n",
      "gs://vapit_data/tf_models/models/model_06092021_2333/checkpoints/cp-233522-4-0.9662/\n",
      "gs://vapit_data/tf_models/models/model_06092021_2333/checkpoints/cp-233534-3-0.9580/\n",
      "gs://vapit_data/tf_models/models/model_06092021_2333/checkpoints/cp-233534-3-0.9581/\n",
      "gs://vapit_data/tf_models/models/model_06092021_2333/checkpoints/cp-233534-3-0.9693/\n",
      "gs://vapit_data/tf_models/models/model_06092021_2333/checkpoints/cp-233534-3-0.9702/\n",
      "gs://vapit_data/tf_models/models/model_06092021_2333/checkpoints/cp-233536-3-0.9585/\n",
      "gs://vapit_data/tf_models/models/model_06092021_2333/checkpoints/cp-233536-3-0.9701/\n",
      "gs://vapit_data/tf_models/models/model_06092021_2333/checkpoints/cp-233555-4-0.9426/\n",
      "gs://vapit_data/tf_models/models/model_06092021_2333/checkpoints/cp-233555-4-0.9586/\n",
      "gs://vapit_data/tf_models/models/model_06092021_2333/checkpoints/cp-233555-4-0.9639/\n",
      "gs://vapit_data/tf_models/models/model_06092021_2333/checkpoints/cp-234154-2-0.9544/\n",
      "gs://vapit_data/tf_models/models/model_06092021_2333/checkpoints/cp-234154-2-0.9677/\n",
      "gs://vapit_data/tf_models/models/model_06092021_2333/checkpoints/cp-234207-2-0.9586/\n",
      "gs://vapit_data/tf_models/models/model_06092021_2333/checkpoints/cp-234207-2-0.9667/\n",
      "gs://vapit_data/tf_models/models/model_06092021_2333/checkpoints/cp-234214-1-0.9504/\n",
      "gs://vapit_data/tf_models/models/model_06092021_2333/checkpoints/cp-234214-1-0.9679/\n",
      "gs://vapit_data/tf_models/models/model_06092021_2333/checkpoints/cp-234214-1-0.9729/\n",
      "gs://vapit_data/tf_models/models/model_06092021_2333/checkpoints/cp-234218-2-0.9529/\n",
      "gs://vapit_data/tf_models/models/model_06092021_2333/checkpoints/cp-234218-2-0.9663/\n",
      "gs://vapit_data/tf_models/models/model_06092021_2333/checkpoints/cp-234222-1-0.9555/\n",
      "gs://vapit_data/tf_models/models/model_06092021_2333/checkpoints/cp-234222-1-0.9667/\n",
      "gs://vapit_data/tf_models/models/model_06092021_2333/checkpoints/cp-234222-1-0.9730/\n",
      "gs://vapit_data/tf_models/models/model_06092021_2333/checkpoints/cp-234224-1-0.9531/\n",
      "gs://vapit_data/tf_models/models/model_06092021_2333/checkpoints/cp-234224-1-0.9551/\n",
      "gs://vapit_data/tf_models/models/model_06092021_2333/checkpoints/cp-234224-1-0.9667/\n",
      "gs://vapit_data/tf_models/models/model_06092021_2333/checkpoints/cp-234224-1-0.9675/\n",
      "gs://vapit_data/tf_models/models/model_06092021_2333/checkpoints/cp-234224-1-0.9709/\n",
      "gs://vapit_data/tf_models/models/model_06092021_2333/checkpoints/cp-234224-1-0.9727/\n",
      "gs://vapit_data/tf_models/models/model_06092021_2333/checkpoints/cp-234226-1-0.9560/\n",
      "gs://vapit_data/tf_models/models/model_06092021_2333/checkpoints/cp-234226-1-0.9569/\n",
      "gs://vapit_data/tf_models/models/model_06092021_2333/checkpoints/cp-234226-1-0.9679/\n",
      "gs://vapit_data/tf_models/models/model_06092021_2333/checkpoints/cp-234226-1-0.9734/\n",
      "gs://vapit_data/tf_models/models/model_06092021_2333/checkpoints/cp-234226-1-0.9735/\n",
      "gs://vapit_data/tf_models/models/model_06092021_2333/checkpoints/cp-234228-1-0.9576/\n",
      "gs://vapit_data/tf_models/models/model_06092021_2333/checkpoints/cp-234228-1-0.9684/\n",
      "gs://vapit_data/tf_models/models/model_06092021_2333/checkpoints/cp-234228-1-0.9721/\n",
      "gs://vapit_data/tf_models/models/model_06092021_2333/checkpoints/cp-234229-1-0.9503/\n",
      "gs://vapit_data/tf_models/models/model_06092021_2333/checkpoints/cp-234229-1-0.9536/\n",
      "gs://vapit_data/tf_models/models/model_06092021_2333/checkpoints/cp-234229-1-0.9657/\n",
      "gs://vapit_data/tf_models/models/model_06092021_2333/checkpoints/cp-234229-1-0.9667/\n",
      "gs://vapit_data/tf_models/models/model_06092021_2333/checkpoints/cp-234229-1-0.9738/\n",
      "gs://vapit_data/tf_models/models/model_06092021_2333/checkpoints/cp-234231-1-0.9533/\n",
      "gs://vapit_data/tf_models/models/model_06092021_2333/checkpoints/cp-234231-1-0.9686/\n",
      "gs://vapit_data/tf_models/models/model_06092021_2333/checkpoints/cp-234231-1-0.9731/\n",
      "gs://vapit_data/tf_models/models/model_06092021_2333/checkpoints/cp-234237-2-0.9559/\n",
      "gs://vapit_data/tf_models/models/model_06092021_2333/checkpoints/cp-234237-2-0.9683/\n",
      "gs://vapit_data/tf_models/models/model_06092021_2333/checkpoints/cp-234238-1-0.9529/\n",
      "gs://vapit_data/tf_models/models/model_06092021_2333/checkpoints/cp-234238-1-0.9681/\n",
      "gs://vapit_data/tf_models/models/model_06092021_2333/checkpoints/cp-234238-1-0.9718/\n",
      "gs://vapit_data/tf_models/models/model_06092021_2333/checkpoints/cp-234238-2-0.9517/\n",
      "gs://vapit_data/tf_models/models/model_06092021_2333/checkpoints/cp-234238-2-0.9554/\n",
      "gs://vapit_data/tf_models/models/model_06092021_2333/checkpoints/cp-234238-2-0.9677/\n",
      "gs://vapit_data/tf_models/models/model_06092021_2333/checkpoints/cp-234238-2-0.9690/\n",
      "gs://vapit_data/tf_models/models/model_06092021_2333/checkpoints/cp-234239-2-0.9546/\n",
      "gs://vapit_data/tf_models/models/model_06092021_2333/checkpoints/cp-234239-2-0.9687/\n",
      "gs://vapit_data/tf_models/models/model_06092021_2333/checkpoints/cp-234240-1-0.9550/\n",
      "gs://vapit_data/tf_models/models/model_06092021_2333/checkpoints/cp-234240-1-0.9666/\n",
      "gs://vapit_data/tf_models/models/model_06092021_2333/checkpoints/cp-234240-1-0.9720/\n",
      "gs://vapit_data/tf_models/models/model_06092021_2333/checkpoints/cp-234241-2-0.9513/\n",
      "gs://vapit_data/tf_models/models/model_06092021_2333/checkpoints/cp-234241-2-0.9648/\n",
      "gs://vapit_data/tf_models/models/model_06092021_2333/checkpoints/cp-234242-1-0.9573/\n",
      "gs://vapit_data/tf_models/models/model_06092021_2333/checkpoints/cp-234242-1-0.9681/\n",
      "gs://vapit_data/tf_models/models/model_06092021_2333/checkpoints/cp-234242-1-0.9745/\n",
      "gs://vapit_data/tf_models/models/model_06092021_2333/checkpoints/cp-234247-2-0.9538/\n",
      "gs://vapit_data/tf_models/models/model_06092021_2333/checkpoints/cp-234247-2-0.9683/\n",
      "gs://vapit_data/tf_models/models/model_06092021_2333/checkpoints/cp-234249-2-0.9522/\n",
      "gs://vapit_data/tf_models/models/model_06092021_2333/checkpoints/cp-234249-2-0.9549/\n",
      "gs://vapit_data/tf_models/models/model_06092021_2333/checkpoints/cp-234249-2-0.9631/\n",
      "gs://vapit_data/tf_models/models/model_06092021_2333/checkpoints/cp-234249-2-0.9648/\n",
      "gs://vapit_data/tf_models/models/model_06092021_2333/checkpoints/cp-234250-2-0.9552/\n",
      "gs://vapit_data/tf_models/models/model_06092021_2333/checkpoints/cp-234250-2-0.9672/\n",
      "gs://vapit_data/tf_models/models/model_06092021_2333/checkpoints/cp-234253-2-0.9545/\n",
      "gs://vapit_data/tf_models/models/model_06092021_2333/checkpoints/cp-234253-2-0.9678/\n",
      "gs://vapit_data/tf_models/models/model_06092021_2333/checkpoints/cp-234300-1-0.9588/\n",
      "gs://vapit_data/tf_models/models/model_06092021_2333/checkpoints/cp-234300-1-0.9665/\n",
      "gs://vapit_data/tf_models/models/model_06092021_2333/checkpoints/cp-234307-2-0.9553/\n",
      "gs://vapit_data/tf_models/models/model_06092021_2333/checkpoints/cp-234307-2-0.9616/\n",
      "gs://vapit_data/tf_models/models/model_06092021_2333/checkpoints/cp-233515-4-0.9392/\n",
      "gs://vapit_data/tf_models/models/model_06092021_2333/checkpoints/cp-233516-4-0.9399/\n",
      "gs://vapit_data/tf_models/models/model_06092021_2333/checkpoints/cp-233507-4-0.9404/\n",
      "gs://vapit_data/tf_models/models/model_06092021_2333/checkpoints/cp-233555-4-0.9426/\n",
      "gs://vapit_data/tf_models/models/model_06092021_2333/checkpoints/cp-233522-4-0.9439/\n",
      "gs://vapit_data/tf_models/models/model_06092021_2333/checkpoints/cp-233520-4-0.9440/\n",
      "gs://vapit_data/tf_models/models/model_06092021_2333/checkpoints/cp-233510-4-0.9445/\n",
      "gs://vapit_data/tf_models/models/model_06092021_2333/checkpoints/cp-233515-4-0.9450/\n",
      "gs://vapit_data/tf_models/models/model_06092021_2333/checkpoints/cp-234229-1-0.9503/\n",
      "gs://vapit_data/tf_models/models/model_06092021_2333/checkpoints/cp-234214-1-0.9504/\n",
      "gs://vapit_data/tf_models/models/model_06092021_2333/checkpoints/cp-234241-2-0.9513/\n",
      "gs://vapit_data/tf_models/models/model_06092021_2333/checkpoints/cp-234238-2-0.9517/\n",
      "gs://vapit_data/tf_models/models/model_06092021_2333/checkpoints/cp-234249-2-0.9522/\n",
      "gs://vapit_data/tf_models/models/model_06092021_2333/checkpoints/cp-234218-2-0.9529/\n",
      "gs://vapit_data/tf_models/models/model_06092021_2333/checkpoints/cp-234238-1-0.9529/\n",
      "gs://vapit_data/tf_models/models/model_06092021_2333/checkpoints/cp-234224-1-0.9531/\n",
      "gs://vapit_data/tf_models/models/model_06092021_2333/checkpoints/cp-234231-1-0.9533/\n",
      "gs://vapit_data/tf_models/models/model_06092021_2333/checkpoints/cp-234229-1-0.9536/\n",
      "gs://vapit_data/tf_models/models/model_06092021_2333/checkpoints/cp-234247-2-0.9538/\n",
      "gs://vapit_data/tf_models/models/model_06092021_2333/checkpoints/cp-234154-2-0.9544/\n",
      "gs://vapit_data/tf_models/models/model_06092021_2333/checkpoints/cp-234253-2-0.9545/\n",
      "gs://vapit_data/tf_models/models/model_06092021_2333/checkpoints/cp-234239-2-0.9546/\n",
      "gs://vapit_data/tf_models/models/model_06092021_2333/checkpoints/cp-234249-2-0.9549/\n",
      "gs://vapit_data/tf_models/models/model_06092021_2333/checkpoints/cp-234240-1-0.9550/\n",
      "gs://vapit_data/tf_models/models/model_06092021_2333/checkpoints/cp-234224-1-0.9551/\n",
      "gs://vapit_data/tf_models/models/model_06092021_2333/checkpoints/cp-234250-2-0.9552/\n",
      "gs://vapit_data/tf_models/models/model_06092021_2333/checkpoints/cp-234307-2-0.9553/\n",
      "gs://vapit_data/tf_models/models/model_06092021_2333/checkpoints/cp-234238-2-0.9554/\n",
      "gs://vapit_data/tf_models/models/model_06092021_2333/checkpoints/cp-233519-3-0.9555/\n",
      "gs://vapit_data/tf_models/models/model_06092021_2333/checkpoints/cp-234222-1-0.9555/\n",
      "gs://vapit_data/tf_models/models/model_06092021_2333/checkpoints/cp-234237-2-0.9559/\n",
      "gs://vapit_data/tf_models/models/model_06092021_2333/checkpoints/cp-234226-1-0.9560/\n",
      "gs://vapit_data/tf_models/models/model_06092021_2333/checkpoints/cp-233507-4-0.9561/\n",
      "gs://vapit_data/tf_models/models/model_06092021_2333/checkpoints/cp-233515-4-0.9566/\n",
      "gs://vapit_data/tf_models/models/model_06092021_2333/checkpoints/cp-234226-1-0.9569/\n",
      "gs://vapit_data/tf_models/models/model_06092021_2333/checkpoints/cp-233522-4-0.9571/\n",
      "gs://vapit_data/tf_models/models/model_06092021_2333/checkpoints/cp-234242-1-0.9573/\n",
      "gs://vapit_data/tf_models/models/model_06092021_2333/checkpoints/cp-233510-3-0.9574/\n",
      "gs://vapit_data/tf_models/models/model_06092021_2333/checkpoints/cp-234228-1-0.9576/\n",
      "gs://vapit_data/tf_models/models/model_06092021_2333/checkpoints/cp-233534-3-0.9580/\n",
      "gs://vapit_data/tf_models/models/model_06092021_2333/checkpoints/cp-233534-3-0.9581/\n",
      "gs://vapit_data/tf_models/models/model_06092021_2333/checkpoints/cp-233515-4-0.9584/\n",
      "gs://vapit_data/tf_models/models/model_06092021_2333/checkpoints/cp-233536-3-0.9585/\n",
      "gs://vapit_data/tf_models/models/model_06092021_2333/checkpoints/cp-233555-4-0.9586/\n",
      "gs://vapit_data/tf_models/models/model_06092021_2333/checkpoints/cp-234207-2-0.9586/\n",
      "gs://vapit_data/tf_models/models/model_06092021_2333/checkpoints/cp-234300-1-0.9588/\n",
      "gs://vapit_data/tf_models/models/model_06092021_2333/checkpoints/cp-233512-3-0.9589/\n",
      "gs://vapit_data/tf_models/models/model_06092021_2333/checkpoints/cp-233510-4-0.9590/\n",
      "gs://vapit_data/tf_models/models/model_06092021_2333/checkpoints/cp-233520-4-0.9595/\n",
      "gs://vapit_data/tf_models/models/model_06092021_2333/checkpoints/cp-233516-4-0.9602/\n",
      "gs://vapit_data/tf_models/models/model_06092021_2333/checkpoints/cp-234307-2-0.9616/\n",
      "gs://vapit_data/tf_models/models/model_06092021_2333/checkpoints/cp-234249-2-0.9631/\n",
      "gs://vapit_data/tf_models/models/model_06092021_2333/checkpoints/cp-233555-4-0.9639/\n",
      "gs://vapit_data/tf_models/models/model_06092021_2333/checkpoints/cp-234241-2-0.9648/\n",
      "gs://vapit_data/tf_models/models/model_06092021_2333/checkpoints/cp-234249-2-0.9648/\n",
      "gs://vapit_data/tf_models/models/model_06092021_2333/checkpoints/cp-233515-4-0.9652/\n",
      "gs://vapit_data/tf_models/models/model_06092021_2333/checkpoints/cp-234229-1-0.9657/\n",
      "gs://vapit_data/tf_models/models/model_06092021_2333/checkpoints/cp-233522-4-0.9662/\n",
      "gs://vapit_data/tf_models/models/model_06092021_2333/checkpoints/cp-233507-4-0.9663/\n",
      "gs://vapit_data/tf_models/models/model_06092021_2333/checkpoints/cp-234218-2-0.9663/\n",
      "gs://vapit_data/tf_models/models/model_06092021_2333/checkpoints/cp-234300-1-0.9665/\n",
      "gs://vapit_data/tf_models/models/model_06092021_2333/checkpoints/cp-234240-1-0.9666/\n",
      "gs://vapit_data/tf_models/models/model_06092021_2333/checkpoints/cp-233515-4-0.9667/\n",
      "gs://vapit_data/tf_models/models/model_06092021_2333/checkpoints/cp-234207-2-0.9667/\n",
      "gs://vapit_data/tf_models/models/model_06092021_2333/checkpoints/cp-234222-1-0.9667/\n",
      "gs://vapit_data/tf_models/models/model_06092021_2333/checkpoints/cp-234224-1-0.9667/\n",
      "gs://vapit_data/tf_models/models/model_06092021_2333/checkpoints/cp-234229-1-0.9667/\n",
      "gs://vapit_data/tf_models/models/model_06092021_2333/checkpoints/cp-233510-4-0.9668/\n",
      "gs://vapit_data/tf_models/models/model_06092021_2333/checkpoints/cp-233520-4-0.9669/\n",
      "gs://vapit_data/tf_models/models/model_06092021_2333/checkpoints/cp-234250-2-0.9672/\n",
      "gs://vapit_data/tf_models/models/model_06092021_2333/checkpoints/cp-234224-1-0.9675/\n",
      "gs://vapit_data/tf_models/models/model_06092021_2333/checkpoints/cp-233516-4-0.9677/\n",
      "gs://vapit_data/tf_models/models/model_06092021_2333/checkpoints/cp-234154-2-0.9677/\n",
      "gs://vapit_data/tf_models/models/model_06092021_2333/checkpoints/cp-234238-2-0.9677/\n",
      "gs://vapit_data/tf_models/models/model_06092021_2333/checkpoints/cp-234253-2-0.9678/\n",
      "gs://vapit_data/tf_models/models/model_06092021_2333/checkpoints/cp-234214-1-0.9679/\n",
      "gs://vapit_data/tf_models/models/model_06092021_2333/checkpoints/cp-234226-1-0.9679/\n",
      "gs://vapit_data/tf_models/models/model_06092021_2333/checkpoints/cp-234238-1-0.9681/\n",
      "gs://vapit_data/tf_models/models/model_06092021_2333/checkpoints/cp-234242-1-0.9681/\n",
      "gs://vapit_data/tf_models/models/model_06092021_2333/checkpoints/cp-234237-2-0.9683/\n",
      "gs://vapit_data/tf_models/models/model_06092021_2333/checkpoints/cp-234247-2-0.9683/\n",
      "gs://vapit_data/tf_models/models/model_06092021_2333/checkpoints/cp-234228-1-0.9684/\n",
      "gs://vapit_data/tf_models/models/model_06092021_2333/checkpoints/cp-234231-1-0.9686/\n",
      "gs://vapit_data/tf_models/models/model_06092021_2333/checkpoints/cp-234239-2-0.9687/\n",
      "gs://vapit_data/tf_models/models/model_06092021_2333/checkpoints/cp-234238-2-0.9690/\n",
      "gs://vapit_data/tf_models/models/model_06092021_2333/checkpoints/cp-233534-3-0.9693/\n",
      "gs://vapit_data/tf_models/models/model_06092021_2333/checkpoints/cp-233519-3-0.9694/\n",
      "gs://vapit_data/tf_models/models/model_06092021_2333/checkpoints/cp-233512-3-0.9695/\n",
      "gs://vapit_data/tf_models/models/model_06092021_2333/checkpoints/cp-233536-3-0.9701/\n",
      "gs://vapit_data/tf_models/models/model_06092021_2333/checkpoints/cp-233534-3-0.9702/\n",
      "gs://vapit_data/tf_models/models/model_06092021_2333/checkpoints/cp-234224-1-0.9709/\n",
      "gs://vapit_data/tf_models/models/model_06092021_2333/checkpoints/cp-233510-3-0.9710/\n",
      "gs://vapit_data/tf_models/models/model_06092021_2333/checkpoints/cp-234238-1-0.9718/\n",
      "gs://vapit_data/tf_models/models/model_06092021_2333/checkpoints/cp-234240-1-0.9720/\n",
      "gs://vapit_data/tf_models/models/model_06092021_2333/checkpoints/cp-234228-1-0.9721/\n",
      "gs://vapit_data/tf_models/models/model_06092021_2333/checkpoints/cp-234224-1-0.9727/\n",
      "gs://vapit_data/tf_models/models/model_06092021_2333/checkpoints/cp-234214-1-0.9729/\n",
      "gs://vapit_data/tf_models/models/model_06092021_2333/checkpoints/cp-234222-1-0.9730/\n",
      "gs://vapit_data/tf_models/models/model_06092021_2333/checkpoints/cp-234231-1-0.9731/\n",
      "gs://vapit_data/tf_models/models/model_06092021_2333/checkpoints/cp-234226-1-0.9734/\n",
      "gs://vapit_data/tf_models/models/model_06092021_2333/checkpoints/cp-234226-1-0.9735/\n",
      "gs://vapit_data/tf_models/models/model_06092021_2333/checkpoints/cp-234229-1-0.9738/\n",
      "gs://vapit_data/tf_models/models/model_06092021_2333/checkpoints/cp-234242-1-0.9745/\n",
      "Best Accuracy  from Checkpoints =  0.9745\n",
      "Best Model Dir from Checkpoints =  gs://vapit_data/tf_models/models/model_06092021_2333/checkpoints/cp-234242-1-0.9745/\n"
     ]
    }
   ],
   "source": [
    "# Find count of checkpoints\n",
    "all_models = ! gsutil ls {MODEL_DIR_HPT+'/checkpoints'}\n",
    "print(\"Total Hypertrained Models=\", len(all_models))\n",
    "\n",
    "# Test with latest saved model\n",
    "best_model_dir_hyp = find_best_model_dir(MODEL_DIR_HPT+'/checkpoints', offset=1, maxFlag=1)\n"
   ]
  },
  {
   "cell_type": "markdown",
   "metadata": {},
   "source": [
    "--------\n",
    "# Deploy the Model"
   ]
  },
  {
   "cell_type": "code",
   "execution_count": 285,
   "metadata": {},
   "outputs": [],
   "source": [
    "## https://cloud.google.com/ai-platform/prediction/docs/machine-types-online-prediction#available_machine_types\n",
    "# We need 2 versions of the same model:\n",
    "# 1. Batch prediction model deployed on a mls1-c1-m2 cluster\n",
    "# 2. Online prediction model deployed on a n1-standard-16 cluster\n",
    "# Batch prediction does not support GPU and n1-standard-16 clusters.\n",
    "\n",
    "# Run the Deploy Model section twice:\n",
    "# 1. As a BATCH Mode version use MODEL_VERSION = MODEL_VERSION_BATCH\n",
    "# 2. As a ONLINE Mode version use MODEL_VERSION = MODEL_VERSION_ONLINE\n"
   ]
  },
  {
   "cell_type": "code",
   "execution_count": 215,
   "metadata": {},
   "outputs": [],
   "source": [
    "# Regional End points with python\n",
    "#https://cloud.google.com/ai-platform/prediction/docs/regional-endpoints#python"
   ]
  },
  {
   "cell_type": "code",
   "execution_count": 243,
   "metadata": {},
   "outputs": [
    {
     "name": "stdout",
     "output_type": "stream",
     "text": [
      "\n",
      "List of Models in Global Endpoint)\n",
      "Using endpoint [https://ml.googleapis.com/]\n",
      "NAME           DEFAULT_VERSION_NAME\n",
      "mnist_model_1  online_v1\n",
      "\n",
      "List of Versions in Global Endpoint)\n",
      "Using endpoint [https://ml.googleapis.com/]\n",
      "NAME       DEPLOYMENT_URI                                                                        STATE\n",
      "online_v1  gs://vapit_data/tf_models/models/model_06092021_1658/checkpoints/cp-170853-4-0.9736/  READY\n"
     ]
    }
   ],
   "source": [
    "MODEL_NAME = \"mnist_model_1\"\n",
    "MODEL_VERSION_ONLINE = \"online_v1\"\n",
    "MODEL_VERSION_BATCH  = \"batch_v1\"\n",
    "\n",
    "#Run this as Batch first then Online\n",
    "#MODEL_VERSION = MODEL_VERSION_ONLINE\n",
    "MODEL_VERSION = MODEL_VERSION_BATCH\n",
    "\n",
    "# List all models\n",
    "\n",
    "print(\"\\nList of Models in Global Endpoint)\")\n",
    "!gcloud ai-platform models list --region=global\n",
    "\n",
    "# List all versions of model\n",
    "\n",
    "print(\"\\nList of Versions in Global Endpoint)\")\n",
    "!gcloud ai-platform versions list --model $MODEL_NAME --region=global\n"
   ]
  },
  {
   "cell_type": "code",
   "execution_count": 244,
   "metadata": {},
   "outputs": [],
   "source": [
    "#!gcloud ai-platform versions delete $MODEL_VERSION_ONLINE --model $MODEL_NAME --quiet --region=global\n",
    "#!gcloud ai-platform models delete $MODEL_NAME --quiet --region=global\n"
   ]
  },
  {
   "cell_type": "code",
   "execution_count": 245,
   "metadata": {},
   "outputs": [
    {
     "name": "stdout",
     "output_type": "stream",
     "text": [
      "\n",
      "List of Models in Global Endpoint)\n",
      "Using endpoint [https://ml.googleapis.com/]\n",
      "NAME           DEFAULT_VERSION_NAME\n",
      "mnist_model_1  online_v1\n",
      "\n",
      "List of Versions in Global Endpoint)\n",
      "Using endpoint [https://ml.googleapis.com/]\n",
      "NAME       DEPLOYMENT_URI                                                                        STATE\n",
      "online_v1  gs://vapit_data/tf_models/models/model_06092021_1658/checkpoints/cp-170853-4-0.9736/  READY\n"
     ]
    }
   ],
   "source": [
    "# List all models\n",
    "\n",
    "print(\"\\nList of Models in Global Endpoint)\")\n",
    "!gcloud ai-platform models list --region=global\n",
    "\n",
    "# List all versions of model\n",
    "\n",
    "print(\"\\nList of Versions in Global Endpoint)\")\n",
    "!gcloud ai-platform versions list --model $MODEL_NAME --region=global\n"
   ]
  },
  {
   "cell_type": "code",
   "execution_count": 246,
   "metadata": {},
   "outputs": [
    {
     "name": "stdout",
     "output_type": "stream",
     "text": [
      "['Using endpoint [https://us-central1-ml.googleapis.com/]', 'Listed 0 items.']\n",
      "Creating model mnist_model_1\n",
      "Using endpoint [https://ml.googleapis.com/]\n",
      "\u001b[1;31mERROR:\u001b[0m (gcloud.ai-platform.models.create) Resource in projects [cchatterjee-sandbox] is the subject of a conflict: Field: model.name Error: A model with the same name already exists.\n",
      "- '@type': type.googleapis.com/google.rpc.BadRequest\n",
      "  fieldViolations:\n",
      "  - description: A model with the same name already exists.\n",
      "    field: model.name\n",
      "\n",
      "List of Models in Global Endpoint)\n",
      "Using endpoint [https://ml.googleapis.com/]\n",
      "NAME           DEFAULT_VERSION_NAME\n",
      "mnist_model_1  online_v1\n"
     ]
    }
   ],
   "source": [
    "# create the model if it doesn't already exist\n",
    "modelname = !gcloud ai-platform models list | grep -w $MODEL_NAME\n",
    "print(modelname)\n",
    "if (len(modelname) <= 1) or ('Listed 0 items.' in modelname[1]):\n",
    "    print(\"Creating model \" + MODEL_NAME)\n",
    "    # Global endpoint\n",
    "    !gcloud ai-platform models create $MODEL_NAME --enable-logging --regions $REGION\n",
    "else:\n",
    "    print(\"Model \" + MODEL_NAME + \" exist\")\n",
    "    \n",
    "print(\"\\nList of Models in Global Endpoint)\")\n",
    "!gcloud ai-platform models list --region=global\n"
   ]
  },
  {
   "cell_type": "code",
   "execution_count": 247,
   "metadata": {},
   "outputs": [
    {
     "name": "stdout",
     "output_type": "stream",
     "text": [
      "Model Name = mnist_model_1\n",
      "Model Versions = batch_v1\n",
      "Best Model Dir:  gs://vapit_data/tf_models/models/model_06092021_1658/checkpoints/cp-170853-4-0.9736/\n",
      "Using endpoint [https://ml.googleapis.com/]\n",
      "Creating version (this might take a few minutes)......done.                    \n",
      "CPU times: user 1.07 s, sys: 324 ms, total: 1.4 s\n",
      "Wall time: 52.4 s\n"
     ]
    }
   ],
   "source": [
    "%%time\n",
    "\n",
    "print(\"Model Name =\", MODEL_NAME)\n",
    "print(\"Model Versions =\", MODEL_VERSION)\n",
    "\n",
    "# Get a list of model directories\n",
    "best_model_dir = best_model_dir_hyp\n",
    "print(\"Best Model Dir: \", best_model_dir)\n",
    "\n",
    "MODEL_FRAMEWORK = \"TENSORFLOW\"\n",
    "MODEL_DESCRIPTION = \"SEQ_MODEL_1\"\n",
    "MODEL_LABELS=\"team=ourteam,phase=test,owner=\"+USER\n",
    "\n",
    "MACHINE_TYPE = \"mls1-c1-m2\"\n",
    "if (MODEL_VERSION == MODEL_VERSION_BATCH):\n",
    "    MACHINE_TYPE = \"mls1-c1-m2\"\n",
    "    MODEL_LABELS = MODEL_LABELS+\",mode=batch\"\n",
    "if (MODEL_VERSION == MODEL_VERSION_ONLINE):\n",
    "    MACHINE_TYPE = \"mls1-c1-m2\" #\"n1-standard-32\"\n",
    "    MODEL_LABELS = MODEL_LABELS+\",mode=online\"\n",
    "\n",
    "# Deploy the model\n",
    "! gcloud beta ai-platform versions create $MODEL_VERSION \\\n",
    "  --model $MODEL_NAME \\\n",
    "  --origin $best_model_dir \\\n",
    "  --runtime-version $RUNTIME_VERSION \\\n",
    "  --python-version=3.7 \\\n",
    "  --description=$MODEL_DESCRIPTION \\\n",
    "  --labels $MODEL_LABELS \\\n",
    "  --machine-type=$MACHINE_TYPE  \\\n",
    "  --framework $MODEL_FRAMEWORK \\\n",
    "  --region global\n"
   ]
  },
  {
   "cell_type": "code",
   "execution_count": 248,
   "metadata": {},
   "outputs": [
    {
     "name": "stdout",
     "output_type": "stream",
     "text": [
      "\n",
      "List of Models in Global Endpoint)\n",
      "Using endpoint [https://ml.googleapis.com/]\n",
      "NAME           DEFAULT_VERSION_NAME\n",
      "mnist_model_1  online_v1\n",
      "\n",
      "List of Models in Regional Endpoint)\n",
      "Using endpoint [https://us-central1-ml.googleapis.com/]\n",
      "Listed 0 items.\n",
      "\n",
      "List of Versions in Global Endpoint)\n",
      "Using endpoint [https://ml.googleapis.com/]\n",
      "NAME       DEPLOYMENT_URI                                                                        STATE\n",
      "batch_v1   gs://vapit_data/tf_models/models/model_06092021_1658/checkpoints/cp-170853-4-0.9736/  READY\n",
      "online_v1  gs://vapit_data/tf_models/models/model_06092021_1658/checkpoints/cp-170853-4-0.9736/  READY\n"
     ]
    }
   ],
   "source": [
    "# List all models\n",
    "\n",
    "print(\"\\nList of Models in Global Endpoint)\")\n",
    "!gcloud ai-platform models list --region=global\n",
    "\n",
    "print(\"\\nList of Models in Regional Endpoint)\")\n",
    "!gcloud ai-platform models list --region=$REGION\n",
    "\n",
    "# List all versions of model\n",
    "\n",
    "print(\"\\nList of Versions in Global Endpoint)\")\n",
    "!gcloud ai-platform versions list --model $MODEL_NAME --region=global\n",
    "\n",
    "#print(\"\\nList of Versions in Regional Endpoint)\")\n",
    "#!gcloud ai-platform versions list --model $MODEL_NAME --region=$REGION\n"
   ]
  },
  {
   "cell_type": "markdown",
   "metadata": {},
   "source": [
    "------\n",
    "# Predictions with the deployed model"
   ]
  },
  {
   "cell_type": "code",
   "execution_count": 249,
   "metadata": {},
   "outputs": [
    {
     "name": "stdout",
     "output_type": "stream",
     "text": [
      "Copying gs://vapit_data/tf_models/models/model_06092021_1658/checkpoints/cp-170853-4-0.9736/saved_model.pb...\n",
      "Copying gs://vapit_data/tf_models/models/model_06092021_1658/checkpoints/cp-170853-4-0.9736/variables/variables.data-00000-of-00001...\n",
      "Copying gs://vapit_data/tf_models/models/model_06092021_1658/checkpoints/cp-170853-4-0.9736/variables/variables.index...\n",
      "Signature  _SignatureMap({'serving_default': <tensorflow.python.saved_model.load._WrapperFunction object at 0x7fe7caef7e90>})\n",
      "\n",
      "Model Input  Layer= flatten\n",
      "Model Output Layer= dense_3\n",
      "\n",
      "CPU times: user 390 ms, sys: 49.4 ms, total: 440 ms\n",
      "Wall time: 2.23 s\n"
     ]
    }
   ],
   "source": [
    "%%time\n",
    "\n",
    "from trainer_i import model\n",
    "\n",
    "# Copy the model from storage to local memory\n",
    "!gsutil -m cp -r $best_model_dir_hyp* ./model_dir\n",
    "\n",
    "# Load the model\n",
    "loaded_model = tf.keras.models.load_model('./model_dir', compile=False) #, \n",
    "               #custom_objects={\"custom_loss\": model.custom_loss,\"custom_metric\": model.custom_metric})\n",
    "print(\"Signature \", loaded_model.signatures)\n",
    "\n",
    "# Check the model layers\n",
    "model_layers = [layer.name for layer in loaded_model.layers]\n",
    "print(\"\")\n",
    "print(\"Model Input  Layer=\", model_layers[0])\n",
    "print(\"Model Output Layer=\", model_layers[-1])\n",
    "print(\"\")\n"
   ]
  },
  {
   "cell_type": "code",
   "execution_count": 240,
   "metadata": {},
   "outputs": [
    {
     "name": "stdout",
     "output_type": "stream",
     "text": [
      "X_train shape =  (60000, 28, 28)\n",
      "X_test  shape =  (10000, 28, 28)\n",
      "y_train shape =  (60000,)\n",
      "y_test  shape =  (10000,)\n"
     ]
    }
   ],
   "source": [
    "from trainer_i import inputs\n",
    "train_test_data = inputs.load_data()\n",
    "X_test  = train_test_data[1]\n",
    "y_test  = train_test_data[3]\n"
   ]
  },
  {
   "cell_type": "markdown",
   "metadata": {},
   "source": [
    "## Online Prediction with python"
   ]
  },
  {
   "cell_type": "code",
   "execution_count": 241,
   "metadata": {},
   "outputs": [
    {
     "name": "stdout",
     "output_type": "stream",
     "text": [
      "Project ID = cchatterjee-sandbox\n",
      "Model Name = mnist_model_1\n",
      "Model Version = online_v1\n",
      "model_name= projects/cchatterjee-sandbox/models/mnist_model_1/versions/online_v1\n",
      "batch_size= 32\n",
      "n_samples= 1000\n",
      "Processing samples 0 32\n",
      "Processing samples 32 64\n",
      "Processing samples 64 96\n",
      "Processing samples 96 128\n",
      "Processing samples 128 160\n",
      "Processing samples 160 192\n",
      "Processing samples 192 224\n",
      "Processing samples 224 256\n",
      "Processing samples 256 288\n",
      "Processing samples 288 320\n",
      "Processing samples 320 352\n",
      "Processing samples 352 384\n",
      "Processing samples 384 416\n",
      "Processing samples 416 448\n",
      "Processing samples 448 480\n",
      "Processing samples 480 512\n",
      "Processing samples 512 544\n",
      "Processing samples 544 576\n",
      "Processing samples 576 608\n",
      "Processing samples 608 640\n",
      "Processing samples 640 672\n",
      "Processing samples 672 704\n",
      "Processing samples 704 736\n",
      "Processing samples 736 768\n",
      "Processing samples 768 800\n",
      "Processing samples 800 832\n",
      "Processing samples 832 864\n",
      "Processing samples 864 896\n",
      "Processing samples 896 928\n",
      "Processing samples 928 960\n",
      "Processing samples 960 992\n",
      "Processing samples 992 1000\n",
      "CPU times: user 934 ms, sys: 441 ms, total: 1.37 s\n",
      "Wall time: 4.6 s\n"
     ]
    }
   ],
   "source": [
    "%%time\n",
    "\n",
    "# Online Prediction with Python - works for global end points only\n",
    "\n",
    "# Use MODEL_VERSION_ONLINE not MODEL_VERSION_BATCH\n",
    "MODEL_VERSION = MODEL_VERSION_ONLINE\n",
    "\n",
    "from oauth2client.client import GoogleCredentials\n",
    "from googleapiclient import discovery\n",
    "from googleapiclient import errors\n",
    "import json\n",
    "\n",
    "#tf.compat.v1.logging.set_verbosity(tf.compat.v1.logging.ERROR)\n",
    "#tf.get_logger().setLevel('ERROR')\n",
    "\n",
    "print(\"Project ID =\", PROJECT_ID)\n",
    "print(\"Model Name =\", MODEL_NAME)\n",
    "print(\"Model Version =\", MODEL_VERSION)\n",
    "\n",
    "model_name = 'projects/{}/models/{}'.format(PROJECT_ID, MODEL_NAME)\n",
    "if MODEL_VERSION is not None:\n",
    "    model_name += '/versions/{}'.format(MODEL_VERSION)\n",
    "credentials = GoogleCredentials.get_application_default()\n",
    "service = discovery.build('ml', 'v1', cache_discovery=False, credentials=credentials)\n",
    "print(\"model_name=\", model_name)\n",
    "\n",
    "pprobas_temp = []\n",
    "batch_size = 32\n",
    "n_samples = min(1000,X_test.shape[0])\n",
    "print(\"batch_size=\", batch_size)\n",
    "print(\"n_samples=\", n_samples)\n",
    "\n",
    "for i in range(0, n_samples, batch_size):\n",
    "    j = min(i+batch_size, n_samples)\n",
    "    print(\"Processing samples\", i, j)\n",
    "    request = service.projects().predict(name=model_name, \\\n",
    "                                         body={'instances': np.array(X_test)[i:j].tolist()})\n",
    "    try:\n",
    "        response = request.execute()\n",
    "        pprobas_temp += response['predictions']\n",
    "    except errors.HttpError as err:\n",
    "        # Something went wrong, print out some information.\n",
    "        tf.compat.v1.logging.error('There was an error getting the job info, Check the details:')\n",
    "        tf.compat.v1.logging.error(err._get_reason())\n",
    "        break\n"
   ]
  },
  {
   "cell_type": "code",
   "execution_count": 242,
   "metadata": {},
   "outputs": [
    {
     "data": {
      "text/plain": [
       "array([[0.  , 0.  , 0.  , ..., 1.  , 0.  , 0.  ],\n",
       "       [0.  , 0.  , 1.  , ..., 0.  , 0.  , 0.  ],\n",
       "       [0.  , 0.99, 0.  , ..., 0.  , 0.  , 0.  ],\n",
       "       ...,\n",
       "       [1.  , 0.  , 0.  , ..., 0.  , 0.  , 0.  ],\n",
       "       [0.  , 0.  , 0.  , ..., 0.  , 1.  , 0.  ],\n",
       "       [0.  , 0.  , 0.  , ..., 0.12, 0.  , 0.86]])"
      ]
     },
     "execution_count": 242,
     "metadata": {},
     "output_type": "execute_result"
    }
   ],
   "source": [
    "# Show the prediction results as an array\n",
    "\n",
    "nPreds = len(pprobas_temp)\n",
    "nClasses = len(np.unique(y_test))\n",
    "pprobas = np.zeros((nPreds, nClasses))\n",
    "for i in range(nPreds):\n",
    "    pprobas[i,:] = np.array(pprobas_temp[i][model_layers[-1]])\n",
    "pprobas = np.round(pprobas, 2)\n",
    "pprobas\n"
   ]
  },
  {
   "cell_type": "markdown",
   "metadata": {},
   "source": [
    "## Batch Prediction with GCLOUD"
   ]
  },
  {
   "cell_type": "code",
   "execution_count": 250,
   "metadata": {},
   "outputs": [
    {
     "name": "stdout",
     "output_type": "stream",
     "text": [
      "n_samples = 1000\n",
      "nFiles = 10\n",
      "nRecsPerFile = 100\n",
      "Copying file://./batch_data/unkeyed_batch_9.json [Content-Type=application/json]...\n",
      "Copying file://./batch_data/unkeyed_batch_7.json [Content-Type=application/json]...\n",
      "Copying file://./batch_data/unkeyed_batch_5.json [Content-Type=application/json]...\n",
      "Copying file://./batch_data/unkeyed_batch_2.json [Content-Type=application/json]...\n",
      "Copying file://./batch_data/unkeyed_batch_0.json [Content-Type=application/json]...\n",
      "Copying file://./batch_data/unkeyed_batch_8.json [Content-Type=application/json]...\n",
      "Copying file://./batch_data/unkeyed_batch_1.json [Content-Type=application/json]...\n",
      "Copying file://./batch_data/unkeyed_batch_6.json [Content-Type=application/json]...\n",
      "Copying file://./batch_data/unkeyed_batch_3.json [Content-Type=application/json]...\n",
      "Copying file://./batch_data/unkeyed_batch_4.json [Content-Type=application/json]...\n",
      "- [10/10 files][  5.8 MiB/  5.8 MiB] 100% Done                                  \n",
      "Operation completed over 10 objects/5.8 MiB.                                     \n",
      "CommandException: 1 files/objects could not be removed.\n"
     ]
    }
   ],
   "source": [
    "# Write batch data to file in GCS\n",
    "\n",
    "import shutil\n",
    "\n",
    "# Clean current directory\n",
    "DATA_DIR = './batch_data'\n",
    "shutil.rmtree(DATA_DIR, ignore_errors=True)\n",
    "os.makedirs(DATA_DIR)\n",
    "\n",
    "n_samples = min(1000,X_test.shape[0])\n",
    "nFiles = 10\n",
    "nRecsPerFile = min(1000,n_samples//nFiles)\n",
    "print(\"n_samples =\", n_samples)\n",
    "print(\"nFiles =\", nFiles)\n",
    "print(\"nRecsPerFile =\", nRecsPerFile)\n",
    "\n",
    "# Create nFiles files with nImagesPerFile images each\n",
    "for i in range(nFiles):\n",
    "    with open(f'{DATA_DIR}/unkeyed_batch_{i}.json', \"w\") as file:\n",
    "        for z in range(nRecsPerFile):\n",
    "            print(f'{{\"flatten_input\": {np.array(X_test)[i*nRecsPerFile+z].tolist()}}}', file=file)\n",
    "            #print(f'{{\"{model_layers[0]}\": {np.array(X_test)[i*nRecsPerFile+z].tolist()}}}', file=file)\n",
    "            #key = f'key_{i}_{z}'\n",
    "            #print(f'{{\"image\": {X_test_images[z].tolist()}, \"key\": \"{key}\"}}', file=file)\n",
    "\n",
    "# Write batch data to gcs file\n",
    "!gsutil -m cp -r ./batch_data gs://$BUCKET_NAME/$FOLDER_RESULTS/\n",
    "    \n",
    "# Remove old batch prediction results\n",
    "!gsutil -m rm -r gs://$BUCKET_NAME/$FOLDER_RESULTS/batch_predictions\n"
   ]
  },
  {
   "cell_type": "code",
   "execution_count": 251,
   "metadata": {},
   "outputs": [
    {
     "name": "stdout",
     "output_type": "stream",
     "text": [
      "INPUT_PATHS =  gs://vapit_data/tf_models/batch_data/*\n",
      "OUTPUT_PATH =  gs://vapit_data/tf_models/batch_predictions\n",
      "Job Name    =  tf_batch_predict_cchatterj_060921_1729\n"
     ]
    }
   ],
   "source": [
    "from datetime import datetime\n",
    "from pytz import timezone\n",
    "\n",
    "DATA_FORMAT=\"text\" # JSON data format\n",
    "INPUT_PATHS='gs://' + BUCKET_NAME + '/' + FOLDER_RESULTS + '/batch_data/*'\n",
    "OUTPUT_PATH='gs://' + BUCKET_NAME + '/' + FOLDER_RESULTS + '/batch_predictions'\n",
    "PRED_LABELS=\"mode=batch,team=ourteam,phase=test,owner=\"+USER\n",
    "SIGNATURE_NAME=\"serving_default\"\n",
    "\n",
    "JOBNAME_BATCH = 'tf_batch_predict_'+ USER + '_' + \\\n",
    "           datetime.now(timezone('US/Pacific')).strftime(\"%m%d%y_%H%M\")\n",
    "\n",
    "print(\"INPUT_PATHS = \", INPUT_PATHS)\n",
    "print(\"OUTPUT_PATH = \", OUTPUT_PATH)\n",
    "print(\"Job Name    = \", JOBNAME_BATCH)\n"
   ]
  },
  {
   "cell_type": "code",
   "execution_count": 252,
   "metadata": {},
   "outputs": [
    {
     "name": "stdout",
     "output_type": "stream",
     "text": [
      "Job [tf_batch_predict_cchatterj_060921_1729] submitted successfully.\n",
      "Your job is still active. You may view the status of your job with the command\n",
      "\n",
      "  $ gcloud ai-platform jobs describe tf_batch_predict_cchatterj_060921_1729\n",
      "\n",
      "or continue streaming the logs with the command\n",
      "\n",
      "  $ gcloud ai-platform jobs stream-logs tf_batch_predict_cchatterj_060921_1729\n",
      "jobId: tf_batch_predict_cchatterj_060921_1729\n",
      "state: QUEUED\n"
     ]
    }
   ],
   "source": [
    "# Only works with global endpoint\n",
    "# Submit batch predict job\n",
    "# Use  MODEL_VERSION_BATCH not MODEL_VERSION_ONLINE\n",
    "MODEL_VERSION = MODEL_VERSION_BATCH\n",
    "\n",
    "!gcloud ai-platform jobs submit prediction $JOBNAME_BATCH \\\n",
    "    --model=$MODEL_NAME \\\n",
    "    --version=$MODEL_VERSION \\\n",
    "    --input-paths=$INPUT_PATHS \\\n",
    "    --output-path=$OUTPUT_PATH \\\n",
    "    --data-format=$DATA_FORMAT \\\n",
    "    --labels=$PRED_LABELS \\\n",
    "    --signature-name=$SIGNATURE_NAME \\\n",
    "    --region=$REGION\n"
   ]
  },
  {
   "cell_type": "code",
   "execution_count": 258,
   "metadata": {},
   "outputs": [
    {
     "name": "stdout",
     "output_type": "stream",
     "text": [
      "createTime: '2021-06-10T00:29:42Z'\n",
      "endTime: '2021-06-10T00:37:05Z'\n",
      "etag: IgnEQjKbY84=\n",
      "jobId: tf_batch_predict_cchatterj_060921_1729\n",
      "labels:\n",
      "  mode: batch\n",
      "  owner: cchatterj\n",
      "  phase: test\n",
      "  team: ourteam\n",
      "predictionInput:\n",
      "  dataFormat: JSON\n",
      "  inputPaths:\n",
      "  - gs://vapit_data/tf_models/batch_data/*\n",
      "  outputPath: gs://vapit_data/tf_models/batch_predictions\n",
      "  region: us-central1\n",
      "  runtimeVersion: '2.1'\n",
      "  signatureName: serving_default\n",
      "  versionName: projects/cchatterjee-sandbox/models/mnist_model_1/versions/batch_v1\n",
      "predictionOutput:\n",
      "  nodeHours: 0.12\n",
      "  outputPath: gs://vapit_data/tf_models/batch_predictions\n",
      "  predictionCount: '1000'\n",
      "startTime: '2021-06-10T00:30:03Z'\n",
      "state: SUCCEEDED\n",
      "\n",
      "View job in the Cloud Console at:\n",
      "https://console.cloud.google.com/mlengine/jobs/tf_batch_predict_cchatterj_060921_1729?project=cchatterjee-sandbox\n",
      "\n",
      "View logs at:\n",
      "https://console.cloud.google.com/logs?resource=ml_job%2Fjob_id%2Ftf_batch_predict_cchatterj_060921_1729&project=cchatterjee-sandbox\n"
     ]
    }
   ],
   "source": [
    "# check the batch prediction job status\n",
    "! gcloud ai-platform jobs describe $JOBNAME_BATCH\n"
   ]
  },
  {
   "cell_type": "code",
   "execution_count": 259,
   "metadata": {},
   "outputs": [],
   "source": [
    "# Print Errors\n",
    "if 1:\n",
    "    response = ! gcloud logging read \"resource.labels.job_id=$JOBNAME_BATCH severity>=ERROR\"\n",
    "    for i in range(0,len(response)):\n",
    "        if 'message' in response[i]:\n",
    "            print(response[i])\n"
   ]
  },
  {
   "cell_type": "code",
   "execution_count": 260,
   "metadata": {},
   "outputs": [
    {
     "name": "stdout",
     "output_type": "stream",
     "text": [
      "errors\n",
      "batch prediction results\n",
      "{\"dense_3\": [7.064583769533783e-05, 1.7401951026840834e-06, 3.706018833327107e-05, 1.902730218716897e-06, 5.901233816985041e-05, 4.309142241254449e-05, 0.9997658133506775, 1.0108108199347043e-06, 1.9130877262796275e-05, 5.87501574500493e-07]}\n",
      "{\"dense_3\": [0.00026559506659395993, 0.00010954929166473448, 0.006070930976420641, 0.0029281426686793566, 0.0001113233738578856, 1.2618905202543829e-05, 2.3024507754598744e-05, 0.0009213312878273427, 0.9882459044456482, 0.0013115247711539268]}\n",
      "{\"dense_3\": [6.714207847835496e-05, 4.364212546903445e-09, 1.6928588593145832e-06, 3.791333469393976e-08, 8.734583047953492e-07, 1.69722909504344e-07, 0.999929666519165, 1.4930331815321551e-07, 2.1364576241467148e-07, 8.284916752643312e-09]}\n",
      "{\"dense_3\": [0.00011776307655964047, 7.936097063065972e-06, 0.00023609973140992224, 0.0014507038285955787, 0.0003388272598385811, 0.006297596264630556, 0.0001638040557736531, 6.851505895610899e-05, 0.9645766615867615, 0.026742108166217804]}\n",
      "{\"dense_3\": [2.2152867131808307e-06, 6.527870510808498e-08, 3.910929535777541e-07, 0.00024810724426060915, 4.506576445351129e-09, 0.9996525049209595, 2.1324115095922025e-07, 5.768310415987798e-07, 8.706152584636584e-05, 8.776465620030649e-06]}\n",
      "{\"dense_3\": [5.135967057867674e-06, 0.0020350790582597256, 0.00012387482274789363, 0.009748450480401516, 0.001514577423222363, 3.633415190051892e-06, 3.974570361719998e-08, 0.6946747899055481, 0.00041379459435120225, 0.2914806306362152]}\n",
      "{\"dense_3\": [0.00011732691200450063, 1.484564199927263e-05, 0.002820864086970687, 0.03217257559299469, 0.00025490688858553767, 0.0005437243962660432, 5.087392310088035e-06, 2.1818257209815783e-06, 0.9638320207595825, 0.0002364260290050879]}\n",
      "{\"dense_3\": [4.132574031245895e-05, 7.806849566804885e-08, 2.8189770091557875e-05, 1.284698441850196e-06, 2.0312831111368723e-05, 5.292186870065052e-06, 0.9998890161514282, 1.2700496654360904e-06, 1.2937628525833134e-05, 4.506834727635578e-07]}\n",
      "{\"dense_3\": [0.9991896748542786, 2.0832296286243945e-05, 0.0002784976386465132, 5.156883707968518e-05, 2.2603713659918867e-05, 2.7387612135498784e-05, 3.3105749025708064e-05, 1.2756979231198784e-05, 1.113413782150019e-05, 0.0003523504128679633]}\n",
      "{\"dense_3\": [0.00010356437996961176, 3.7724348658230156e-05, 0.9969478249549866, 0.0011767512187361717, 1.6794678003861918e-06, 5.583957317867316e-06, 7.218087603177992e-07, 6.750853208359331e-05, 0.001645596930757165, 1.3047236279817298e-05]}\n",
      "{\"dense_3\": [0.00522309634834528, 5.728393807657994e-05, 0.37973299622535706, 0.0005613526445813477, 0.5477892160415649, 2.227771983598359e-05, 0.06409727036952972, 0.0006542911287397146, 0.0015738136135041714, 0.0002883763809222728]}\n",
      "{\"dense_3\": [0.9926309585571289, 5.470615178637672e-07, 2.422689426850866e-08, 2.0737098793688347e-07, 0.0002446761354804039, 5.8879641073872335e-06, 0.006994141731411219, 8.03214788902551e-05, 1.5680460592193413e-06, 4.167838051216677e-05]}\n",
      "{\"dense_3\": [1.896944752388663e-07, 2.805191634536186e-08, 0.9999645948410034, 2.3877271360106533e-06, 3.3102164707088377e-06, 1.4378024992822702e-08, 2.765083991107531e-05, 6.802007845863045e-08, 1.7445577213948127e-06, 1.4151814164975463e-09]}\n",
      "{\"dense_3\": [0.0037804932799190283, 0.002829322125762701, 0.8218527436256409, 0.03159970045089722, 7.941676449263468e-05, 0.0002572821103967726, 1.7928627130459063e-05, 0.008665408007800579, 0.1279723048210144, 0.0029453730676323175]}\n",
      "{\"dense_3\": [3.0016928576515056e-05, 0.0016242264537140727, 0.0002336295583518222, 0.9866993427276611, 0.00188907899428159, 6.566230149473995e-05, 6.215216217242414e-07, 0.0019106779946014285, 0.002549264580011368, 0.004997433163225651]}\n",
      "{\"dense_3\": [5.367545236367732e-05, 0.9946129322052002, 0.004450897686183453, 1.4866951687508845e-06, 9.643869270803407e-05, 4.842450834985357e-06, 0.00039690019912086427, 4.885397356702015e-05, 0.00033223393256776035, 1.6674716789566446e-06]}\n",
      "{\"dense_3\": [6.589647091459483e-05, 3.794004214796587e-06, 4.658833859139122e-06, 0.007562024053186178, 0.0011719721369445324, 0.0005348733393475413, 7.114439881661383e-07, 0.005490566603839397, 0.00024498035782016814, 0.9849204421043396]}\n",
      "{\"dense_3\": [1.9917015947612526e-07, 4.578011498779233e-07, 0.0009566899389028549, 6.215974281076342e-05, 6.095417575124884e-06, 9.524829813756241e-09, 2.3753774058832278e-08, 0.9989690780639648, 2.831718290963181e-07, 4.8979459279507864e-06]}\n",
      "{\"dense_3\": [3.5654152270581108e-06, 6.16838860878488e-07, 2.3178661194833694e-06, 0.0014194989344105124, 6.903183589201944e-07, 0.9982014894485474, 2.446597818561713e-06, 5.601947577815736e-06, 9.358146598970052e-06, 0.0003544514474924654]}\n",
      "{\"dense_3\": [4.518783953244565e-06, 0.6901500821113586, 0.030313126742839813, 0.010484473779797554, 0.01380252093076706, 1.4659373846370727e-05, 0.0004491712024901062, 0.028036106377840042, 0.22652415931224823, 0.0002211947285104543]}\n",
      "{\"dense_3\": [0.9972944855690002, 0.000189384474651888, 0.00034458882873877883, 8.232140680775046e-05, 0.0001782601175364107, 0.0001042357471305877, 0.001661569345742464, 7.530521543230861e-05, 1.227320717589464e-05, 5.7538156397640705e-05]}\n",
      "{\"dense_3\": [8.390763105126098e-05, 2.501161361578852e-06, 0.0006783140706829727, 9.17007346288301e-05, 4.586403156281449e-05, 5.5546472140122205e-05, 3.817719971266342e-06, 4.559323315334041e-06, 0.9979228377342224, 0.0011110089253634214]}\n",
      "{\"dense_3\": [8.835124276629358e-07, 3.960868468766421e-07, 3.5517105061444454e-06, 2.5510139778361918e-08, 0.9997617602348328, 3.8672169466735795e-08, 4.86848648506566e-07, 2.9338580134208314e-05, 4.939199243381154e-06, 0.00019858454470522702]}\n",
      "{\"dense_3\": [6.5900508161576e-06, 3.461259012738083e-08, 5.194345703785075e-06, 1.1972205982146988e-07, 5.6404929637210444e-05, 3.872022716677748e-06, 0.9999277591705322, 3.9402884510764125e-08, 4.7217941556709775e-08, 8.618890046108163e-10]}\n",
      "{\"dense_3\": [0.0010754369432106614, 0.001687107142060995, 0.988386332988739, 0.002129289088770747, 4.200202511128737e-06, 7.80186655902071e-06, 2.17899491872231e-06, 1.837691706896294e-05, 0.0066596693359315395, 2.9554779757745564e-05]}\n",
      "{\"dense_3\": [0.0009595188312232494, 4.983639314559696e-07, 9.707010758575052e-05, 5.593882690391183e-08, 0.0045565166510641575, 1.0365183698013425e-06, 0.9943795800209045, 2.793946350720944e-06, 1.0907122032222105e-06, 1.9087831333308714e-06]}\n",
      "{\"dense_3\": [2.1533153926611703e-07, 4.596901362674544e-06, 2.183909236919135e-05, 0.00023939948005136102, 3.3957057610223274e-08, 1.9640395976239233e-08, 3.485090341315278e-11, 0.9997164607048035, 3.29097218809693e-07, 1.7048332665581256e-05]}\n",
      "{\"dense_3\": [0.000687521300278604, 0.00030059393611736596, 0.000983356381766498, 5.903801502427086e-05, 0.03676292300224304, 1.3588355614047032e-05, 6.37314806226641e-05, 0.017331751063466072, 0.003475944744423032, 0.9403215646743774]}\n",
      "{\"dense_3\": [7.886083949415479e-06, 1.4190308320394251e-05, 0.00010685476445360109, 0.8043545484542847, 0.0002057076635537669, 0.00016276323003694415, 8.183252475646441e-08, 0.0009515201090835035, 0.0027369759045541286, 0.191459521651268]}\n",
      "{\"dense_3\": [0.012785281054675579, 0.0010142765240743756, 0.9232068061828613, 0.01575566828250885, 0.005440653767436743, 0.002424677135422826, 0.038264837116003036, 0.0003689626755658537, 0.0006581608904525638, 8.067402086453512e-05]}\n",
      "{\"dense_3\": [4.149650703766383e-05, 2.1956529963063076e-06, 4.8440866521559656e-05, 0.0002554216480348259, 0.0005226622452028096, 0.0033759435173124075, 1.6038429748732597e-05, 0.0004259661363903433, 0.0020794139709323645, 0.9932324886322021]}\n",
      "{\"dense_3\": [3.6814274153584847e-06, 8.287067430501338e-06, 0.0007576037314720452, 0.008038224652409554, 7.66380617278628e-05, 1.4100252201387775e-06, 2.9377204668890045e-07, 7.895243470557034e-05, 0.9909969568252563, 3.793178984778933e-05]}\n",
      "{\"dense_3\": [2.9530808660638286e-06, 1.7166867039009048e-08, 0.9998384714126587, 0.00014166455366648734, 4.314301094154871e-08, 3.271110671221322e-08, 1.5458191455763881e-06, 2.1712494913117553e-07, 1.5050338333821855e-05, 2.044164304493279e-08]}\n",
      "{\"dense_3\": [5.526524660126597e-07, 1.7315051081823185e-05, 0.999870777130127, 7.368401566054672e-05, 9.242001510756381e-07, 1.9132410500333208e-07, 1.2701671039394569e-06, 7.376908683909278e-07, 3.4569864510558546e-05, 1.1846858605224497e-08]}\n",
      "{\"dense_3\": [7.983582577253401e-07, 3.236340262446902e-08, 4.517254694746953e-07, 6.190552085172385e-05, 4.028853072668426e-05, 1.1969927982136142e-06, 2.1391952653715407e-09, 0.0001485493703512475, 4.967964287061477e-06, 0.9997417330741882]}\n",
      "{\"dense_3\": [8.425644773524255e-05, 0.003954524639993906, 0.9914798736572266, 0.00356420804746449, 1.3755116924585309e-05, 0.0001672119542490691, 0.00043926527723670006, 1.3452070561470464e-05, 0.00028311158530414104, 4.1775129488996754e-07]}\n",
      "{\"dense_3\": [1.2014057574560866e-05, 4.2872568883467466e-05, 3.690250014187768e-05, 0.000221815294935368, 2.2302326669887407e-06, 7.288725464604795e-05, 4.064905567702226e-08, 0.9993853569030762, 2.4519324597349623e-06, 0.00022333873494062573]}\n",
      "{\"dense_3\": [2.9558073947555386e-05, 5.545189560507424e-05, 0.00019839858578052372, 0.9989408850669861, 0.00011493681813590229, 4.682588405557908e-05, 2.9694215299969073e-06, 0.0001333110994892195, 0.00046058412408456206, 1.723129207675811e-05]}\n",
      "{\"dense_3\": [4.0838916902430356e-05, 2.8777410534530645e-06, 7.947148219500377e-07, 2.7136693461216055e-05, 7.709599572081061e-07, 0.9935349225997925, 7.586035621898191e-07, 0.006099901162087917, 0.0002860909444279969, 5.969166977592977e-06]}\n",
      "{\"dense_3\": [2.716811309255718e-07, 5.948322154836205e-07, 5.358836006053025e-07, 1.3350722838367801e-06, 0.0006095184944570065, 4.4356518458243954e-08, 1.0623651958141522e-09, 0.00011894757335539907, 3.965185533161275e-05, 0.9992290735244751]}\n",
      "{\"dense_3\": [1.0003920181134163e-07, 0.998171329498291, 1.720506770652719e-05, 0.00026845859247259796, 0.001095212297514081, 7.179649514910125e-07, 1.9105293631582754e-06, 0.0003773199860006571, 3.625608223956078e-05, 3.147526877000928e-05]}\n",
      "{\"dense_3\": [0.0005523298750631511, 2.7618523290584562e-06, 0.0007598514202982187, 0.004939338658004999, 0.0002647673827596009, 0.0024456477258354425, 0.00038967604632489383, 2.581552507763263e-06, 0.9889258742332458, 0.0017171389190480113]}\n",
      "{\"dense_3\": [0.9886572957038879, 1.3435936125461012e-05, 2.6318482923670672e-05, 7.582199032185599e-05, 0.00015023697051219642, 0.0021702938247472048, 0.005861693527549505, 0.00303641171194613, 2.5184756395901786e-06, 5.920357125432929e-06]}\n",
      "{\"dense_3\": [4.4092269035900244e-07, 0.00023367269022855908, 0.9996589422225952, 0.00010116865450982004, 2.9884738239616127e-08, 2.5086197297241597e-07, 4.8691628506958295e-08, 3.8713142203050666e-06, 1.717223426567216e-06, 4.5959724914723665e-09]}\n",
      "{\"dense_3\": [0.99922776222229, 6.126932930783369e-06, 0.00030729954596608877, 1.599496840754e-06, 1.6545858670724556e-05, 5.823786750625004e-07, 5.7220866438001394e-05, 1.2427236470102798e-05, 4.582479959935881e-06, 0.00036591608659364283]}\n",
      "{\"dense_3\": [1.5174618965829723e-05, 1.3352060705074109e-05, 9.508889320386515e-07, 0.0042424509301781654, 1.6157087884494103e-05, 0.993320882320404, 0.002087933709844947, 1.6785314755907166e-06, 0.00016710821364540607, 0.00013425384531728923]}\n",
      "{\"dense_3\": [0.003351128427311778, 0.00037540539051406085, 0.9724497199058533, 0.0011207571951672435, 0.0006181250791996717, 0.00018600448674988002, 0.02148848958313465, 0.00013842836779076606, 0.00026938115479424596, 2.6298389457224403e-06]}\n",
      "{\"dense_3\": [3.8331862128870853e-07, 0.9965883493423462, 3.1892723200144246e-05, 0.00015404137957375497, 0.0008217173744924366, 4.0532489720135345e-07, 1.3361755009100307e-06, 0.002049915725365281, 2.9108110538800247e-05, 0.00032286104396916926]}\n",
      "{\"dense_3\": [5.551297199701821e-09, 2.0489043350835345e-08, 4.238231809949866e-08, 0.9999496936798096, 1.2769994100381155e-05, 1.2179880286566913e-05, 2.8065957544121112e-11, 5.324521339389321e-07, 1.5310686649172567e-05, 9.512941687717102e-06]}\n",
      "{\"dense_3\": [4.9429465434513986e-05, 0.0002529016637708992, 0.0009290649904869497, 0.0014263790799304843, 3.80916208087001e-05, 3.583639409043826e-05, 2.0675814482729038e-07, 0.9915311336517334, 1.729184077703394e-05, 0.005719697568565607]}\n",
      "{\"dense_3\": [0.0012425860622897744, 7.737725354672875e-06, 1.1836603334813844e-05, 2.0248466171324253e-05, 7.64129072194919e-05, 0.008753200061619282, 0.9898237586021423, 2.8333847694739234e-06, 4.9565078370505944e-05, 1.1956991329498123e-05]}\n",
      "{\"dense_3\": [5.7779714346395394e-09, 1.705938643681293e-07, 3.123126646187302e-07, 1.4548140825354494e-06, 2.5113531254561394e-09, 1.1010244271858483e-08, 4.747628614028276e-13, 0.999987006187439, 1.02014352520996e-08, 1.095416610041866e-05]}\n",
      "{\"dense_3\": [2.755469097337482e-07, 0.9990825653076172, 4.206382072879933e-06, 2.5168035790557042e-05, 0.00010684370499802753, 1.5056063773499773e-07, 2.781390548989293e-07, 0.0005762469372712076, 3.810570706264116e-05, 0.00016612363106105477]}\n",
      "{\"dense_3\": [7.685846867389046e-06, 0.0008852939354255795, 0.9987702965736389, 0.0002250385587103665, 1.9739310630484397e-07, 2.764435009794397e-07, 9.690789738669991e-06, 2.5931894924724475e-05, 7.536869816249236e-05, 2.776189091946435e-07]}\n",
      "{\"dense_3\": [0.0003793420037254691, 2.203897020081058e-05, 1.3925053281127475e-05, 0.0051477402448654175, 7.09111418473185e-07, 0.9918517470359802, 4.547595381154679e-06, 0.00022515430464409292, 0.0006727826548740268, 0.0016820353921502829]}\n",
      "{\"dense_3\": [1.0964238299493445e-06, 3.262423149408278e-07, 0.0021539698354899883, 0.005551059264689684, 1.9276752993846458e-07, 3.855830357224477e-07, 6.574826461047678e-09, 4.850438131143164e-07, 0.9922913908958435, 1.0073889598061214e-06]}\n",
      "{\"dense_3\": [0.9999803304672241, 1.3533028209167242e-07, 3.144406690580581e-08, 4.3745222910729353e-07, 2.069413973515566e-08, 1.3361224773689173e-05, 2.909695922426181e-06, 1.888659426185768e-06, 7.38579544190543e-08, 7.587667028019496e-07]}\n",
      "{\"dense_3\": [2.918112613770063e-07, 2.544531412240758e-07, 3.2248297543446824e-07, 0.9998842477798462, 8.165094186551869e-06, 7.12378641765099e-06, 1.5483750948064312e-09, 5.01422960041964e-07, 5.7088556786766276e-05, 4.195071232970804e-05]}\n",
      "{\"dense_3\": [0.0214864369481802, 6.634807505179197e-05, 9.189998309011571e-06, 8.436679490841925e-05, 0.0061889523640275, 0.00047954564797692, 6.267805019888328e-06, 0.9663066864013672, 5.401330781751312e-06, 0.005366808734834194]}\n",
      "{\"dense_3\": [4.978894867235795e-05, 0.05354931950569153, 0.11360547691583633, 0.06171094998717308, 0.00010159522207686678, 6.992195721977623e-06, 4.871563774599963e-08, 0.058152683079242706, 0.3341819643974304, 0.37864112854003906]}\n",
      "{\"dense_3\": [9.889322427625302e-06, 1.1382692719053011e-05, 0.0002583790337666869, 1.5688750636400073e-06, 0.9991559982299805, 9.110045539273415e-06, 2.2752719814889133e-05, 0.00025234048371203244, 2.015120116993785e-05, 0.0002583886089269072]}\n",
      "{\"dense_3\": [0.9972785115242004, 2.9536040528910235e-06, 0.00014109582116361707, 0.0006736413924954832, 2.2627255020779558e-05, 0.0004503751697484404, 0.0012591351987794042, 5.9645299188559875e-05, 3.781064151553437e-05, 7.427941454807296e-05]}\n",
      "{\"dense_3\": [1.6739171542212716e-06, 3.4628695289029565e-07, 7.413433991132479e-07, 0.0001689498167252168, 8.735818119021133e-05, 1.662116301304195e-05, 1.989073616925907e-08, 3.0231869459385052e-05, 3.791673225350678e-05, 0.9996562004089355]}\n",
      "{\"dense_3\": [1.9539885443009553e-07, 0.999708354473114, 1.297685003009974e-06, 1.058234556694515e-05, 0.0001240134151885286, 2.011846902405523e-07, 6.540964250234538e-07, 0.00011391989391995594, 1.078188779501943e-05, 2.9852448278688826e-05]}\n",
      "{\"dense_3\": [1.2661751497944351e-05, 4.815718511963496e-06, 0.0038275078404694796, 0.00022057179012335837, 3.0795035854680464e-06, 7.537448982475325e-05, 3.0023259114386747e-06, 2.1974736341690004e-07, 0.9958452582359314, 7.464686859748326e-06]}\n",
      "{\"dense_3\": [4.897489361610496e-06, 1.3643294272114304e-09, 1.3121485231692986e-08, 4.0873207596270333e-10, 2.583133209554944e-07, 3.059595243826152e-08, 0.9999948740005493, 1.9486279256852868e-09, 1.5938319108954602e-08, 3.4100642448686713e-11]}\n",
      "{\"dense_3\": [3.7106568925082684e-05, 0.0004901812644675374, 0.0001594235363882035, 0.00043951155385002494, 8.742830686969683e-05, 2.5008626835187897e-05, 2.9897711328885634e-07, 0.9666106700897217, 0.00023138587130233645, 0.031918965280056]}\n",
      "{\"dense_3\": [0.0014681557659059763, 0.03591812774538994, 0.10662876069545746, 0.04610898345708847, 0.0012871801154688, 0.0007548223366029561, 6.888678035466e-05, 0.7791823744773865, 0.01710723154246807, 0.011475498788058758]}\n",
      "{\"dense_3\": [5.290257831802592e-07, 1.7973725334741175e-05, 3.362728239153512e-05, 0.00012318907829467207, 0.9764568209648132, 5.6621165640535764e-06, 4.027091108582681e-06, 0.022166531533002853, 3.209468923159875e-05, 0.0011595096439123154]}\n",
      "{\"dense_3\": [1.4210118024493568e-06, 3.484272747300565e-05, 9.092836262425408e-05, 0.9993550181388855, 1.8366799849900417e-05, 4.618440925696632e-06, 2.5913132972732456e-08, 0.00013831428077537566, 0.00023351723211817443, 0.00012287117715459317]}\n",
      "{\"dense_3\": [8.860056510684444e-08, 3.794728172579198e-06, 1.5831902544505283e-07, 2.3362815682048677e-08, 0.9997544884681702, 4.7426365057390285e-08, 1.0506857961445348e-07, 4.3231666495557874e-05, 1.7013086107908748e-05, 0.0001810490502975881]}\n",
      "{\"dense_3\": [0.00012669335410464555, 1.8466577955678076e-07, 3.385250602150336e-05, 3.9419872337020934e-05, 0.0001460756320739165, 1.6222438716795295e-05, 1.0430016118334606e-05, 0.00040910375537350774, 0.00011921458644792438, 0.9990987777709961]}\n",
      "{\"dense_3\": [1.7515973240733729e-06, 0.9993865489959717, 4.04820020776242e-05, 6.634800229221582e-06, 6.371118797687814e-05, 7.085548645591189e-07, 4.628344868251588e-06, 0.0003636313194874674, 0.00011881585669470951, 1.3040853446000256e-05]}\n",
      "{\"dense_3\": [1.6750178701840923e-06, 2.99568547745821e-08, 1.065607193595497e-06, 3.914318256192928e-07, 0.001463026273995638, 5.8740564412573804e-08, 7.271263768870995e-08, 4.1139432141790166e-05, 1.9364719264558516e-05, 0.9984731078147888]}\n",
      "{\"dense_3\": [4.177478331257589e-06, 3.508440568111837e-05, 1.6598434740444645e-05, 0.21462853252887726, 4.165740392636508e-05, 0.7852066159248352, 1.948970020748675e-05, 1.1086346603406128e-05, 2.8549191483762115e-05, 8.19831620901823e-06]}\n",
      "{\"dense_3\": [7.2623566893526e-07, 0.9993993043899536, 8.09050561656477e-06, 1.52661250467645e-05, 0.00011423482646932825, 8.090178198472131e-07, 2.954416913780733e-06, 0.00037938213790766895, 2.8491593184298836e-05, 5.055935253039934e-05]}\n",
      "{\"dense_3\": [5.36643369741796e-07, 1.946965312527027e-06, 6.157119787530974e-05, 0.0001219340119860135, 1.0659438665072685e-08, 7.430924853224496e-08, 8.30595731082795e-11, 0.9998007416725159, 2.432764858895098e-06, 1.0819389899552334e-05]}\n",
      "{\"dense_3\": [1.7467194766140892e-06, 2.2818188881501555e-05, 3.278216172475368e-05, 0.9999107122421265, 5.544541750168719e-07, 1.6727035472285934e-05, 3.408410265137718e-08, 6.818241672590375e-06, 6.763878445781302e-06, 9.323213134848629e-07]}\n",
      "{\"dense_3\": [1.0015630323323421e-05, 1.1631527030431243e-07, 2.53469193012279e-06, 4.3120794543938246e-06, 0.00027249817503616214, 6.635707450186601e-07, 3.503942593852116e-07, 0.00044026918476447463, 3.802937044383725e-06, 0.9992653727531433]}\n",
      "{\"dense_3\": [1.739864046612638e-06, 0.00010505013779038563, 0.0008569749188609421, 0.0006443407037295401, 2.5027272840816295e-06, 8.925595693654031e-07, 4.1368055647694746e-09, 0.998230516910553, 3.983990154665662e-06, 0.00015406656893901527]}\n",
      "{\"dense_3\": [3.842442310997285e-06, 5.037327888146592e-09, 1.580095886311028e-05, 4.309156587112284e-09, 7.709115743637085e-05, 1.9683390917180077e-07, 0.9999027252197266, 1.3263753828596236e-07, 8.353211455869314e-08, 3.916346358323608e-09]}\n",
      "{\"dense_3\": [1.7462475625507068e-06, 4.438638256942795e-08, 2.3336908725468675e-06, 0.0005092070205137134, 0.00010918696352746338, 1.18157531687757e-05, 3.950426208376712e-09, 0.0004834217543248087, 1.5534995327470824e-05, 0.9988667964935303]}\n",
      "{\"dense_3\": [1.7000315892801154e-06, 0.9962939620018005, 0.00015857435937505215, 9.064241749001667e-05, 0.0010276897810399532, 2.1941248178336537e-06, 1.898519076348748e-05, 0.0021446121390908957, 3.8080757803982124e-05, 0.00022373833053279668]}\n",
      "{\"dense_3\": [3.993629798060283e-05, 0.0007500264327973127, 1.190705552289728e-05, 0.9966310858726501, 0.0002633979020174593, 0.0016828007064759731, 8.312416866829153e-06, 5.520557169802487e-05, 0.00039198706508614123, 0.0001653451909078285]}\n",
      "{\"dense_3\": [2.446756752760848e-06, 0.0036467090249061584, 0.04413261264562607, 0.37641963362693787, 0.0020563409198075533, 4.522541416918102e-07, 1.5054578170747845e-06, 0.5717252492904663, 0.00045309533015824854, 0.0015619323821738362]}\n",
      "{\"dense_3\": [0.00011727224773494527, 4.840198016609065e-05, 0.018158432096242905, 0.008565048687160015, 0.00031016863067634404, 0.00022907840320840478, 1.0482658581167925e-05, 0.00013126932026352733, 0.9683061838150024, 0.004123682621866465]}\n",
      "{\"dense_3\": [4.0517244315196876e-07, 4.165926839050371e-06, 9.570774273015559e-05, 0.9998036026954651, 2.5136612293863436e-06, 6.262836222958867e-07, 1.2011149408408528e-08, 8.182941201084759e-06, 7.572080357931554e-05, 8.99582028068835e-06]}\n",
      "{\"dense_3\": [7.629589049429342e-07, 6.402985491149593e-06, 2.394240436842665e-05, 0.9980999827384949, 3.911986277671531e-05, 2.3237264031195082e-05, 9.558767111172983e-09, 3.2598734833300114e-05, 0.0015433728694915771, 0.00023055344354361296]}\n",
      "{\"dense_3\": [0.0012477397685870528, 1.8840746633941308e-06, 7.322191959246993e-05, 8.659241757413838e-06, 0.0002135913964593783, 0.002506014658138156, 0.9956567287445068, 5.138468850418576e-07, 0.0002907780872192234, 8.894418215277256e-07]}\n",
      "{\"dense_3\": [0.0020186188630759716, 0.0014808760024607182, 3.399399793124758e-05, 0.0004008213581983, 0.030720612034201622, 0.002011573640629649, 2.4531796952942386e-05, 0.8347324728965759, 5.386534394347109e-05, 0.1285226047039032]}\n",
      "{\"dense_3\": [1.1382352568034548e-05, 4.077013363712467e-05, 0.9949348568916321, 0.001964712981134653, 1.2838003158321953e-06, 1.0997945310009527e-06, 8.534318141073527e-08, 1.0565496268100105e-05, 0.0030344869010150433, 7.130325911930413e-07]}\n",
      "{\"dense_3\": [2.280955726519096e-07, 0.0002399954537395388, 9.66234365478158e-05, 0.00020984203729312867, 0.9834039807319641, 5.202632110012928e-06, 0.00012222783698234707, 0.01439674198627472, 0.0007720743305981159, 0.0007531384471803904]}\n",
      "{\"dense_3\": [8.81636151461862e-05, 1.2776374205714092e-05, 4.7513713070657104e-06, 0.007152227219194174, 9.901239081955282e-07, 0.9747402667999268, 2.80008549680133e-07, 0.007522280793637037, 0.0033549766521900892, 0.0071231406182050705]}\n",
      "{\"dense_3\": [3.5943573948316043e-06, 3.7334471016947646e-06, 1.6350551959476434e-05, 1.3113776731188409e-05, 0.00212215818464756, 1.1155925676575862e-05, 4.727159193862462e-06, 6.051891432434786e-06, 0.9971990585327148, 0.0006200772477313876]}\n",
      "{\"dense_3\": [7.434262556671456e-07, 7.794106750225183e-06, 1.2076624216206255e-06, 3.529944706315291e-06, 5.581451114267111e-05, 0.9877046346664429, 2.4559123630751856e-05, 5.903755777580955e-07, 0.012201031669974327, 1.0968257413423999e-07]}\n",
      "{\"dense_3\": [5.1332463044673204e-06, 0.9893078207969666, 0.0001626100711291656, 4.251475183991715e-05, 0.0009776216465979815, 4.413262558955466e-06, 5.276329829939641e-06, 0.009012209251523018, 0.000257228733971715, 0.00022525354870595038]}\n",
      "{\"dense_3\": [2.2270920453593135e-05, 0.991277813911438, 0.0003860026481561363, 0.00339319696649909, 0.0001311562373302877, 4.694877134170383e-05, 1.0874628969759215e-05, 0.001366722397506237, 0.0022981578949838877, 0.001066905097104609]}\n",
      "{\"dense_3\": [1.397763611521441e-07, 1.0076301037997837e-07, 1.4649695913249161e-05, 2.8385119321683305e-07, 0.9999257326126099, 9.315550073552004e-07, 5.401524276749115e-07, 3.872693923767656e-06, 5.882692221348407e-06, 4.790805178345181e-05]}\n",
      "{\"dense_3\": [4.746004833577899e-06, 4.164246547588846e-06, 7.031071618257556e-06, 6.278899672906846e-05, 0.9062533378601074, 2.1107973225298338e-05, 8.278102541225962e-06, 0.024156568571925163, 0.00015692811575718224, 0.06932500004768372]}\n",
      "{\"dense_3\": [1.7856100384960882e-05, 3.379053669050336e-05, 1.5799041648278944e-06, 0.9865700602531433, 0.00104764592833817, 0.00163257063832134, 1.5295607624921104e-07, 0.0014859515940770507, 0.0001443827204639092, 0.009066028520464897]}\n"
     ]
    }
   ],
   "source": [
    "print(\"errors\")\n",
    "!gsutil cat $OUTPUT_PATH/prediction.errors_stats-00000-of-00001\n",
    "print(\"batch prediction results\")\n",
    "!gsutil cat $OUTPUT_PATH/prediction.results-00000-of-00010\n"
   ]
  },
  {
   "cell_type": "code",
   "execution_count": null,
   "metadata": {},
   "outputs": [],
   "source": []
  }
 ],
 "metadata": {
  "environment": {
   "name": "tf2-gpu.2-1.m71",
   "type": "gcloud",
   "uri": "gcr.io/deeplearning-platform-release/tf2-gpu.2-1:m71"
  },
  "kernelspec": {
   "display_name": "Python 3",
   "language": "python",
   "name": "python3"
  },
  "language_info": {
   "codemirror_mode": {
    "name": "ipython",
    "version": 3
   },
   "file_extension": ".py",
   "mimetype": "text/x-python",
   "name": "python",
   "nbconvert_exporter": "python",
   "pygments_lexer": "ipython3",
   "version": "3.7.10"
  }
 },
 "nbformat": 4,
 "nbformat_minor": 4
}
