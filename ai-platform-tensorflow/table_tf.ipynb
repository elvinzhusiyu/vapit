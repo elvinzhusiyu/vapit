{
 "cells": [
  {
   "cell_type": "code",
   "execution_count": 78,
   "metadata": {},
   "outputs": [],
   "source": [
    "# ==============================================================================\n",
    "# Copyright 2021 Google LLC. This software is provided as-is, without warranty\n",
    "# or representation for any use or purpose. Your use of it is subject to your\n",
    "# agreement with Google.\n",
    "# ==============================================================================\n",
    "#\n",
    "# Author: Chanchal Chatterjee\n",
    "# Email: cchatterjee@google.com\n",
    "#"
   ]
  },
  {
   "cell_type": "code",
   "execution_count": 79,
   "metadata": {},
   "outputs": [],
   "source": [
    "# To these first:\n",
    "# 1. Create a VM with TF 2.1\n",
    "# 2. Create the following buckets in your project:\n",
    "#    Root Bucket:               BUCKET_NAME    = 'tuti_asset'  'gs://$BUCKET_NAME'\n",
    "#    Model Results Directory:   FOLDER_RESULTS = 'tf_models'   'gs://$BUCKET_NAME/$FOLDER_RESULTS'\n",
    "#    Data directory:            FOLDER_DATA    = 'datasets'    'gs://$BUCKET_NAME/$FOLDER_DATA'\n",
    "#    The data:                  INPUT_FILE_NAME = 'mortgage_structured.csv'\n",
    "# 3. In your VM create directory called ./model_dir\n"
   ]
  },
  {
   "cell_type": "code",
   "execution_count": 80,
   "metadata": {},
   "outputs": [],
   "source": [
    "# Uninstall old packages\n",
    "#!pip3 uninstall -r requirements-uninstall.txt -y\n"
   ]
  },
  {
   "cell_type": "code",
   "execution_count": 81,
   "metadata": {},
   "outputs": [
    {
     "name": "stdout",
     "output_type": "stream",
     "text": [
      "Collecting cloudml-hypertune\n",
      "  Using cached cloudml_hypertune-0.1.0.dev6-py2.py3-none-any.whl\n",
      "Installing collected packages: cloudml-hypertune\n",
      "Successfully installed cloudml-hypertune-0.1.0.dev6\n"
     ]
    }
   ],
   "source": [
    "# Install packages\n",
    "# https://cloud.google.com/ai-platform/training/docs/runtime-version-list\n",
    "#!pip3 install -r requirements-rt2.1.txt --user --ignore-installed\n",
    "\n",
    "# If VM created with TF2.1 Enterprise (no GPUs), all you need to install is cloudml-hypertune\n",
    "!pip3 install cloudml-hypertune --user --ignore-installed\n"
   ]
  },
  {
   "cell_type": "code",
   "execution_count": 82,
   "metadata": {},
   "outputs": [
    {
     "name": "stdout",
     "output_type": "stream",
     "text": [
      "TF Version=  2.1.3\n",
      "Keras Version=  2.3.0-tf\n"
     ]
    }
   ],
   "source": [
    "# Import packages\n",
    "import warnings\n",
    "warnings.filterwarnings(\"ignore\")\n",
    "\n",
    "import os\n",
    "os.environ['TF_CPP_MIN_LOG_LEVEL'] = '2' \n",
    "#0 = all messages are logged (default behavior)\n",
    "#1 = INFO messages are not printed\n",
    "#2 = INFO and WARNING messages are not printed\n",
    "#3 = INFO, WARNING, and ERROR messages are not printed\n",
    "\n",
    "import numpy as np\n",
    "from google.cloud import storage\n",
    "import tensorflow as tf\n",
    "#import matplotlib.pyplot as plt\n",
    "#from tensorflow.keras import models\n",
    "\n",
    "print(\"TF Version= \", tf.__version__)\n",
    "print(\"Keras Version= \", tf.keras.__version__)\n"
   ]
  },
  {
   "cell_type": "code",
   "execution_count": 83,
   "metadata": {},
   "outputs": [],
   "source": [
    "# Utility functions\n",
    "\n",
    "#------\n",
    "def find_best_model_dir(model_dir, offset=1, maxFlag=1):\n",
    "    # Get a list of model directories\n",
    "    all_models = ! gsutil ls $model_dir\n",
    "    print(\"\")\n",
    "    print(\"All Models = \")\n",
    "    print(*all_models, sep='\\n')\n",
    "\n",
    "    # Check if model dirs exist\n",
    "    if ((\"CommandException\" in all_models[0]) or (len(all_models) <= 1)):\n",
    "        print(\"Create the models first.\")\n",
    "        return \"\"\n",
    "\n",
    "    # Find the best model from checkpoints\n",
    "    import re\n",
    "    best_acc = -np.Inf\n",
    "    if (maxFlag != 1):\n",
    "        best_acc = np.Inf\n",
    "    best_model_dir = \"\"\n",
    "    tup_list = []\n",
    "    for i in range(1,len(all_models)):\n",
    "        all_floats = re.findall(r\"[-+]?\\d*\\.\\d+|\\d+\", all_models[i]) #Find the floats in the string\n",
    "        cur_acc = -float(all_floats[-offset]) #which item is the model optimization metric\n",
    "        tup_list.append([all_models[i],cur_acc])\n",
    "        if (maxFlag*(cur_acc > best_acc) or (1-maxFlag)*(cur_acc < best_acc)):\n",
    "            best_acc = cur_acc\n",
    "            best_model_dir = all_models[i]\n",
    "    if maxFlag:\n",
    "        tup_list.sort(key=lambda tup: tup[1], reverse=False)\n",
    "    else:\n",
    "        tup_list.sort(key=lambda tup: tup[1], reverse=True)\n",
    "    for i in range(len(tup_list)):\n",
    "        print(tup_list[i][0])\n",
    "    print(\"Best Accuracy  from Checkpoints = \", best_acc)\n",
    "    print(\"Best Model Dir from Checkpoints = \", best_model_dir)\n",
    "    \n",
    "    return best_model_dir\n"
   ]
  },
  {
   "cell_type": "code",
   "execution_count": 84,
   "metadata": {},
   "outputs": [],
   "source": [
    "from oauth2client.client import GoogleCredentials\n",
    "from googleapiclient import discovery\n",
    "from googleapiclient import errors\n",
    "import json\n",
    "\n",
    "#------\n",
    "# Python module to get the best hypertuned model parameters\n",
    "def pyth_get_hypertuned_parameters(project_name, job_name, maxFlag):\n",
    "    # Define the credentials for the service account\n",
    "    #credentials = service_account.Credentials.from_service_account_file(<PATH TO CREDENTIALS JSON>)\n",
    "    credentials = GoogleCredentials.get_application_default()\n",
    "\n",
    "    # Define the project id and the job id and format it for the api request\n",
    "    project_id = 'projects/{}'.format(project_name)\n",
    "    job_id = '{}/jobs/{}'.format(project_id, job_name)\n",
    "\n",
    "    # Build the service\n",
    "    cloudml = discovery.build('ml', 'v1', cache_discovery=False, credentials=credentials)\n",
    "\n",
    "    # Execute the request and pass in the job id\n",
    "    request = cloudml.projects().jobs().get(name=job_id)\n",
    "\n",
    "    try:\n",
    "        response = request.execute()\n",
    "        # Handle a successful request\n",
    "    except errors.HttpError as err:\n",
    "        tf.compat.v1.logging.error('There was an error getting the hyperparameters. Check the details:')\n",
    "        tf.compat.v1.logging.error(err._get_reason())\n",
    "\n",
    "    # Get just the best hp values\n",
    "    if maxFlag:\n",
    "        best_model = response['trainingOutput']['trials'][0]\n",
    "    else:\n",
    "        best_model = response['trainingOutput']['trials'][-1]\n",
    "    #print('Best Hyperparameters:')\n",
    "    #print(json.dumps(best_model, indent=4))\n",
    "\n",
    "    nTrials = len(response['trainingOutput']['trials'])\n",
    "    for i in range(0,nTrials):\n",
    "        state = response['trainingOutput']['trials'][i]['state']\n",
    "        trialId = response['trainingOutput']['trials'][i]['trialId']\n",
    "        objV = -1\n",
    "        if (state == 'SUCCEEDED'):\n",
    "            objV = response['trainingOutput']['trials'][i]['finalMetric']['objectiveValue']\n",
    "        print('objective=', objV, ' trialId=', trialId, state)\n",
    "        d = response['trainingOutput']['trials'][i]['hyperparameters']\n",
    "        for key, value in d.items():\n",
    "            print('    ', key, value)\n",
    "    return best_model\n"
   ]
  },
  {
   "cell_type": "markdown",
   "metadata": {},
   "source": [
    "# Setup"
   ]
  },
  {
   "cell_type": "code",
   "execution_count": null,
   "metadata": {},
   "outputs": [],
   "source": [
    "# Get the project id\n",
    "proj_id = !gcloud config list project --format \"value(core.project)\"\n",
    "proj_id[0]\n"
   ]
  },
  {
   "cell_type": "code",
   "execution_count": 85,
   "metadata": {},
   "outputs": [],
   "source": [
    "USER = 'cchatterj'\n",
    "PROJECT_ID = proj_id[0]\n",
    "BUCKET_NAME = 'tuti_asset' #Use a unique name\n",
    "FOLDER_RESULTS = 'tf_models'\n",
    "FOLDER_DATA = 'datasets'\n",
    "REGION = 'us-central1'\n",
    "ZONE1 = 'us-central1-a'\n",
    "RUNTIME_VERSION = 2.1\n",
    "JOB_DIR   = 'gs://' + BUCKET_NAME + '/' + FOLDER_RESULTS + '/jobdir'\n",
    "MODEL_DIR = 'gs://' + BUCKET_NAME + '/' + FOLDER_RESULTS + '/models'\n",
    "INPUT_FILE_NAME = 'mortgage_structured.csv'\n"
   ]
  },
  {
   "cell_type": "code",
   "execution_count": 86,
   "metadata": {},
   "outputs": [
    {
     "name": "stdout",
     "output_type": "stream",
     "text": [
      "Updated property [core/project].\n",
      "Updated property [compute/zone].\n",
      "Updated property [compute/region].\n",
      "[compute]\n",
      "region = us-central1\n",
      "zone = us-central1-a\n",
      "[core]\n",
      "account = 122476304848-compute@developer.gserviceaccount.com\n",
      "disable_usage_reporting = True\n",
      "project = img-seg-3d\n",
      "\n",
      "Your active configuration is: [default]\n"
     ]
    }
   ],
   "source": [
    "!gcloud config set project $PROJECT_ID\n",
    "!gcloud config set compute/zone $ZONE1\n",
    "!gcloud config set compute/region $REGION\n",
    "!gcloud config list\n",
    "#!gcloud config config-helper --format \"value(configuration.properties.core.project)\"\n"
   ]
  },
  {
   "cell_type": "code",
   "execution_count": 87,
   "metadata": {},
   "outputs": [],
   "source": [
    "# Clean old job logs, job packages and models\n",
    "!gsutil -m -q rm $JOB_DIR/packages/**\n",
    "!gsutil -m -q rm $MODEL_DIR/model**\n"
   ]
  },
  {
   "cell_type": "markdown",
   "metadata": {},
   "source": [
    "# ML Model"
   ]
  },
  {
   "cell_type": "code",
   "execution_count": 88,
   "metadata": {},
   "outputs": [],
   "source": [
    "# Create the tf_trainer directory and load the trainer files in it\n",
    "!mkdir -p trainer\n"
   ]
  },
  {
   "cell_type": "code",
   "execution_count": 89,
   "metadata": {},
   "outputs": [
    {
     "name": "stdout",
     "output_type": "stream",
     "text": [
      "Overwriting ./trainer/inputs.py\n"
     ]
    }
   ],
   "source": [
    "%%writefile ./trainer/inputs.py\n",
    "\n",
    "# Create the train and label lists\n",
    "import math\n",
    "import numpy as np\n",
    "import pandas as pd\n",
    "import tensorflow as tf\n",
    "from sklearn.model_selection import train_test_split\n",
    "\n",
    "#------\n",
    "def load_data(input_file):\n",
    "    # Read the data\n",
    "    print(input_file)\n",
    "    #try:\n",
    "    table_data = pd.read_csv(input_file)\n",
    "    #except:\n",
    "    #    print(\"Oops! That is invalid filename. Try again...\")\n",
    "    #    return\n",
    "\n",
    "    print(table_data.shape)\n",
    "\n",
    "    # ---------------------------------------\n",
    "    # Pre-processing\n",
    "    # ---------------------------------------\n",
    "\n",
    "    # Drop useless columns\n",
    "    table_data.drop(['LOAN_SEQUENCE_NUMBER'], axis=1, inplace=True)\n",
    "\n",
    "    # Inputs to an XGBoost model must be numeric. One hot encoding was \n",
    "    # previously found to yield better results \n",
    "    # than label encoding for the particular\n",
    "    strcols = [col for col in table_data.columns if table_data[col].dtype == 'object']\n",
    "    table_data = pd.get_dummies(table_data, columns=strcols)\n",
    "\n",
    "    # Train Test Split and write out the train-test files\n",
    "\n",
    "    # Split with a small test size so as to allow our model to train on more data\n",
    "    X_train, X_test, y_train, y_test = \\\n",
    "        train_test_split(table_data.drop('TARGET', axis=1), \n",
    "                         table_data['TARGET'],\n",
    "                         stratify=table_data['TARGET'], \n",
    "                         shuffle=True, test_size=0.2\n",
    "                        )\n",
    "\n",
    "    # Remove Null and NAN\n",
    "    X_train = X_train.fillna(0)\n",
    "    X_test = X_test.fillna(0)\n",
    "    \n",
    "    # Check the shape\n",
    "    print(\"X_train shape = \", X_train.shape)\n",
    "    print(\"X_test  shape = \", X_test.shape)\n",
    "    \n",
    "    y_train_cat = tf.keras.utils.to_categorical(y_train)\n",
    "    y_test_cat = tf.keras.utils.to_categorical(y_test)\n",
    "    print(\"y_train shape = \", y_train_cat.shape)\n",
    "    print(\"y_test  shape = \", y_test_cat.shape)\n",
    "\n",
    "    # count number of classes\n",
    "    #values, counts = np.unique(y_train, return_counts=True)\n",
    "    #NUM_CLASSES = len(values)\n",
    "    #print(\"Number of classes \", NUM_CLASSES)\n",
    "\n",
    "    #train_dataset = tf.data.Dataset.from_tensor_slices((X_train, y_train))\n",
    "    #train_dataset = train_dataset.shuffle(100).batch(batch_size)\n",
    "    #test_dataset = tf.data.Dataset.from_tensor_slices((X_test, y_test))\n",
    "    #test_dataset = test_dataset.shuffle(100).batch(batch_size)\n",
    "    \n",
    "    return [X_train, X_test, y_train_cat, y_test_cat]\n"
   ]
  },
  {
   "cell_type": "code",
   "execution_count": 90,
   "metadata": {},
   "outputs": [
    {
     "name": "stdout",
     "output_type": "stream",
     "text": [
      "Overwriting ./trainer/model.py\n"
     ]
    }
   ],
   "source": [
    "%%writefile ./trainer/model.py\n",
    "\n",
    "import tensorflow as tf\n",
    "import numpy as np\n",
    "\n",
    "def tf_model(input_dim, output_dim, model_depth: int = 1, dropout_rate: float = 0.02):\n",
    "    from tensorflow.keras.models import Sequential\n",
    "    from tensorflow.keras.layers import Dense, Dropout\n",
    "\n",
    "    decr = int((input_dim-output_dim-16)/model_depth) ^ 1\n",
    "\n",
    "    model = Sequential()\n",
    "    model.add(Dense(128, input_dim=input_dim, activation=tf.nn.relu))\n",
    "    for i in range(1,model_depth):\n",
    "        model.add(Dense(input_dim-i*decr, activation=tf.nn.relu, kernel_regularizer='l2'))\n",
    "    model.add(Dropout(dropout_rate))\n",
    "    model.add(Dense(output_dim, activation=tf.nn.softmax))\n",
    "    print(model.summary())\n",
    "\n",
    "    return model\n",
    "\n",
    "\n",
    "def custom_loss(y_true, y_pred):\n",
    "    custom_loss = mean(square(y_true - y_pred), axis=-1)\n",
    "    return custom_loss\n",
    "\n",
    "def custom_metric(y_true, y_pred):\n",
    "    custom_metric = mean(square(y_true - y_pred), axis=-1)\n",
    "    return custom_metric\n"
   ]
  },
  {
   "cell_type": "markdown",
   "metadata": {},
   "source": [
    "## Package for distributed training"
   ]
  },
  {
   "cell_type": "code",
   "execution_count": 91,
   "metadata": {},
   "outputs": [
    {
     "name": "stdout",
     "output_type": "stream",
     "text": [
      "Overwriting ./setup.py\n"
     ]
    }
   ],
   "source": [
    "%%writefile ./setup.py\n",
    "\n",
    "# python3\n",
    "\n",
    "# ==============================================================================\n",
    "# Copyright 2020 Google LLC. This software is provided as-is, without warranty\n",
    "# or representation for any use or purpose. Your use of it is subject to your\n",
    "# agreement with Google.\n",
    "# ==============================================================================\n",
    "\n",
    "# https://cloud.google.com/ai-platform/training/docs/runtime-version-list\n",
    "\n",
    "from setuptools import find_packages\n",
    "from setuptools import setup\n",
    "\n",
    "#Runtime 2.1\n",
    "REQUIRED_PACKAGES = ['tensorflow==2.1.0',\n",
    "                     'pandas==0.25.3',\n",
    "                     'scikit-learn==0.22',\n",
    "                     'google-cloud-storage==1.23.0',\n",
    "                     'gcsfs==0.6.1',\n",
    "                     'cloudml-hypertune',\n",
    "                    ]\n",
    "setup(\n",
    "    name='trainer',\n",
    "    version='0.1',\n",
    "    install_requires=REQUIRED_PACKAGES,\n",
    "    packages=find_packages(),\n",
    "    include_package_data=True,\n",
    "    description='Trainer package for Tensorflow Task'\n",
    ")\n"
   ]
  },
  {
   "cell_type": "markdown",
   "metadata": {},
   "source": [
    "## Training functions"
   ]
  },
  {
   "cell_type": "code",
   "execution_count": 92,
   "metadata": {},
   "outputs": [
    {
     "name": "stdout",
     "output_type": "stream",
     "text": [
      "Overwriting ./trainer/__init__.py\n"
     ]
    }
   ],
   "source": [
    "%%writefile ./trainer/__init__.py\n",
    "# python3\n",
    "\n",
    "# ==============================================================================\n",
    "# Copyright 2020 Google LLC. This software is provided as-is, without warranty\n",
    "# or representation for any use or purpose. Your use of it is subject to your\n",
    "# agreement with Google.\n",
    "# ==============================================================================\n"
   ]
  },
  {
   "cell_type": "code",
   "execution_count": 153,
   "metadata": {},
   "outputs": [
    {
     "name": "stdout",
     "output_type": "stream",
     "text": [
      "Overwriting ./trainer/train.py\n"
     ]
    }
   ],
   "source": [
    "%%writefile ./trainer/train.py\n",
    "\n",
    "# python3\n",
    "# ==============================================================================\n",
    "# Copyright 2020 Google LLC. This software is provided as-is, without warranty\n",
    "# or representation for any use or purpose. Your use of it is subject to your\n",
    "# agreement with Google.\n",
    "# ==============================================================================\n",
    "\n",
    "import os\n",
    "import json\n",
    "import tensorflow as tf\n",
    "import numpy as np\n",
    "import datetime as datetime\n",
    "from pytz import timezone\n",
    "import hypertune\n",
    "import argparse\n",
    "from trainer import model\n",
    "from trainer import inputs\n",
    "\n",
    "\n",
    "import warnings\n",
    "warnings.filterwarnings(\"ignore\")\n",
    "\n",
    "import os\n",
    "os.environ['TF_CPP_MIN_LOG_LEVEL'] = '3' \n",
    "#0 = all messages are logged (default behavior)\n",
    "#1 = INFO messages are not printed\n",
    "#2 = INFO and WARNING messages are not printed\n",
    "#3 = INFO, WARNING, and ERROR messages are not printed\n",
    "\n",
    "\n",
    "def parse_arguments():\n",
    "    \"\"\"Argument parser.\n",
    "    Returns:\n",
    "      Dictionary of arguments.\n",
    "    \"\"\"\n",
    "\n",
    "    parser = argparse.ArgumentParser()\n",
    "    parser.add_argument('--model_depth', default=3, type=int, \n",
    "                        help='Hyperparameter: depth of model')\n",
    "    parser.add_argument('--dropout_rate', default=0.02, type=float, \n",
    "                        help='Hyperparameter: Drop out rate')\n",
    "    parser.add_argument('--learning_rate', default=0.0001, type=float, \n",
    "                        help='Hyperparameter: initial learning rate')\n",
    "    parser.add_argument('--batch_size', default=4, type=int, \n",
    "                        help='batch size of the deep network')\n",
    "    parser.add_argument('--epochs', default=1, type=int, \n",
    "                        help='number of epochs.')\n",
    "    parser.add_argument('--model_dir', default=\"\",\n",
    "                        help='Directory to store model checkpoints and logs.')\n",
    "    parser.add_argument('--input_file', default=\"\",\n",
    "                        help='Directory to store model checkpoints and logs.')\n",
    "    parser.add_argument('--verbosity', choices=['DEBUG','ERROR','FATAL','INFO','WARN'],\n",
    "                        default='FATAL')\n",
    "    args, _ = parser.parse_known_args()\n",
    "    return args\n",
    "\n",
    "\n",
    "def get_callbacks(args, early_stop_patience: int = 3):\n",
    "    \"\"\"Creates Keras callbacks for model training.\"\"\"\n",
    "\n",
    "    # Get trialId\n",
    "    trialId = json.loads(os.environ.get(\"TF_CONFIG\", \"{}\")).get(\"task\", {}).get(\"trial\", \"\")\n",
    "    if trialId == '':\n",
    "        trialId = '0'\n",
    "    print(\"trialId=\", trialId)\n",
    "\n",
    "    curTime = datetime.datetime.now(timezone('US/Pacific')).strftime('%H%M%S')\n",
    "    \n",
    "    # Modify model_dir paths to include trialId\n",
    "    model_dir = args.model_dir + \"/checkpoints/cp-\"+curTime+\"-\"+trialId+\"-{val_accuracy:.4f}\"\n",
    "    log_dir   = args.model_dir + \"/log_dir\"\n",
    "\n",
    "    tensorboard_cb = tf.keras.callbacks.TensorBoard(log_dir, histogram_freq=1)\n",
    "    checkpoint_cb  = tf.keras.callbacks.ModelCheckpoint(model_dir, monitor='val_accuracy', mode='max', \n",
    "                                                        verbose=0, save_best_only=True,\n",
    "                                                        save_weights_only=False)\n",
    "    earlystop_cb   = tf.keras.callbacks.EarlyStopping(monitor='val_accuracy', patience=3)\n",
    "\n",
    "    return [checkpoint_cb, tensorboard_cb, earlystop_cb]\n",
    "\n",
    "\n",
    "if __name__ == \"__main__\":\n",
    "\n",
    "    # ---------------------------------------\n",
    "    # Parse Arguments\n",
    "    # ---------------------------------------\n",
    "    args = parse_arguments()\n",
    "    #args.model_dir = MODEL_DIR + datetime.datetime.now(timezone('US/Pacific')).strftime('/model_%m%d%Y_%H%M')\n",
    "    #args.input_file = 'gs://' + BUCKET_NAME + '/' + FOLDER_DATA + '/' + INPUT_FILE_NAME\n",
    "    print(args)\n",
    "\n",
    "    # ---------------------------------------\n",
    "    # Input Data & Preprocessing\n",
    "    # ---------------------------------------\n",
    "    print(\"Input and pre-process data ...\")\n",
    "    # Extract train_seismic, train_label\n",
    "    train_test_data = inputs.load_data(args.input_file)\n",
    "    X_train = train_test_data[0]\n",
    "    X_test  = train_test_data[1]\n",
    "    y_train = train_test_data[2]\n",
    "    y_test  = train_test_data[3]\n",
    "\n",
    "    # ---------------------------------------\n",
    "    # Train model\n",
    "    # ---------------------------------------\n",
    "    print(\"Creating model ...\")\n",
    "    print(\"x_train\")\n",
    "    print(X_train.shape[1])\n",
    "    print(\"y_train\")\n",
    "    print(y_train.shape[1])\n",
    "\n",
    "    tf_model = model.tf_model(X_train.shape[1], y_train.shape[1], \n",
    "                              model_depth=args.model_depth,\n",
    "                              dropout_rate=args.dropout_rate)\n",
    "    \n",
    "    tf_model.compile(optimizer=tf.keras.optimizers.Adam(lr=args.learning_rate),\n",
    "                     loss='mean_squared_error',\n",
    "                     metrics=['accuracy'])\n",
    "    \n",
    "    print(\"Fitting model ...\")\n",
    "    callbacks = get_callbacks(args, 3)\n",
    "    histy = tf_model.fit(np.array(X_train), y_train, \n",
    "                         epochs=args.epochs,\n",
    "                         batch_size=args.batch_size,\n",
    "                         validation_data=[np.array(X_test),y_test],\n",
    "                         callbacks=callbacks)\n",
    "\n",
    "    # TBD save history for visualization\n",
    "\n",
    "    final_epoch_accuracy = histy.history['accuracy'][-1]\n",
    "    final_epoch_count = len(histy.history['accuracy'])\n",
    "\n",
    "    print('final_epoch_accuracy = %.6f' % final_epoch_accuracy)\n",
    "    print('final_epoch_count = %2d' % final_epoch_count)\n"
   ]
  },
  {
   "cell_type": "code",
   "execution_count": 154,
   "metadata": {},
   "outputs": [
    {
     "name": "stdout",
     "output_type": "stream",
     "text": [
      "MODEL_DEPTH =  2\n",
      "DROPOUT_RATE = 0.0100\n",
      "LEARNING_RATE = 0.000050\n",
      "EPOCHS =  1\n",
      "BATCH_SIZE = 32\n",
      "MODEL_DIR = gs://tuti_asset/tf_models/models/model_05082021_1239\n",
      "INPUT_FILE = gs://tuti_asset/datasets/mortgage_structured.csv\n",
      "Namespace(batch_size=32, dropout_rate=0.01, epochs=1, input_file='gs://tuti_asset/datasets/mortgage_structured.csv', learning_rate=5e-05, model_depth=2, model_dir='gs://tuti_asset/tf_models/models/model_05082021_1239', verbosity='FATAL')\n",
      "Input and pre-process data ...\n",
      "gs://tuti_asset/datasets/mortgage_structured.csv\n",
      "(104044, 48)\n",
      "X_train shape =  (83235, 149)\n",
      "X_test  shape =  (20809, 149)\n",
      "y_train shape =  (83235, 4)\n",
      "y_test  shape =  (20809, 4)\n",
      "Creating model ...\n",
      "x_train\n",
      "149\n",
      "y_train\n",
      "4\n",
      "Model: \"sequential\"\n",
      "_________________________________________________________________\n",
      "Layer (type)                 Output Shape              Param #   \n",
      "=================================================================\n",
      "dense (Dense)                (None, 128)               19200     \n",
      "_________________________________________________________________\n",
      "dense_1 (Dense)              (None, 84)                10836     \n",
      "_________________________________________________________________\n",
      "dropout (Dropout)            (None, 84)                0         \n",
      "_________________________________________________________________\n",
      "dense_2 (Dense)              (None, 4)                 340       \n",
      "=================================================================\n",
      "Total params: 30,376\n",
      "Trainable params: 30,376\n",
      "Non-trainable params: 0\n",
      "_________________________________________________________________\n",
      "None\n",
      "Fitting model ...\n",
      "trialId= 0\n",
      "Train on 83235 samples, validate on 20809 samples\n",
      "   32/83235 [..............................] - ETA: 26:19 - loss: 1.0729 - accuracy: 0.8750WARNING:tensorflow:Method (on_train_batch_end) is slow compared to the batch update (0.811241). Check your callbacks.\n",
      "83104/83235 [============================>.] - ETA: 0s - loss: 0.5106 - accuracy: 0.9242WARNING:tensorflow:From /opt/conda/lib/python3.7/site-packages/tensorflow_core/python/ops/resource_variable_ops.py:1786: calling BaseResourceVariable.__init__ (from tensorflow.python.ops.resource_variable_ops) with constraint is deprecated and will be removed in a future version.\n",
      "Instructions for updating:\n",
      "If using Keras pass *_constraint arguments to layers.\n",
      "83235/83235 [==============================] - 26s 315us/sample - loss: 0.5102 - accuracy: 0.9242 - val_loss: 0.2555 - val_accuracy: 0.9288\n",
      "final_epoch_accuracy = 0.924203\n",
      "final_epoch_count =  1\n",
      "CPU times: user 1.03 s, sys: 180 ms, total: 1.21 s\n",
      "Wall time: 34.2 s\n"
     ]
    }
   ],
   "source": [
    "%%time\n",
    "# Run the training manually\n",
    "# Training parameters\n",
    "from datetime import datetime\n",
    "from pytz import timezone\n",
    "\n",
    "MODEL_DEPTH = 2\n",
    "DROPOUT_RATE = 0.01\n",
    "LEARNING_RATE = 0.00005\n",
    "EPOCHS = 1\n",
    "BATCH_SIZE = 32\n",
    "\n",
    "MODEL_DIR_PYTH = MODEL_DIR + datetime.now(timezone('US/Pacific')).strftime('/model_%m%d%Y_%H%M')\n",
    "INPUT_FILE = 'gs://' + BUCKET_NAME + '/' + FOLDER_DATA + '/' + INPUT_FILE_NAME\n",
    "\n",
    "print('MODEL_DEPTH = %2d' % MODEL_DEPTH)\n",
    "print('DROPOUT_RATE = %.4f' % DROPOUT_RATE)\n",
    "print('LEARNING_RATE = %.6f' % LEARNING_RATE)\n",
    "print('EPOCHS = %2d' % EPOCHS)\n",
    "print('BATCH_SIZE = %2d' % BATCH_SIZE)\n",
    "print(\"MODEL_DIR =\", MODEL_DIR_PYTH)\n",
    "print(\"INPUT_FILE =\", INPUT_FILE)\n",
    "\n",
    "# Run training\n",
    "! python3 -m trainer.train --model_depth=$MODEL_DEPTH --dropout_rate=$DROPOUT_RATE \\\n",
    "    --learning_rate=$LEARNING_RATE \\\n",
    "    --epochs=$EPOCHS \\\n",
    "    --batch_size=$BATCH_SIZE \\\n",
    "    --model_dir=$MODEL_DIR_PYTH \\\n",
    "    --input_file=$INPUT_FILE\n"
   ]
  },
  {
   "cell_type": "code",
   "execution_count": 155,
   "metadata": {},
   "outputs": [
    {
     "name": "stdout",
     "output_type": "stream",
     "text": [
      "\n",
      "All Models = \n",
      "gs://tuti_asset/tf_models/models/model_05082021_1239/checkpoints/\n",
      "gs://tuti_asset/tf_models/models/model_05082021_1239/checkpoints/cp-123928-0-0.9288/\n",
      "gs://tuti_asset/tf_models/models/model_05082021_1239/checkpoints/cp-123928-0-0.9288/\n",
      "Best Accuracy  from Checkpoints =  0.9288\n",
      "Best Model Dir from Checkpoints =  gs://tuti_asset/tf_models/models/model_05082021_1239/checkpoints/cp-123928-0-0.9288/\n"
     ]
    }
   ],
   "source": [
    "# Test with latest saved model\n",
    "best_model_dir_pyth = find_best_model_dir(MODEL_DIR_PYTH+'/checkpoints', offset=1, maxFlag=1)\n",
    "#acc = test_saved_model(best_model_dir_pyth, 0)\n"
   ]
  },
  {
   "cell_type": "code",
   "execution_count": 100,
   "metadata": {},
   "outputs": [
    {
     "name": "stdout",
     "output_type": "stream",
     "text": [
      "Copying gs://tuti_asset/tf_models/models/model_05072021_2028/checkpoints/cp-202822-0-0.9289/saved_model.pb...\n",
      "Copying gs://tuti_asset/tf_models/models/model_05072021_2028/checkpoints/cp-202822-0-0.9289/variables/variables.data-00000-of-00001...\n",
      "Copying gs://tuti_asset/tf_models/models/model_05072021_2028/checkpoints/cp-202822-0-0.9289/variables/variables.index...\n",
      "Signature  _SignatureMap({'serving_default': <tensorflow.python.saved_model.load._WrapperFunction object at 0x7f8544b75810>})\n",
      "\n",
      "CPU times: user 365 ms, sys: 78 ms, total: 443 ms\n",
      "Wall time: 2.02 s\n"
     ]
    },
    {
     "data": {
      "image/png": "[encoded data removed]",
      "text/plain": [
       "<IPython.core.display.Image object>"
      ]
     },
     "execution_count": 100,
     "metadata": {},
     "output_type": "execute_result"
    }
   ],
   "source": [
    "%%time\n",
    "\n",
    "#***CREATE model_dir in local VM***\n",
    "!mkdir -p model_dir\n",
    "\n",
    "from trainer import model\n",
    "\n",
    "# Copy the model from storage to local memory\n",
    "!gsutil -m cp -r $best_model_dir_pyth* ./model_dir\n",
    "\n",
    "# Load the model\n",
    "loaded_model = tf.keras.models.load_model('./model_dir', compile=False)#, \n",
    "               #custom_objects={\"custom_loss\": model.custom_loss, \"custom_mse\": model.custom_mse})\n",
    "print(\"Signature \", loaded_model.signatures)\n",
    "print(\"\")\n",
    "\n",
    "# Display model\n",
    "tf.keras.utils.plot_model(loaded_model, show_shapes=True)\n"
   ]
  },
  {
   "cell_type": "markdown",
   "metadata": {},
   "source": [
    "------\n",
    "# Training"
   ]
  },
  {
   "cell_type": "code",
   "execution_count": 101,
   "metadata": {},
   "outputs": [],
   "source": [
    "# Create the config directory and load the trainer files in it\n",
    "!mkdir -p config\n"
   ]
  },
  {
   "cell_type": "code",
   "execution_count": 102,
   "metadata": {},
   "outputs": [
    {
     "name": "stdout",
     "output_type": "stream",
     "text": [
      "Overwriting ./config/config.yaml\n"
     ]
    }
   ],
   "source": [
    "%%writefile ./config/config.yaml\n",
    "\n",
    "# python3\n",
    "# ==============================================================================\n",
    "# Copyright 2020 Google LLC. This software is provided as-is, without warranty\n",
    "# or representation for any use or purpose. Your use of it is subject to your\n",
    "# agreement with Google.\n",
    "# ==============================================================================\n",
    "\n",
    "# https://cloud.google.com/sdk/gcloud/reference/ai-platform/jobs/submit/training#--scale-tier\n",
    "# https://www.kaggle.com/c/passenger-screening-algorithm-challenge/discussion/37087\n",
    "# https://cloud.google.com/ai-platform/training/docs/using-gpus\n",
    "\n",
    "#trainingInput:\n",
    "#    scaleTier: CUSTOM\n",
    "#    masterType: n1-highmem-16\n",
    "#    masterConfig:\n",
    "#        acceleratorConfig:\n",
    "#            count: 2\n",
    "#            type: NVIDIA_TESLA_V100\n",
    "\n",
    "#trainingInput:\n",
    "#  scaleTier: CUSTOM\n",
    "#  masterType: n1-highmem-8\n",
    "#  masterConfig:\n",
    "#    acceleratorConfig:\n",
    "#      count: 1\n",
    "#      type: NVIDIA_TESLA_T4\n",
    "\n",
    "#  masterType: n1-highcpu-16\n",
    "#  workerType: cloud_tpu\n",
    "#  workerCount: 1\n",
    "#  workerConfig:\n",
    "#    acceleratorConfig:\n",
    "#      type: TPU_V3\n",
    "#      count: 8\n",
    "\n",
    "#trainingInput:\n",
    "#  scaleTier: CUSTOM\n",
    "#  masterType: complex_model_m\n",
    "#  workerType: complex_model_m\n",
    "#  parameterServerType: large_model\n",
    "#  workerCount: 6\n",
    "#  parameterServerCount: 1\n",
    "#  scheduling:\n",
    "#    maxWaitTime: 3600s\n",
    "#    maxRunningTime: 7200s\n",
    "\n",
    "#trainingInput:\n",
    "#  runtimeVersion: \"2.1\"\n",
    "#  scaleTier: CUSTOM\n",
    "#  masterType: standard_gpu\n",
    "#  workerCount: 9\n",
    "#  workerType: standard_gpu\n",
    "#  parameterServerCount: 3\n",
    "#  parameterServerType: standard\n",
    "\n",
    "#trainingInput:\n",
    "#  scaleTier: BASIC-GPU\n",
    "    \n",
    "#trainingInput:\n",
    "#  region: us-central1\n",
    "#  scaleTier: CUSTOM\n",
    "#  masterType: complex_model_m\n",
    "#  workerType: complex_model_m_gpu\n",
    "#  parameterServerType: large_model\n",
    "#  workerCount: 4\n",
    "#  parameterServerCount: 2\n",
    "\n",
    "trainingInput:\n",
    "  scaleTier: standard-1\n"
   ]
  },
  {
   "cell_type": "code",
   "execution_count": 103,
   "metadata": {},
   "outputs": [
    {
     "name": "stdout",
     "output_type": "stream",
     "text": [
      "Job Name =  tf_train_cchatterj_050721_2029\n",
      "Job Dir  =  gs://tuti_asset/tf_models/jobdir\n",
      "MODEL_DIR = gs://tuti_asset/tf_models/models/model_05072021_2029\n",
      "INPUT_FILE = gs://tuti_asset/datasets/mortgage_structured.csv\n",
      "MODEL_DEPTH =  3\n",
      "DROPOUT_RATE = 0.0200\n",
      "LEARNING_RATE = 0.000100\n",
      "EPOCHS =  2\n",
      "BATCH_SIZE = 32\n"
     ]
    }
   ],
   "source": [
    "from datetime import datetime\n",
    "from pytz import timezone\n",
    "JOBNAME_TRN = 'tf_train_'+ USER + '_' + \\\n",
    "           datetime.now(timezone('US/Pacific')).strftime(\"%m%d%y_%H%M\")\n",
    "JOB_CONFIG = \"config/config.yaml\"\n",
    "MODEL_DIR_TRN = MODEL_DIR + datetime.now(timezone('US/Pacific')).strftime('/model_%m%d%Y_%H%M')\n",
    "INPUT_FILE = 'gs://' + BUCKET_NAME + '/' + FOLDER_DATA + '/' + INPUT_FILE_NAME\n",
    "\n",
    "print(\"Job Name = \", JOBNAME_TRN)\n",
    "print(\"Job Dir  = \", JOB_DIR)\n",
    "print(\"MODEL_DIR =\", MODEL_DIR_TRN)\n",
    "print(\"INPUT_FILE =\", INPUT_FILE)\n",
    "\n",
    "# Training parameters\n",
    "MODEL_DEPTH = 3\n",
    "DROPOUT_RATE = 0.02\n",
    "LEARNING_RATE = 0.0001\n",
    "EPOCHS = 2\n",
    "BATCH_SIZE = 32\n",
    "\n",
    "print('MODEL_DEPTH = %2d' % MODEL_DEPTH)\n",
    "print('DROPOUT_RATE = %.4f' % DROPOUT_RATE)\n",
    "print('LEARNING_RATE = %.6f' % LEARNING_RATE)\n",
    "print('EPOCHS = %2d' % EPOCHS)\n",
    "print('BATCH_SIZE = %2d' % BATCH_SIZE)\n",
    "\n"
   ]
  },
  {
   "cell_type": "code",
   "execution_count": 104,
   "metadata": {},
   "outputs": [
    {
     "name": "stdout",
     "output_type": "stream",
     "text": [
      "Job [tf_train_cchatterj_050721_2029] submitted successfully.\n",
      "Your job is still active. You may view the status of your job with the command\n",
      "\n",
      "  $ gcloud ai-platform jobs describe tf_train_cchatterj_050721_2029\n",
      "\n",
      "or continue streaming the logs with the command\n",
      "\n",
      "  $ gcloud ai-platform jobs stream-logs tf_train_cchatterj_050721_2029\n",
      "jobId: tf_train_cchatterj_050721_2029\n",
      "state: QUEUED\n"
     ]
    }
   ],
   "source": [
    "# https://cloud.google.com/sdk/gcloud/reference/ai-platform/jobs/submit/training\n",
    "\n",
    "TRAIN_LABELS = \"mode=train,owner=\"+USER\n",
    "\n",
    "# submit the training job\n",
    "! gcloud ai-platform jobs submit training $JOBNAME_TRN \\\n",
    "  --package-path $(pwd)/trainer \\\n",
    "  --module-name trainer.train \\\n",
    "  --region $REGION \\\n",
    "  --python-version 3.7 \\\n",
    "  --runtime-version $RUNTIME_VERSION \\\n",
    "  --job-dir $JOB_DIR \\\n",
    "  --config $JOB_CONFIG \\\n",
    "  --labels $TRAIN_LABELS \\\n",
    "  -- \\\n",
    "  --model_depth=$MODEL_DEPTH \\\n",
    "  --dropout_rate=$DROPOUT_RATE \\\n",
    "  --learning_rate=$LEARNING_RATE \\\n",
    "  --epochs=$EPOCHS \\\n",
    "  --batch_size=$BATCH_SIZE \\\n",
    "  --model_dir=$MODEL_DIR_TRN \\\n",
    "  --input_file=$INPUT_FILE\n"
   ]
  },
  {
   "cell_type": "code",
   "execution_count": 105,
   "metadata": {},
   "outputs": [
    {
     "name": "stdout",
     "output_type": "stream",
     "text": [
      "createTime: '2021-05-08T03:29:28Z'\n",
      "endTime: '2021-05-08T03:38:43Z'\n",
      "etag: F-hA7AzGb84=\n",
      "jobId: tf_train_cchatterj_050721_2029\n",
      "labels:\n",
      "  mode: train\n",
      "  owner: cchatterj\n",
      "startTime: '2021-05-08T03:37:12Z'\n",
      "state: SUCCEEDED\n",
      "trainingInput:\n",
      "  args:\n",
      "  - --model_depth=3\n",
      "  - --dropout_rate=0.02\n",
      "  - --learning_rate=0.0001\n",
      "  - --epochs=2\n",
      "  - --batch_size=32\n",
      "  - --model_dir=gs://tuti_asset/tf_models/models/model_05072021_2029\n",
      "  - --input_file=gs://tuti_asset/datasets/mortgage_structured.csv\n",
      "  jobDir: gs://tuti_asset/tf_models/jobdir\n",
      "  packageUris:\n",
      "  - gs://tuti_asset/tf_models/jobdir/packages/4f8ba8fc866713a6e7b8f4202c38ae66bd5913b96f7539c634af9e14cc419131/trainer-0.1.tar.gz\n",
      "  pythonModule: trainer.train\n",
      "  pythonVersion: '3.7'\n",
      "  region: us-central1\n",
      "  runtimeVersion: '2.1'\n",
      "  scaleTier: STANDARD_1\n",
      "trainingOutput:\n",
      "  consumedMLUnits: 0.68\n",
      "\n",
      "View job in the Cloud Console at:\n",
      "https://console.cloud.google.com/mlengine/jobs/tf_train_cchatterj_050721_2029?project=img-seg-3d\n",
      "\n",
      "View logs at:\n",
      "https://console.cloud.google.com/logs?resource=ml_job%2Fjob_id%2Ftf_train_cchatterj_050721_2029&project=img-seg-3d\n"
     ]
    }
   ],
   "source": [
    "# check the training job status\n",
    "! gcloud ai-platform jobs describe $JOBNAME_TRN\n"
   ]
  },
  {
   "cell_type": "code",
   "execution_count": 106,
   "metadata": {},
   "outputs": [],
   "source": [
    "# Print Errors\n",
    "#response = ! gcloud logging read \"resource.labels.job_id=$JOBNAME_TRN severity>=ERROR\"\n",
    "#for i in range(0,len(response)):\n",
    "#    if 'message' in response[i]:\n",
    "#        print(response[i])"
   ]
  },
  {
   "cell_type": "code",
   "execution_count": 107,
   "metadata": {},
   "outputs": [
    {
     "name": "stdout",
     "output_type": "stream",
     "text": [
      "\n",
      "All Models = \n",
      "gs://tuti_asset/tf_models/models/model_05072021_2029/checkpoints/\n",
      "gs://tuti_asset/tf_models/models/model_05072021_2029/checkpoints/cp-203733-0-0.9289/\n",
      "gs://tuti_asset/tf_models/models/model_05072021_2029/checkpoints/cp-203742-0-0.0186/\n",
      "gs://tuti_asset/tf_models/models/model_05072021_2029/checkpoints/cp-203742-0-0.9289/\n",
      "gs://tuti_asset/tf_models/models/model_05072021_2029/checkpoints/cp-203745-0-0.9289/\n",
      "gs://tuti_asset/tf_models/models/model_05072021_2029/checkpoints/cp-203747-0-0.9289/\n",
      "gs://tuti_asset/tf_models/models/model_05072021_2029/checkpoints/cp-203750-0-0.0340/\n",
      "gs://tuti_asset/tf_models/models/model_05072021_2029/checkpoints/cp-203750-0-0.9289/\n",
      "gs://tuti_asset/tf_models/models/model_05072021_2029/checkpoints/cp-203835-0-0.9289/\n",
      "gs://tuti_asset/tf_models/models/model_05072021_2029/checkpoints/cp-203742-0-0.0186/\n",
      "gs://tuti_asset/tf_models/models/model_05072021_2029/checkpoints/cp-203750-0-0.0340/\n",
      "gs://tuti_asset/tf_models/models/model_05072021_2029/checkpoints/cp-203733-0-0.9289/\n",
      "gs://tuti_asset/tf_models/models/model_05072021_2029/checkpoints/cp-203742-0-0.9289/\n",
      "gs://tuti_asset/tf_models/models/model_05072021_2029/checkpoints/cp-203745-0-0.9289/\n",
      "gs://tuti_asset/tf_models/models/model_05072021_2029/checkpoints/cp-203747-0-0.9289/\n",
      "gs://tuti_asset/tf_models/models/model_05072021_2029/checkpoints/cp-203750-0-0.9289/\n",
      "gs://tuti_asset/tf_models/models/model_05072021_2029/checkpoints/cp-203835-0-0.9289/\n",
      "Best Accuracy  from Checkpoints =  0.9289\n",
      "Best Model Dir from Checkpoints =  gs://tuti_asset/tf_models/models/model_05072021_2029/checkpoints/cp-203733-0-0.9289/\n"
     ]
    }
   ],
   "source": [
    "# Test with latest saved model\n",
    "best_model_dir_trn = find_best_model_dir(MODEL_DIR_TRN+'/checkpoints', offset=1, maxFlag=1)\n",
    "#acc = test_saved_model(best_model_dir_trn, 0)\n"
   ]
  },
  {
   "cell_type": "markdown",
   "metadata": {},
   "source": [
    "------\n",
    "# Hyper Parameter Tuning"
   ]
  },
  {
   "cell_type": "code",
   "execution_count": 108,
   "metadata": {},
   "outputs": [],
   "source": [
    "# Create the tf directory and load the trainer files in it\n",
    "!cp ./trainer/train.py ./trainer/train_hpt.py\n"
   ]
  },
  {
   "cell_type": "code",
   "execution_count": 109,
   "metadata": {},
   "outputs": [
    {
     "name": "stdout",
     "output_type": "stream",
     "text": [
      "Appending to ./trainer/train_hpt.py\n"
     ]
    }
   ],
   "source": [
    "%%writefile -a ./trainer/train_hpt.py\n",
    "\n",
    "    \"\"\"This method updates a CAIP HPTuning Job with a final metric for the job.\n",
    "    In TF2.X the user must either use hypertune or a custom callback with\n",
    "    tf.summary.scalar to update CAIP HP Tuning jobs. This function uses\n",
    "    hypertune, which appears to be the preferred solution. Hypertune also works\n",
    "    with containers, without code change.\n",
    "    Args:\n",
    "        metric_tag: The metric being optimized.  This MUST MATCH the\n",
    "          hyperparameterMetricTag specificed in the hyperparameter tuning yaml.\n",
    "        metric_value: The value to report at the end of model training.\n",
    "        global_step: An int value to specify the number of trainin steps completed\n",
    "          at the time the metric was reported.\n",
    "    \"\"\"\n",
    "\n",
    "    hpt = hypertune.HyperTune()\n",
    "    hpt.report_hyperparameter_tuning_metric(\n",
    "        hyperparameter_metric_tag='accuracy',\n",
    "        metric_value=final_epoch_accuracy,\n",
    "        global_step=final_epoch_count\n",
    "    )\n"
   ]
  },
  {
   "cell_type": "code",
   "execution_count": 113,
   "metadata": {},
   "outputs": [
    {
     "name": "stdout",
     "output_type": "stream",
     "text": [
      "Overwriting ./config/hptuning_config.yaml\n"
     ]
    }
   ],
   "source": [
    "%%writefile ./config/hptuning_config.yaml\n",
    "\n",
    "# python3\n",
    "# ==============================================================================\n",
    "# Copyright 2020 Google LLC. This software is provided as-is, without warranty\n",
    "# or representation for any use or purpose. Your use of it is subject to your\n",
    "# agreement with Google.\n",
    "# ==============================================================================\n",
    "\n",
    "# https://cloud.google.com/ai-platform/training/docs/reference/rest/v1/projects.jobs\n",
    "# https://cloud.google.com/sdk/gcloud/reference/ai-platform/jobs/submit/training\n",
    "\n",
    "#trainingInput:\n",
    "#  scaleTier: CUSTOM\n",
    "#  masterType: n1-highmem-8\n",
    "#  masterConfig:\n",
    "#    acceleratorConfig:\n",
    "#      count: 1\n",
    "#      type: NVIDIA_TESLA_T4\n",
    "#\n",
    "#  masterType: standard_p100\n",
    "#  workerType: standard_p100\n",
    "#  parameterServerType: standard_p100\n",
    "#  workerCount: 8\n",
    "#  parameterServerCount: 1\n",
    "#  runtimeVersion: $RUNTIME_VERSION\n",
    "#  pythonVersion: '3.7'\n",
    "\n",
    "#trainingInput:\n",
    "#  scaleTier: CUSTOM\n",
    "#  masterType: complex_model_m\n",
    "#  workerType: complex_model_m\n",
    "#  parameterServerType: large_model\n",
    "#  workerCount: 9\n",
    "#  parameterServerCount: 3\n",
    "#  scheduling:\n",
    "#    maxWaitTime: 3600s\n",
    "#    maxRunningTime: 7200s\n",
    "\n",
    "#trainingInput:\n",
    "#  scaleTier: BASIC-GPU\n",
    "\n",
    "#trainingInput:\n",
    "#  scaleTier: CUSTOM\n",
    "#  masterType: n1-highmem-16\n",
    "#  masterConfig:\n",
    "#    acceleratorConfig:\n",
    "#      count: 2\n",
    "#      type: NVIDIA_TESLA_V100\n",
    "\n",
    "trainingInput:\n",
    "  scaleTier: STANDARD-1\n",
    "  hyperparameters:\n",
    "    goal: MAXIMIZE\n",
    "    hyperparameterMetricTag: accuracy\n",
    "    maxTrials: 4\n",
    "    maxParallelTrials: 4\n",
    "    enableTrialEarlyStopping: True\n",
    "    params:\n",
    "    - parameterName: model_depth\n",
    "      type: INTEGER\n",
    "      minValue: 2\n",
    "      maxValue: 4\n",
    "      scaleType: UNIT_LINEAR_SCALE\n",
    "    - parameterName: epochs\n",
    "      type: INTEGER\n",
    "      minValue: 1\n",
    "      maxValue: 3\n",
    "      scaleType: UNIT_LINEAR_SCALE\n"
   ]
  },
  {
   "cell_type": "code",
   "execution_count": 116,
   "metadata": {},
   "outputs": [
    {
     "name": "stdout",
     "output_type": "stream",
     "text": [
      "Job Name =  tf_hptrn_cchatterj_050721_2125\n",
      "Job Dir  =  gs://tuti_asset/tf_models/jobdir\n",
      "MODEL_DIR = gs://tuti_asset/tf_models/models/model_05072021_2125\n",
      "INPUT_FILE = gs://tuti_asset/datasets/mortgage_structured.csv\n"
     ]
    }
   ],
   "source": [
    "from datetime import datetime\n",
    "from pytz import timezone\n",
    "\n",
    "JOBNAME_HPT = 'tf_hptrn_' + USER + '_' + \\\n",
    "              datetime.now(timezone('US/Pacific')).strftime(\"%m%d%y_%H%M\")\n",
    "JOB_CONFIG = \"./config/hptuning_config.yaml\"\n",
    "MODEL_DIR_HPT = MODEL_DIR + datetime.now(timezone('US/Pacific')).strftime('/model_%m%d%Y_%H%M')\n",
    "INPUT_FILE = 'gs://' + BUCKET_NAME + '/' + FOLDER_DATA + '/' + INPUT_FILE_NAME\n",
    "\n",
    "print(\"Job Name = \", JOBNAME_HPT)\n",
    "print(\"Job Dir  = \", JOB_DIR)\n",
    "print(\"MODEL_DIR =\", MODEL_DIR_HPT)\n",
    "print(\"INPUT_FILE =\", INPUT_FILE)\n",
    "\n",
    "# Training parameters\n",
    "DROPOUT_RATE = 0.02\n",
    "LEARNING_RATE = 0.0001\n",
    "BATCH_SIZE = 32\n"
   ]
  },
  {
   "cell_type": "code",
   "execution_count": 117,
   "metadata": {},
   "outputs": [
    {
     "name": "stdout",
     "output_type": "stream",
     "text": [
      "Job [tf_hptrn_cchatterj_050721_2125] submitted successfully.\n",
      "Your job is still active. You may view the status of your job with the command\n",
      "\n",
      "  $ gcloud ai-platform jobs describe tf_hptrn_cchatterj_050721_2125\n",
      "\n",
      "or continue streaming the logs with the command\n",
      "\n",
      "  $ gcloud ai-platform jobs stream-logs tf_hptrn_cchatterj_050721_2125\n",
      "jobId: tf_hptrn_cchatterj_050721_2125\n",
      "state: QUEUED\n"
     ]
    }
   ],
   "source": [
    "# submit the training job\n",
    "HT_LABELS = \"mode=hypertrain,owner=\"+USER\n",
    "\n",
    "! gcloud ai-platform jobs submit training $JOBNAME_HPT \\\n",
    "  --package-path $(pwd)/trainer \\\n",
    "  --module-name trainer.train_hpt \\\n",
    "  --python-version 3.7 \\\n",
    "  --runtime-version $RUNTIME_VERSION \\\n",
    "  --region $REGION \\\n",
    "  --job-dir $JOB_DIR \\\n",
    "  --config $JOB_CONFIG \\\n",
    "  --labels $HT_LABELS \\\n",
    "  -- \\\n",
    "  --dropout_rate=$DROPOUT_RATE \\\n",
    "  --learning_rate=$LEARNING_RATE \\\n",
    "  --batch_size=$BATCH_SIZE \\\n",
    "  --model_dir=$MODEL_DIR_HPT \\\n",
    "  --input_file=$INPUT_FILE\n"
   ]
  },
  {
   "cell_type": "code",
   "execution_count": 119,
   "metadata": {},
   "outputs": [
    {
     "name": "stdout",
     "output_type": "stream",
     "text": [
      "createTime: '2021-05-08T04:25:37Z'\n",
      "endTime: '2021-05-08T04:38:34Z'\n",
      "etag: wGblmgO1A8o=\n",
      "jobId: tf_hptrn_cchatterj_050721_2125\n",
      "labels:\n",
      "  mode: hypertrain\n",
      "  owner: cchatterj\n",
      "startTime: '2021-05-08T04:25:42Z'\n",
      "state: SUCCEEDED\n",
      "trainingInput:\n",
      "  args:\n",
      "  - --dropout_rate=0.02\n",
      "  - --learning_rate=0.0001\n",
      "  - --batch_size=32\n",
      "  - --model_dir=gs://tuti_asset/tf_models/models/model_05072021_2125\n",
      "  - --input_file=gs://tuti_asset/datasets/mortgage_structured.csv\n",
      "  hyperparameters:\n",
      "    enableTrialEarlyStopping: true\n",
      "    goal: MAXIMIZE\n",
      "    hyperparameterMetricTag: accuracy\n",
      "    maxParallelTrials: 4\n",
      "    maxTrials: 4\n",
      "    params:\n",
      "    - maxValue: 4.0\n",
      "      minValue: 2.0\n",
      "      parameterName: model_depth\n",
      "      scaleType: UNIT_LINEAR_SCALE\n",
      "      type: INTEGER\n",
      "    - maxValue: 3.0\n",
      "      minValue: 1.0\n",
      "      parameterName: epochs\n",
      "      scaleType: UNIT_LINEAR_SCALE\n",
      "      type: INTEGER\n",
      "  jobDir: gs://tuti_asset/tf_models/jobdir\n",
      "  packageUris:\n",
      "  - gs://tuti_asset/tf_models/jobdir/packages/481b3b998d8665967bd09bd0076485ebe7510f453bb8a54b7a7a1b7a2e855d35/trainer-0.1.tar.gz\n",
      "  pythonModule: trainer.train_hpt\n",
      "  pythonVersion: '3.7'\n",
      "  region: us-central1\n",
      "  runtimeVersion: '2.1'\n",
      "  scaleTier: STANDARD_1\n",
      "trainingOutput:\n",
      "  completedTrialCount: '4'\n",
      "  consumedMLUnits: 2.7\n",
      "  hyperparameterMetricTag: accuracy\n",
      "  isHyperparameterTuningJob: true\n",
      "  trials:\n",
      "  - endTime: '2021-05-08T04:36:00Z'\n",
      "    finalMetric:\n",
      "      objectiveValue: 0.933586\n",
      "      trainingStep: '3'\n",
      "    hyperparameters:\n",
      "      epochs: '3'\n",
      "      model_depth: '4'\n",
      "    startTime: '2021-05-08T04:25:47.155195628Z'\n",
      "    state: SUCCEEDED\n",
      "    trialId: '3'\n",
      "  - endTime: '2021-05-08T04:35:54Z'\n",
      "    finalMetric:\n",
      "      objectiveValue: 0.927038\n",
      "      trainingStep: '2'\n",
      "    hyperparameters:\n",
      "      epochs: '2'\n",
      "      model_depth: '3'\n",
      "    startTime: '2021-05-08T04:25:47.155139568Z'\n",
      "    state: SUCCEEDED\n",
      "    trialId: '2'\n",
      "  - endTime: '2021-05-08T04:36:41Z'\n",
      "    finalMetric:\n",
      "      objectiveValue: 0.91709\n",
      "      trainingStep: '1'\n",
      "    hyperparameters:\n",
      "      epochs: '1'\n",
      "      model_depth: '4'\n",
      "    startTime: '2021-05-08T04:25:47.155245908Z'\n",
      "    state: SUCCEEDED\n",
      "    trialId: '4'\n",
      "  - endTime: '2021-05-08T04:36:51Z'\n",
      "    finalMetric:\n",
      "      objectiveValue: 0.127122\n",
      "      trainingStep: '3'\n",
      "    hyperparameters:\n",
      "      epochs: '3'\n",
      "      model_depth: '3'\n",
      "    startTime: '2021-05-08T04:25:47.154965218Z'\n",
      "    state: SUCCEEDED\n",
      "    trialId: '1'\n",
      "\n",
      "View job in the Cloud Console at:\n",
      "https://console.cloud.google.com/mlengine/jobs/tf_hptrn_cchatterj_050721_2125?project=img-seg-3d\n",
      "\n",
      "View logs at:\n",
      "https://console.cloud.google.com/logs?resource=ml_job%2Fjob_id%2Ftf_hptrn_cchatterj_050721_2125&project=img-seg-3d\n"
     ]
    }
   ],
   "source": [
    "# check the hyperparameter training job status\n",
    "! gcloud ai-platform jobs describe $JOBNAME_HPT\n"
   ]
  },
  {
   "cell_type": "code",
   "execution_count": 120,
   "metadata": {},
   "outputs": [],
   "source": [
    "# Print Errors\n",
    "#response = ! gcloud logging read \"resource.labels.job_id=$JOBNAME_HPT severity>=ERROR\"\n",
    "#for i in range(0,len(response)):\n",
    "#    if 'message' in response[i]:\n",
    "#        print(response[i])"
   ]
  },
  {
   "cell_type": "code",
   "execution_count": 121,
   "metadata": {},
   "outputs": [
    {
     "name": "stdout",
     "output_type": "stream",
     "text": [
      "objective= 0.9335856437683105  trialId= 3 SUCCEEDED\n",
      "     epochs 3\n",
      "     model_depth 4\n",
      "objective= 0.9270378947257996  trialId= 2 SUCCEEDED\n",
      "     epochs 2\n",
      "     model_depth 3\n",
      "objective= 0.9170901775360107  trialId= 4 SUCCEEDED\n",
      "     epochs 1\n",
      "     model_depth 4\n",
      "objective= 0.12712199985980988  trialId= 1 SUCCEEDED\n",
      "     epochs 3\n",
      "     model_depth 3\n",
      "\n",
      "Objective= 0.9335856437683105\n",
      "MODEL_DEPTH = 4\n",
      "EPOCHS = 3\n"
     ]
    }
   ],
   "source": [
    "# Get the best model parameters from Cloud API\n",
    "best_model = pyth_get_hypertuned_parameters(PROJECT_ID, JOBNAME_HPT, 1)\n",
    "MODEL_DEPTH = best_model['hyperparameters']['model_depth']\n",
    "EPOCHS = best_model['hyperparameters']['epochs']\n",
    "print('')\n",
    "print('Objective=', best_model['finalMetric']['objectiveValue'])\n",
    "print('MODEL_DEPTH =', MODEL_DEPTH)\n",
    "print('EPOCHS =', EPOCHS)\n"
   ]
  },
  {
   "cell_type": "code",
   "execution_count": 122,
   "metadata": {},
   "outputs": [
    {
     "name": "stdout",
     "output_type": "stream",
     "text": [
      "Total Hypertrained Models= 36\n",
      "\n",
      "All Models = \n",
      "gs://tuti_asset/tf_models/models/model_05072021_2125/checkpoints/\n",
      "gs://tuti_asset/tf_models/models/model_05072021_2125/checkpoints/cp-213445-3-0.9289/\n",
      "gs://tuti_asset/tf_models/models/model_05072021_2125/checkpoints/cp-213503-2-0.9289/\n",
      "gs://tuti_asset/tf_models/models/model_05072021_2125/checkpoints/cp-213503-3-0.0185/\n",
      "gs://tuti_asset/tf_models/models/model_05072021_2125/checkpoints/cp-213503-3-0.0340/\n",
      "gs://tuti_asset/tf_models/models/model_05072021_2125/checkpoints/cp-213506-3-0.9289/\n",
      "gs://tuti_asset/tf_models/models/model_05072021_2125/checkpoints/cp-213507-2-0.0185/\n",
      "gs://tuti_asset/tf_models/models/model_05072021_2125/checkpoints/cp-213508-4-0.0186/\n",
      "gs://tuti_asset/tf_models/models/model_05072021_2125/checkpoints/cp-213510-4-0.9289/\n",
      "gs://tuti_asset/tf_models/models/model_05072021_2125/checkpoints/cp-213513-2-0.9289/\n",
      "gs://tuti_asset/tf_models/models/model_05072021_2125/checkpoints/cp-213513-3-0.9289/\n",
      "gs://tuti_asset/tf_models/models/model_05072021_2125/checkpoints/cp-213513-3-0.9496/\n",
      "gs://tuti_asset/tf_models/models/model_05072021_2125/checkpoints/cp-213515-3-0.9289/\n",
      "gs://tuti_asset/tf_models/models/model_05072021_2125/checkpoints/cp-213516-2-0.9289/\n",
      "gs://tuti_asset/tf_models/models/model_05072021_2125/checkpoints/cp-213517-2-0.9281/\n",
      "gs://tuti_asset/tf_models/models/model_05072021_2125/checkpoints/cp-213517-2-0.9287/\n",
      "gs://tuti_asset/tf_models/models/model_05072021_2125/checkpoints/cp-213518-2-0.0186/\n",
      "gs://tuti_asset/tf_models/models/model_05072021_2125/checkpoints/cp-213518-3-0.9289/\n",
      "gs://tuti_asset/tf_models/models/model_05072021_2125/checkpoints/cp-213518-3-0.9429/\n",
      "gs://tuti_asset/tf_models/models/model_05072021_2125/checkpoints/cp-213519-4-0.9289/\n",
      "gs://tuti_asset/tf_models/models/model_05072021_2125/checkpoints/cp-213520-4-0.9289/\n",
      "gs://tuti_asset/tf_models/models/model_05072021_2125/checkpoints/cp-213522-1-0.0340/\n",
      "gs://tuti_asset/tf_models/models/model_05072021_2125/checkpoints/cp-213522-4-0.0186/\n",
      "gs://tuti_asset/tf_models/models/model_05072021_2125/checkpoints/cp-213528-1-0.9289/\n",
      "gs://tuti_asset/tf_models/models/model_05072021_2125/checkpoints/cp-213536-1-0.9289/\n",
      "gs://tuti_asset/tf_models/models/model_05072021_2125/checkpoints/cp-213538-3-0.9289/\n",
      "gs://tuti_asset/tf_models/models/model_05072021_2125/checkpoints/cp-213542-1-0.0185/\n",
      "gs://tuti_asset/tf_models/models/model_05072021_2125/checkpoints/cp-213542-1-0.9289/\n",
      "gs://tuti_asset/tf_models/models/model_05072021_2125/checkpoints/cp-213600-1-0.9289/\n",
      "gs://tuti_asset/tf_models/models/model_05072021_2125/checkpoints/cp-213601-4-0.0186/\n",
      "gs://tuti_asset/tf_models/models/model_05072021_2125/checkpoints/cp-213603-4-0.0340/\n",
      "gs://tuti_asset/tf_models/models/model_05072021_2125/checkpoints/cp-213609-4-0.9289/\n",
      "gs://tuti_asset/tf_models/models/model_05072021_2125/checkpoints/cp-213611-1-0.0185/\n",
      "gs://tuti_asset/tf_models/models/model_05072021_2125/checkpoints/cp-213611-1-0.9289/\n",
      "gs://tuti_asset/tf_models/models/model_05072021_2125/checkpoints/cp-213612-1-0.9282/\n",
      "gs://tuti_asset/tf_models/models/model_05072021_2125/checkpoints/cp-213612-1-0.9289/\n",
      "gs://tuti_asset/tf_models/models/model_05072021_2125/checkpoints/cp-213503-3-0.0185/\n",
      "gs://tuti_asset/tf_models/models/model_05072021_2125/checkpoints/cp-213507-2-0.0185/\n",
      "gs://tuti_asset/tf_models/models/model_05072021_2125/checkpoints/cp-213542-1-0.0185/\n",
      "gs://tuti_asset/tf_models/models/model_05072021_2125/checkpoints/cp-213611-1-0.0185/\n",
      "gs://tuti_asset/tf_models/models/model_05072021_2125/checkpoints/cp-213508-4-0.0186/\n",
      "gs://tuti_asset/tf_models/models/model_05072021_2125/checkpoints/cp-213518-2-0.0186/\n",
      "gs://tuti_asset/tf_models/models/model_05072021_2125/checkpoints/cp-213522-4-0.0186/\n",
      "gs://tuti_asset/tf_models/models/model_05072021_2125/checkpoints/cp-213601-4-0.0186/\n",
      "gs://tuti_asset/tf_models/models/model_05072021_2125/checkpoints/cp-213503-3-0.0340/\n",
      "gs://tuti_asset/tf_models/models/model_05072021_2125/checkpoints/cp-213522-1-0.0340/\n",
      "gs://tuti_asset/tf_models/models/model_05072021_2125/checkpoints/cp-213603-4-0.0340/\n",
      "gs://tuti_asset/tf_models/models/model_05072021_2125/checkpoints/cp-213517-2-0.9281/\n",
      "gs://tuti_asset/tf_models/models/model_05072021_2125/checkpoints/cp-213612-1-0.9282/\n",
      "gs://tuti_asset/tf_models/models/model_05072021_2125/checkpoints/cp-213517-2-0.9287/\n",
      "gs://tuti_asset/tf_models/models/model_05072021_2125/checkpoints/cp-213445-3-0.9289/\n",
      "gs://tuti_asset/tf_models/models/model_05072021_2125/checkpoints/cp-213503-2-0.9289/\n",
      "gs://tuti_asset/tf_models/models/model_05072021_2125/checkpoints/cp-213506-3-0.9289/\n",
      "gs://tuti_asset/tf_models/models/model_05072021_2125/checkpoints/cp-213510-4-0.9289/\n",
      "gs://tuti_asset/tf_models/models/model_05072021_2125/checkpoints/cp-213513-2-0.9289/\n",
      "gs://tuti_asset/tf_models/models/model_05072021_2125/checkpoints/cp-213513-3-0.9289/\n",
      "gs://tuti_asset/tf_models/models/model_05072021_2125/checkpoints/cp-213515-3-0.9289/\n",
      "gs://tuti_asset/tf_models/models/model_05072021_2125/checkpoints/cp-213516-2-0.9289/\n",
      "gs://tuti_asset/tf_models/models/model_05072021_2125/checkpoints/cp-213518-3-0.9289/\n",
      "gs://tuti_asset/tf_models/models/model_05072021_2125/checkpoints/cp-213519-4-0.9289/\n",
      "gs://tuti_asset/tf_models/models/model_05072021_2125/checkpoints/cp-213520-4-0.9289/\n",
      "gs://tuti_asset/tf_models/models/model_05072021_2125/checkpoints/cp-213528-1-0.9289/\n",
      "gs://tuti_asset/tf_models/models/model_05072021_2125/checkpoints/cp-213536-1-0.9289/\n",
      "gs://tuti_asset/tf_models/models/model_05072021_2125/checkpoints/cp-213538-3-0.9289/\n",
      "gs://tuti_asset/tf_models/models/model_05072021_2125/checkpoints/cp-213542-1-0.9289/\n",
      "gs://tuti_asset/tf_models/models/model_05072021_2125/checkpoints/cp-213600-1-0.9289/\n",
      "gs://tuti_asset/tf_models/models/model_05072021_2125/checkpoints/cp-213609-4-0.9289/\n",
      "gs://tuti_asset/tf_models/models/model_05072021_2125/checkpoints/cp-213611-1-0.9289/\n",
      "gs://tuti_asset/tf_models/models/model_05072021_2125/checkpoints/cp-213612-1-0.9289/\n",
      "gs://tuti_asset/tf_models/models/model_05072021_2125/checkpoints/cp-213518-3-0.9429/\n",
      "gs://tuti_asset/tf_models/models/model_05072021_2125/checkpoints/cp-213513-3-0.9496/\n",
      "Best Accuracy  from Checkpoints =  0.9496\n",
      "Best Model Dir from Checkpoints =  gs://tuti_asset/tf_models/models/model_05072021_2125/checkpoints/cp-213513-3-0.9496/\n"
     ]
    }
   ],
   "source": [
    "# Find count of checkpoints\n",
    "all_models = ! gsutil ls {MODEL_DIR_HPT+'/checkpoints'}\n",
    "print(\"Total Hypertrained Models=\", len(all_models))\n",
    "\n",
    "# Test with latest saved model\n",
    "best_model_dir_hyp = find_best_model_dir(MODEL_DIR_HPT+'/checkpoints', offset=1, maxFlag=1)\n",
    "#acc = test_saved_model(best_model_dir_hyp, 0)\n",
    "\n",
    "#import keras.backend as K\n",
    "#loaded_model = tf.keras.models.load_model(MODEL_DIR_PARAM+'/checkpoints')\n",
    "#print(\"learning_rate=\", K.eval(loaded_model.optimizer.lr))\n",
    "#tf.keras.utils.plot_model(loaded_model, show_shapes=True)\n"
   ]
  },
  {
   "cell_type": "markdown",
   "metadata": {},
   "source": [
    "--------\n",
    "# Deploy the Model"
   ]
  },
  {
   "cell_type": "code",
   "execution_count": 123,
   "metadata": {},
   "outputs": [],
   "source": [
    "## https://cloud.google.com/ai-platform/prediction/docs/machine-types-online-prediction#available_machine_types\n",
    "# We need 2 versions of the same model:\n",
    "# 1. Batch prediction model deployed on a mls1-c1-m2 cluster\n",
    "# 2. Online prediction model deployed on a n1-standard-16 cluster\n",
    "# Batch prediction does not support GPU and n1-standard-16 clusters.\n",
    "\n",
    "# Run the Deploy Model section twice:\n",
    "# 1. As a BATCH Mode version use MODEL_VERSION = MODEL_VERSION_BATCH\n",
    "# 2. As a ONLINE Mode version use MODEL_VERSION = MODEL_VERSION_ONLINE\n"
   ]
  },
  {
   "cell_type": "code",
   "execution_count": 124,
   "metadata": {},
   "outputs": [],
   "source": [
    "# Regional End points with python\n",
    "#https://cloud.google.com/ai-platform/prediction/docs/regional-endpoints#python"
   ]
  },
  {
   "cell_type": "code",
   "execution_count": 135,
   "metadata": {},
   "outputs": [
    {
     "name": "stdout",
     "output_type": "stream",
     "text": [
      "\n",
      "List of Models in Global Endpoint)\n",
      "Using endpoint [https://ml.googleapis.com/]\n",
      "NAME           DEFAULT_VERSION_NAME\n",
      "kfp_xgb_model  kfp_xgb_bst_v0_1\n",
      "loan_model_1   online_v1\n",
      "mnist_model_1  online_v1\n",
      "xgb_model      elvinzhu_xgb_bst\n",
      "\n",
      "List of Versions in Global Endpoint)\n",
      "Using endpoint [https://ml.googleapis.com/]\n",
      "NAME       DEPLOYMENT_URI                                                                        STATE\n",
      "online_v1  gs://tuti_asset/tf_models/models/model_05072021_2125/checkpoints/cp-213513-3-0.9496/  READY\n"
     ]
    }
   ],
   "source": [
    "MODEL_NAME = \"loan_model_1\"\n",
    "MODEL_VERSION_BATCH  = \"batch_v1\"\n",
    "MODEL_VERSION_ONLINE = \"online_v1\"\n",
    "\n",
    "#Run this as Batch first then Online\n",
    "#MODEL_VERSION = MODEL_VERSION_ONLINE\n",
    "MODEL_VERSION = MODEL_VERSION_BATCH\n",
    "\n",
    "# List all models\n",
    "\n",
    "print(\"\\nList of Models in Global Endpoint)\")\n",
    "!gcloud ai-platform models list --region=global\n",
    "\n",
    "# List all versions of model\n",
    "\n",
    "print(\"\\nList of Versions in Global Endpoint)\")\n",
    "!gcloud ai-platform versions list --model $MODEL_NAME --region=global\n"
   ]
  },
  {
   "cell_type": "code",
   "execution_count": 136,
   "metadata": {},
   "outputs": [],
   "source": [
    "#!gcloud ai-platform versions delete $MODEL_VERSION_BATCH --model $MODEL_NAME --quiet --region=global\n",
    "#!gcloud ai-platform models delete $MODEL_NAME --quiet --region=global\n"
   ]
  },
  {
   "cell_type": "code",
   "execution_count": 137,
   "metadata": {},
   "outputs": [
    {
     "name": "stdout",
     "output_type": "stream",
     "text": [
      "\n",
      "List of Models in Global Endpoint)\n",
      "Using endpoint [https://ml.googleapis.com/]\n",
      "NAME           DEFAULT_VERSION_NAME\n",
      "kfp_xgb_model  kfp_xgb_bst_v0_1\n",
      "loan_model_1   online_v1\n",
      "mnist_model_1  online_v1\n",
      "xgb_model      elvinzhu_xgb_bst\n",
      "\n",
      "List of Versions in Global Endpoint)\n",
      "Using endpoint [https://ml.googleapis.com/]\n",
      "NAME       DEPLOYMENT_URI                                                                        STATE\n",
      "online_v1  gs://tuti_asset/tf_models/models/model_05072021_2125/checkpoints/cp-213513-3-0.9496/  READY\n"
     ]
    }
   ],
   "source": [
    "# List all models\n",
    "\n",
    "print(\"\\nList of Models in Global Endpoint)\")\n",
    "!gcloud ai-platform models list --region=global\n",
    "\n",
    "# List all versions of model\n",
    "\n",
    "print(\"\\nList of Versions in Global Endpoint)\")\n",
    "!gcloud ai-platform versions list --model $MODEL_NAME --region=global\n"
   ]
  },
  {
   "cell_type": "code",
   "execution_count": 138,
   "metadata": {},
   "outputs": [
    {
     "name": "stdout",
     "output_type": "stream",
     "text": [
      "['Using endpoint [https://us-central1-ml.googleapis.com/]', 'Listed 0 items.']\n",
      "Creating model loan_model_1\n",
      "Using endpoint [https://ml.googleapis.com/]\n",
      "\u001b[1;31mERROR:\u001b[0m (gcloud.ai-platform.models.create) Resource in projects [img-seg-3d] is the subject of a conflict: Field: model.name Error: A model with the same name already exists.\n",
      "- '@type': type.googleapis.com/google.rpc.BadRequest\n",
      "  fieldViolations:\n",
      "  - description: A model with the same name already exists.\n",
      "    field: model.name\n",
      "\n",
      "List of Models in Global Endpoint)\n",
      "Using endpoint [https://ml.googleapis.com/]\n",
      "NAME           DEFAULT_VERSION_NAME\n",
      "kfp_xgb_model  kfp_xgb_bst_v0_1\n",
      "loan_model_1   online_v1\n",
      "mnist_model_1  online_v1\n",
      "xgb_model      elvinzhu_xgb_bst\n"
     ]
    }
   ],
   "source": [
    "# create the model if it doesn't already exist\n",
    "modelname = !gcloud ai-platform models list | grep -w $MODEL_NAME\n",
    "print(modelname)\n",
    "if (len(modelname) <= 1) or ('Listed 0 items.' in modelname[1]):\n",
    "    print(\"Creating model \" + MODEL_NAME)\n",
    "    # Global endpoint\n",
    "    !gcloud ai-platform models create $MODEL_NAME --enable-logging --regions $REGION\n",
    "else:\n",
    "    print(\"Model \" + MODEL_NAME + \" exist\")\n",
    "    \n",
    "print(\"\\nList of Models in Global Endpoint)\")\n",
    "!gcloud ai-platform models list --region=global\n"
   ]
  },
  {
   "cell_type": "code",
   "execution_count": 139,
   "metadata": {},
   "outputs": [
    {
     "name": "stdout",
     "output_type": "stream",
     "text": [
      "Model Name = loan_model_1\n",
      "Model Versions = batch_v1\n",
      "Best Model Dir:  gs://tuti_asset/tf_models/models/model_05072021_2125/checkpoints/cp-213513-3-0.9496/\n",
      "Using endpoint [https://ml.googleapis.com/]\n",
      "Creating version (this might take a few minutes)......done.                    \n",
      "CPU times: user 1.21 s, sys: 348 ms, total: 1.56 s\n",
      "Wall time: 52.2 s\n"
     ]
    }
   ],
   "source": [
    "%%time\n",
    "\n",
    "print(\"Model Name =\", MODEL_NAME)\n",
    "print(\"Model Versions =\", MODEL_VERSION)\n",
    "\n",
    "# Get a list of model directories\n",
    "best_model_dir = best_model_dir_hyp\n",
    "print(\"Best Model Dir: \", best_model_dir)\n",
    "\n",
    "MODEL_FRAMEWORK = \"TENSORFLOW\"\n",
    "MODEL_DESCRIPTION = \"SEQ_MODEL_1\"\n",
    "MODEL_LABELS=\"team=ourteam,phase=test,owner=\"+USER\n",
    "\n",
    "MACHINE_TYPE = \"mls1-c1-m2\"\n",
    "if (MODEL_VERSION == MODEL_VERSION_BATCH):\n",
    "    MACHINE_TYPE = \"mls1-c1-m2\"\n",
    "    MODEL_LABELS = MODEL_LABELS+\",mode=batch\"\n",
    "if (MODEL_VERSION == MODEL_VERSION_ONLINE):\n",
    "    MACHINE_TYPE = \"mls1-c1-m2\" #\"n1-standard-32\"\n",
    "    MODEL_LABELS = MODEL_LABELS+\",mode=online\"\n",
    "\n",
    "# Deploy the model\n",
    "! gcloud beta ai-platform versions create $MODEL_VERSION \\\n",
    "  --model $MODEL_NAME \\\n",
    "  --origin $best_model_dir \\\n",
    "  --runtime-version $RUNTIME_VERSION \\\n",
    "  --python-version=3.7 \\\n",
    "  --description=$MODEL_DESCRIPTION \\\n",
    "  --labels $MODEL_LABELS \\\n",
    "  --machine-type=$MACHINE_TYPE  \\\n",
    "  --framework $MODEL_FRAMEWORK \\\n",
    "  --region global\n"
   ]
  },
  {
   "cell_type": "code",
   "execution_count": 140,
   "metadata": {},
   "outputs": [
    {
     "name": "stdout",
     "output_type": "stream",
     "text": [
      "\n",
      "List of Models in Global Endpoint)\n",
      "Using endpoint [https://ml.googleapis.com/]\n",
      "NAME           DEFAULT_VERSION_NAME\n",
      "kfp_xgb_model  kfp_xgb_bst_v0_1\n",
      "loan_model_1   online_v1\n",
      "mnist_model_1  online_v1\n",
      "xgb_model      elvinzhu_xgb_bst\n",
      "\n",
      "List of Models in Regional Endpoint)\n",
      "Using endpoint [https://us-central1-ml.googleapis.com/]\n",
      "Listed 0 items.\n",
      "\n",
      "List of Versions in Global Endpoint)\n",
      "Using endpoint [https://ml.googleapis.com/]\n",
      "NAME       DEPLOYMENT_URI                                                                        STATE\n",
      "batch_v1   gs://tuti_asset/tf_models/models/model_05072021_2125/checkpoints/cp-213513-3-0.9496/  READY\n",
      "online_v1  gs://tuti_asset/tf_models/models/model_05072021_2125/checkpoints/cp-213513-3-0.9496/  READY\n"
     ]
    }
   ],
   "source": [
    "# List all models\n",
    "\n",
    "print(\"\\nList of Models in Global Endpoint)\")\n",
    "!gcloud ai-platform models list --region=global\n",
    "\n",
    "print(\"\\nList of Models in Regional Endpoint)\")\n",
    "!gcloud ai-platform models list --region=$REGION\n",
    "\n",
    "# List all versions of model\n",
    "\n",
    "print(\"\\nList of Versions in Global Endpoint)\")\n",
    "!gcloud ai-platform versions list --model $MODEL_NAME --region=global\n",
    "\n",
    "#print(\"\\nList of Versions in Regional Endpoint)\")\n",
    "#!gcloud ai-platform versions list --model $MODEL_NAME --region=$REGION\n"
   ]
  },
  {
   "cell_type": "markdown",
   "metadata": {},
   "source": [
    "------\n",
    "# Predictions with the deployed model"
   ]
  },
  {
   "cell_type": "code",
   "execution_count": 141,
   "metadata": {},
   "outputs": [
    {
     "name": "stdout",
     "output_type": "stream",
     "text": [
      "Copying gs://tuti_asset/tf_models/models/model_05072021_2125/checkpoints/cp-213513-3-0.9496/saved_model.pb...\n",
      "Copying gs://tuti_asset/tf_models/models/model_05072021_2125/checkpoints/cp-213513-3-0.9496/variables/variables.data-00000-of-00001...\n",
      "Copying gs://tuti_asset/tf_models/models/model_05072021_2125/checkpoints/cp-213513-3-0.9496/variables/variables.index...\n",
      "Signature  _SignatureMap({'serving_default': <tensorflow.python.saved_model.load._WrapperFunction object at 0x7f8546b9bbd0>})\n",
      "\n",
      "Model Input  Layer= dense\n",
      "Model Output Layer= dense_4\n",
      "\n",
      "CPU times: user 411 ms, sys: 52.8 ms, total: 464 ms\n",
      "Wall time: 1.95 s\n"
     ]
    }
   ],
   "source": [
    "%%time\n",
    "\n",
    "from trainer import model\n",
    "\n",
    "# Copy the model from storage to local memory\n",
    "!gsutil -m cp -r $best_model_dir_hyp* ./model_dir\n",
    "\n",
    "# Load the model\n",
    "loaded_model = tf.keras.models.load_model('./model_dir', compile=False) #, \n",
    "               #custom_objects={\"custom_loss\": model.custom_loss,\"custom_mse\": model.custom_mse})\n",
    "print(\"Signature \", loaded_model.signatures)\n",
    "\n",
    "# Check the model layers\n",
    "model_layers = [layer.name for layer in loaded_model.layers]\n",
    "print(\"\")\n",
    "print(\"Model Input  Layer=\", model_layers[0])\n",
    "print(\"Model Output Layer=\", model_layers[-1])\n",
    "print(\"\")\n"
   ]
  },
  {
   "cell_type": "code",
   "execution_count": 142,
   "metadata": {},
   "outputs": [
    {
     "name": "stdout",
     "output_type": "stream",
     "text": [
      "gs://tuti_asset/datasets/mortgage_structured.csv\n",
      "(104044, 48)\n",
      "X_train shape =  (83235, 149)\n",
      "X_test  shape =  (20809, 149)\n",
      "y_train shape =  (83235, 4)\n",
      "y_test  shape =  (20809, 4)\n"
     ]
    }
   ],
   "source": [
    "from trainer import inputs\n",
    "input_file = 'gs://' + BUCKET_NAME + '/' + FOLDER_DATA + '/' + INPUT_FILE_NAME\n",
    "train_test_data = inputs.load_data(input_file)\n",
    "X_test  = train_test_data[1]\n",
    "y_test  = train_test_data[3]\n"
   ]
  },
  {
   "cell_type": "markdown",
   "metadata": {},
   "source": [
    "## Online Prediction with python"
   ]
  },
  {
   "cell_type": "code",
   "execution_count": 143,
   "metadata": {},
   "outputs": [
    {
     "name": "stdout",
     "output_type": "stream",
     "text": [
      "Project ID = img-seg-3d\n",
      "Model Name = loan_model_1\n",
      "Model Version = online_v1\n",
      "model_name= projects/img-seg-3d/models/loan_model_1/versions/online_v1\n",
      "batch_size= 32\n",
      "n_samples= 1000\n",
      "Processing samples 0 32\n",
      "Processing samples 32 64\n",
      "Processing samples 64 96\n",
      "Processing samples 96 128\n",
      "Processing samples 128 160\n",
      "Processing samples 160 192\n",
      "Processing samples 192 224\n",
      "Processing samples 224 256\n",
      "Processing samples 256 288\n",
      "Processing samples 288 320\n",
      "Processing samples 320 352\n",
      "Processing samples 352 384\n",
      "Processing samples 384 416\n",
      "Processing samples 416 448\n",
      "Processing samples 448 480\n",
      "Processing samples 480 512\n",
      "Processing samples 512 544\n",
      "Processing samples 544 576\n",
      "Processing samples 576 608\n",
      "Processing samples 608 640\n",
      "Processing samples 640 672\n",
      "Processing samples 672 704\n",
      "Processing samples 704 736\n",
      "Processing samples 736 768\n",
      "Processing samples 768 800\n",
      "Processing samples 800 832\n",
      "Processing samples 832 864\n",
      "Processing samples 864 896\n",
      "Processing samples 896 928\n",
      "Processing samples 928 960\n",
      "Processing samples 960 992\n",
      "Processing samples 992 1000\n",
      "CPU times: user 468 ms, sys: 17.9 ms, total: 486 ms\n",
      "Wall time: 2.13 s\n"
     ]
    }
   ],
   "source": [
    "%%time\n",
    "\n",
    "# Online Prediction with Python - works for global end points only\n",
    "\n",
    "# Use MODEL_VERSION_ONLINE not MODEL_VERSION_BATCH\n",
    "MODEL_VERSION = MODEL_VERSION_ONLINE\n",
    "\n",
    "from oauth2client.client import GoogleCredentials\n",
    "from googleapiclient import discovery\n",
    "from googleapiclient import errors\n",
    "import json\n",
    "\n",
    "#tf.compat.v1.logging.set_verbosity(tf.compat.v1.logging.ERROR)\n",
    "#tf.get_logger().setLevel('ERROR')\n",
    "\n",
    "print(\"Project ID =\", PROJECT_ID)\n",
    "print(\"Model Name =\", MODEL_NAME)\n",
    "print(\"Model Version =\", MODEL_VERSION)\n",
    "\n",
    "model_name = 'projects/{}/models/{}'.format(PROJECT_ID, MODEL_NAME)\n",
    "if MODEL_VERSION is not None:\n",
    "    model_name += '/versions/{}'.format(MODEL_VERSION)\n",
    "credentials = GoogleCredentials.get_application_default()\n",
    "service = discovery.build('ml', 'v1', cache_discovery=False, credentials=credentials)\n",
    "print(\"model_name=\", model_name)\n",
    "\n",
    "pprobas_temp = []\n",
    "batch_size = 32\n",
    "n_samples = min(1000,X_test.shape[0])\n",
    "print(\"batch_size=\", batch_size)\n",
    "print(\"n_samples=\", n_samples)\n",
    "\n",
    "for i in range(0, n_samples, batch_size):\n",
    "    j = min(i+batch_size, n_samples)\n",
    "    print(\"Processing samples\", i, j)\n",
    "    request = service.projects().predict(name=model_name, \\\n",
    "                                         body={'instances': np.array(X_test)[i:j].tolist()})\n",
    "    try:\n",
    "        response = request.execute()\n",
    "        pprobas_temp += response['predictions']\n",
    "    except errors.HttpError as err:\n",
    "        # Something went wrong, print out some information.\n",
    "        tf.compat.v1.logging.error('There was an error getting the job info, Check the details:')\n",
    "        tf.compat.v1.logging.error(err._get_reason())\n",
    "        break\n"
   ]
  },
  {
   "cell_type": "code",
   "execution_count": 144,
   "metadata": {},
   "outputs": [
    {
     "data": {
      "text/plain": [
       "array([[0.24, 0.02, 0.18, 0.56],\n",
       "       [1.  , 0.  , 0.  , 0.  ],\n",
       "       [1.  , 0.  , 0.  , 0.  ],\n",
       "       ...,\n",
       "       [1.  , 0.  , 0.  , 0.  ],\n",
       "       [0.95, 0.01, 0.02, 0.01],\n",
       "       [0.24, 0.04, 0.21, 0.51]])"
      ]
     },
     "execution_count": 144,
     "metadata": {},
     "output_type": "execute_result"
    }
   ],
   "source": [
    "# Show the prediction results as an array\n",
    "\n",
    "nPreds = len(pprobas_temp)\n",
    "nClasses = y_test.shape[1]\n",
    "pprobas = np.zeros((nPreds, nClasses))\n",
    "for i in range(nPreds):\n",
    "    pprobas[i,:] = np.array(pprobas_temp[i][model_layers[-1]])\n",
    "pprobas = np.round(pprobas, 2)\n",
    "pprobas\n"
   ]
  },
  {
   "cell_type": "markdown",
   "metadata": {},
   "source": [
    "## Batch Prediction with GCLOUD"
   ]
  },
  {
   "cell_type": "code",
   "execution_count": 145,
   "metadata": {},
   "outputs": [
    {
     "name": "stdout",
     "output_type": "stream",
     "text": [
      "n_samples = 1000\n",
      "nFiles = 10\n",
      "nRecsPerFile = 100\n",
      "Copying file://./batch_data/unkeyed_batch_2.json [Content-Type=application/json]...\n",
      "Copying file://./batch_data/unkeyed_batch_5.json [Content-Type=application/json]...\n",
      "Copying file://./batch_data/unkeyed_batch_3.json [Content-Type=application/json]...\n",
      "Copying file://./batch_data/unkeyed_batch_6.json [Content-Type=application/json]...\n",
      "Copying file://./batch_data/unkeyed_batch_9.json [Content-Type=application/json]...\n",
      "Copying file://./batch_data/unkeyed_batch_1.json [Content-Type=application/json]...\n",
      "Copying file://./batch_data/unkeyed_batch_8.json [Content-Type=application/json]...\n",
      "Copying file://./batch_data/unkeyed_batch_7.json [Content-Type=application/json]...\n",
      "Copying file://./batch_data/unkeyed_batch_0.json [Content-Type=application/json]...\n",
      "Copying file://./batch_data/unkeyed_batch_4.json [Content-Type=application/json]...\n",
      "/ [10/10 files][870.8 KiB/870.8 KiB] 100% Done                                  \n",
      "Operation completed over 10 objects/870.8 KiB.                                   \n",
      "Removing gs://tuti_asset/tf_models/batch_predictions/prediction.errors_stats-00000-of-00001#1620443695530011...\n",
      "Removing gs://tuti_asset/tf_models/batch_predictions/prediction.results-00000-of-00010#1620443727343913...\n",
      "Removing gs://tuti_asset/tf_models/batch_predictions/prediction.results-00004-of-00010#1620443727345017...\n",
      "Removing gs://tuti_asset/tf_models/batch_predictions/prediction.results-00005-of-00010#1620443727415709...\n",
      "Removing gs://tuti_asset/tf_models/batch_predictions/prediction.results-00001-of-00010#1620443727400692...\n",
      "Removing gs://tuti_asset/tf_models/batch_predictions/prediction.results-00002-of-00010#1620443727341106...\n",
      "Removing gs://tuti_asset/tf_models/batch_predictions/prediction.results-00009-of-00010#1620443727359804...\n",
      "Removing gs://tuti_asset/tf_models/batch_predictions/prediction.results-00003-of-00010#1620443727350994...\n",
      "Removing gs://tuti_asset/tf_models/batch_predictions/prediction.results-00006-of-00010#1620443727341698...\n",
      "Removing gs://tuti_asset/tf_models/batch_predictions/prediction.results-00007-of-00010#1620443727345316...\n",
      "Removing gs://tuti_asset/tf_models/batch_predictions/prediction.results-00008-of-00010#1620443727373599...\n",
      "/ [11/11 objects] 100% Done                                                     \n",
      "Operation completed over 11 objects.                                             \n"
     ]
    }
   ],
   "source": [
    "# Write batch data to file in GCS\n",
    "\n",
    "import shutil\n",
    "\n",
    "# Clean current directory\n",
    "DATA_DIR = './batch_data'\n",
    "shutil.rmtree(DATA_DIR, ignore_errors=True)\n",
    "os.makedirs(DATA_DIR)\n",
    "\n",
    "n_samples = min(1000,X_test.shape[0])\n",
    "nFiles = 10\n",
    "nRecsPerFile = min(1000,n_samples//nFiles)\n",
    "print(\"n_samples =\", n_samples)\n",
    "print(\"nFiles =\", nFiles)\n",
    "print(\"nRecsPerFile =\", nRecsPerFile)\n",
    "\n",
    "# Create nFiles files with nImagesPerFile images each\n",
    "for i in range(nFiles):\n",
    "    with open(f'{DATA_DIR}/unkeyed_batch_{i}.json', \"w\") as file:\n",
    "        for z in range(nRecsPerFile):\n",
    "            print(f'{{\"dense_input\": {np.array(X_test)[i*nRecsPerFile+z].tolist()}}}', file=file)\n",
    "            #print(f'{{\"{model_layers[0]}\": {np.array(X_test)[i*nRecsPerFile+z].tolist()}}}', file=file)\n",
    "            #key = f'key_{i}_{z}'\n",
    "            #print(f'{{\"image\": {X_test_images[z].tolist()}, \"key\": \"{key}\"}}', file=file)\n",
    "\n",
    "# Write batch data to gcs file\n",
    "!gsutil -m cp -r ./batch_data gs://$BUCKET_NAME/$FOLDER_RESULTS/\n",
    "    \n",
    "# Remove old batch prediction results\n",
    "!gsutil -m rm -r gs://$BUCKET_NAME/$FOLDER_RESULTS/batch_predictions\n"
   ]
  },
  {
   "cell_type": "code",
   "execution_count": 146,
   "metadata": {},
   "outputs": [
    {
     "name": "stdout",
     "output_type": "stream",
     "text": [
      "INPUT_PATHS =  gs://tuti_asset/tf_models/batch_data/*\n",
      "OUTPUT_PATH =  gs://tuti_asset/tf_models/batch_predictions\n",
      "Job Name    =  tf_batch_predict_cchatterj_050721_2217\n"
     ]
    }
   ],
   "source": [
    "from datetime import datetime\n",
    "from pytz import timezone\n",
    "\n",
    "DATA_FORMAT=\"text\" # JSON data format\n",
    "INPUT_PATHS='gs://' + BUCKET_NAME + '/' + FOLDER_RESULTS + '/batch_data/*'\n",
    "OUTPUT_PATH='gs://' + BUCKET_NAME + '/' + FOLDER_RESULTS + '/batch_predictions'\n",
    "PRED_LABELS=\"mode=batch,team=ourteam,phase=test,owner=\"+USER\n",
    "SIGNATURE_NAME=\"serving_default\"\n",
    "\n",
    "JOBNAME_BATCH = 'tf_batch_predict_'+ USER + '_' + \\\n",
    "           datetime.now(timezone('US/Pacific')).strftime(\"%m%d%y_%H%M\")\n",
    "\n",
    "print(\"INPUT_PATHS = \", INPUT_PATHS)\n",
    "print(\"OUTPUT_PATH = \", OUTPUT_PATH)\n",
    "print(\"Job Name    = \", JOBNAME_BATCH)\n"
   ]
  },
  {
   "cell_type": "code",
   "execution_count": 147,
   "metadata": {},
   "outputs": [
    {
     "name": "stdout",
     "output_type": "stream",
     "text": [
      "Job [tf_batch_predict_cchatterj_050721_2217] submitted successfully.\n",
      "Your job is still active. You may view the status of your job with the command\n",
      "\n",
      "  $ gcloud ai-platform jobs describe tf_batch_predict_cchatterj_050721_2217\n",
      "\n",
      "or continue streaming the logs with the command\n",
      "\n",
      "  $ gcloud ai-platform jobs stream-logs tf_batch_predict_cchatterj_050721_2217\n",
      "jobId: tf_batch_predict_cchatterj_050721_2217\n",
      "state: QUEUED\n"
     ]
    }
   ],
   "source": [
    "# Only works with global endpoint\n",
    "# Submit batch predict job\n",
    "# Use  MODEL_VERSION_BATCH not MODEL_VERSION_ONLINE\n",
    "MODEL_VERSION = MODEL_VERSION_BATCH\n",
    "\n",
    "!gcloud ai-platform jobs submit prediction $JOBNAME_BATCH \\\n",
    "    --model=$MODEL_NAME \\\n",
    "    --version=$MODEL_VERSION \\\n",
    "    --input-paths=$INPUT_PATHS \\\n",
    "    --output-path=$OUTPUT_PATH \\\n",
    "    --data-format=$DATA_FORMAT \\\n",
    "    --labels=$PRED_LABELS \\\n",
    "    --signature-name=$SIGNATURE_NAME \\\n",
    "    --region=$REGION\n"
   ]
  },
  {
   "cell_type": "code",
   "execution_count": 148,
   "metadata": {},
   "outputs": [
    {
     "name": "stdout",
     "output_type": "stream",
     "text": [
      "createTime: '2021-05-08T05:17:55Z'\n",
      "endTime: '2021-05-08T05:24:48Z'\n",
      "etag: VtPn6bp-80g=\n",
      "jobId: tf_batch_predict_cchatterj_050721_2217\n",
      "labels:\n",
      "  mode: batch\n",
      "  owner: cchatterj\n",
      "  phase: test\n",
      "  team: ourteam\n",
      "predictionInput:\n",
      "  dataFormat: JSON\n",
      "  inputPaths:\n",
      "  - gs://tuti_asset/tf_models/batch_data/*\n",
      "  outputPath: gs://tuti_asset/tf_models/batch_predictions\n",
      "  region: us-central1\n",
      "  runtimeVersion: '2.1'\n",
      "  signatureName: serving_default\n",
      "  versionName: projects/img-seg-3d/models/loan_model_1/versions/batch_v1\n",
      "predictionOutput:\n",
      "  nodeHours: 0.13\n",
      "  outputPath: gs://tuti_asset/tf_models/batch_predictions\n",
      "  predictionCount: '1000'\n",
      "startTime: '2021-05-08T05:17:56Z'\n",
      "state: SUCCEEDED\n",
      "\n",
      "View job in the Cloud Console at:\n",
      "https://console.cloud.google.com/mlengine/jobs/tf_batch_predict_cchatterj_050721_2217?project=img-seg-3d\n",
      "\n",
      "View logs at:\n",
      "https://console.cloud.google.com/logs?resource=ml_job%2Fjob_id%2Ftf_batch_predict_cchatterj_050721_2217&project=img-seg-3d\n"
     ]
    }
   ],
   "source": [
    "# check the batch prediction job status\n",
    "! gcloud ai-platform jobs describe $JOBNAME_BATCH\n"
   ]
  },
  {
   "cell_type": "code",
   "execution_count": 149,
   "metadata": {},
   "outputs": [],
   "source": [
    "# Print Errors\n",
    "#response = ! gcloud logging read \"resource.labels.job_id=$JOBNAME_BATCH severity>=ERROR\"\n",
    "#for i in range(0,len(response)):\n",
    "#    if 'message' in response[i]:\n",
    "#        print(response[i])\n"
   ]
  },
  {
   "cell_type": "code",
   "execution_count": 150,
   "metadata": {},
   "outputs": [
    {
     "name": "stdout",
     "output_type": "stream",
     "text": [
      "errors\n",
      "batch prediction results\n",
      "{\"dense_4\": [1.0, 1.0406388993958553e-19, 1.4212099800694908e-16, 8.73646490846459e-18]}\n",
      "{\"dense_4\": [0.9950793981552124, 0.0003781084669753909, 0.002196859335526824, 0.0023456888739019632]}\n",
      "{\"dense_4\": [0.9471668601036072, 0.013947566971182823, 0.02370576374232769, 0.015179785899817944]}\n",
      "{\"dense_4\": [0.9389595985412598, 0.014931815676391125, 0.02704501897096634, 0.01906345598399639]}\n",
      "{\"dense_4\": [0.9999895095825195, 3.8273580571512866e-07, 6.259979272726923e-06, 3.77660262529389e-06]}\n",
      "{\"dense_4\": [0.9965618252754211, 0.0006547770462930202, 0.0018533668480813503, 0.0009299058583565056]}\n",
      "{\"dense_4\": [0.9855900406837463, 0.00351746310479939, 0.007098924834281206, 0.003793543903157115]}\n",
      "{\"dense_4\": [0.9927776455879211, 0.0010063608642667532, 0.0035145131405442953, 0.0027014994993805885]}\n",
      "{\"dense_4\": [0.8834134340286255, 0.012198326177895069, 0.042322881519794464, 0.062065403908491135]}\n",
      "{\"dense_4\": [0.9787063002586365, 0.002845538081601262, 0.009469740092754364, 0.008978517726063728]}\n",
      "{\"dense_4\": [0.7159351706504822, 0.013366897590458393, 0.080536387860775, 0.19016161561012268]}\n",
      "{\"dense_4\": [0.9972729086875916, 0.0002654607524164021, 0.001345631666481495, 0.0011159599525853992]}\n",
      "{\"dense_4\": [0.9885297417640686, 0.0012551131658256054, 0.005166104529052973, 0.005049004685133696]}\n",
      "{\"dense_4\": [1.0, 8.801104983691133e-11, 6.35297947582103e-09, 2.4914903473671757e-09]}\n",
      "{\"dense_4\": [0.9794571995735168, 0.004705007188022137, 0.00989012885838747, 0.005947771482169628]}\n",
      "{\"dense_4\": [0.9736256003379822, 0.0064895120449364185, 0.012451340444386005, 0.0074334642849862576]}\n",
      "{\"dense_4\": [0.9964019060134888, 0.0007203655550256371, 0.0019345913315191865, 0.0009431246435269713]}\n",
      "{\"dense_4\": [0.9845829010009766, 0.0020854007452726364, 0.0070695155300199986, 0.0062621235847473145]}\n",
      "{\"dense_4\": [0.9987205862998962, 0.00023088674061000347, 0.0007310876389965415, 0.0003173479053657502]}\n",
      "{\"dense_4\": [0.9997119307518005, 1.5057189557410311e-05, 0.00014746136730536819, 0.00012556451838463545]}\n",
      "{\"dense_4\": [1.0, 4.937643627300758e-10, 2.2093527007882585e-08, 7.849372707369184e-09]}\n",
      "{\"dense_4\": [0.9998797178268433, 5.71216560274479e-06, 6.439750723075122e-05, 5.014264752389863e-05]}\n",
      "{\"dense_4\": [0.962269127368927, 0.0017698229057714343, 0.012345613911747932, 0.023615479469299316]}\n",
      "{\"dense_4\": [1.0, 3.4846666745589807e-20, 6.664864187091681e-17, 4.508225328281382e-18]}\n",
      "{\"dense_4\": [0.9999886751174927, 1.0138343213839107e-06, 7.904184712970164e-06, 2.401995288892067e-06]}\n",
      "{\"dense_4\": [0.991414487361908, 0.000759160378947854, 0.0037823952734470367, 0.0040439423173666]}\n",
      "{\"dense_4\": [0.9778268933296204, 0.0024036215618252754, 0.009427698329091072, 0.010341757908463478]}\n",
      "{\"dense_4\": [0.9982080459594727, 0.00016726148896850646, 0.0009035101975314319, 0.0007211291813291609]}\n",
      "{\"dense_4\": [0.9355444312095642, 0.0074008433148264885, 0.025274120271205902, 0.03178056329488754]}\n",
      "{\"dense_4\": [0.9999457597732544, 4.003079538961174e-06, 3.3306241675745696e-05, 1.6868338207132183e-05]}\n",
      "{\"dense_4\": [0.9988945126533508, 9.734471677802503e-05, 0.0005716219311580062, 0.00043664901750162244]}\n",
      "{\"dense_4\": [0.9767530560493469, 0.002156543079763651, 0.00948976632207632, 0.011600611731410027]}\n",
      "{\"dense_4\": [0.2613782286643982, 0.06239756569266319, 0.22189730405807495, 0.45432689785957336]}\n",
      "{\"dense_4\": [0.9394073486328125, 0.015068836510181427, 0.026946118101477623, 0.01857774145901203]}\n",
      "{\"dense_4\": [0.9966097474098206, 0.0003539365134201944, 0.001666023745201528, 0.0013703546719625592]}\n",
      "{\"dense_4\": [0.9998996257781982, 6.660515737166861e-06, 5.824269101140089e-05, 3.545348590705544e-05]}\n",
      "{\"dense_4\": [0.9998363256454468, 1.4140381608740427e-05, 9.601439523976296e-05, 5.339899507816881e-05]}\n",
      "{\"dense_4\": [0.9964227080345154, 0.0007681692368350923, 0.001926389173604548, 0.0008826203411445022]}\n",
      "{\"dense_4\": [0.9819023609161377, 0.0007102465024217963, 0.005979315377771854, 0.011407936923205853]}\n",
      "{\"dense_4\": [0.9833847284317017, 0.00241726147942245, 0.0076404716819524765, 0.006557476241141558]}\n",
      "{\"dense_4\": [0.4658888280391693, 0.06821835041046143, 0.17714478075504303, 0.2887480556964874]}\n",
      "{\"dense_4\": [0.6960043907165527, 0.03882082179188728, 0.10552909970283508, 0.159645676612854]}\n",
      "{\"dense_4\": [0.9582505822181702, 0.00950667355209589, 0.01908721588551998, 0.01315553579479456]}\n",
      "{\"dense_4\": [0.57773357629776, 0.029471399262547493, 0.12932273745536804, 0.263472318649292]}\n",
      "{\"dense_4\": [0.9958224296569824, 0.00017657711578067392, 0.001610358594916761, 0.0023907336872071028]}\n",
      "{\"dense_4\": [0.9992313385009766, 5.410410449258052e-05, 0.0003902331809513271, 0.0003243142564315349]}\n",
      "{\"dense_4\": [0.9906831979751587, 0.002022305503487587, 0.004731849767267704, 0.002562569919973612]}\n",
      "{\"dense_4\": [0.9978749752044678, 0.00044942606473341584, 0.001181050087325275, 0.0004945964319631457]}\n",
      "{\"dense_4\": [0.9031904339790344, 0.026648882776498795, 0.04140288010239601, 0.02875780314207077]}\n",
      "{\"dense_4\": [0.9970409274101257, 0.0003209956339560449, 0.0014776504831388593, 0.0011604003375396132]}\n",
      "{\"dense_4\": [0.9996731281280518, 2.1041232685092837e-05, 0.0001735855475999415, 0.00013216464139986783]}\n",
      "{\"dense_4\": [0.9995488524436951, 7.44503631722182e-05, 0.0002719227341003716, 0.00010472663416294381]}\n",
      "{\"dense_4\": [0.2757647931575775, 0.15401388704776764, 0.24602949619293213, 0.3241918385028839]}\n",
      "{\"dense_4\": [0.998097836971283, 0.00035955343628302217, 0.0010616419604048133, 0.0004809012170881033]}\n",
      "{\"dense_4\": [0.9777057766914368, 0.00462777866050601, 0.01063967403024435, 0.007026837673038244]}\n",
      "{\"dense_4\": [0.9999991655349731, 2.672371479661706e-08, 6.325943786578136e-07, 2.960880749469652e-07]}\n",
      "{\"dense_4\": [0.9311922192573547, 0.0028797152917832136, 0.020729511976242065, 0.045198533684015274]}\n",
      "{\"dense_4\": [0.9993436932563782, 3.384433875908144e-05, 0.0003131423145532608, 0.00030930759385228157]}\n",
      "{\"dense_4\": [0.993147075176239, 0.0006056115962564945, 0.0030722192022949457, 0.003175125690177083]}\n",
      "{\"dense_4\": [0.21888841688632965, 0.024526873603463173, 0.18533819913864136, 0.5712464451789856]}\n",
      "{\"dense_4\": [0.9999914169311523, 1.8885280894664902e-07, 4.6472368921968155e-06, 3.732945515366737e-06]}\n",
      "{\"dense_4\": [0.9414093494415283, 0.004668118432164192, 0.021192273125052452, 0.03273025527596474]}\n",
      "{\"dense_4\": [0.9937894940376282, 0.000555538572371006, 0.0028166791889816523, 0.002838222309947014]}\n",
      "{\"dense_4\": [0.8482758402824402, 0.02002708986401558, 0.056399568915367126, 0.07529757171869278]}\n",
      "{\"dense_4\": [0.9969450831413269, 0.0006934214616194367, 0.001662889844737947, 0.0006985218496993184]}\n",
      "{\"dense_4\": [0.9853657484054565, 0.0019216181244701147, 0.006689657457172871, 0.006023051682859659]}\n",
      "{\"dense_4\": [0.9999674558639526, 1.5100006294233026e-06, 1.897907532111276e-05, 1.2031984624627512e-05]}\n",
      "{\"dense_4\": [0.8857852816581726, 0.0069313268177211285, 0.03654671087861061, 0.07073669135570526]}\n",
      "{\"dense_4\": [0.9660223722457886, 0.007468124385923147, 0.015744710341095924, 0.010764755308628082]}\n",
      "{\"dense_4\": [0.9388401508331299, 0.012131755240261555, 0.02642589434981346, 0.02260223776102066]}\n",
      "{\"dense_4\": [0.9735822081565857, 0.004326478578150272, 0.011938325129449368, 0.010153102688491344]}\n",
      "{\"dense_4\": [0.7750371098518372, 0.03294631466269493, 0.08208659291267395, 0.10992991179227829]}\n",
      "{\"dense_4\": [0.9965576529502869, 0.0006493406253866851, 0.0018546285573393106, 0.0009384456207044423]}\n",
      "{\"dense_4\": [0.994271993637085, 0.0005950409104116261, 0.0027012978680431843, 0.002431699074804783]}\n",
      "{\"dense_4\": [0.7062795758247375, 0.02644459530711174, 0.09473884850740433, 0.17253698408603668]}\n",
      "{\"dense_4\": [0.9999600648880005, 1.430818542758061e-06, 2.1742593162343837e-05, 1.6857500668265857e-05]}\n",
      "{\"dense_4\": [0.9971351623535156, 0.000531127443537116, 0.0015605851076543331, 0.0007731079822406173]}\n",
      "{\"dense_4\": [0.269513338804245, 0.11255288124084473, 0.24357756972312927, 0.3743562400341034]}\n",
      "{\"dense_4\": [0.9448685050010681, 0.015151184983551502, 0.024673372507095337, 0.015306956134736538]}\n",
      "{\"dense_4\": [0.9980208873748779, 0.00018530469969846308, 0.000992547837086022, 0.0008011723984964192]}\n",
      "{\"dense_4\": [0.9826585054397583, 0.0010723575251176953, 0.0065426090732216835, 0.009726482443511486]}\n",
      "{\"dense_4\": [0.26948580145835876, 0.11306258291006088, 0.2438189536333084, 0.37363266944885254]}\n",
      "{\"dense_4\": [0.999357283115387, 0.00010972494055749848, 0.0003803546424023807, 0.0001526201085653156]}\n",
      "{\"dense_4\": [0.984793484210968, 0.001003748970106244, 0.005913605913519859, 0.008289182558655739]}\n",
      "{\"dense_4\": [0.9993600249290466, 0.00010764782200567424, 0.0003793782670982182, 0.00015292283205781132]}\n",
      "{\"dense_4\": [0.9997250437736511, 2.074145777442027e-05, 0.0001522126403870061, 0.00010205983562627807]}\n",
      "{\"dense_4\": [0.9586782455444336, 0.005181663203984499, 0.01717030443251133, 0.018969852477312088]}\n",
      "{\"dense_4\": [0.9979335069656372, 0.00023075826175045222, 0.001065800548531115, 0.0007699057459831238]}\n",
      "{\"dense_4\": [0.9810433983802795, 0.0049103326164186, 0.009170581586658955, 0.004875617567449808]}\n",
      "{\"dense_4\": [0.9999843835830688, 5.110513825457019e-07, 8.933151548262686e-06, 6.246511020435719e-06]}\n",
      "{\"dense_4\": [0.9874180555343628, 0.0024517392739653587, 0.006210142746567726, 0.003920107148587704]}\n",
      "{\"dense_4\": [0.9996114373207092, 1.8770571841741912e-05, 0.0001904625678434968, 0.00017937201482709497]}\n",
      "{\"dense_4\": [0.957525908946991, 0.009078256785869598, 0.019242551177740097, 0.01415331196039915]}\n",
      "{\"dense_4\": [0.9929063320159912, 0.0009004070307128131, 0.0034123556688427925, 0.0027810053434222937]}\n",
      "{\"dense_4\": [0.9813647866249084, 0.003623340977355838, 0.008891412056982517, 0.006120408419519663]}\n",
      "{\"dense_4\": [0.9897024631500244, 0.0011451425962150097, 0.004692420829087496, 0.004460110794752836]}\n",
      "{\"dense_4\": [0.9739224314689636, 0.0032456154003739357, 0.011242972686886787, 0.011589066125452518]}\n",
      "{\"dense_4\": [0.9990286827087402, 7.674412336200476e-05, 0.0004963857936672866, 0.0003982596390414983]}\n",
      "{\"dense_4\": [0.9982178807258606, 0.00017581999418325722, 0.0009086029604077339, 0.0006976057775318623]}\n",
      "{\"dense_4\": [0.8030107021331787, 0.026807885617017746, 0.07184862345457077, 0.09833275526762009]}\n"
     ]
    }
   ],
   "source": [
    "print(\"errors\")\n",
    "!gsutil cat $OUTPUT_PATH/prediction.errors_stats-00000-of-00001\n",
    "print(\"batch prediction results\")\n",
    "!gsutil cat $OUTPUT_PATH/prediction.results-00000-of-00010\n"
   ]
  },
  {
   "cell_type": "code",
   "execution_count": null,
   "metadata": {},
   "outputs": [],
   "source": []
  }
 ],
 "metadata": {
  "environment": {
   "name": "tf2-gpu.2-1.m68",
   "type": "gcloud",
   "uri": "gcr.io/deeplearning-platform-release/tf2-gpu.2-1:m68"
  },
  "kernelspec": {
   "display_name": "Python 3",
   "language": "python",
   "name": "python3"
  },
  "language_info": {
   "codemirror_mode": {
    "name": "ipython",
    "version": 3
   },
   "file_extension": ".py",
   "mimetype": "text/x-python",
   "name": "python",
   "nbconvert_exporter": "python",
   "pygments_lexer": "ipython3",
   "version": "3.7.10"
  }
 },
 "nbformat": 4,
 "nbformat_minor": 4
}
